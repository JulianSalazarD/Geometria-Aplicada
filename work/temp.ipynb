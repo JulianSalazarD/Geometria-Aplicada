{
 "cells": [
  {
   "cell_type": "code",
   "execution_count": 12,
   "metadata": {},
   "outputs": [],
   "source": [
    "#%pip install -r requirements.txt"
   ]
  },
  {
   "cell_type": "code",
   "execution_count": 13,
   "metadata": {},
   "outputs": [],
   "source": [
    "import numpy as np\n",
    "import matplotlib.pyplot as plt\n",
    "\n",
    "from fracture.fracture import Fracture"
   ]
  },
  {
   "cell_type": "code",
   "execution_count": 14,
   "metadata": {},
   "outputs": [],
   "source": [
    "# Carga los datos de la fractura desde un archivo de texto.\n",
    "\n",
    "# FRAC0003_nrIter4.txt\n",
    "# FRAC0006_nrIter27.txt\n",
    "# FRAC0019_nrIter27.txt\n",
    "\n",
    "filename = '../FRAC0003_nrIter4.txt'\n",
    "dataset = []\n",
    "with open(filename, 'r') as file:\n",
    "    for line in file:\n",
    "        values = [float(value) for value in line.split()]\n",
    "        dataset.append(values)"
   ]
  },
  {
   "cell_type": "code",
   "execution_count": 15,
   "metadata": {},
   "outputs": [],
   "source": [
    "f = Fracture(dataset)\n",
    "tetraedros = None\n",
    "x_axis = f.x_axis\n",
    "y_axis = f.y_axis\n",
    "max_value = f.max_value\n",
    "isdegenerate = f.isdegenerate"
   ]
  },
  {
   "cell_type": "code",
   "execution_count": 16,
   "metadata": {},
   "outputs": [],
   "source": [
    "tetraedros = []\n",
    "for i in f.tri:\n",
    "    tetraedro = np.array([f.M[i[0]], f.M[i[1]], f.M[i[2]], f.inter[i[0]], f.inter[i[1]], f.inter[i[2]]])\n",
    "    tetraedros.append(np.array(tetraedro))\n",
    "tetraedros = np.array(tetraedros)"
   ]
  },
  {
   "cell_type": "code",
   "execution_count": 17,
   "metadata": {},
   "outputs": [],
   "source": [
    "def plot_tetrahedro(tetraedros, x_axis, y_axis, max_value, isdegenerate):\n",
    "    fig = plt.figure()\n",
    "    ax = fig.add_subplot(111, projection='3d')\n",
    "\n",
    "    for i, tetra in enumerate(tetraedros):\n",
    "\n",
    "        if i in isdegenerate:\n",
    "            c = 'r'\n",
    "        else:\n",
    "            c = 'b'\n",
    "\n",
    "        triangle1 = np.array([tetra[0], tetra[1], tetra[2], tetra[0]])\n",
    "        ax.plot(triangle1[:, 0], triangle1[:, 1], triangle1[:, 2], color=c)\n",
    "\n",
    "        triangle2 = np.array([tetra[3], tetra[4], tetra[5], tetra[3]])\n",
    "        ax.plot(triangle2[:, 0], triangle2[:, 1], triangle2[:, 2], color=c)\n",
    "\n",
    "        for i in range(3):\n",
    "            ax.plot([tetra[i][0], tetra[i + 3][0]], [tetra[i][1], tetra[i + 3][1]], [tetra[i][2], tetra[i + 3][2]], color=c)\n",
    "\n",
    "    ax.set_xlabel('X')\n",
    "    ax.set_ylabel('Y')\n",
    "    ax.set_zlabel('Z')\n",
    "    plt.xlim(x_axis - max_value, x_axis + max_value)\n",
    "    plt.ylim(y_axis - max_value, y_axis + max_value)  \n",
    "\n",
    "    plt.show()\n",
    "\n"
   ]
  },
  {
   "cell_type": "code",
   "execution_count": 18,
   "metadata": {},
   "outputs": [],
   "source": [
    "plot_tetrahedro(tetraedros, x_axis, y_axis, max_value, isdegenerate)"
   ]
  }
 ],
 "metadata": {
  "kernelspec": {
   "display_name": "base",
   "language": "python",
   "name": "python3"
  },
  "language_info": {
   "codemirror_mode": {
    "name": "ipython",
    "version": 3
   },
   "file_extension": ".py",
   "mimetype": "text/x-python",
   "name": "python",
   "nbconvert_exporter": "python",
   "pygments_lexer": "ipython3",
   "version": "3.12.4"
  }
 },
 "nbformat": 4,
 "nbformat_minor": 2
}
