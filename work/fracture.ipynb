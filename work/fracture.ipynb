{
 "cells": [
  {
   "cell_type": "markdown",
   "metadata": {},
   "source": [
    "<center>\n",
    "<font color='#1DD2AF'>\n",
    "<h1>Crecimiento de Fracturas y hexaedrización interna</h1>\n",
    "<h3>Julian Ricardo Salazar Duarte</h3>\n",
    "<h3> Profesor: Marco Paluszny Kluczynsky</h3>\n",
    "<h3>Universidad Nacional de Colombia</h3>\n",
    "<h3>2024-1</h3>\n",
    "</font>\n",
    "</center>"
   ]
  },
  {
   "cell_type": "markdown",
   "metadata": {},
   "source": [
    "### 0. Configuración del entorno"
   ]
  },
  {
   "cell_type": "code",
   "execution_count": 1,
   "metadata": {},
   "outputs": [],
   "source": [
    "%pip install -r requirements.txt"
   ]
  },
  {
   "cell_type": "code",
   "execution_count": 2,
   "metadata": {},
   "outputs": [],
   "source": [
    "# Librerias\n",
    "import numpy as np\n",
    "from skspatial.objects import Plane, Point, Vector, Line\n",
    "from skspatial.plotting import plot_3d\n",
    "import plotly.graph_objects as go\n",
    "import matplotlib.pyplot as plt"
   ]
  },
  {
   "cell_type": "code",
   "execution_count": 3,
   "metadata": {},
   "outputs": [],
   "source": [
    "inter = None\n",
    "color_t = None\n",
    "caras = None\n",
    "vertex = None\n",
    "normal = None\n",
    "M = None\n",
    "A = None\n",
    "mp = None\n",
    "eigenvalues = None\n",
    "eigenvectors = None\n",
    "traces = None\n",
    "tri = None\n",
    "color_m = None\n",
    "size = None\n",
    "max_value = 0\n",
    "x_axis = None\n",
    "y_axis = None\n",
    "squares = None\n",
    "M_size = None\n",
    "err = 1e-3\n",
    "\n",
    "filename = 'FRAC0003_nrIter4.txt'\n"
   ]
  },
  {
   "cell_type": "code",
   "execution_count": 4,
   "metadata": {},
   "outputs": [],
   "source": [
    "def new_plot():\n",
    "    \"\"\"Crear instancia de una nueva figura en 3d\"\"\"\n",
    "    return go.Figure()"
   ]
  },
  {
   "cell_type": "code",
   "execution_count": 5,
   "metadata": {},
   "outputs": [],
   "source": [
    "def config_plot(fig, title, x=2):\n",
    "    \"\"\"Configura limites de la grafica\"\"\"\n",
    "\n",
    "    global mp, max_value\n",
    "    \n",
    "    fig.update_layout(\n",
    "        title=title,\n",
    "        scene=dict(\n",
    "        xaxis_title='X',\n",
    "        yaxis_title='Y',\n",
    "        zaxis_title='Z',\n",
    "        xaxis=dict(range=[mp[0]- max_value-x, mp[0] + max_value+x]),\n",
    "        yaxis=dict(range=[mp[1]- max_value-x, mp[1] + max_value+x]),\n",
    "        zaxis=dict(range=[mp[2]- max_value-x, mp[2] + max_value+x]),\n",
    "        )\n",
    "    )\n",
    "\n",
    "    return fig"
   ]
  },
  {
   "cell_type": "code",
   "execution_count": 6,
   "metadata": {},
   "outputs": [],
   "source": [
    "# Carga los datos de la fractura desde un archivo de texto.\n",
    "dataset = []\n",
    "with open(filename, 'r') as file:\n",
    "    for line in file:\n",
    "        values = [float(value) for value in line.split()]\n",
    "        dataset.append(values)\n",
    "M = np.array(dataset)\n",
    "M_size = M.shape"
   ]
  },
  {
   "cell_type": "markdown",
   "metadata": {},
   "source": [
    "### 1. Crecimiento de la fractura"
   ]
  },
  {
   "cell_type": "markdown",
   "metadata": {},
   "source": [
    "El crecimiento de la fractura se refiere al proceso por el cual una fractura, incrustada dentro de un material, se expande en fases sucesivas. A medida que la fractura crece, también lo hacen las cajas contenedoras que la envuelven, lo que trae consigo diversos desafíos geométricos.\n",
    "\n",
    "El proceso de crecimiento de la fractura comienza con una fractura inicial dentro de una caja contenedora, que está formada por cuadriláteros y rodeada de celdas externas (cubos o hexaedros). Luego, en cada fase de crecimiento, la fractura cambia de forma y tamaño, obligando a recalcular los cuadriláteros de la caja contenedora.\n",
    "\n",
    "Estos cambios generan un problema: las celdas externas dejan de estar alineadas con los nuevos cuadriláteros de la caja, lo que se traduce en una pérdida de coherencia. Para solucionar esto, se debe ajustar la geometría externa después de cada iteración de crecimiento.\n",
    "\n",
    "El objetivo de este reajuste es modificar lo menos posible las celdas externas para que la estructura geométrica mantenga su lógica y conectividad. Además, a medida que la fractura sigue creciendo, se generan nuevas cajas contenedoras, y las celdas externas deben adaptarse a estos cambios con la menor modificación posible.\n",
    "\n",
    "El proceso se repite a lo largo de varias iteraciones, creando una secuencia de cajas y geometrías externas que deben estar en sintonía. El objetivo final es minimizar los costos computacionales al evitar recalcular toda la estructura externa en cada iteración."
   ]
  },
  {
   "cell_type": "code",
   "execution_count": 7,
   "metadata": {},
   "outputs": [
    {
     "name": "stdout",
     "output_type": "stream",
     "text": [
      "Primeros 5 puntos\n",
      "[[ 9.287534   -0.17168491 -2.04252446]\n",
      " [ 9.287534   -0.03942097 -2.12239389]\n",
      " [ 9.287534    0.0616885  -2.23922604]\n",
      " [ 9.287534    0.1217462  -2.38158456]\n",
      " [ 9.287534    0.13487327 -2.5355344 ]\n",
      " [ 9.287534    0.09978473 -2.6860059 ]\n",
      " [ 9.287534    0.0199153  -2.81826984]\n",
      " [ 9.287534   -0.09691685 -2.91937931]\n",
      " [ 9.287534   -0.23927537 -2.97943701]\n",
      " [ 9.287534   -0.39322522 -2.99256408]]\n",
      "(80, 3)\n"
     ]
    }
   ],
   "source": [
    "print(\"Primeros 5 puntos\")\n",
    "print(M[:10])\n",
    "\n",
    "print(M.shape)"
   ]
  },
  {
   "cell_type": "code",
   "execution_count": 8,
   "metadata": {},
   "outputs": [
    {
     "data": {
      "application/vnd.plotly.v1+json": {
       "config": {
        "plotlyServerURL": "https://plot.ly"
       },
       "data": [
        {
         "marker": {
          "color": "blue",
          "size": 2
         },
         "mode": "markers",
         "type": "scatter3d",
         "x": [
          9.287533998,
          9.287533998,
          9.287533998,
          9.287533998,
          9.287533998,
          9.287533998,
          9.287533998,
          9.287533998,
          9.287533998,
          9.287533998,
          9.287533998,
          9.287533998,
          9.287533998,
          9.287533998,
          9.287533998,
          9.287533998,
          9.287533998,
          9.287533998,
          9.287533998,
          9.287533998,
          9.305806769,
          9.320039026,
          9.323245437,
          9.328516455,
          9.313186953,
          9.299958834,
          9.298203651,
          9.294596234,
          9.28652539,
          9.282458527,
          9.283481726,
          9.282392479,
          9.281000261,
          9.277817595,
          9.290601687,
          9.302112188,
          9.273374805,
          9.239047448,
          9.234956884,
          9.263444776,
          9.250360091,
          9.21466313,
          9.206051792,
          9.204654066,
          9.224986672,
          9.259143063,
          9.299379905,
          9.338014887,
          9.330785969,
          9.310426744,
          9.301611535,
          9.295561508,
          9.308582016,
          9.298667448,
          9.259098677,
          9.253465639,
          9.302504457,
          9.367692068,
          9.384984471,
          9.326057033,
          9.355381258,
          9.428949262,
          9.436176341,
          9.399273492,
          9.370623984,
          9.342544964,
          9.282411416,
          9.238560269,
          9.23181969,
          9.244437654,
          9.255888005,
          9.247128238,
          9.240283878,
          9.275839075,
          9.323795246,
          9.283029805,
          9.173394298,
          9.117592531,
          9.146619614,
          9.239038439
         ],
         "y": [
          -0.1716849127,
          -0.03942097276,
          0.06168849784,
          0.1217461997,
          0.1348732665,
          0.09978472946,
          0.0199152991,
          -0.09691684827,
          -0.239275368,
          -0.3932252164,
          -0.5436967097,
          -0.6759606496,
          -0.7770701202,
          -0.837127822,
          -0.8502548888,
          -0.8151663518,
          -0.7352969214,
          -0.618464774,
          -0.4761062543,
          -0.3221564059,
          0.3792956205,
          0.9034048198,
          1.303797882,
          1.541495174,
          1.593917404,
          1.455245106,
          1.138741417,
          0.6757505062,
          0.111585378,
          -0.4985160526,
          -1.094838503,
          -1.619003927,
          -2.019697012,
          -2.257691203,
          -2.30955822,
          -2.170323617,
          -1.853798891,
          -1.390780611,
          -0.8267085275,
          -0.216843646,
          0.9299951124,
          1.845335315,
          2.542830274,
          2.957321747,
          3.050250519,
          2.810082456,
          2.257054838,
          1.447323864,
          0.4617306332,
          -0.603857688,
          -1.645928729,
          -2.561991353,
          -3.262080718,
          -3.677799728,
          -3.76805495,
          -3.523971795,
          -2.96864238,
          -2.158625344,
          -1.177847964,
          -0.1145108376,
          1.479151702,
          2.782733428,
          3.772145269,
          4.366042074,
          4.503159719,
          4.163380267,
          3.373552257,
          2.216719271,
          0.8123602372,
          -0.7079019813,
          -2.196471068,
          -3.504476117,
          -4.50373084,
          -5.095864754,
          -5.2241644,
          -4.873856553,
          -4.070719189,
          -2.911046924,
          -1.526978547,
          -0.01742357225
         ],
         "z": [
          -2.042524459,
          -2.12239389,
          -2.239226037,
          -2.381584557,
          -2.535534405,
          -2.686005899,
          -2.818269838,
          -2.919379309,
          -2.979437011,
          -2.992564078,
          -2.957475541,
          -2.87760611,
          -2.760773963,
          -2.618415443,
          -2.464465595,
          -2.313994101,
          -2.181730162,
          -2.080620691,
          -2.020562989,
          -2.007435922,
          -0.6873769707,
          -1.003829751,
          -1.466763987,
          -2.030928357,
          -2.640914482,
          -3.237125674,
          -3.761292179,
          -4.161989365,
          -4.400012153,
          -4.452051305,
          -4.312994269,
          -3.99646461,
          -3.533453757,
          -2.969280898,
          -2.359238813,
          -1.76301112,
          -1.239017433,
          -0.8387236435,
          -0.6008619855,
          -0.5485213082,
          0.6645607923,
          0.1115787796,
          -0.6969988122,
          -1.680181124,
          -2.743810283,
          -3.786919773,
          -4.703693744,
          -5.403595017,
          -5.820008233,
          -5.911328283,
          -5.668365682,
          -5.115213259,
          -4.305856231,
          -3.319328415,
          -2.25340053,
          -1.211853019,
          -0.2960998826,
          0.399876557,
          0.8125142533,
          0.9058052001,
          2.009275551,
          1.215960809,
          0.06460707931,
          -1.330438946,
          -2.842329846,
          -4.332520222,
          -5.644483313,
          -6.643410436,
          -7.237457132,
          -7.369149158,
          -7.023335188,
          -6.232960697,
          -5.077195811,
          -3.668900263,
          -2.146471903,
          -0.6592143639,
          0.646700048,
          1.631878242,
          2.215680348,
          2.353744868
         ]
        }
       ],
       "layout": {
        "scene": {
         "xaxis": {
          "range": [
           2.418314777187371,
           16.154208365687623
          ],
          "title": {
           "text": "X"
          }
         },
         "yaxis": {
          "range": [
           -7.225860788939875,
           6.510032799560375
          ],
          "title": {
           "text": "Y"
          }
         },
         "zaxis": {
          "range": [
           -9.369149157999999,
           4.36674443050025
          ],
          "title": {
           "text": "Z"
          }
         }
        },
        "template": {
         "data": {
          "bar": [
           {
            "error_x": {
             "color": "#2a3f5f"
            },
            "error_y": {
             "color": "#2a3f5f"
            },
            "marker": {
             "line": {
              "color": "#E5ECF6",
              "width": 0.5
             },
             "pattern": {
              "fillmode": "overlay",
              "size": 10,
              "solidity": 0.2
             }
            },
            "type": "bar"
           }
          ],
          "barpolar": [
           {
            "marker": {
             "line": {
              "color": "#E5ECF6",
              "width": 0.5
             },
             "pattern": {
              "fillmode": "overlay",
              "size": 10,
              "solidity": 0.2
             }
            },
            "type": "barpolar"
           }
          ],
          "carpet": [
           {
            "aaxis": {
             "endlinecolor": "#2a3f5f",
             "gridcolor": "white",
             "linecolor": "white",
             "minorgridcolor": "white",
             "startlinecolor": "#2a3f5f"
            },
            "baxis": {
             "endlinecolor": "#2a3f5f",
             "gridcolor": "white",
             "linecolor": "white",
             "minorgridcolor": "white",
             "startlinecolor": "#2a3f5f"
            },
            "type": "carpet"
           }
          ],
          "choropleth": [
           {
            "colorbar": {
             "outlinewidth": 0,
             "ticks": ""
            },
            "type": "choropleth"
           }
          ],
          "contour": [
           {
            "colorbar": {
             "outlinewidth": 0,
             "ticks": ""
            },
            "colorscale": [
             [
              0,
              "#0d0887"
             ],
             [
              0.1111111111111111,
              "#46039f"
             ],
             [
              0.2222222222222222,
              "#7201a8"
             ],
             [
              0.3333333333333333,
              "#9c179e"
             ],
             [
              0.4444444444444444,
              "#bd3786"
             ],
             [
              0.5555555555555556,
              "#d8576b"
             ],
             [
              0.6666666666666666,
              "#ed7953"
             ],
             [
              0.7777777777777778,
              "#fb9f3a"
             ],
             [
              0.8888888888888888,
              "#fdca26"
             ],
             [
              1,
              "#f0f921"
             ]
            ],
            "type": "contour"
           }
          ],
          "contourcarpet": [
           {
            "colorbar": {
             "outlinewidth": 0,
             "ticks": ""
            },
            "type": "contourcarpet"
           }
          ],
          "heatmap": [
           {
            "colorbar": {
             "outlinewidth": 0,
             "ticks": ""
            },
            "colorscale": [
             [
              0,
              "#0d0887"
             ],
             [
              0.1111111111111111,
              "#46039f"
             ],
             [
              0.2222222222222222,
              "#7201a8"
             ],
             [
              0.3333333333333333,
              "#9c179e"
             ],
             [
              0.4444444444444444,
              "#bd3786"
             ],
             [
              0.5555555555555556,
              "#d8576b"
             ],
             [
              0.6666666666666666,
              "#ed7953"
             ],
             [
              0.7777777777777778,
              "#fb9f3a"
             ],
             [
              0.8888888888888888,
              "#fdca26"
             ],
             [
              1,
              "#f0f921"
             ]
            ],
            "type": "heatmap"
           }
          ],
          "heatmapgl": [
           {
            "colorbar": {
             "outlinewidth": 0,
             "ticks": ""
            },
            "colorscale": [
             [
              0,
              "#0d0887"
             ],
             [
              0.1111111111111111,
              "#46039f"
             ],
             [
              0.2222222222222222,
              "#7201a8"
             ],
             [
              0.3333333333333333,
              "#9c179e"
             ],
             [
              0.4444444444444444,
              "#bd3786"
             ],
             [
              0.5555555555555556,
              "#d8576b"
             ],
             [
              0.6666666666666666,
              "#ed7953"
             ],
             [
              0.7777777777777778,
              "#fb9f3a"
             ],
             [
              0.8888888888888888,
              "#fdca26"
             ],
             [
              1,
              "#f0f921"
             ]
            ],
            "type": "heatmapgl"
           }
          ],
          "histogram": [
           {
            "marker": {
             "pattern": {
              "fillmode": "overlay",
              "size": 10,
              "solidity": 0.2
             }
            },
            "type": "histogram"
           }
          ],
          "histogram2d": [
           {
            "colorbar": {
             "outlinewidth": 0,
             "ticks": ""
            },
            "colorscale": [
             [
              0,
              "#0d0887"
             ],
             [
              0.1111111111111111,
              "#46039f"
             ],
             [
              0.2222222222222222,
              "#7201a8"
             ],
             [
              0.3333333333333333,
              "#9c179e"
             ],
             [
              0.4444444444444444,
              "#bd3786"
             ],
             [
              0.5555555555555556,
              "#d8576b"
             ],
             [
              0.6666666666666666,
              "#ed7953"
             ],
             [
              0.7777777777777778,
              "#fb9f3a"
             ],
             [
              0.8888888888888888,
              "#fdca26"
             ],
             [
              1,
              "#f0f921"
             ]
            ],
            "type": "histogram2d"
           }
          ],
          "histogram2dcontour": [
           {
            "colorbar": {
             "outlinewidth": 0,
             "ticks": ""
            },
            "colorscale": [
             [
              0,
              "#0d0887"
             ],
             [
              0.1111111111111111,
              "#46039f"
             ],
             [
              0.2222222222222222,
              "#7201a8"
             ],
             [
              0.3333333333333333,
              "#9c179e"
             ],
             [
              0.4444444444444444,
              "#bd3786"
             ],
             [
              0.5555555555555556,
              "#d8576b"
             ],
             [
              0.6666666666666666,
              "#ed7953"
             ],
             [
              0.7777777777777778,
              "#fb9f3a"
             ],
             [
              0.8888888888888888,
              "#fdca26"
             ],
             [
              1,
              "#f0f921"
             ]
            ],
            "type": "histogram2dcontour"
           }
          ],
          "mesh3d": [
           {
            "colorbar": {
             "outlinewidth": 0,
             "ticks": ""
            },
            "type": "mesh3d"
           }
          ],
          "parcoords": [
           {
            "line": {
             "colorbar": {
              "outlinewidth": 0,
              "ticks": ""
             }
            },
            "type": "parcoords"
           }
          ],
          "pie": [
           {
            "automargin": true,
            "type": "pie"
           }
          ],
          "scatter": [
           {
            "fillpattern": {
             "fillmode": "overlay",
             "size": 10,
             "solidity": 0.2
            },
            "type": "scatter"
           }
          ],
          "scatter3d": [
           {
            "line": {
             "colorbar": {
              "outlinewidth": 0,
              "ticks": ""
             }
            },
            "marker": {
             "colorbar": {
              "outlinewidth": 0,
              "ticks": ""
             }
            },
            "type": "scatter3d"
           }
          ],
          "scattercarpet": [
           {
            "marker": {
             "colorbar": {
              "outlinewidth": 0,
              "ticks": ""
             }
            },
            "type": "scattercarpet"
           }
          ],
          "scattergeo": [
           {
            "marker": {
             "colorbar": {
              "outlinewidth": 0,
              "ticks": ""
             }
            },
            "type": "scattergeo"
           }
          ],
          "scattergl": [
           {
            "marker": {
             "colorbar": {
              "outlinewidth": 0,
              "ticks": ""
             }
            },
            "type": "scattergl"
           }
          ],
          "scattermapbox": [
           {
            "marker": {
             "colorbar": {
              "outlinewidth": 0,
              "ticks": ""
             }
            },
            "type": "scattermapbox"
           }
          ],
          "scatterpolar": [
           {
            "marker": {
             "colorbar": {
              "outlinewidth": 0,
              "ticks": ""
             }
            },
            "type": "scatterpolar"
           }
          ],
          "scatterpolargl": [
           {
            "marker": {
             "colorbar": {
              "outlinewidth": 0,
              "ticks": ""
             }
            },
            "type": "scatterpolargl"
           }
          ],
          "scatterternary": [
           {
            "marker": {
             "colorbar": {
              "outlinewidth": 0,
              "ticks": ""
             }
            },
            "type": "scatterternary"
           }
          ],
          "surface": [
           {
            "colorbar": {
             "outlinewidth": 0,
             "ticks": ""
            },
            "colorscale": [
             [
              0,
              "#0d0887"
             ],
             [
              0.1111111111111111,
              "#46039f"
             ],
             [
              0.2222222222222222,
              "#7201a8"
             ],
             [
              0.3333333333333333,
              "#9c179e"
             ],
             [
              0.4444444444444444,
              "#bd3786"
             ],
             [
              0.5555555555555556,
              "#d8576b"
             ],
             [
              0.6666666666666666,
              "#ed7953"
             ],
             [
              0.7777777777777778,
              "#fb9f3a"
             ],
             [
              0.8888888888888888,
              "#fdca26"
             ],
             [
              1,
              "#f0f921"
             ]
            ],
            "type": "surface"
           }
          ],
          "table": [
           {
            "cells": {
             "fill": {
              "color": "#EBF0F8"
             },
             "line": {
              "color": "white"
             }
            },
            "header": {
             "fill": {
              "color": "#C8D4E3"
             },
             "line": {
              "color": "white"
             }
            },
            "type": "table"
           }
          ]
         },
         "layout": {
          "annotationdefaults": {
           "arrowcolor": "#2a3f5f",
           "arrowhead": 0,
           "arrowwidth": 1
          },
          "autotypenumbers": "strict",
          "coloraxis": {
           "colorbar": {
            "outlinewidth": 0,
            "ticks": ""
           }
          },
          "colorscale": {
           "diverging": [
            [
             0,
             "#8e0152"
            ],
            [
             0.1,
             "#c51b7d"
            ],
            [
             0.2,
             "#de77ae"
            ],
            [
             0.3,
             "#f1b6da"
            ],
            [
             0.4,
             "#fde0ef"
            ],
            [
             0.5,
             "#f7f7f7"
            ],
            [
             0.6,
             "#e6f5d0"
            ],
            [
             0.7,
             "#b8e186"
            ],
            [
             0.8,
             "#7fbc41"
            ],
            [
             0.9,
             "#4d9221"
            ],
            [
             1,
             "#276419"
            ]
           ],
           "sequential": [
            [
             0,
             "#0d0887"
            ],
            [
             0.1111111111111111,
             "#46039f"
            ],
            [
             0.2222222222222222,
             "#7201a8"
            ],
            [
             0.3333333333333333,
             "#9c179e"
            ],
            [
             0.4444444444444444,
             "#bd3786"
            ],
            [
             0.5555555555555556,
             "#d8576b"
            ],
            [
             0.6666666666666666,
             "#ed7953"
            ],
            [
             0.7777777777777778,
             "#fb9f3a"
            ],
            [
             0.8888888888888888,
             "#fdca26"
            ],
            [
             1,
             "#f0f921"
            ]
           ],
           "sequentialminus": [
            [
             0,
             "#0d0887"
            ],
            [
             0.1111111111111111,
             "#46039f"
            ],
            [
             0.2222222222222222,
             "#7201a8"
            ],
            [
             0.3333333333333333,
             "#9c179e"
            ],
            [
             0.4444444444444444,
             "#bd3786"
            ],
            [
             0.5555555555555556,
             "#d8576b"
            ],
            [
             0.6666666666666666,
             "#ed7953"
            ],
            [
             0.7777777777777778,
             "#fb9f3a"
            ],
            [
             0.8888888888888888,
             "#fdca26"
            ],
            [
             1,
             "#f0f921"
            ]
           ]
          },
          "colorway": [
           "#636efa",
           "#EF553B",
           "#00cc96",
           "#ab63fa",
           "#FFA15A",
           "#19d3f3",
           "#FF6692",
           "#B6E880",
           "#FF97FF",
           "#FECB52"
          ],
          "font": {
           "color": "#2a3f5f"
          },
          "geo": {
           "bgcolor": "white",
           "lakecolor": "white",
           "landcolor": "#E5ECF6",
           "showlakes": true,
           "showland": true,
           "subunitcolor": "white"
          },
          "hoverlabel": {
           "align": "left"
          },
          "hovermode": "closest",
          "mapbox": {
           "style": "light"
          },
          "paper_bgcolor": "white",
          "plot_bgcolor": "#E5ECF6",
          "polar": {
           "angularaxis": {
            "gridcolor": "white",
            "linecolor": "white",
            "ticks": ""
           },
           "bgcolor": "#E5ECF6",
           "radialaxis": {
            "gridcolor": "white",
            "linecolor": "white",
            "ticks": ""
           }
          },
          "scene": {
           "xaxis": {
            "backgroundcolor": "#E5ECF6",
            "gridcolor": "white",
            "gridwidth": 2,
            "linecolor": "white",
            "showbackground": true,
            "ticks": "",
            "zerolinecolor": "white"
           },
           "yaxis": {
            "backgroundcolor": "#E5ECF6",
            "gridcolor": "white",
            "gridwidth": 2,
            "linecolor": "white",
            "showbackground": true,
            "ticks": "",
            "zerolinecolor": "white"
           },
           "zaxis": {
            "backgroundcolor": "#E5ECF6",
            "gridcolor": "white",
            "gridwidth": 2,
            "linecolor": "white",
            "showbackground": true,
            "ticks": "",
            "zerolinecolor": "white"
           }
          },
          "shapedefaults": {
           "line": {
            "color": "#2a3f5f"
           }
          },
          "ternary": {
           "aaxis": {
            "gridcolor": "white",
            "linecolor": "white",
            "ticks": ""
           },
           "baxis": {
            "gridcolor": "white",
            "linecolor": "white",
            "ticks": ""
           },
           "bgcolor": "#E5ECF6",
           "caxis": {
            "gridcolor": "white",
            "linecolor": "white",
            "ticks": ""
           }
          },
          "title": {
           "x": 0.05
          },
          "xaxis": {
           "automargin": true,
           "gridcolor": "white",
           "linecolor": "white",
           "ticks": "",
           "title": {
            "standoff": 15
           },
           "zerolinecolor": "white",
           "zerolinewidth": 2
          },
          "yaxis": {
           "automargin": true,
           "gridcolor": "white",
           "linecolor": "white",
           "ticks": "",
           "title": {
            "standoff": 15
           },
           "zerolinecolor": "white",
           "zerolinewidth": 2
          }
         }
        },
        "title": {
         "text": "Fractura"
        }
       }
      }
     },
     "metadata": {},
     "output_type": "display_data"
    }
   ],
   "source": [
    "fig  = new_plot()\n",
    "\n",
    "mp = np.mean(M, axis=0)\n",
    "max_value = np.max(np.abs(M - mp))\n",
    "\n",
    "# mostrar puntos de la fractura\n",
    "\n",
    "fig.add_trace(go.Scatter3d(\n",
    "    x=M[:, 0],\n",
    "    y=M[:, 1],\n",
    "    z=M[:, 2],\n",
    "    mode='markers',\n",
    "    marker=dict(\n",
    "        size=2,\n",
    "        color='blue',\n",
    "    )\n",
    "))\n",
    "\n",
    "# Calcular el centro de la fractura\n",
    "\n",
    "fig = config_plot(fig, 'Fractura')\n",
    "\n",
    "fig.show()\n"
   ]
  },
  {
   "cell_type": "markdown",
   "metadata": {},
   "source": [
    "### 2. Caja contenedora"
   ]
  },
  {
   "cell_type": "markdown",
   "metadata": {},
   "source": [
    "Hexaedro que encierra la fractura. A medida que la fractura crece, se ajusta el tamaño de la caja contenedora para incluir los nuevos frentes. La caja sirve como una referencia externa para mantener la coherencia con la estructura geométrica que envuelve la fractura."
   ]
  },
  {
   "cell_type": "markdown",
   "metadata": {},
   "source": [
    "#### 2.1. Cunstruir caja para un conjunto de puntos en 3D"
   ]
  },
  {
   "cell_type": "markdown",
   "metadata": {},
   "source": [
    "Tenemos una serie de puntos que representan la fractuta, $M=\\{(x,y,z)\\}_{i=0}^{i=n}$ y queremos construir una caja contenedora que los envuelva.\n"
   ]
  },
  {
   "cell_type": "code",
   "execution_count": 9,
   "metadata": {},
   "outputs": [
    {
     "data": {
      "image/png": "[encoded data removed]",
      "text/plain": [
       "<Figure size 640x480 with 1 Axes>"
      ]
     },
     "metadata": {},
     "output_type": "display_data"
    }
   ],
   "source": [
    "fig = plt.figure()\n",
    "ax = fig.add_subplot(111, projection='3d')\n",
    "ax.scatter(M[:, 0], M[:, 1], M[:, 2], color='b', alpha=0.5)\n",
    "ax.set_title('Puntos Originales')\n",
    "ax.set_xlabel('X')\n",
    "ax.set_ylabel('Y')\n",
    "ax.set_zlabel('Z')\n",
    "plt.title('Puntos Originales')\n",
    "plt.xlim(mp[0] - max_value, mp[0] + max_value)\n",
    "plt.ylim(mp[1] - max_value, mp[1] + max_value)\n",
    "plt.show()"
   ]
  },
  {
   "cell_type": "markdown",
   "metadata": {},
   "source": [
    "I .La media de los puntos $ \\mathbf{mp} $ se calcula como:\n",
    "\n",
    "$$\n",
    "\\mathbf{mp} = \\left( \\frac{1}{n} \\sum_{i=1}^{n} x_i, \\frac{1}{n} \\sum_{i=1}^{n} y_i, \\frac{1}{n} \\sum_{i=1}^{n} z_i \\right)\n",
    "$$\n"
   ]
  },
  {
   "cell_type": "code",
   "execution_count": 10,
   "metadata": {},
   "outputs": [
    {
     "name": "stdout",
     "output_type": "stream",
     "text": [
      "Media de los puntos: [ 9.28626157 -0.35791399 -2.50120236]\n"
     ]
    }
   ],
   "source": [
    "mp = np.mean(M, axis=0)\n",
    "\n",
    "print(f\"Media de los puntos: {mp}\")"
   ]
  },
  {
   "cell_type": "markdown",
   "metadata": {},
   "source": [
    "II. Centramos los datos tomando como referencia el punto medio de los datos.\n",
    "\n",
    "$$\n",
    "P =  M - \\text{Media}\n",
    "$$"
   ]
  },
  {
   "cell_type": "code",
   "execution_count": 11,
   "metadata": {},
   "outputs": [],
   "source": [
    "points = M - mp"
   ]
  },
  {
   "cell_type": "markdown",
   "metadata": {},
   "source": [
    "III. Obtenemos la matriz de covarianza $A$\n",
    "\n",
    "$$\n",
    "A = \\begin{pmatrix} \n",
    "\\text{Cov}(x, x) & \\text{Cov}(x, y) & \\text{Cov}(x, z) \\\\ \n",
    "\\text{Cov}(y, x) & \\text{Cov}(y, y) & \\text{Cov}(y, z) \\\\ \n",
    "\\text{Cov}(z, x) & \\text{Cov}(z, y) & \\text{Cov}(z, z) \n",
    "\\end{pmatrix}\n",
    "$$"
   ]
  },
  {
   "cell_type": "code",
   "execution_count": 12,
   "metadata": {},
   "outputs": [],
   "source": [
    "A = np.cov(points, rowvar=False)"
   ]
  },
  {
   "cell_type": "markdown",
   "metadata": {},
   "source": [
    "IV. Luego, calculamos los autovectores $ V $ y los autovalores $ \\Lambda $ de la matriz de covarianza $ \\Sigma $:\n",
    "   $\n",
    "   \\Sigma V = V \\Lambda\n",
    "   $\n",
    "   donde:\n",
    "   - $ V $ es la matriz cuyas columnas son los autovectores.\n",
    "   - $ \\Lambda $ es la matriz diagonal con los autovalores en la diagonal.\n",
    "\n",
    "**los autovectores** representan las direcciones principales de variación en los datos. Cada autovector indica una dirección en el espacio de características.\n",
    "\n",
    "**Los autovalores** indican la magnitud de la varianza que se encuentra en las direcciones correspondientes a los autovectores."
   ]
  },
  {
   "cell_type": "code",
   "execution_count": 13,
   "metadata": {},
   "outputs": [
    {
     "name": "stdout",
     "output_type": "stream",
     "text": [
      "Autovectores:\n",
      " [[ 9.99975088e-01 -6.42532701e-03 -2.92212074e-03]\n",
      " [-7.05826663e-03 -9.14151277e-01 -4.05311761e-01]\n",
      " [ 6.69997997e-05 -4.05322288e-01  9.14173855e-01]]\n",
      "\n",
      "Autovalores: [2.39527389e-03 5.00117967e+00 4.99941890e+00]\n"
     ]
    }
   ],
   "source": [
    "eigenvalues, eigenvectors = np.linalg.eig(A)\n",
    "\n",
    "print(f\"Autovectores:\\n {eigenvectors}\")\n",
    "\n",
    "print(f\"\\nAutovalores: {eigenvalues}\")"
   ]
  },
  {
   "cell_type": "markdown",
   "metadata": {},
   "source": [
    "V. Proyectar los puntos centrados en las direcciones de los autovectores. Esto se hace con el producto punto:\n",
    "   $$\n",
    "   \\mathbf{P}_{\\text{transformada}} = \\mathbf{P} V\n",
    "   $$\n",
    "   donde:\n",
    "   - $ \\mathbf{P} $ es la matriz de puntos centrados (de tamaño $ n \\times 3 $).\n",
    "   - $ V $ es la matriz de autovectores (de tamaño $ 3 \\times 3 $).\n",
    "   - El resultado $ \\mathbf{P}_{\\text{transformada}} $ es una nueva matriz de puntos proyectados en las direcciones de máxima varianza (autovectores)"
   ]
  },
  {
   "cell_type": "code",
   "execution_count": 14,
   "metadata": {},
   "outputs": [],
   "source": [
    "points_t = np.dot(points, eigenvectors)"
   ]
  },
  {
   "cell_type": "code",
   "execution_count": 15,
   "metadata": {},
   "outputs": [
    {
     "data": {
      "image/png": "[encoded data removed]",
      "text/plain": [
       "<Figure size 640x480 with 1 Axes>"
      ]
     },
     "metadata": {},
     "output_type": "display_data"
    }
   ],
   "source": [
    "fig = plt.figure()\n",
    "ax = fig.add_subplot(111, projection='3d')\n",
    "ax.scatter(points_t[:, 0], points_t[:, 1], points_t[:, 2], color='r', alpha=0.5)\n",
    "origin = np.zeros((3, 3))  # Origen de los vectores\n",
    "ax.quiver(origin[:, 0], origin[:, 1], origin[:, 2], \n",
    "          eigenvectors[0, :], eigenvectors[1, :], eigenvectors[2, :], \n",
    "          color=['r', 'g', 'b'])\n",
    "ax.set_xlabel('X')\n",
    "ax.set_ylabel('Y')\n",
    "ax.set_zlabel('Z')\n",
    "plt.title('Puntos Transformados')\n",
    "plt.xlim(-max_value, max_value)\n",
    "plt.ylim(-max_value, max_value)\n",
    "plt.show()"
   ]
  },
  {
   "cell_type": "markdown",
   "metadata": {},
   "source": [
    "VI. Crear puntos de los límites de la caja en el sistema transformado\n",
    "\n",
    "Si los límites mínimos y máximos son:\n",
    "\n",
    "$$\n",
    "\\text{min\\_limits} = [x_{\\text{min}}, y_{\\text{min}}, z_{\\text{min}}]\n",
    "$$\n",
    "$$\n",
    "\\text{max\\_limits} = [x_{\\text{max}}, y_{\\text{max}}, z_{\\text{max}}]\n",
    "$$\n",
    "\n",
    "Los vértices de la caja se pueden representar como todas las combinaciones de los extremos:\n",
    "\n",
    "$$\n",
    "\\text{vertex} = \\begin{bmatrix}\n",
    "x_{\\text{min}} & y_{\\text{min}} & z_{\\text{min}} \\\\\n",
    "x_{\\text{max}} & y_{\\text{min}} & z_{\\text{min}} \\\\\n",
    "x_{\\text{min}} & y_{\\text{max}} & z_{\\text{min}} \\\\\n",
    "x_{\\text{max}} & y_{\\text{max}} & z_{\\text{min}} \\\\\n",
    "x_{\\text{min}} & y_{\\text{min}} & z_{\\text{max}} \\\\\n",
    "x_{\\text{max}} & y_{\\text{min}} & z_{\\text{max}} \\\\\n",
    "x_{\\text{min}} & y_{\\text{max}} & z_{\\text{max}} \\\\\n",
    "x_{\\text{max}} & y_{\\text{max}} & z_{\\text{max}}\n",
    "\\end{bmatrix}\n",
    "$$\n"
   ]
  },
  {
   "cell_type": "code",
   "execution_count": 16,
   "metadata": {},
   "outputs": [],
   "source": [
    "# Calcula los límites de la caja en el nuevo sistema de coordenadas\n",
    "min_limits = np.min(points, axis=0) - err\n",
    "max_limits = np.max(points, axis=0) + err\n",
    "\n",
    "# Crear puntos de los límites de la caja en el sistema transformado\n",
    "vertex_t = np.array(np.meshgrid([min_limits[0], max_limits[0]], [min_limits[1], max_limits[1]],\n",
    "                                    [min_limits[2], max_limits[2]])).T.reshape(-1, 3)"
   ]
  },
  {
   "cell_type": "code",
   "execution_count": 17,
   "metadata": {},
   "outputs": [
    {
     "name": "stdout",
     "output_type": "stream",
     "text": [
      "Vertices de la caja en el sistema transformado:\n",
      " [[-0.16966904 -4.86725041 -4.86894679]\n",
      " [-0.16966904  4.86207371 -4.86894679]\n",
      " [ 0.15091477 -4.86725041 -4.86894679]\n",
      " [ 0.15091477  4.86207371 -4.86894679]\n",
      " [-0.16966904 -4.86725041  4.85594723]\n",
      " [-0.16966904  4.86207371  4.85594723]\n",
      " [ 0.15091477 -4.86725041  4.85594723]\n",
      " [ 0.15091477  4.86207371  4.85594723]]\n"
     ]
    }
   ],
   "source": [
    "print(f\"Vertices de la caja en el sistema transformado:\\n {vertex_t}\")"
   ]
  },
  {
   "cell_type": "markdown",
   "metadata": {},
   "source": [
    "Transformar los vértices de la caja de vuelta al sistema original: esto se hace con el producto punto de los vertices con la transpuesta de los autovectores y sumando la media de los datos:\n",
    "\n",
    "$$\n",
    "\\text{vertex}_{\\text{original}} = \\text{vertex} \\cdot V^T + \\mathbf{mp}\n",
    "$$\n",
    "\n",
    "Al multiplicar los vértices por $\\cdot V^T $, estamos transformando las coordenadas desde el sistema de coordenadas transformado de vuelta al sistema de coordenadas original.\n",
    "\n",
    " Sumar la media al resultado de la multiplicación ajusta la posición de los vértices para que se alineen correctamente en el espacio original.\n"
   ]
  },
  {
   "cell_type": "code",
   "execution_count": 18,
   "metadata": {},
   "outputs": [
    {
     "name": "stdout",
     "output_type": "stream",
     "text": [
      "Vertices de la caja en el sistema original:\n",
      " [[ 9.16209808  6.06612815 -4.97947252]\n",
      " [ 9.09958399 -2.82794592 -8.92298444]\n",
      " [ 9.48267391  6.06386538 -4.97945104]\n",
      " [ 9.42015982 -2.83020869 -8.92296296]\n",
      " [ 9.13368077  2.12451423  3.91077134]\n",
      " [ 9.07116668 -6.76955984 -0.03274057]\n",
      " [ 9.45425659  2.12225146  3.91079282]\n",
      " [ 9.3917425  -6.77182261 -0.03271909]]\n"
     ]
    }
   ],
   "source": [
    "vertex = np.dot(vertex_t, eigenvectors.T) + mp\n",
    "\n",
    "print(f\"Vertices de la caja en el sistema original:\\n {vertex}\")"
   ]
  },
  {
   "cell_type": "code",
   "execution_count": 19,
   "metadata": {},
   "outputs": [],
   "source": [
    "def build_box(fig):\n",
    "\n",
    "    global vertex\n",
    "\n",
    "    lines = [\n",
    "        [0, 1], [0, 2], [0, 4],\n",
    "        [1, 3], [1, 5], [2, 3],\n",
    "        [2, 6], [3, 7], [4, 5],\n",
    "        [4, 6], [5, 7], [6, 7]\n",
    "    ]\n",
    "    for line in lines:\n",
    "        fig.add_trace(go.Scatter3d(\n",
    "            x=[vertex[line[0], 0], vertex[line[1], 0]],\n",
    "            y=[vertex[line[0], 1], vertex[line[1], 1]],\n",
    "            z=[vertex[line[0], 2], vertex[line[1], 2]],\n",
    "            mode='lines',\n",
    "            line=dict(color='black', width=2)\n",
    "            )\n",
    "        )\n",
    "    return fig"
   ]
  },
  {
   "cell_type": "code",
   "execution_count": 20,
   "metadata": {},
   "outputs": [],
   "source": [
    "size = int(M_size[0] / 20)\n",
    "color_m = np.empty((0, 3))\n",
    "\n",
    "for _ in range(size):\n",
    "    color = np.random.rand(1, 3)\n",
    "    color_m = np.concatenate((color_m, np.full((20, 3), color)))"
   ]
  },
  {
   "cell_type": "code",
   "execution_count": 21,
   "metadata": {},
   "outputs": [
    {
     "data": {
      "application/vnd.plotly.v1+json": {
       "config": {
        "plotlyServerURL": "https://plot.ly"
       },
       "data": [
        {
         "line": {
          "color": "black",
          "width": 2
         },
         "mode": "lines",
         "type": "scatter3d",
         "x": [
          9.162098083707518,
          9.09958399463823
         ],
         "y": [
          6.066128146327891,
          -2.827945923555345
         ],
         "z": [
          -4.979472521590816,
          -8.922984438734423
         ]
        },
        {
         "line": {
          "color": "black",
          "width": 2
         },
         "mode": "lines",
         "type": "scatter3d",
         "x": [
          9.162098083707518,
          9.482673907285587
         ],
         "y": [
          6.066128146327891,
          6.063865380319389
         ],
         "z": [
          -4.979472521590816,
          -4.979451042539759
         ]
        },
        {
         "line": {
          "color": "black",
          "width": 2
         },
         "mode": "lines",
         "type": "scatter3d",
         "x": [
          9.162098083707518,
          9.133680769219962
         ],
         "y": [
          6.066128146327891,
          2.1245142276484503
         ],
         "z": [
          -4.979472521590816,
          3.9107713439755454
         ]
        },
        {
         "line": {
          "color": "black",
          "width": 2
         },
         "mode": "lines",
         "type": "scatter3d",
         "x": [
          9.09958399463823,
          9.420159818216298
         ],
         "y": [
          -2.827945923555345,
          -2.8302086895638467
         ],
         "z": [
          -8.922984438734423,
          -8.922962959683364
         ]
        },
        {
         "line": {
          "color": "black",
          "width": 2
         },
         "mode": "lines",
         "type": "scatter3d",
         "x": [
          9.09958399463823,
          9.071166680150675
         ],
         "y": [
          -2.827945923555345,
          -6.769559842234785
         ],
         "z": [
          -8.922984438734423,
          -0.032740573168060116
         ]
        },
        {
         "line": {
          "color": "black",
          "width": 2
         },
         "mode": "lines",
         "type": "scatter3d",
         "x": [
          9.482673907285587,
          9.420159818216298
         ],
         "y": [
          6.063865380319389,
          -2.8302086895638467
         ],
         "z": [
          -4.979451042539759,
          -8.922962959683364
         ]
        },
        {
         "line": {
          "color": "black",
          "width": 2
         },
         "mode": "lines",
         "type": "scatter3d",
         "x": [
          9.482673907285587,
          9.454256592798032
         ],
         "y": [
          6.063865380319389,
          2.1222514616399484
         ],
         "z": [
          -4.979451042539759,
          3.9107928230266022
         ]
        },
        {
         "line": {
          "color": "black",
          "width": 2
         },
         "mode": "lines",
         "type": "scatter3d",
         "x": [
          9.420159818216298,
          9.391742503728745
         ],
         "y": [
          -2.8302086895638467,
          -6.771822608243287
         ],
         "z": [
          -8.922962959683364,
          -0.032719094117003245
         ]
        },
        {
         "line": {
          "color": "black",
          "width": 2
         },
         "mode": "lines",
         "type": "scatter3d",
         "x": [
          9.133680769219962,
          9.071166680150675
         ],
         "y": [
          2.1245142276484503,
          -6.769559842234785
         ],
         "z": [
          3.9107713439755454,
          -0.032740573168060116
         ]
        },
        {
         "line": {
          "color": "black",
          "width": 2
         },
         "mode": "lines",
         "type": "scatter3d",
         "x": [
          9.133680769219962,
          9.454256592798032
         ],
         "y": [
          2.1245142276484503,
          2.1222514616399484
         ],
         "z": [
          3.9107713439755454,
          3.9107928230266022
         ]
        },
        {
         "line": {
          "color": "black",
          "width": 2
         },
         "mode": "lines",
         "type": "scatter3d",
         "x": [
          9.071166680150675,
          9.391742503728745
         ],
         "y": [
          -6.769559842234785,
          -6.771822608243287
         ],
         "z": [
          -0.032740573168060116,
          -0.032719094117003245
         ]
        },
        {
         "line": {
          "color": "black",
          "width": 2
         },
         "mode": "lines",
         "type": "scatter3d",
         "x": [
          9.454256592798032,
          9.391742503728745
         ],
         "y": [
          2.1222514616399484,
          -6.771822608243287
         ],
         "z": [
          3.9107928230266022,
          -0.032719094117003245
         ]
        },
        {
         "marker": {
          "color": [
           [
            0.1753829238095701,
            0.02832620995667212,
            0.17514324560391958
           ],
           [
            0.1753829238095701,
            0.02832620995667212,
            0.17514324560391958
           ],
           [
            0.1753829238095701,
            0.02832620995667212,
            0.17514324560391958
           ],
           [
            0.1753829238095701,
            0.02832620995667212,
            0.17514324560391958
           ],
           [
            0.1753829238095701,
            0.02832620995667212,
            0.17514324560391958
           ],
           [
            0.1753829238095701,
            0.02832620995667212,
            0.17514324560391958
           ],
           [
            0.1753829238095701,
            0.02832620995667212,
            0.17514324560391958
           ],
           [
            0.1753829238095701,
            0.02832620995667212,
            0.17514324560391958
           ],
           [
            0.1753829238095701,
            0.02832620995667212,
            0.17514324560391958
           ],
           [
            0.1753829238095701,
            0.02832620995667212,
            0.17514324560391958
           ],
           [
            0.1753829238095701,
            0.02832620995667212,
            0.17514324560391958
           ],
           [
            0.1753829238095701,
            0.02832620995667212,
            0.17514324560391958
           ],
           [
            0.1753829238095701,
            0.02832620995667212,
            0.17514324560391958
           ],
           [
            0.1753829238095701,
            0.02832620995667212,
            0.17514324560391958
           ],
           [
            0.1753829238095701,
            0.02832620995667212,
            0.17514324560391958
           ],
           [
            0.1753829238095701,
            0.02832620995667212,
            0.17514324560391958
           ],
           [
            0.1753829238095701,
            0.02832620995667212,
            0.17514324560391958
           ],
           [
            0.1753829238095701,
            0.02832620995667212,
            0.17514324560391958
           ],
           [
            0.1753829238095701,
            0.02832620995667212,
            0.17514324560391958
           ],
           [
            0.1753829238095701,
            0.02832620995667212,
            0.17514324560391958
           ],
           [
            0.718381057004934,
            0.844173003971911,
            0.9685284058420933
           ],
           [
            0.718381057004934,
            0.844173003971911,
            0.9685284058420933
           ],
           [
            0.718381057004934,
            0.844173003971911,
            0.9685284058420933
           ],
           [
            0.718381057004934,
            0.844173003971911,
            0.9685284058420933
           ],
           [
            0.718381057004934,
            0.844173003971911,
            0.9685284058420933
           ],
           [
            0.718381057004934,
            0.844173003971911,
            0.9685284058420933
           ],
           [
            0.718381057004934,
            0.844173003971911,
            0.9685284058420933
           ],
           [
            0.718381057004934,
            0.844173003971911,
            0.9685284058420933
           ],
           [
            0.718381057004934,
            0.844173003971911,
            0.9685284058420933
           ],
           [
            0.718381057004934,
            0.844173003971911,
            0.9685284058420933
           ],
           [
            0.718381057004934,
            0.844173003971911,
            0.9685284058420933
           ],
           [
            0.718381057004934,
            0.844173003971911,
            0.9685284058420933
           ],
           [
            0.718381057004934,
            0.844173003971911,
            0.9685284058420933
           ],
           [
            0.718381057004934,
            0.844173003971911,
            0.9685284058420933
           ],
           [
            0.718381057004934,
            0.844173003971911,
            0.9685284058420933
           ],
           [
            0.718381057004934,
            0.844173003971911,
            0.9685284058420933
           ],
           [
            0.718381057004934,
            0.844173003971911,
            0.9685284058420933
           ],
           [
            0.718381057004934,
            0.844173003971911,
            0.9685284058420933
           ],
           [
            0.718381057004934,
            0.844173003971911,
            0.9685284058420933
           ],
           [
            0.718381057004934,
            0.844173003971911,
            0.9685284058420933
           ],
           [
            0.06674192893790498,
            0.7080248030457489,
            0.349775418052081
           ],
           [
            0.06674192893790498,
            0.7080248030457489,
            0.349775418052081
           ],
           [
            0.06674192893790498,
            0.7080248030457489,
            0.349775418052081
           ],
           [
            0.06674192893790498,
            0.7080248030457489,
            0.349775418052081
           ],
           [
            0.06674192893790498,
            0.7080248030457489,
            0.349775418052081
           ],
           [
            0.06674192893790498,
            0.7080248030457489,
            0.349775418052081
           ],
           [
            0.06674192893790498,
            0.7080248030457489,
            0.349775418052081
           ],
           [
            0.06674192893790498,
            0.7080248030457489,
            0.349775418052081
           ],
           [
            0.06674192893790498,
            0.7080248030457489,
            0.349775418052081
           ],
           [
            0.06674192893790498,
            0.7080248030457489,
            0.349775418052081
           ],
           [
            0.06674192893790498,
            0.7080248030457489,
            0.349775418052081
           ],
           [
            0.06674192893790498,
            0.7080248030457489,
            0.349775418052081
           ],
           [
            0.06674192893790498,
            0.7080248030457489,
            0.349775418052081
           ],
           [
            0.06674192893790498,
            0.7080248030457489,
            0.349775418052081
           ],
           [
            0.06674192893790498,
            0.7080248030457489,
            0.349775418052081
           ],
           [
            0.06674192893790498,
            0.7080248030457489,
            0.349775418052081
           ],
           [
            0.06674192893790498,
            0.7080248030457489,
            0.349775418052081
           ],
           [
            0.06674192893790498,
            0.7080248030457489,
            0.349775418052081
           ],
           [
            0.06674192893790498,
            0.7080248030457489,
            0.349775418052081
           ],
           [
            0.06674192893790498,
            0.7080248030457489,
            0.349775418052081
           ],
           [
            0.3711179656151078,
            0.37610982870346954,
            0.6356246820372559
           ],
           [
            0.3711179656151078,
            0.37610982870346954,
            0.6356246820372559
           ],
           [
            0.3711179656151078,
            0.37610982870346954,
            0.6356246820372559
           ],
           [
            0.3711179656151078,
            0.37610982870346954,
            0.6356246820372559
           ],
           [
            0.3711179656151078,
            0.37610982870346954,
            0.6356246820372559
           ],
           [
            0.3711179656151078,
            0.37610982870346954,
            0.6356246820372559
           ],
           [
            0.3711179656151078,
            0.37610982870346954,
            0.6356246820372559
           ],
           [
            0.3711179656151078,
            0.37610982870346954,
            0.6356246820372559
           ],
           [
            0.3711179656151078,
            0.37610982870346954,
            0.6356246820372559
           ],
           [
            0.3711179656151078,
            0.37610982870346954,
            0.6356246820372559
           ],
           [
            0.3711179656151078,
            0.37610982870346954,
            0.6356246820372559
           ],
           [
            0.3711179656151078,
            0.37610982870346954,
            0.6356246820372559
           ],
           [
            0.3711179656151078,
            0.37610982870346954,
            0.6356246820372559
           ],
           [
            0.3711179656151078,
            0.37610982870346954,
            0.6356246820372559
           ],
           [
            0.3711179656151078,
            0.37610982870346954,
            0.6356246820372559
           ],
           [
            0.3711179656151078,
            0.37610982870346954,
            0.6356246820372559
           ],
           [
            0.3711179656151078,
            0.37610982870346954,
            0.6356246820372559
           ],
           [
            0.3711179656151078,
            0.37610982870346954,
            0.6356246820372559
           ],
           [
            0.3711179656151078,
            0.37610982870346954,
            0.6356246820372559
           ],
           [
            0.3711179656151078,
            0.37610982870346954,
            0.6356246820372559
           ]
          ],
          "size": 2
         },
         "mode": "markers",
         "type": "scatter3d",
         "x": [
          9.287533998,
          9.287533998,
          9.287533998,
          9.287533998,
          9.287533998,
          9.287533998,
          9.287533998,
          9.287533998,
          9.287533998,
          9.287533998,
          9.287533998,
          9.287533998,
          9.287533998,
          9.287533998,
          9.287533998,
          9.287533998,
          9.287533998,
          9.287533998,
          9.287533998,
          9.287533998,
          9.305806769,
          9.320039026,
          9.323245437,
          9.328516455,
          9.313186953,
          9.299958834,
          9.298203651,
          9.294596234,
          9.28652539,
          9.282458527,
          9.283481726,
          9.282392479,
          9.281000261,
          9.277817595,
          9.290601687,
          9.302112188,
          9.273374805,
          9.239047448,
          9.234956884,
          9.263444776,
          9.250360091,
          9.21466313,
          9.206051792,
          9.204654066,
          9.224986672,
          9.259143063,
          9.299379905,
          9.338014887,
          9.330785969,
          9.310426744,
          9.301611535,
          9.295561508,
          9.308582016,
          9.298667448,
          9.259098677,
          9.253465639,
          9.302504457,
          9.367692068,
          9.384984471,
          9.326057033,
          9.355381258,
          9.428949262,
          9.436176341,
          9.399273492,
          9.370623984,
          9.342544964,
          9.282411416,
          9.238560269,
          9.23181969,
          9.244437654,
          9.255888005,
          9.247128238,
          9.240283878,
          9.275839075,
          9.323795246,
          9.283029805,
          9.173394298,
          9.117592531,
          9.146619614,
          9.239038439
         ],
         "y": [
          -0.1716849127,
          -0.03942097276,
          0.06168849784,
          0.1217461997,
          0.1348732665,
          0.09978472946,
          0.0199152991,
          -0.09691684827,
          -0.239275368,
          -0.3932252164,
          -0.5436967097,
          -0.6759606496,
          -0.7770701202,
          -0.837127822,
          -0.8502548888,
          -0.8151663518,
          -0.7352969214,
          -0.618464774,
          -0.4761062543,
          -0.3221564059,
          0.3792956205,
          0.9034048198,
          1.303797882,
          1.541495174,
          1.593917404,
          1.455245106,
          1.138741417,
          0.6757505062,
          0.111585378,
          -0.4985160526,
          -1.094838503,
          -1.619003927,
          -2.019697012,
          -2.257691203,
          -2.30955822,
          -2.170323617,
          -1.853798891,
          -1.390780611,
          -0.8267085275,
          -0.216843646,
          0.9299951124,
          1.845335315,
          2.542830274,
          2.957321747,
          3.050250519,
          2.810082456,
          2.257054838,
          1.447323864,
          0.4617306332,
          -0.603857688,
          -1.645928729,
          -2.561991353,
          -3.262080718,
          -3.677799728,
          -3.76805495,
          -3.523971795,
          -2.96864238,
          -2.158625344,
          -1.177847964,
          -0.1145108376,
          1.479151702,
          2.782733428,
          3.772145269,
          4.366042074,
          4.503159719,
          4.163380267,
          3.373552257,
          2.216719271,
          0.8123602372,
          -0.7079019813,
          -2.196471068,
          -3.504476117,
          -4.50373084,
          -5.095864754,
          -5.2241644,
          -4.873856553,
          -4.070719189,
          -2.911046924,
          -1.526978547,
          -0.01742357225
         ],
         "z": [
          -2.042524459,
          -2.12239389,
          -2.239226037,
          -2.381584557,
          -2.535534405,
          -2.686005899,
          -2.818269838,
          -2.919379309,
          -2.979437011,
          -2.992564078,
          -2.957475541,
          -2.87760611,
          -2.760773963,
          -2.618415443,
          -2.464465595,
          -2.313994101,
          -2.181730162,
          -2.080620691,
          -2.020562989,
          -2.007435922,
          -0.6873769707,
          -1.003829751,
          -1.466763987,
          -2.030928357,
          -2.640914482,
          -3.237125674,
          -3.761292179,
          -4.161989365,
          -4.400012153,
          -4.452051305,
          -4.312994269,
          -3.99646461,
          -3.533453757,
          -2.969280898,
          -2.359238813,
          -1.76301112,
          -1.239017433,
          -0.8387236435,
          -0.6008619855,
          -0.5485213082,
          0.6645607923,
          0.1115787796,
          -0.6969988122,
          -1.680181124,
          -2.743810283,
          -3.786919773,
          -4.703693744,
          -5.403595017,
          -5.820008233,
          -5.911328283,
          -5.668365682,
          -5.115213259,
          -4.305856231,
          -3.319328415,
          -2.25340053,
          -1.211853019,
          -0.2960998826,
          0.399876557,
          0.8125142533,
          0.9058052001,
          2.009275551,
          1.215960809,
          0.06460707931,
          -1.330438946,
          -2.842329846,
          -4.332520222,
          -5.644483313,
          -6.643410436,
          -7.237457132,
          -7.369149158,
          -7.023335188,
          -6.232960697,
          -5.077195811,
          -3.668900263,
          -2.146471903,
          -0.6592143639,
          0.646700048,
          1.631878242,
          2.215680348,
          2.353744868
         ]
        }
       ],
       "layout": {
        "scene": {
         "xaxis": {
          "range": [
           2.418314777187371,
           16.154208365687623
          ],
          "title": {
           "text": "X"
          }
         },
         "yaxis": {
          "range": [
           -7.225860788939875,
           6.510032799560375
          ],
          "title": {
           "text": "Y"
          }
         },
         "zaxis": {
          "range": [
           -9.369149157999999,
           4.36674443050025
          ],
          "title": {
           "text": "Z"
          }
         }
        },
        "template": {
         "data": {
          "bar": [
           {
            "error_x": {
             "color": "#2a3f5f"
            },
            "error_y": {
             "color": "#2a3f5f"
            },
            "marker": {
             "line": {
              "color": "#E5ECF6",
              "width": 0.5
             },
             "pattern": {
              "fillmode": "overlay",
              "size": 10,
              "solidity": 0.2
             }
            },
            "type": "bar"
           }
          ],
          "barpolar": [
           {
            "marker": {
             "line": {
              "color": "#E5ECF6",
              "width": 0.5
             },
             "pattern": {
              "fillmode": "overlay",
              "size": 10,
              "solidity": 0.2
             }
            },
            "type": "barpolar"
           }
          ],
          "carpet": [
           {
            "aaxis": {
             "endlinecolor": "#2a3f5f",
             "gridcolor": "white",
             "linecolor": "white",
             "minorgridcolor": "white",
             "startlinecolor": "#2a3f5f"
            },
            "baxis": {
             "endlinecolor": "#2a3f5f",
             "gridcolor": "white",
             "linecolor": "white",
             "minorgridcolor": "white",
             "startlinecolor": "#2a3f5f"
            },
            "type": "carpet"
           }
          ],
          "choropleth": [
           {
            "colorbar": {
             "outlinewidth": 0,
             "ticks": ""
            },
            "type": "choropleth"
           }
          ],
          "contour": [
           {
            "colorbar": {
             "outlinewidth": 0,
             "ticks": ""
            },
            "colorscale": [
             [
              0,
              "#0d0887"
             ],
             [
              0.1111111111111111,
              "#46039f"
             ],
             [
              0.2222222222222222,
              "#7201a8"
             ],
             [
              0.3333333333333333,
              "#9c179e"
             ],
             [
              0.4444444444444444,
              "#bd3786"
             ],
             [
              0.5555555555555556,
              "#d8576b"
             ],
             [
              0.6666666666666666,
              "#ed7953"
             ],
             [
              0.7777777777777778,
              "#fb9f3a"
             ],
             [
              0.8888888888888888,
              "#fdca26"
             ],
             [
              1,
              "#f0f921"
             ]
            ],
            "type": "contour"
           }
          ],
          "contourcarpet": [
           {
            "colorbar": {
             "outlinewidth": 0,
             "ticks": ""
            },
            "type": "contourcarpet"
           }
          ],
          "heatmap": [
           {
            "colorbar": {
             "outlinewidth": 0,
             "ticks": ""
            },
            "colorscale": [
             [
              0,
              "#0d0887"
             ],
             [
              0.1111111111111111,
              "#46039f"
             ],
             [
              0.2222222222222222,
              "#7201a8"
             ],
             [
              0.3333333333333333,
              "#9c179e"
             ],
             [
              0.4444444444444444,
              "#bd3786"
             ],
             [
              0.5555555555555556,
              "#d8576b"
             ],
             [
              0.6666666666666666,
              "#ed7953"
             ],
             [
              0.7777777777777778,
              "#fb9f3a"
             ],
             [
              0.8888888888888888,
              "#fdca26"
             ],
             [
              1,
              "#f0f921"
             ]
            ],
            "type": "heatmap"
           }
          ],
          "heatmapgl": [
           {
            "colorbar": {
             "outlinewidth": 0,
             "ticks": ""
            },
            "colorscale": [
             [
              0,
              "#0d0887"
             ],
             [
              0.1111111111111111,
              "#46039f"
             ],
             [
              0.2222222222222222,
              "#7201a8"
             ],
             [
              0.3333333333333333,
              "#9c179e"
             ],
             [
              0.4444444444444444,
              "#bd3786"
             ],
             [
              0.5555555555555556,
              "#d8576b"
             ],
             [
              0.6666666666666666,
              "#ed7953"
             ],
             [
              0.7777777777777778,
              "#fb9f3a"
             ],
             [
              0.8888888888888888,
              "#fdca26"
             ],
             [
              1,
              "#f0f921"
             ]
            ],
            "type": "heatmapgl"
           }
          ],
          "histogram": [
           {
            "marker": {
             "pattern": {
              "fillmode": "overlay",
              "size": 10,
              "solidity": 0.2
             }
            },
            "type": "histogram"
           }
          ],
          "histogram2d": [
           {
            "colorbar": {
             "outlinewidth": 0,
             "ticks": ""
            },
            "colorscale": [
             [
              0,
              "#0d0887"
             ],
             [
              0.1111111111111111,
              "#46039f"
             ],
             [
              0.2222222222222222,
              "#7201a8"
             ],
             [
              0.3333333333333333,
              "#9c179e"
             ],
             [
              0.4444444444444444,
              "#bd3786"
             ],
             [
              0.5555555555555556,
              "#d8576b"
             ],
             [
              0.6666666666666666,
              "#ed7953"
             ],
             [
              0.7777777777777778,
              "#fb9f3a"
             ],
             [
              0.8888888888888888,
              "#fdca26"
             ],
             [
              1,
              "#f0f921"
             ]
            ],
            "type": "histogram2d"
           }
          ],
          "histogram2dcontour": [
           {
            "colorbar": {
             "outlinewidth": 0,
             "ticks": ""
            },
            "colorscale": [
             [
              0,
              "#0d0887"
             ],
             [
              0.1111111111111111,
              "#46039f"
             ],
             [
              0.2222222222222222,
              "#7201a8"
             ],
             [
              0.3333333333333333,
              "#9c179e"
             ],
             [
              0.4444444444444444,
              "#bd3786"
             ],
             [
              0.5555555555555556,
              "#d8576b"
             ],
             [
              0.6666666666666666,
              "#ed7953"
             ],
             [
              0.7777777777777778,
              "#fb9f3a"
             ],
             [
              0.8888888888888888,
              "#fdca26"
             ],
             [
              1,
              "#f0f921"
             ]
            ],
            "type": "histogram2dcontour"
           }
          ],
          "mesh3d": [
           {
            "colorbar": {
             "outlinewidth": 0,
             "ticks": ""
            },
            "type": "mesh3d"
           }
          ],
          "parcoords": [
           {
            "line": {
             "colorbar": {
              "outlinewidth": 0,
              "ticks": ""
             }
            },
            "type": "parcoords"
           }
          ],
          "pie": [
           {
            "automargin": true,
            "type": "pie"
           }
          ],
          "scatter": [
           {
            "fillpattern": {
             "fillmode": "overlay",
             "size": 10,
             "solidity": 0.2
            },
            "type": "scatter"
           }
          ],
          "scatter3d": [
           {
            "line": {
             "colorbar": {
              "outlinewidth": 0,
              "ticks": ""
             }
            },
            "marker": {
             "colorbar": {
              "outlinewidth": 0,
              "ticks": ""
             }
            },
            "type": "scatter3d"
           }
          ],
          "scattercarpet": [
           {
            "marker": {
             "colorbar": {
              "outlinewidth": 0,
              "ticks": ""
             }
            },
            "type": "scattercarpet"
           }
          ],
          "scattergeo": [
           {
            "marker": {
             "colorbar": {
              "outlinewidth": 0,
              "ticks": ""
             }
            },
            "type": "scattergeo"
           }
          ],
          "scattergl": [
           {
            "marker": {
             "colorbar": {
              "outlinewidth": 0,
              "ticks": ""
             }
            },
            "type": "scattergl"
           }
          ],
          "scattermapbox": [
           {
            "marker": {
             "colorbar": {
              "outlinewidth": 0,
              "ticks": ""
             }
            },
            "type": "scattermapbox"
           }
          ],
          "scatterpolar": [
           {
            "marker": {
             "colorbar": {
              "outlinewidth": 0,
              "ticks": ""
             }
            },
            "type": "scatterpolar"
           }
          ],
          "scatterpolargl": [
           {
            "marker": {
             "colorbar": {
              "outlinewidth": 0,
              "ticks": ""
             }
            },
            "type": "scatterpolargl"
           }
          ],
          "scatterternary": [
           {
            "marker": {
             "colorbar": {
              "outlinewidth": 0,
              "ticks": ""
             }
            },
            "type": "scatterternary"
           }
          ],
          "surface": [
           {
            "colorbar": {
             "outlinewidth": 0,
             "ticks": ""
            },
            "colorscale": [
             [
              0,
              "#0d0887"
             ],
             [
              0.1111111111111111,
              "#46039f"
             ],
             [
              0.2222222222222222,
              "#7201a8"
             ],
             [
              0.3333333333333333,
              "#9c179e"
             ],
             [
              0.4444444444444444,
              "#bd3786"
             ],
             [
              0.5555555555555556,
              "#d8576b"
             ],
             [
              0.6666666666666666,
              "#ed7953"
             ],
             [
              0.7777777777777778,
              "#fb9f3a"
             ],
             [
              0.8888888888888888,
              "#fdca26"
             ],
             [
              1,
              "#f0f921"
             ]
            ],
            "type": "surface"
           }
          ],
          "table": [
           {
            "cells": {
             "fill": {
              "color": "#EBF0F8"
             },
             "line": {
              "color": "white"
             }
            },
            "header": {
             "fill": {
              "color": "#C8D4E3"
             },
             "line": {
              "color": "white"
             }
            },
            "type": "table"
           }
          ]
         },
         "layout": {
          "annotationdefaults": {
           "arrowcolor": "#2a3f5f",
           "arrowhead": 0,
           "arrowwidth": 1
          },
          "autotypenumbers": "strict",
          "coloraxis": {
           "colorbar": {
            "outlinewidth": 0,
            "ticks": ""
           }
          },
          "colorscale": {
           "diverging": [
            [
             0,
             "#8e0152"
            ],
            [
             0.1,
             "#c51b7d"
            ],
            [
             0.2,
             "#de77ae"
            ],
            [
             0.3,
             "#f1b6da"
            ],
            [
             0.4,
             "#fde0ef"
            ],
            [
             0.5,
             "#f7f7f7"
            ],
            [
             0.6,
             "#e6f5d0"
            ],
            [
             0.7,
             "#b8e186"
            ],
            [
             0.8,
             "#7fbc41"
            ],
            [
             0.9,
             "#4d9221"
            ],
            [
             1,
             "#276419"
            ]
           ],
           "sequential": [
            [
             0,
             "#0d0887"
            ],
            [
             0.1111111111111111,
             "#46039f"
            ],
            [
             0.2222222222222222,
             "#7201a8"
            ],
            [
             0.3333333333333333,
             "#9c179e"
            ],
            [
             0.4444444444444444,
             "#bd3786"
            ],
            [
             0.5555555555555556,
             "#d8576b"
            ],
            [
             0.6666666666666666,
             "#ed7953"
            ],
            [
             0.7777777777777778,
             "#fb9f3a"
            ],
            [
             0.8888888888888888,
             "#fdca26"
            ],
            [
             1,
             "#f0f921"
            ]
           ],
           "sequentialminus": [
            [
             0,
             "#0d0887"
            ],
            [
             0.1111111111111111,
             "#46039f"
            ],
            [
             0.2222222222222222,
             "#7201a8"
            ],
            [
             0.3333333333333333,
             "#9c179e"
            ],
            [
             0.4444444444444444,
             "#bd3786"
            ],
            [
             0.5555555555555556,
             "#d8576b"
            ],
            [
             0.6666666666666666,
             "#ed7953"
            ],
            [
             0.7777777777777778,
             "#fb9f3a"
            ],
            [
             0.8888888888888888,
             "#fdca26"
            ],
            [
             1,
             "#f0f921"
            ]
           ]
          },
          "colorway": [
           "#636efa",
           "#EF553B",
           "#00cc96",
           "#ab63fa",
           "#FFA15A",
           "#19d3f3",
           "#FF6692",
           "#B6E880",
           "#FF97FF",
           "#FECB52"
          ],
          "font": {
           "color": "#2a3f5f"
          },
          "geo": {
           "bgcolor": "white",
           "lakecolor": "white",
           "landcolor": "#E5ECF6",
           "showlakes": true,
           "showland": true,
           "subunitcolor": "white"
          },
          "hoverlabel": {
           "align": "left"
          },
          "hovermode": "closest",
          "mapbox": {
           "style": "light"
          },
          "paper_bgcolor": "white",
          "plot_bgcolor": "#E5ECF6",
          "polar": {
           "angularaxis": {
            "gridcolor": "white",
            "linecolor": "white",
            "ticks": ""
           },
           "bgcolor": "#E5ECF6",
           "radialaxis": {
            "gridcolor": "white",
            "linecolor": "white",
            "ticks": ""
           }
          },
          "scene": {
           "xaxis": {
            "backgroundcolor": "#E5ECF6",
            "gridcolor": "white",
            "gridwidth": 2,
            "linecolor": "white",
            "showbackground": true,
            "ticks": "",
            "zerolinecolor": "white"
           },
           "yaxis": {
            "backgroundcolor": "#E5ECF6",
            "gridcolor": "white",
            "gridwidth": 2,
            "linecolor": "white",
            "showbackground": true,
            "ticks": "",
            "zerolinecolor": "white"
           },
           "zaxis": {
            "backgroundcolor": "#E5ECF6",
            "gridcolor": "white",
            "gridwidth": 2,
            "linecolor": "white",
            "showbackground": true,
            "ticks": "",
            "zerolinecolor": "white"
           }
          },
          "shapedefaults": {
           "line": {
            "color": "#2a3f5f"
           }
          },
          "ternary": {
           "aaxis": {
            "gridcolor": "white",
            "linecolor": "white",
            "ticks": ""
           },
           "baxis": {
            "gridcolor": "white",
            "linecolor": "white",
            "ticks": ""
           },
           "bgcolor": "#E5ECF6",
           "caxis": {
            "gridcolor": "white",
            "linecolor": "white",
            "ticks": ""
           }
          },
          "title": {
           "x": 0.05
          },
          "xaxis": {
           "automargin": true,
           "gridcolor": "white",
           "linecolor": "white",
           "ticks": "",
           "title": {
            "standoff": 15
           },
           "zerolinecolor": "white",
           "zerolinewidth": 2
          },
          "yaxis": {
           "automargin": true,
           "gridcolor": "white",
           "linecolor": "white",
           "ticks": "",
           "title": {
            "standoff": 15
           },
           "zerolinecolor": "white",
           "zerolinewidth": 2
          }
         }
        },
        "title": {
         "text": "Caja contenedora"
        }
       }
      }
     },
     "metadata": {},
     "output_type": "display_data"
    }
   ],
   "source": [
    "fig = new_plot()\n",
    "\n",
    "fig = build_box(fig)\n",
    "\n",
    "fig.add_trace(go.Scatter3d(\n",
    "    x=M[:, 0],\n",
    "    y=M[:, 1],\n",
    "    z=M[:, 2],\n",
    "    mode='markers',\n",
    "    marker=dict(\n",
    "        size=2,\n",
    "        color=color_m,\n",
    "    )\n",
    "))\n",
    "\n",
    "# Calcular el centro de la fractura\n",
    "\n",
    "fig = config_plot(fig, 'Caja contenedora')\n",
    "\n",
    "fig.show()\n"
   ]
  },
  {
   "cell_type": "markdown",
   "metadata": {},
   "source": [
    "### 2. Triangularización y sus normales"
   ]
  },
  {
   "cell_type": "markdown",
   "metadata": {},
   "source": [
    "la triangulación de los puntos se realizó teniendo en cuenta que cada 20 puntos se genera una nueva iteración que hace que la fractura aumente. por lo que se pueden realizar triangulaciones tomando parejas de puntos consecutivos de la interacion actual y la siguiente.\n"
   ]
  },
  {
   "cell_type": "code",
   "execution_count": 22,
   "metadata": {},
   "outputs": [],
   "source": [
    "\"\"\"\n",
    "    Realizar la triangulación de los puntos, teniento en cuenta que cada 20 puntos se apueden realizar\n",
    "    triangulaiones con los siguientes 20 puntos.\n",
    "\n",
    "    la variable tri alamacena la dirección de los puntos que forman un triangulo\n",
    "\"\"\"\n",
    "def triangularization():\n",
    "\n",
    "    global color_t, tri\n",
    "    color_t = []\n",
    "    tri = []\n",
    "    for i in range(0, size - 1):\n",
    "        for j in range(20):\n",
    "            if j == 19:\n",
    "                tri.append([j + (20 * i), j + (20 * (i + 1)), 0 + (20 * (i + 1))])\n",
    "                tri.append([j + (20 * i), 0 + (20 * (i + 1)), 0 + (20 * i)])\n",
    "            else:\n",
    "                tri.append([j + (20 * i), j + (20 * (i + 1)), (j + 1) + (20 * (i + 1))])\n",
    "                tri.append([j + (20 * i), (j + 1) + (20 * (i + 1)), (j + 1) + (20 * i)])\n",
    "\n",
    "            color = (color_m[i] + 2 * color_m[i + 1]) / 3\n",
    "            color_t.append(color)\n",
    "            color = (2 * color_m[i] + color_m[i + 1]) / 3\n",
    "            color_t.append(color)\n",
    "    color_t = np.array(color_t)\n",
    "    tri = np.array(tri)\n",
    "\n",
    "triangularization()"
   ]
  },
  {
   "cell_type": "code",
   "execution_count": 23,
   "metadata": {},
   "outputs": [],
   "source": [
    "\"\"\"\n",
    "    graficar triangularizacion\n",
    "\"\"\"\n",
    "def plot_triangles(fig):\n",
    "       global tri, M, color_t\n",
    "       for s in range(tri.shape[0]):\n",
    "            triangle = np.array([M[tri[s][0]], M[tri[s][1]], M[tri[s][2]], M[tri[s][0]]])\n",
    "            fig.add_trace(go.Scatter3d(\n",
    "                x=triangle[:, 0],\n",
    "                y=triangle[:, 1],\n",
    "                z=triangle[:, 2],\n",
    "                mode='lines',\n",
    "                line=dict(color=color_t[s])\n",
    "            ))"
   ]
  },
  {
   "cell_type": "code",
   "execution_count": 24,
   "metadata": {},
   "outputs": [
    {
     "data": {
      "application/vnd.plotly.v1+json": {
       "config": {
        "plotlyServerURL": "https://plot.ly"
       },
       "data": [
        {
         "line": {
          "color": "black",
          "width": 2
         },
         "mode": "lines",
         "type": "scatter3d",
         "x": [
          9.162098083707518,
          9.09958399463823
         ],
         "y": [
          6.066128146327891,
          -2.827945923555345
         ],
         "z": [
          -4.979472521590816,
          -8.922984438734423
         ]
        },
        {
         "line": {
          "color": "black",
          "width": 2
         },
         "mode": "lines",
         "type": "scatter3d",
         "x": [
          9.162098083707518,
          9.482673907285587
         ],
         "y": [
          6.066128146327891,
          6.063865380319389
         ],
         "z": [
          -4.979472521590816,
          -4.979451042539759
         ]
        },
        {
         "line": {
          "color": "black",
          "width": 2
         },
         "mode": "lines",
         "type": "scatter3d",
         "x": [
          9.162098083707518,
          9.133680769219962
         ],
         "y": [
          6.066128146327891,
          2.1245142276484503
         ],
         "z": [
          -4.979472521590816,
          3.9107713439755454
         ]
        },
        {
         "line": {
          "color": "black",
          "width": 2
         },
         "mode": "lines",
         "type": "scatter3d",
         "x": [
          9.09958399463823,
          9.420159818216298
         ],
         "y": [
          -2.827945923555345,
          -2.8302086895638467
         ],
         "z": [
          -8.922984438734423,
          -8.922962959683364
         ]
        },
        {
         "line": {
          "color": "black",
          "width": 2
         },
         "mode": "lines",
         "type": "scatter3d",
         "x": [
          9.09958399463823,
          9.071166680150675
         ],
         "y": [
          -2.827945923555345,
          -6.769559842234785
         ],
         "z": [
          -8.922984438734423,
          -0.032740573168060116
         ]
        },
        {
         "line": {
          "color": "black",
          "width": 2
         },
         "mode": "lines",
         "type": "scatter3d",
         "x": [
          9.482673907285587,
          9.420159818216298
         ],
         "y": [
          6.063865380319389,
          -2.8302086895638467
         ],
         "z": [
          -4.979451042539759,
          -8.922962959683364
         ]
        },
        {
         "line": {
          "color": "black",
          "width": 2
         },
         "mode": "lines",
         "type": "scatter3d",
         "x": [
          9.482673907285587,
          9.454256592798032
         ],
         "y": [
          6.063865380319389,
          2.1222514616399484
         ],
         "z": [
          -4.979451042539759,
          3.9107928230266022
         ]
        },
        {
         "line": {
          "color": "black",
          "width": 2
         },
         "mode": "lines",
         "type": "scatter3d",
         "x": [
          9.420159818216298,
          9.391742503728745
         ],
         "y": [
          -2.8302086895638467,
          -6.771822608243287
         ],
         "z": [
          -8.922962959683364,
          -0.032719094117003245
         ]
        },
        {
         "line": {
          "color": "black",
          "width": 2
         },
         "mode": "lines",
         "type": "scatter3d",
         "x": [
          9.133680769219962,
          9.071166680150675
         ],
         "y": [
          2.1245142276484503,
          -6.769559842234785
         ],
         "z": [
          3.9107713439755454,
          -0.032740573168060116
         ]
        },
        {
         "line": {
          "color": "black",
          "width": 2
         },
         "mode": "lines",
         "type": "scatter3d",
         "x": [
          9.133680769219962,
          9.454256592798032
         ],
         "y": [
          2.1245142276484503,
          2.1222514616399484
         ],
         "z": [
          3.9107713439755454,
          3.9107928230266022
         ]
        },
        {
         "line": {
          "color": "black",
          "width": 2
         },
         "mode": "lines",
         "type": "scatter3d",
         "x": [
          9.071166680150675,
          9.391742503728745
         ],
         "y": [
          -6.769559842234785,
          -6.771822608243287
         ],
         "z": [
          -0.032740573168060116,
          -0.032719094117003245
         ]
        },
        {
         "line": {
          "color": "black",
          "width": 2
         },
         "mode": "lines",
         "type": "scatter3d",
         "x": [
          9.454256592798032,
          9.391742503728745
         ],
         "y": [
          2.1222514616399484,
          -6.771822608243287
         ],
         "z": [
          3.9107928230266022,
          -0.032719094117003245
         ]
        },
        {
         "line": {
          "color": [
           0.1753829238095701,
           0.02832620995667212,
           0.17514324560391958
          ]
         },
         "mode": "lines",
         "type": "scatter3d",
         "x": [
          9.287533998,
          9.305806769,
          9.320039026,
          9.287533998
         ],
         "y": [
          -0.1716849127,
          0.3792956205,
          0.9034048198,
          -0.1716849127
         ],
         "z": [
          -2.042524459,
          -0.6873769707,
          -1.003829751,
          -2.042524459
         ]
        },
        {
         "line": {
          "color": [
           0.1753829238095701,
           0.02832620995667212,
           0.17514324560391958
          ]
         },
         "mode": "lines",
         "type": "scatter3d",
         "x": [
          9.287533998,
          9.320039026,
          9.287533998,
          9.287533998
         ],
         "y": [
          -0.1716849127,
          0.9034048198,
          -0.03942097276,
          -0.1716849127
         ],
         "z": [
          -2.042524459,
          -1.003829751,
          -2.12239389,
          -2.042524459
         ]
        },
        {
         "line": {
          "color": [
           0.1753829238095701,
           0.02832620995667212,
           0.17514324560391958
          ]
         },
         "mode": "lines",
         "type": "scatter3d",
         "x": [
          9.287533998,
          9.320039026,
          9.323245437,
          9.287533998
         ],
         "y": [
          -0.03942097276,
          0.9034048198,
          1.303797882,
          -0.03942097276
         ],
         "z": [
          -2.12239389,
          -1.003829751,
          -1.466763987,
          -2.12239389
         ]
        },
        {
         "line": {
          "color": [
           0.1753829238095701,
           0.02832620995667212,
           0.17514324560391958
          ]
         },
         "mode": "lines",
         "type": "scatter3d",
         "x": [
          9.287533998,
          9.323245437,
          9.287533998,
          9.287533998
         ],
         "y": [
          -0.03942097276,
          1.303797882,
          0.06168849784,
          -0.03942097276
         ],
         "z": [
          -2.12239389,
          -1.466763987,
          -2.239226037,
          -2.12239389
         ]
        },
        {
         "line": {
          "color": [
           0.1753829238095701,
           0.02832620995667212,
           0.17514324560391958
          ]
         },
         "mode": "lines",
         "type": "scatter3d",
         "x": [
          9.287533998,
          9.323245437,
          9.328516455,
          9.287533998
         ],
         "y": [
          0.06168849784,
          1.303797882,
          1.541495174,
          0.06168849784
         ],
         "z": [
          -2.239226037,
          -1.466763987,
          -2.030928357,
          -2.239226037
         ]
        },
        {
         "line": {
          "color": [
           0.1753829238095701,
           0.02832620995667212,
           0.17514324560391958
          ]
         },
         "mode": "lines",
         "type": "scatter3d",
         "x": [
          9.287533998,
          9.328516455,
          9.287533998,
          9.287533998
         ],
         "y": [
          0.06168849784,
          1.541495174,
          0.1217461997,
          0.06168849784
         ],
         "z": [
          -2.239226037,
          -2.030928357,
          -2.381584557,
          -2.239226037
         ]
        },
        {
         "line": {
          "color": [
           0.1753829238095701,
           0.02832620995667212,
           0.17514324560391958
          ]
         },
         "mode": "lines",
         "type": "scatter3d",
         "x": [
          9.287533998,
          9.328516455,
          9.313186953,
          9.287533998
         ],
         "y": [
          0.1217461997,
          1.541495174,
          1.593917404,
          0.1217461997
         ],
         "z": [
          -2.381584557,
          -2.030928357,
          -2.640914482,
          -2.381584557
         ]
        },
        {
         "line": {
          "color": [
           0.1753829238095701,
           0.02832620995667212,
           0.17514324560391958
          ]
         },
         "mode": "lines",
         "type": "scatter3d",
         "x": [
          9.287533998,
          9.313186953,
          9.287533998,
          9.287533998
         ],
         "y": [
          0.1217461997,
          1.593917404,
          0.1348732665,
          0.1217461997
         ],
         "z": [
          -2.381584557,
          -2.640914482,
          -2.535534405,
          -2.381584557
         ]
        },
        {
         "line": {
          "color": [
           0.1753829238095701,
           0.02832620995667212,
           0.17514324560391958
          ]
         },
         "mode": "lines",
         "type": "scatter3d",
         "x": [
          9.287533998,
          9.313186953,
          9.299958834,
          9.287533998
         ],
         "y": [
          0.1348732665,
          1.593917404,
          1.455245106,
          0.1348732665
         ],
         "z": [
          -2.535534405,
          -2.640914482,
          -3.237125674,
          -2.535534405
         ]
        },
        {
         "line": {
          "color": [
           0.1753829238095701,
           0.02832620995667212,
           0.17514324560391958
          ]
         },
         "mode": "lines",
         "type": "scatter3d",
         "x": [
          9.287533998,
          9.299958834,
          9.287533998,
          9.287533998
         ],
         "y": [
          0.1348732665,
          1.455245106,
          0.09978472946,
          0.1348732665
         ],
         "z": [
          -2.535534405,
          -3.237125674,
          -2.686005899,
          -2.535534405
         ]
        },
        {
         "line": {
          "color": [
           0.1753829238095701,
           0.02832620995667212,
           0.17514324560391958
          ]
         },
         "mode": "lines",
         "type": "scatter3d",
         "x": [
          9.287533998,
          9.299958834,
          9.298203651,
          9.287533998
         ],
         "y": [
          0.09978472946,
          1.455245106,
          1.138741417,
          0.09978472946
         ],
         "z": [
          -2.686005899,
          -3.237125674,
          -3.761292179,
          -2.686005899
         ]
        },
        {
         "line": {
          "color": [
           0.1753829238095701,
           0.02832620995667212,
           0.17514324560391958
          ]
         },
         "mode": "lines",
         "type": "scatter3d",
         "x": [
          9.287533998,
          9.298203651,
          9.287533998,
          9.287533998
         ],
         "y": [
          0.09978472946,
          1.138741417,
          0.0199152991,
          0.09978472946
         ],
         "z": [
          -2.686005899,
          -3.761292179,
          -2.818269838,
          -2.686005899
         ]
        },
        {
         "line": {
          "color": [
           0.1753829238095701,
           0.02832620995667212,
           0.17514324560391958
          ]
         },
         "mode": "lines",
         "type": "scatter3d",
         "x": [
          9.287533998,
          9.298203651,
          9.294596234,
          9.287533998
         ],
         "y": [
          0.0199152991,
          1.138741417,
          0.6757505062,
          0.0199152991
         ],
         "z": [
          -2.818269838,
          -3.761292179,
          -4.161989365,
          -2.818269838
         ]
        },
        {
         "line": {
          "color": [
           0.1753829238095701,
           0.02832620995667212,
           0.17514324560391958
          ]
         },
         "mode": "lines",
         "type": "scatter3d",
         "x": [
          9.287533998,
          9.294596234,
          9.287533998,
          9.287533998
         ],
         "y": [
          0.0199152991,
          0.6757505062,
          -0.09691684827,
          0.0199152991
         ],
         "z": [
          -2.818269838,
          -4.161989365,
          -2.919379309,
          -2.818269838
         ]
        },
        {
         "line": {
          "color": [
           0.1753829238095701,
           0.02832620995667212,
           0.17514324560391958
          ]
         },
         "mode": "lines",
         "type": "scatter3d",
         "x": [
          9.287533998,
          9.294596234,
          9.28652539,
          9.287533998
         ],
         "y": [
          -0.09691684827,
          0.6757505062,
          0.111585378,
          -0.09691684827
         ],
         "z": [
          -2.919379309,
          -4.161989365,
          -4.400012153,
          -2.919379309
         ]
        },
        {
         "line": {
          "color": [
           0.1753829238095701,
           0.02832620995667212,
           0.17514324560391958
          ]
         },
         "mode": "lines",
         "type": "scatter3d",
         "x": [
          9.287533998,
          9.28652539,
          9.287533998,
          9.287533998
         ],
         "y": [
          -0.09691684827,
          0.111585378,
          -0.239275368,
          -0.09691684827
         ],
         "z": [
          -2.919379309,
          -4.400012153,
          -2.979437011,
          -2.919379309
         ]
        },
        {
         "line": {
          "color": [
           0.1753829238095701,
           0.02832620995667212,
           0.17514324560391958
          ]
         },
         "mode": "lines",
         "type": "scatter3d",
         "x": [
          9.287533998,
          9.28652539,
          9.282458527,
          9.287533998
         ],
         "y": [
          -0.239275368,
          0.111585378,
          -0.4985160526,
          -0.239275368
         ],
         "z": [
          -2.979437011,
          -4.400012153,
          -4.452051305,
          -2.979437011
         ]
        },
        {
         "line": {
          "color": [
           0.1753829238095701,
           0.02832620995667212,
           0.17514324560391958
          ]
         },
         "mode": "lines",
         "type": "scatter3d",
         "x": [
          9.287533998,
          9.282458527,
          9.287533998,
          9.287533998
         ],
         "y": [
          -0.239275368,
          -0.4985160526,
          -0.3932252164,
          -0.239275368
         ],
         "z": [
          -2.979437011,
          -4.452051305,
          -2.992564078,
          -2.979437011
         ]
        },
        {
         "line": {
          "color": [
           0.1753829238095701,
           0.02832620995667212,
           0.17514324560391958
          ]
         },
         "mode": "lines",
         "type": "scatter3d",
         "x": [
          9.287533998,
          9.282458527,
          9.283481726,
          9.287533998
         ],
         "y": [
          -0.3932252164,
          -0.4985160526,
          -1.094838503,
          -0.3932252164
         ],
         "z": [
          -2.992564078,
          -4.452051305,
          -4.312994269,
          -2.992564078
         ]
        },
        {
         "line": {
          "color": [
           0.1753829238095701,
           0.02832620995667212,
           0.17514324560391958
          ]
         },
         "mode": "lines",
         "type": "scatter3d",
         "x": [
          9.287533998,
          9.283481726,
          9.287533998,
          9.287533998
         ],
         "y": [
          -0.3932252164,
          -1.094838503,
          -0.5436967097,
          -0.3932252164
         ],
         "z": [
          -2.992564078,
          -4.312994269,
          -2.957475541,
          -2.992564078
         ]
        },
        {
         "line": {
          "color": [
           0.1753829238095701,
           0.02832620995667212,
           0.17514324560391958
          ]
         },
         "mode": "lines",
         "type": "scatter3d",
         "x": [
          9.287533998,
          9.283481726,
          9.282392479,
          9.287533998
         ],
         "y": [
          -0.5436967097,
          -1.094838503,
          -1.619003927,
          -0.5436967097
         ],
         "z": [
          -2.957475541,
          -4.312994269,
          -3.99646461,
          -2.957475541
         ]
        },
        {
         "line": {
          "color": [
           0.1753829238095701,
           0.02832620995667212,
           0.17514324560391958
          ]
         },
         "mode": "lines",
         "type": "scatter3d",
         "x": [
          9.287533998,
          9.282392479,
          9.287533998,
          9.287533998
         ],
         "y": [
          -0.5436967097,
          -1.619003927,
          -0.6759606496,
          -0.5436967097
         ],
         "z": [
          -2.957475541,
          -3.99646461,
          -2.87760611,
          -2.957475541
         ]
        },
        {
         "line": {
          "color": [
           0.1753829238095701,
           0.02832620995667212,
           0.17514324560391958
          ]
         },
         "mode": "lines",
         "type": "scatter3d",
         "x": [
          9.287533998,
          9.282392479,
          9.281000261,
          9.287533998
         ],
         "y": [
          -0.6759606496,
          -1.619003927,
          -2.019697012,
          -0.6759606496
         ],
         "z": [
          -2.87760611,
          -3.99646461,
          -3.533453757,
          -2.87760611
         ]
        },
        {
         "line": {
          "color": [
           0.1753829238095701,
           0.02832620995667212,
           0.17514324560391958
          ]
         },
         "mode": "lines",
         "type": "scatter3d",
         "x": [
          9.287533998,
          9.281000261,
          9.287533998,
          9.287533998
         ],
         "y": [
          -0.6759606496,
          -2.019697012,
          -0.7770701202,
          -0.6759606496
         ],
         "z": [
          -2.87760611,
          -3.533453757,
          -2.760773963,
          -2.87760611
         ]
        },
        {
         "line": {
          "color": [
           0.1753829238095701,
           0.02832620995667212,
           0.17514324560391958
          ]
         },
         "mode": "lines",
         "type": "scatter3d",
         "x": [
          9.287533998,
          9.281000261,
          9.277817595,
          9.287533998
         ],
         "y": [
          -0.7770701202,
          -2.019697012,
          -2.257691203,
          -0.7770701202
         ],
         "z": [
          -2.760773963,
          -3.533453757,
          -2.969280898,
          -2.760773963
         ]
        },
        {
         "line": {
          "color": [
           0.1753829238095701,
           0.02832620995667212,
           0.17514324560391958
          ]
         },
         "mode": "lines",
         "type": "scatter3d",
         "x": [
          9.287533998,
          9.277817595,
          9.287533998,
          9.287533998
         ],
         "y": [
          -0.7770701202,
          -2.257691203,
          -0.837127822,
          -0.7770701202
         ],
         "z": [
          -2.760773963,
          -2.969280898,
          -2.618415443,
          -2.760773963
         ]
        },
        {
         "line": {
          "color": [
           0.1753829238095701,
           0.02832620995667212,
           0.17514324560391958
          ]
         },
         "mode": "lines",
         "type": "scatter3d",
         "x": [
          9.287533998,
          9.277817595,
          9.290601687,
          9.287533998
         ],
         "y": [
          -0.837127822,
          -2.257691203,
          -2.30955822,
          -0.837127822
         ],
         "z": [
          -2.618415443,
          -2.969280898,
          -2.359238813,
          -2.618415443
         ]
        },
        {
         "line": {
          "color": [
           0.1753829238095701,
           0.02832620995667212,
           0.17514324560391958
          ]
         },
         "mode": "lines",
         "type": "scatter3d",
         "x": [
          9.287533998,
          9.290601687,
          9.287533998,
          9.287533998
         ],
         "y": [
          -0.837127822,
          -2.30955822,
          -0.8502548888,
          -0.837127822
         ],
         "z": [
          -2.618415443,
          -2.359238813,
          -2.464465595,
          -2.618415443
         ]
        },
        {
         "line": {
          "color": [
           0.1753829238095701,
           0.02832620995667212,
           0.17514324560391958
          ]
         },
         "mode": "lines",
         "type": "scatter3d",
         "x": [
          9.287533998,
          9.290601687,
          9.302112188,
          9.287533998
         ],
         "y": [
          -0.8502548888,
          -2.30955822,
          -2.170323617,
          -0.8502548888
         ],
         "z": [
          -2.464465595,
          -2.359238813,
          -1.76301112,
          -2.464465595
         ]
        },
        {
         "line": {
          "color": [
           0.1753829238095701,
           0.02832620995667212,
           0.17514324560391958
          ]
         },
         "mode": "lines",
         "type": "scatter3d",
         "x": [
          9.287533998,
          9.302112188,
          9.287533998,
          9.287533998
         ],
         "y": [
          -0.8502548888,
          -2.170323617,
          -0.8151663518,
          -0.8502548888
         ],
         "z": [
          -2.464465595,
          -1.76301112,
          -2.313994101,
          -2.464465595
         ]
        },
        {
         "line": {
          "color": [
           0.1753829238095701,
           0.02832620995667212,
           0.17514324560391958
          ]
         },
         "mode": "lines",
         "type": "scatter3d",
         "x": [
          9.287533998,
          9.302112188,
          9.273374805,
          9.287533998
         ],
         "y": [
          -0.8151663518,
          -2.170323617,
          -1.853798891,
          -0.8151663518
         ],
         "z": [
          -2.313994101,
          -1.76301112,
          -1.239017433,
          -2.313994101
         ]
        },
        {
         "line": {
          "color": [
           0.1753829238095701,
           0.02832620995667212,
           0.17514324560391958
          ]
         },
         "mode": "lines",
         "type": "scatter3d",
         "x": [
          9.287533998,
          9.273374805,
          9.287533998,
          9.287533998
         ],
         "y": [
          -0.8151663518,
          -1.853798891,
          -0.7352969214,
          -0.8151663518
         ],
         "z": [
          -2.313994101,
          -1.239017433,
          -2.181730162,
          -2.313994101
         ]
        },
        {
         "line": {
          "color": [
           0.1753829238095701,
           0.02832620995667212,
           0.17514324560391958
          ]
         },
         "mode": "lines",
         "type": "scatter3d",
         "x": [
          9.287533998,
          9.273374805,
          9.239047448,
          9.287533998
         ],
         "y": [
          -0.7352969214,
          -1.853798891,
          -1.390780611,
          -0.7352969214
         ],
         "z": [
          -2.181730162,
          -1.239017433,
          -0.8387236435,
          -2.181730162
         ]
        },
        {
         "line": {
          "color": [
           0.1753829238095701,
           0.02832620995667212,
           0.17514324560391958
          ]
         },
         "mode": "lines",
         "type": "scatter3d",
         "x": [
          9.287533998,
          9.239047448,
          9.287533998,
          9.287533998
         ],
         "y": [
          -0.7352969214,
          -1.390780611,
          -0.618464774,
          -0.7352969214
         ],
         "z": [
          -2.181730162,
          -0.8387236435,
          -2.080620691,
          -2.181730162
         ]
        },
        {
         "line": {
          "color": [
           0.1753829238095701,
           0.02832620995667212,
           0.17514324560391958
          ]
         },
         "mode": "lines",
         "type": "scatter3d",
         "x": [
          9.287533998,
          9.239047448,
          9.234956884,
          9.287533998
         ],
         "y": [
          -0.618464774,
          -1.390780611,
          -0.8267085275,
          -0.618464774
         ],
         "z": [
          -2.080620691,
          -0.8387236435,
          -0.6008619855,
          -2.080620691
         ]
        },
        {
         "line": {
          "color": [
           0.1753829238095701,
           0.02832620995667212,
           0.17514324560391958
          ]
         },
         "mode": "lines",
         "type": "scatter3d",
         "x": [
          9.287533998,
          9.234956884,
          9.287533998,
          9.287533998
         ],
         "y": [
          -0.618464774,
          -0.8267085275,
          -0.4761062543,
          -0.618464774
         ],
         "z": [
          -2.080620691,
          -0.6008619855,
          -2.020562989,
          -2.080620691
         ]
        },
        {
         "line": {
          "color": [
           0.1753829238095701,
           0.02832620995667212,
           0.17514324560391958
          ]
         },
         "mode": "lines",
         "type": "scatter3d",
         "x": [
          9.287533998,
          9.234956884,
          9.263444776,
          9.287533998
         ],
         "y": [
          -0.4761062543,
          -0.8267085275,
          -0.216843646,
          -0.4761062543
         ],
         "z": [
          -2.020562989,
          -0.6008619855,
          -0.5485213082,
          -2.020562989
         ]
        },
        {
         "line": {
          "color": [
           0.1753829238095701,
           0.02832620995667212,
           0.17514324560391958
          ]
         },
         "mode": "lines",
         "type": "scatter3d",
         "x": [
          9.287533998,
          9.263444776,
          9.287533998,
          9.287533998
         ],
         "y": [
          -0.4761062543,
          -0.216843646,
          -0.3221564059,
          -0.4761062543
         ],
         "z": [
          -2.020562989,
          -0.5485213082,
          -2.007435922,
          -2.020562989
         ]
        },
        {
         "line": {
          "color": [
           0.1753829238095701,
           0.02832620995667212,
           0.17514324560391958
          ]
         },
         "mode": "lines",
         "type": "scatter3d",
         "x": [
          9.287533998,
          9.263444776,
          9.305806769,
          9.287533998
         ],
         "y": [
          -0.3221564059,
          -0.216843646,
          0.3792956205,
          -0.3221564059
         ],
         "z": [
          -2.007435922,
          -0.5485213082,
          -0.6873769707,
          -2.007435922
         ]
        },
        {
         "line": {
          "color": [
           0.1753829238095701,
           0.02832620995667212,
           0.17514324560391958
          ]
         },
         "mode": "lines",
         "type": "scatter3d",
         "x": [
          9.287533998,
          9.305806769,
          9.287533998,
          9.287533998
         ],
         "y": [
          -0.3221564059,
          0.3792956205,
          -0.1716849127,
          -0.3221564059
         ],
         "z": [
          -2.007435922,
          -0.6873769707,
          -2.042524459,
          -2.007435922
         ]
        },
        {
         "line": {
          "color": [
           0.1753829238095701,
           0.02832620995667212,
           0.17514324560391958
          ]
         },
         "mode": "lines",
         "type": "scatter3d",
         "x": [
          9.305806769,
          9.250360091,
          9.21466313,
          9.305806769
         ],
         "y": [
          0.3792956205,
          0.9299951124,
          1.845335315,
          0.3792956205
         ],
         "z": [
          -0.6873769707,
          0.6645607923,
          0.1115787796,
          -0.6873769707
         ]
        },
        {
         "line": {
          "color": [
           0.1753829238095701,
           0.02832620995667212,
           0.17514324560391958
          ]
         },
         "mode": "lines",
         "type": "scatter3d",
         "x": [
          9.305806769,
          9.21466313,
          9.320039026,
          9.305806769
         ],
         "y": [
          0.3792956205,
          1.845335315,
          0.9034048198,
          0.3792956205
         ],
         "z": [
          -0.6873769707,
          0.1115787796,
          -1.003829751,
          -0.6873769707
         ]
        },
        {
         "line": {
          "color": [
           0.1753829238095701,
           0.02832620995667212,
           0.17514324560391958
          ]
         },
         "mode": "lines",
         "type": "scatter3d",
         "x": [
          9.320039026,
          9.21466313,
          9.206051792,
          9.320039026
         ],
         "y": [
          0.9034048198,
          1.845335315,
          2.542830274,
          0.9034048198
         ],
         "z": [
          -1.003829751,
          0.1115787796,
          -0.6969988122,
          -1.003829751
         ]
        },
        {
         "line": {
          "color": [
           0.1753829238095701,
           0.02832620995667212,
           0.17514324560391958
          ]
         },
         "mode": "lines",
         "type": "scatter3d",
         "x": [
          9.320039026,
          9.206051792,
          9.323245437,
          9.320039026
         ],
         "y": [
          0.9034048198,
          2.542830274,
          1.303797882,
          0.9034048198
         ],
         "z": [
          -1.003829751,
          -0.6969988122,
          -1.466763987,
          -1.003829751
         ]
        },
        {
         "line": {
          "color": [
           0.1753829238095701,
           0.02832620995667212,
           0.17514324560391958
          ]
         },
         "mode": "lines",
         "type": "scatter3d",
         "x": [
          9.323245437,
          9.206051792,
          9.204654066,
          9.323245437
         ],
         "y": [
          1.303797882,
          2.542830274,
          2.957321747,
          1.303797882
         ],
         "z": [
          -1.466763987,
          -0.6969988122,
          -1.680181124,
          -1.466763987
         ]
        },
        {
         "line": {
          "color": [
           0.1753829238095701,
           0.02832620995667212,
           0.17514324560391958
          ]
         },
         "mode": "lines",
         "type": "scatter3d",
         "x": [
          9.323245437,
          9.204654066,
          9.328516455,
          9.323245437
         ],
         "y": [
          1.303797882,
          2.957321747,
          1.541495174,
          1.303797882
         ],
         "z": [
          -1.466763987,
          -1.680181124,
          -2.030928357,
          -1.466763987
         ]
        },
        {
         "line": {
          "color": [
           0.1753829238095701,
           0.02832620995667212,
           0.17514324560391958
          ]
         },
         "mode": "lines",
         "type": "scatter3d",
         "x": [
          9.328516455,
          9.204654066,
          9.224986672,
          9.328516455
         ],
         "y": [
          1.541495174,
          2.957321747,
          3.050250519,
          1.541495174
         ],
         "z": [
          -2.030928357,
          -1.680181124,
          -2.743810283,
          -2.030928357
         ]
        },
        {
         "line": {
          "color": [
           0.1753829238095701,
           0.02832620995667212,
           0.17514324560391958
          ]
         },
         "mode": "lines",
         "type": "scatter3d",
         "x": [
          9.328516455,
          9.224986672,
          9.313186953,
          9.328516455
         ],
         "y": [
          1.541495174,
          3.050250519,
          1.593917404,
          1.541495174
         ],
         "z": [
          -2.030928357,
          -2.743810283,
          -2.640914482,
          -2.030928357
         ]
        },
        {
         "line": {
          "color": [
           0.1753829238095701,
           0.02832620995667212,
           0.17514324560391958
          ]
         },
         "mode": "lines",
         "type": "scatter3d",
         "x": [
          9.313186953,
          9.224986672,
          9.259143063,
          9.313186953
         ],
         "y": [
          1.593917404,
          3.050250519,
          2.810082456,
          1.593917404
         ],
         "z": [
          -2.640914482,
          -2.743810283,
          -3.786919773,
          -2.640914482
         ]
        },
        {
         "line": {
          "color": [
           0.1753829238095701,
           0.02832620995667212,
           0.17514324560391958
          ]
         },
         "mode": "lines",
         "type": "scatter3d",
         "x": [
          9.313186953,
          9.259143063,
          9.299958834,
          9.313186953
         ],
         "y": [
          1.593917404,
          2.810082456,
          1.455245106,
          1.593917404
         ],
         "z": [
          -2.640914482,
          -3.786919773,
          -3.237125674,
          -2.640914482
         ]
        },
        {
         "line": {
          "color": [
           0.1753829238095701,
           0.02832620995667212,
           0.17514324560391958
          ]
         },
         "mode": "lines",
         "type": "scatter3d",
         "x": [
          9.299958834,
          9.259143063,
          9.299379905,
          9.299958834
         ],
         "y": [
          1.455245106,
          2.810082456,
          2.257054838,
          1.455245106
         ],
         "z": [
          -3.237125674,
          -3.786919773,
          -4.703693744,
          -3.237125674
         ]
        },
        {
         "line": {
          "color": [
           0.1753829238095701,
           0.02832620995667212,
           0.17514324560391958
          ]
         },
         "mode": "lines",
         "type": "scatter3d",
         "x": [
          9.299958834,
          9.299379905,
          9.298203651,
          9.299958834
         ],
         "y": [
          1.455245106,
          2.257054838,
          1.138741417,
          1.455245106
         ],
         "z": [
          -3.237125674,
          -4.703693744,
          -3.761292179,
          -3.237125674
         ]
        },
        {
         "line": {
          "color": [
           0.1753829238095701,
           0.02832620995667212,
           0.17514324560391958
          ]
         },
         "mode": "lines",
         "type": "scatter3d",
         "x": [
          9.298203651,
          9.299379905,
          9.338014887,
          9.298203651
         ],
         "y": [
          1.138741417,
          2.257054838,
          1.447323864,
          1.138741417
         ],
         "z": [
          -3.761292179,
          -4.703693744,
          -5.403595017,
          -3.761292179
         ]
        },
        {
         "line": {
          "color": [
           0.1753829238095701,
           0.02832620995667212,
           0.17514324560391958
          ]
         },
         "mode": "lines",
         "type": "scatter3d",
         "x": [
          9.298203651,
          9.338014887,
          9.294596234,
          9.298203651
         ],
         "y": [
          1.138741417,
          1.447323864,
          0.6757505062,
          1.138741417
         ],
         "z": [
          -3.761292179,
          -5.403595017,
          -4.161989365,
          -3.761292179
         ]
        },
        {
         "line": {
          "color": [
           0.1753829238095701,
           0.02832620995667212,
           0.17514324560391958
          ]
         },
         "mode": "lines",
         "type": "scatter3d",
         "x": [
          9.294596234,
          9.338014887,
          9.330785969,
          9.294596234
         ],
         "y": [
          0.6757505062,
          1.447323864,
          0.4617306332,
          0.6757505062
         ],
         "z": [
          -4.161989365,
          -5.403595017,
          -5.820008233,
          -4.161989365
         ]
        },
        {
         "line": {
          "color": [
           0.1753829238095701,
           0.02832620995667212,
           0.17514324560391958
          ]
         },
         "mode": "lines",
         "type": "scatter3d",
         "x": [
          9.294596234,
          9.330785969,
          9.28652539,
          9.294596234
         ],
         "y": [
          0.6757505062,
          0.4617306332,
          0.111585378,
          0.6757505062
         ],
         "z": [
          -4.161989365,
          -5.820008233,
          -4.400012153,
          -4.161989365
         ]
        },
        {
         "line": {
          "color": [
           0.1753829238095701,
           0.02832620995667212,
           0.17514324560391958
          ]
         },
         "mode": "lines",
         "type": "scatter3d",
         "x": [
          9.28652539,
          9.330785969,
          9.310426744,
          9.28652539
         ],
         "y": [
          0.111585378,
          0.4617306332,
          -0.603857688,
          0.111585378
         ],
         "z": [
          -4.400012153,
          -5.820008233,
          -5.911328283,
          -4.400012153
         ]
        },
        {
         "line": {
          "color": [
           0.1753829238095701,
           0.02832620995667212,
           0.17514324560391958
          ]
         },
         "mode": "lines",
         "type": "scatter3d",
         "x": [
          9.28652539,
          9.310426744,
          9.282458527,
          9.28652539
         ],
         "y": [
          0.111585378,
          -0.603857688,
          -0.4985160526,
          0.111585378
         ],
         "z": [
          -4.400012153,
          -5.911328283,
          -4.452051305,
          -4.400012153
         ]
        },
        {
         "line": {
          "color": [
           0.1753829238095701,
           0.02832620995667212,
           0.17514324560391958
          ]
         },
         "mode": "lines",
         "type": "scatter3d",
         "x": [
          9.282458527,
          9.310426744,
          9.301611535,
          9.282458527
         ],
         "y": [
          -0.4985160526,
          -0.603857688,
          -1.645928729,
          -0.4985160526
         ],
         "z": [
          -4.452051305,
          -5.911328283,
          -5.668365682,
          -4.452051305
         ]
        },
        {
         "line": {
          "color": [
           0.1753829238095701,
           0.02832620995667212,
           0.17514324560391958
          ]
         },
         "mode": "lines",
         "type": "scatter3d",
         "x": [
          9.282458527,
          9.301611535,
          9.283481726,
          9.282458527
         ],
         "y": [
          -0.4985160526,
          -1.645928729,
          -1.094838503,
          -0.4985160526
         ],
         "z": [
          -4.452051305,
          -5.668365682,
          -4.312994269,
          -4.452051305
         ]
        },
        {
         "line": {
          "color": [
           0.1753829238095701,
           0.02832620995667212,
           0.17514324560391958
          ]
         },
         "mode": "lines",
         "type": "scatter3d",
         "x": [
          9.283481726,
          9.301611535,
          9.295561508,
          9.283481726
         ],
         "y": [
          -1.094838503,
          -1.645928729,
          -2.561991353,
          -1.094838503
         ],
         "z": [
          -4.312994269,
          -5.668365682,
          -5.115213259,
          -4.312994269
         ]
        },
        {
         "line": {
          "color": [
           0.1753829238095701,
           0.02832620995667212,
           0.17514324560391958
          ]
         },
         "mode": "lines",
         "type": "scatter3d",
         "x": [
          9.283481726,
          9.295561508,
          9.282392479,
          9.283481726
         ],
         "y": [
          -1.094838503,
          -2.561991353,
          -1.619003927,
          -1.094838503
         ],
         "z": [
          -4.312994269,
          -5.115213259,
          -3.99646461,
          -4.312994269
         ]
        },
        {
         "line": {
          "color": [
           0.1753829238095701,
           0.02832620995667212,
           0.17514324560391958
          ]
         },
         "mode": "lines",
         "type": "scatter3d",
         "x": [
          9.282392479,
          9.295561508,
          9.308582016,
          9.282392479
         ],
         "y": [
          -1.619003927,
          -2.561991353,
          -3.262080718,
          -1.619003927
         ],
         "z": [
          -3.99646461,
          -5.115213259,
          -4.305856231,
          -3.99646461
         ]
        },
        {
         "line": {
          "color": [
           0.1753829238095701,
           0.02832620995667212,
           0.17514324560391958
          ]
         },
         "mode": "lines",
         "type": "scatter3d",
         "x": [
          9.282392479,
          9.308582016,
          9.281000261,
          9.282392479
         ],
         "y": [
          -1.619003927,
          -3.262080718,
          -2.019697012,
          -1.619003927
         ],
         "z": [
          -3.99646461,
          -4.305856231,
          -3.533453757,
          -3.99646461
         ]
        },
        {
         "line": {
          "color": [
           0.1753829238095701,
           0.02832620995667212,
           0.17514324560391958
          ]
         },
         "mode": "lines",
         "type": "scatter3d",
         "x": [
          9.281000261,
          9.308582016,
          9.298667448,
          9.281000261
         ],
         "y": [
          -2.019697012,
          -3.262080718,
          -3.677799728,
          -2.019697012
         ],
         "z": [
          -3.533453757,
          -4.305856231,
          -3.319328415,
          -3.533453757
         ]
        },
        {
         "line": {
          "color": [
           0.1753829238095701,
           0.02832620995667212,
           0.17514324560391958
          ]
         },
         "mode": "lines",
         "type": "scatter3d",
         "x": [
          9.281000261,
          9.298667448,
          9.277817595,
          9.281000261
         ],
         "y": [
          -2.019697012,
          -3.677799728,
          -2.257691203,
          -2.019697012
         ],
         "z": [
          -3.533453757,
          -3.319328415,
          -2.969280898,
          -3.533453757
         ]
        },
        {
         "line": {
          "color": [
           0.1753829238095701,
           0.02832620995667212,
           0.17514324560391958
          ]
         },
         "mode": "lines",
         "type": "scatter3d",
         "x": [
          9.277817595,
          9.298667448,
          9.259098677,
          9.277817595
         ],
         "y": [
          -2.257691203,
          -3.677799728,
          -3.76805495,
          -2.257691203
         ],
         "z": [
          -2.969280898,
          -3.319328415,
          -2.25340053,
          -2.969280898
         ]
        },
        {
         "line": {
          "color": [
           0.1753829238095701,
           0.02832620995667212,
           0.17514324560391958
          ]
         },
         "mode": "lines",
         "type": "scatter3d",
         "x": [
          9.277817595,
          9.259098677,
          9.290601687,
          9.277817595
         ],
         "y": [
          -2.257691203,
          -3.76805495,
          -2.30955822,
          -2.257691203
         ],
         "z": [
          -2.969280898,
          -2.25340053,
          -2.359238813,
          -2.969280898
         ]
        },
        {
         "line": {
          "color": [
           0.1753829238095701,
           0.02832620995667212,
           0.17514324560391958
          ]
         },
         "mode": "lines",
         "type": "scatter3d",
         "x": [
          9.290601687,
          9.259098677,
          9.253465639,
          9.290601687
         ],
         "y": [
          -2.30955822,
          -3.76805495,
          -3.523971795,
          -2.30955822
         ],
         "z": [
          -2.359238813,
          -2.25340053,
          -1.211853019,
          -2.359238813
         ]
        },
        {
         "line": {
          "color": [
           0.1753829238095701,
           0.02832620995667212,
           0.17514324560391958
          ]
         },
         "mode": "lines",
         "type": "scatter3d",
         "x": [
          9.290601687,
          9.253465639,
          9.302112188,
          9.290601687
         ],
         "y": [
          -2.30955822,
          -3.523971795,
          -2.170323617,
          -2.30955822
         ],
         "z": [
          -2.359238813,
          -1.211853019,
          -1.76301112,
          -2.359238813
         ]
        },
        {
         "line": {
          "color": [
           0.1753829238095701,
           0.02832620995667212,
           0.17514324560391958
          ]
         },
         "mode": "lines",
         "type": "scatter3d",
         "x": [
          9.302112188,
          9.253465639,
          9.302504457,
          9.302112188
         ],
         "y": [
          -2.170323617,
          -3.523971795,
          -2.96864238,
          -2.170323617
         ],
         "z": [
          -1.76301112,
          -1.211853019,
          -0.2960998826,
          -1.76301112
         ]
        },
        {
         "line": {
          "color": [
           0.1753829238095701,
           0.02832620995667212,
           0.17514324560391958
          ]
         },
         "mode": "lines",
         "type": "scatter3d",
         "x": [
          9.302112188,
          9.302504457,
          9.273374805,
          9.302112188
         ],
         "y": [
          -2.170323617,
          -2.96864238,
          -1.853798891,
          -2.170323617
         ],
         "z": [
          -1.76301112,
          -0.2960998826,
          -1.239017433,
          -1.76301112
         ]
        },
        {
         "line": {
          "color": [
           0.1753829238095701,
           0.02832620995667212,
           0.17514324560391958
          ]
         },
         "mode": "lines",
         "type": "scatter3d",
         "x": [
          9.273374805,
          9.302504457,
          9.367692068,
          9.273374805
         ],
         "y": [
          -1.853798891,
          -2.96864238,
          -2.158625344,
          -1.853798891
         ],
         "z": [
          -1.239017433,
          -0.2960998826,
          0.399876557,
          -1.239017433
         ]
        },
        {
         "line": {
          "color": [
           0.1753829238095701,
           0.02832620995667212,
           0.17514324560391958
          ]
         },
         "mode": "lines",
         "type": "scatter3d",
         "x": [
          9.273374805,
          9.367692068,
          9.239047448,
          9.273374805
         ],
         "y": [
          -1.853798891,
          -2.158625344,
          -1.390780611,
          -1.853798891
         ],
         "z": [
          -1.239017433,
          0.399876557,
          -0.8387236435,
          -1.239017433
         ]
        },
        {
         "line": {
          "color": [
           0.1753829238095701,
           0.02832620995667212,
           0.17514324560391958
          ]
         },
         "mode": "lines",
         "type": "scatter3d",
         "x": [
          9.239047448,
          9.367692068,
          9.384984471,
          9.239047448
         ],
         "y": [
          -1.390780611,
          -2.158625344,
          -1.177847964,
          -1.390780611
         ],
         "z": [
          -0.8387236435,
          0.399876557,
          0.8125142533,
          -0.8387236435
         ]
        },
        {
         "line": {
          "color": [
           0.1753829238095701,
           0.02832620995667212,
           0.17514324560391958
          ]
         },
         "mode": "lines",
         "type": "scatter3d",
         "x": [
          9.239047448,
          9.384984471,
          9.234956884,
          9.239047448
         ],
         "y": [
          -1.390780611,
          -1.177847964,
          -0.8267085275,
          -1.390780611
         ],
         "z": [
          -0.8387236435,
          0.8125142533,
          -0.6008619855,
          -0.8387236435
         ]
        },
        {
         "line": {
          "color": [
           0.1753829238095701,
           0.02832620995667212,
           0.17514324560391958
          ]
         },
         "mode": "lines",
         "type": "scatter3d",
         "x": [
          9.234956884,
          9.384984471,
          9.326057033,
          9.234956884
         ],
         "y": [
          -0.8267085275,
          -1.177847964,
          -0.1145108376,
          -0.8267085275
         ],
         "z": [
          -0.6008619855,
          0.8125142533,
          0.9058052001,
          -0.6008619855
         ]
        },
        {
         "line": {
          "color": [
           0.1753829238095701,
           0.02832620995667212,
           0.17514324560391958
          ]
         },
         "mode": "lines",
         "type": "scatter3d",
         "x": [
          9.234956884,
          9.326057033,
          9.263444776,
          9.234956884
         ],
         "y": [
          -0.8267085275,
          -0.1145108376,
          -0.216843646,
          -0.8267085275
         ],
         "z": [
          -0.6008619855,
          0.9058052001,
          -0.5485213082,
          -0.6008619855
         ]
        },
        {
         "line": {
          "color": [
           0.1753829238095701,
           0.02832620995667212,
           0.17514324560391958
          ]
         },
         "mode": "lines",
         "type": "scatter3d",
         "x": [
          9.263444776,
          9.326057033,
          9.250360091,
          9.263444776
         ],
         "y": [
          -0.216843646,
          -0.1145108376,
          0.9299951124,
          -0.216843646
         ],
         "z": [
          -0.5485213082,
          0.9058052001,
          0.6645607923,
          -0.5485213082
         ]
        },
        {
         "line": {
          "color": [
           0.1753829238095701,
           0.02832620995667212,
           0.17514324560391958
          ]
         },
         "mode": "lines",
         "type": "scatter3d",
         "x": [
          9.263444776,
          9.250360091,
          9.305806769,
          9.263444776
         ],
         "y": [
          -0.216843646,
          0.9299951124,
          0.3792956205,
          -0.216843646
         ],
         "z": [
          -0.5485213082,
          0.6645607923,
          -0.6873769707,
          -0.5485213082
         ]
        },
        {
         "line": {
          "color": [
           0.1753829238095701,
           0.02832620995667212,
           0.17514324560391958
          ]
         },
         "mode": "lines",
         "type": "scatter3d",
         "x": [
          9.250360091,
          9.355381258,
          9.428949262,
          9.250360091
         ],
         "y": [
          0.9299951124,
          1.479151702,
          2.782733428,
          0.9299951124
         ],
         "z": [
          0.6645607923,
          2.009275551,
          1.215960809,
          0.6645607923
         ]
        },
        {
         "line": {
          "color": [
           0.1753829238095701,
           0.02832620995667212,
           0.17514324560391958
          ]
         },
         "mode": "lines",
         "type": "scatter3d",
         "x": [
          9.250360091,
          9.428949262,
          9.21466313,
          9.250360091
         ],
         "y": [
          0.9299951124,
          2.782733428,
          1.845335315,
          0.9299951124
         ],
         "z": [
          0.6645607923,
          1.215960809,
          0.1115787796,
          0.6645607923
         ]
        },
        {
         "line": {
          "color": [
           0.1753829238095701,
           0.02832620995667212,
           0.17514324560391958
          ]
         },
         "mode": "lines",
         "type": "scatter3d",
         "x": [
          9.21466313,
          9.428949262,
          9.436176341,
          9.21466313
         ],
         "y": [
          1.845335315,
          2.782733428,
          3.772145269,
          1.845335315
         ],
         "z": [
          0.1115787796,
          1.215960809,
          0.06460707931,
          0.1115787796
         ]
        },
        {
         "line": {
          "color": [
           0.1753829238095701,
           0.02832620995667212,
           0.17514324560391958
          ]
         },
         "mode": "lines",
         "type": "scatter3d",
         "x": [
          9.21466313,
          9.436176341,
          9.206051792,
          9.21466313
         ],
         "y": [
          1.845335315,
          3.772145269,
          2.542830274,
          1.845335315
         ],
         "z": [
          0.1115787796,
          0.06460707931,
          -0.6969988122,
          0.1115787796
         ]
        },
        {
         "line": {
          "color": [
           0.1753829238095701,
           0.02832620995667212,
           0.17514324560391958
          ]
         },
         "mode": "lines",
         "type": "scatter3d",
         "x": [
          9.206051792,
          9.436176341,
          9.399273492,
          9.206051792
         ],
         "y": [
          2.542830274,
          3.772145269,
          4.366042074,
          2.542830274
         ],
         "z": [
          -0.6969988122,
          0.06460707931,
          -1.330438946,
          -0.6969988122
         ]
        },
        {
         "line": {
          "color": [
           0.1753829238095701,
           0.02832620995667212,
           0.17514324560391958
          ]
         },
         "mode": "lines",
         "type": "scatter3d",
         "x": [
          9.206051792,
          9.399273492,
          9.204654066,
          9.206051792
         ],
         "y": [
          2.542830274,
          4.366042074,
          2.957321747,
          2.542830274
         ],
         "z": [
          -0.6969988122,
          -1.330438946,
          -1.680181124,
          -0.6969988122
         ]
        },
        {
         "line": {
          "color": [
           0.1753829238095701,
           0.02832620995667212,
           0.17514324560391958
          ]
         },
         "mode": "lines",
         "type": "scatter3d",
         "x": [
          9.204654066,
          9.399273492,
          9.370623984,
          9.204654066
         ],
         "y": [
          2.957321747,
          4.366042074,
          4.503159719,
          2.957321747
         ],
         "z": [
          -1.680181124,
          -1.330438946,
          -2.842329846,
          -1.680181124
         ]
        },
        {
         "line": {
          "color": [
           0.1753829238095701,
           0.02832620995667212,
           0.17514324560391958
          ]
         },
         "mode": "lines",
         "type": "scatter3d",
         "x": [
          9.204654066,
          9.370623984,
          9.224986672,
          9.204654066
         ],
         "y": [
          2.957321747,
          4.503159719,
          3.050250519,
          2.957321747
         ],
         "z": [
          -1.680181124,
          -2.842329846,
          -2.743810283,
          -1.680181124
         ]
        },
        {
         "line": {
          "color": [
           0.1753829238095701,
           0.02832620995667212,
           0.17514324560391958
          ]
         },
         "mode": "lines",
         "type": "scatter3d",
         "x": [
          9.224986672,
          9.370623984,
          9.342544964,
          9.224986672
         ],
         "y": [
          3.050250519,
          4.503159719,
          4.163380267,
          3.050250519
         ],
         "z": [
          -2.743810283,
          -2.842329846,
          -4.332520222,
          -2.743810283
         ]
        },
        {
         "line": {
          "color": [
           0.1753829238095701,
           0.02832620995667212,
           0.17514324560391958
          ]
         },
         "mode": "lines",
         "type": "scatter3d",
         "x": [
          9.224986672,
          9.342544964,
          9.259143063,
          9.224986672
         ],
         "y": [
          3.050250519,
          4.163380267,
          2.810082456,
          3.050250519
         ],
         "z": [
          -2.743810283,
          -4.332520222,
          -3.786919773,
          -2.743810283
         ]
        },
        {
         "line": {
          "color": [
           0.1753829238095701,
           0.02832620995667212,
           0.17514324560391958
          ]
         },
         "mode": "lines",
         "type": "scatter3d",
         "x": [
          9.259143063,
          9.342544964,
          9.282411416,
          9.259143063
         ],
         "y": [
          2.810082456,
          4.163380267,
          3.373552257,
          2.810082456
         ],
         "z": [
          -3.786919773,
          -4.332520222,
          -5.644483313,
          -3.786919773
         ]
        },
        {
         "line": {
          "color": [
           0.1753829238095701,
           0.02832620995667212,
           0.17514324560391958
          ]
         },
         "mode": "lines",
         "type": "scatter3d",
         "x": [
          9.259143063,
          9.282411416,
          9.299379905,
          9.259143063
         ],
         "y": [
          2.810082456,
          3.373552257,
          2.257054838,
          2.810082456
         ],
         "z": [
          -3.786919773,
          -5.644483313,
          -4.703693744,
          -3.786919773
         ]
        },
        {
         "line": {
          "color": [
           0.1753829238095701,
           0.02832620995667212,
           0.17514324560391958
          ]
         },
         "mode": "lines",
         "type": "scatter3d",
         "x": [
          9.299379905,
          9.282411416,
          9.238560269,
          9.299379905
         ],
         "y": [
          2.257054838,
          3.373552257,
          2.216719271,
          2.257054838
         ],
         "z": [
          -4.703693744,
          -5.644483313,
          -6.643410436,
          -4.703693744
         ]
        },
        {
         "line": {
          "color": [
           0.1753829238095701,
           0.02832620995667212,
           0.17514324560391958
          ]
         },
         "mode": "lines",
         "type": "scatter3d",
         "x": [
          9.299379905,
          9.238560269,
          9.338014887,
          9.299379905
         ],
         "y": [
          2.257054838,
          2.216719271,
          1.447323864,
          2.257054838
         ],
         "z": [
          -4.703693744,
          -6.643410436,
          -5.403595017,
          -4.703693744
         ]
        },
        {
         "line": {
          "color": [
           0.1753829238095701,
           0.02832620995667212,
           0.17514324560391958
          ]
         },
         "mode": "lines",
         "type": "scatter3d",
         "x": [
          9.338014887,
          9.238560269,
          9.23181969,
          9.338014887
         ],
         "y": [
          1.447323864,
          2.216719271,
          0.8123602372,
          1.447323864
         ],
         "z": [
          -5.403595017,
          -6.643410436,
          -7.237457132,
          -5.403595017
         ]
        },
        {
         "line": {
          "color": [
           0.1753829238095701,
           0.02832620995667212,
           0.17514324560391958
          ]
         },
         "mode": "lines",
         "type": "scatter3d",
         "x": [
          9.338014887,
          9.23181969,
          9.330785969,
          9.338014887
         ],
         "y": [
          1.447323864,
          0.8123602372,
          0.4617306332,
          1.447323864
         ],
         "z": [
          -5.403595017,
          -7.237457132,
          -5.820008233,
          -5.403595017
         ]
        },
        {
         "line": {
          "color": [
           0.1753829238095701,
           0.02832620995667212,
           0.17514324560391958
          ]
         },
         "mode": "lines",
         "type": "scatter3d",
         "x": [
          9.330785969,
          9.23181969,
          9.244437654,
          9.330785969
         ],
         "y": [
          0.4617306332,
          0.8123602372,
          -0.7079019813,
          0.4617306332
         ],
         "z": [
          -5.820008233,
          -7.237457132,
          -7.369149158,
          -5.820008233
         ]
        },
        {
         "line": {
          "color": [
           0.1753829238095701,
           0.02832620995667212,
           0.17514324560391958
          ]
         },
         "mode": "lines",
         "type": "scatter3d",
         "x": [
          9.330785969,
          9.244437654,
          9.310426744,
          9.330785969
         ],
         "y": [
          0.4617306332,
          -0.7079019813,
          -0.603857688,
          0.4617306332
         ],
         "z": [
          -5.820008233,
          -7.369149158,
          -5.911328283,
          -5.820008233
         ]
        },
        {
         "line": {
          "color": [
           0.1753829238095701,
           0.02832620995667212,
           0.17514324560391958
          ]
         },
         "mode": "lines",
         "type": "scatter3d",
         "x": [
          9.310426744,
          9.244437654,
          9.255888005,
          9.310426744
         ],
         "y": [
          -0.603857688,
          -0.7079019813,
          -2.196471068,
          -0.603857688
         ],
         "z": [
          -5.911328283,
          -7.369149158,
          -7.023335188,
          -5.911328283
         ]
        },
        {
         "line": {
          "color": [
           0.1753829238095701,
           0.02832620995667212,
           0.17514324560391958
          ]
         },
         "mode": "lines",
         "type": "scatter3d",
         "x": [
          9.310426744,
          9.255888005,
          9.301611535,
          9.310426744
         ],
         "y": [
          -0.603857688,
          -2.196471068,
          -1.645928729,
          -0.603857688
         ],
         "z": [
          -5.911328283,
          -7.023335188,
          -5.668365682,
          -5.911328283
         ]
        },
        {
         "line": {
          "color": [
           0.1753829238095701,
           0.02832620995667212,
           0.17514324560391958
          ]
         },
         "mode": "lines",
         "type": "scatter3d",
         "x": [
          9.301611535,
          9.255888005,
          9.247128238,
          9.301611535
         ],
         "y": [
          -1.645928729,
          -2.196471068,
          -3.504476117,
          -1.645928729
         ],
         "z": [
          -5.668365682,
          -7.023335188,
          -6.232960697,
          -5.668365682
         ]
        },
        {
         "line": {
          "color": [
           0.1753829238095701,
           0.02832620995667212,
           0.17514324560391958
          ]
         },
         "mode": "lines",
         "type": "scatter3d",
         "x": [
          9.301611535,
          9.247128238,
          9.295561508,
          9.301611535
         ],
         "y": [
          -1.645928729,
          -3.504476117,
          -2.561991353,
          -1.645928729
         ],
         "z": [
          -5.668365682,
          -6.232960697,
          -5.115213259,
          -5.668365682
         ]
        },
        {
         "line": {
          "color": [
           0.1753829238095701,
           0.02832620995667212,
           0.17514324560391958
          ]
         },
         "mode": "lines",
         "type": "scatter3d",
         "x": [
          9.295561508,
          9.247128238,
          9.240283878,
          9.295561508
         ],
         "y": [
          -2.561991353,
          -3.504476117,
          -4.50373084,
          -2.561991353
         ],
         "z": [
          -5.115213259,
          -6.232960697,
          -5.077195811,
          -5.115213259
         ]
        },
        {
         "line": {
          "color": [
           0.1753829238095701,
           0.02832620995667212,
           0.17514324560391958
          ]
         },
         "mode": "lines",
         "type": "scatter3d",
         "x": [
          9.295561508,
          9.240283878,
          9.308582016,
          9.295561508
         ],
         "y": [
          -2.561991353,
          -4.50373084,
          -3.262080718,
          -2.561991353
         ],
         "z": [
          -5.115213259,
          -5.077195811,
          -4.305856231,
          -5.115213259
         ]
        },
        {
         "line": {
          "color": [
           0.1753829238095701,
           0.02832620995667212,
           0.17514324560391958
          ]
         },
         "mode": "lines",
         "type": "scatter3d",
         "x": [
          9.308582016,
          9.240283878,
          9.275839075,
          9.308582016
         ],
         "y": [
          -3.262080718,
          -4.50373084,
          -5.095864754,
          -3.262080718
         ],
         "z": [
          -4.305856231,
          -5.077195811,
          -3.668900263,
          -4.305856231
         ]
        },
        {
         "line": {
          "color": [
           0.1753829238095701,
           0.02832620995667212,
           0.17514324560391958
          ]
         },
         "mode": "lines",
         "type": "scatter3d",
         "x": [
          9.308582016,
          9.275839075,
          9.298667448,
          9.308582016
         ],
         "y": [
          -3.262080718,
          -5.095864754,
          -3.677799728,
          -3.262080718
         ],
         "z": [
          -4.305856231,
          -3.668900263,
          -3.319328415,
          -4.305856231
         ]
        },
        {
         "line": {
          "color": [
           0.1753829238095701,
           0.02832620995667212,
           0.17514324560391958
          ]
         },
         "mode": "lines",
         "type": "scatter3d",
         "x": [
          9.298667448,
          9.275839075,
          9.323795246,
          9.298667448
         ],
         "y": [
          -3.677799728,
          -5.095864754,
          -5.2241644,
          -3.677799728
         ],
         "z": [
          -3.319328415,
          -3.668900263,
          -2.146471903,
          -3.319328415
         ]
        },
        {
         "line": {
          "color": [
           0.1753829238095701,
           0.02832620995667212,
           0.17514324560391958
          ]
         },
         "mode": "lines",
         "type": "scatter3d",
         "x": [
          9.298667448,
          9.323795246,
          9.259098677,
          9.298667448
         ],
         "y": [
          -3.677799728,
          -5.2241644,
          -3.76805495,
          -3.677799728
         ],
         "z": [
          -3.319328415,
          -2.146471903,
          -2.25340053,
          -3.319328415
         ]
        },
        {
         "line": {
          "color": [
           0.1753829238095701,
           0.02832620995667212,
           0.17514324560391958
          ]
         },
         "mode": "lines",
         "type": "scatter3d",
         "x": [
          9.259098677,
          9.323795246,
          9.283029805,
          9.259098677
         ],
         "y": [
          -3.76805495,
          -5.2241644,
          -4.873856553,
          -3.76805495
         ],
         "z": [
          -2.25340053,
          -2.146471903,
          -0.6592143639,
          -2.25340053
         ]
        },
        {
         "line": {
          "color": [
           0.1753829238095701,
           0.02832620995667212,
           0.17514324560391958
          ]
         },
         "mode": "lines",
         "type": "scatter3d",
         "x": [
          9.259098677,
          9.283029805,
          9.253465639,
          9.259098677
         ],
         "y": [
          -3.76805495,
          -4.873856553,
          -3.523971795,
          -3.76805495
         ],
         "z": [
          -2.25340053,
          -0.6592143639,
          -1.211853019,
          -2.25340053
         ]
        },
        {
         "line": {
          "color": [
           0.1753829238095701,
           0.02832620995667212,
           0.17514324560391958
          ]
         },
         "mode": "lines",
         "type": "scatter3d",
         "x": [
          9.253465639,
          9.283029805,
          9.173394298,
          9.253465639
         ],
         "y": [
          -3.523971795,
          -4.873856553,
          -4.070719189,
          -3.523971795
         ],
         "z": [
          -1.211853019,
          -0.6592143639,
          0.646700048,
          -1.211853019
         ]
        },
        {
         "line": {
          "color": [
           0.1753829238095701,
           0.02832620995667212,
           0.17514324560391958
          ]
         },
         "mode": "lines",
         "type": "scatter3d",
         "x": [
          9.253465639,
          9.173394298,
          9.302504457,
          9.253465639
         ],
         "y": [
          -3.523971795,
          -4.070719189,
          -2.96864238,
          -3.523971795
         ],
         "z": [
          -1.211853019,
          0.646700048,
          -0.2960998826,
          -1.211853019
         ]
        },
        {
         "line": {
          "color": [
           0.1753829238095701,
           0.02832620995667212,
           0.17514324560391958
          ]
         },
         "mode": "lines",
         "type": "scatter3d",
         "x": [
          9.302504457,
          9.173394298,
          9.117592531,
          9.302504457
         ],
         "y": [
          -2.96864238,
          -4.070719189,
          -2.911046924,
          -2.96864238
         ],
         "z": [
          -0.2960998826,
          0.646700048,
          1.631878242,
          -0.2960998826
         ]
        },
        {
         "line": {
          "color": [
           0.1753829238095701,
           0.02832620995667212,
           0.17514324560391958
          ]
         },
         "mode": "lines",
         "type": "scatter3d",
         "x": [
          9.302504457,
          9.117592531,
          9.367692068,
          9.302504457
         ],
         "y": [
          -2.96864238,
          -2.911046924,
          -2.158625344,
          -2.96864238
         ],
         "z": [
          -0.2960998826,
          1.631878242,
          0.399876557,
          -0.2960998826
         ]
        },
        {
         "line": {
          "color": [
           0.1753829238095701,
           0.02832620995667212,
           0.17514324560391958
          ]
         },
         "mode": "lines",
         "type": "scatter3d",
         "x": [
          9.367692068,
          9.117592531,
          9.146619614,
          9.367692068
         ],
         "y": [
          -2.158625344,
          -2.911046924,
          -1.526978547,
          -2.158625344
         ],
         "z": [
          0.399876557,
          1.631878242,
          2.215680348,
          0.399876557
         ]
        },
        {
         "line": {
          "color": [
           0.1753829238095701,
           0.02832620995667212,
           0.17514324560391958
          ]
         },
         "mode": "lines",
         "type": "scatter3d",
         "x": [
          9.367692068,
          9.146619614,
          9.384984471,
          9.367692068
         ],
         "y": [
          -2.158625344,
          -1.526978547,
          -1.177847964,
          -2.158625344
         ],
         "z": [
          0.399876557,
          2.215680348,
          0.8125142533,
          0.399876557
         ]
        },
        {
         "line": {
          "color": [
           0.1753829238095701,
           0.02832620995667212,
           0.17514324560391958
          ]
         },
         "mode": "lines",
         "type": "scatter3d",
         "x": [
          9.384984471,
          9.146619614,
          9.239038439,
          9.384984471
         ],
         "y": [
          -1.177847964,
          -1.526978547,
          -0.01742357225,
          -1.177847964
         ],
         "z": [
          0.8125142533,
          2.215680348,
          2.353744868,
          0.8125142533
         ]
        },
        {
         "line": {
          "color": [
           0.1753829238095701,
           0.02832620995667212,
           0.17514324560391958
          ]
         },
         "mode": "lines",
         "type": "scatter3d",
         "x": [
          9.384984471,
          9.239038439,
          9.326057033,
          9.384984471
         ],
         "y": [
          -1.177847964,
          -0.01742357225,
          -0.1145108376,
          -1.177847964
         ],
         "z": [
          0.8125142533,
          2.353744868,
          0.9058052001,
          0.8125142533
         ]
        },
        {
         "line": {
          "color": [
           0.1753829238095701,
           0.02832620995667212,
           0.17514324560391958
          ]
         },
         "mode": "lines",
         "type": "scatter3d",
         "x": [
          9.326057033,
          9.239038439,
          9.355381258,
          9.326057033
         ],
         "y": [
          -0.1145108376,
          -0.01742357225,
          1.479151702,
          -0.1145108376
         ],
         "z": [
          0.9058052001,
          2.353744868,
          2.009275551,
          0.9058052001
         ]
        },
        {
         "line": {
          "color": [
           0.1753829238095701,
           0.02832620995667212,
           0.17514324560391958
          ]
         },
         "mode": "lines",
         "type": "scatter3d",
         "x": [
          9.326057033,
          9.355381258,
          9.250360091,
          9.326057033
         ],
         "y": [
          -0.1145108376,
          1.479151702,
          0.9299951124,
          -0.1145108376
         ],
         "z": [
          0.9058052001,
          2.009275551,
          0.6645607923,
          0.9058052001
         ]
        }
       ],
       "layout": {
        "scene": {
         "xaxis": {
          "range": [
           2.418314777187371,
           16.154208365687623
          ],
          "title": {
           "text": "X"
          }
         },
         "yaxis": {
          "range": [
           -7.225860788939875,
           6.510032799560375
          ],
          "title": {
           "text": "Y"
          }
         },
         "zaxis": {
          "range": [
           -9.369149157999999,
           4.36674443050025
          ],
          "title": {
           "text": "Z"
          }
         }
        },
        "template": {
         "data": {
          "bar": [
           {
            "error_x": {
             "color": "#2a3f5f"
            },
            "error_y": {
             "color": "#2a3f5f"
            },
            "marker": {
             "line": {
              "color": "#E5ECF6",
              "width": 0.5
             },
             "pattern": {
              "fillmode": "overlay",
              "size": 10,
              "solidity": 0.2
             }
            },
            "type": "bar"
           }
          ],
          "barpolar": [
           {
            "marker": {
             "line": {
              "color": "#E5ECF6",
              "width": 0.5
             },
             "pattern": {
              "fillmode": "overlay",
              "size": 10,
              "solidity": 0.2
             }
            },
            "type": "barpolar"
           }
          ],
          "carpet": [
           {
            "aaxis": {
             "endlinecolor": "#2a3f5f",
             "gridcolor": "white",
             "linecolor": "white",
             "minorgridcolor": "white",
             "startlinecolor": "#2a3f5f"
            },
            "baxis": {
             "endlinecolor": "#2a3f5f",
             "gridcolor": "white",
             "linecolor": "white",
             "minorgridcolor": "white",
             "startlinecolor": "#2a3f5f"
            },
            "type": "carpet"
           }
          ],
          "choropleth": [
           {
            "colorbar": {
             "outlinewidth": 0,
             "ticks": ""
            },
            "type": "choropleth"
           }
          ],
          "contour": [
           {
            "colorbar": {
             "outlinewidth": 0,
             "ticks": ""
            },
            "colorscale": [
             [
              0,
              "#0d0887"
             ],
             [
              0.1111111111111111,
              "#46039f"
             ],
             [
              0.2222222222222222,
              "#7201a8"
             ],
             [
              0.3333333333333333,
              "#9c179e"
             ],
             [
              0.4444444444444444,
              "#bd3786"
             ],
             [
              0.5555555555555556,
              "#d8576b"
             ],
             [
              0.6666666666666666,
              "#ed7953"
             ],
             [
              0.7777777777777778,
              "#fb9f3a"
             ],
             [
              0.8888888888888888,
              "#fdca26"
             ],
             [
              1,
              "#f0f921"
             ]
            ],
            "type": "contour"
           }
          ],
          "contourcarpet": [
           {
            "colorbar": {
             "outlinewidth": 0,
             "ticks": ""
            },
            "type": "contourcarpet"
           }
          ],
          "heatmap": [
           {
            "colorbar": {
             "outlinewidth": 0,
             "ticks": ""
            },
            "colorscale": [
             [
              0,
              "#0d0887"
             ],
             [
              0.1111111111111111,
              "#46039f"
             ],
             [
              0.2222222222222222,
              "#7201a8"
             ],
             [
              0.3333333333333333,
              "#9c179e"
             ],
             [
              0.4444444444444444,
              "#bd3786"
             ],
             [
              0.5555555555555556,
              "#d8576b"
             ],
             [
              0.6666666666666666,
              "#ed7953"
             ],
             [
              0.7777777777777778,
              "#fb9f3a"
             ],
             [
              0.8888888888888888,
              "#fdca26"
             ],
             [
              1,
              "#f0f921"
             ]
            ],
            "type": "heatmap"
           }
          ],
          "heatmapgl": [
           {
            "colorbar": {
             "outlinewidth": 0,
             "ticks": ""
            },
            "colorscale": [
             [
              0,
              "#0d0887"
             ],
             [
              0.1111111111111111,
              "#46039f"
             ],
             [
              0.2222222222222222,
              "#7201a8"
             ],
             [
              0.3333333333333333,
              "#9c179e"
             ],
             [
              0.4444444444444444,
              "#bd3786"
             ],
             [
              0.5555555555555556,
              "#d8576b"
             ],
             [
              0.6666666666666666,
              "#ed7953"
             ],
             [
              0.7777777777777778,
              "#fb9f3a"
             ],
             [
              0.8888888888888888,
              "#fdca26"
             ],
             [
              1,
              "#f0f921"
             ]
            ],
            "type": "heatmapgl"
           }
          ],
          "histogram": [
           {
            "marker": {
             "pattern": {
              "fillmode": "overlay",
              "size": 10,
              "solidity": 0.2
             }
            },
            "type": "histogram"
           }
          ],
          "histogram2d": [
           {
            "colorbar": {
             "outlinewidth": 0,
             "ticks": ""
            },
            "colorscale": [
             [
              0,
              "#0d0887"
             ],
             [
              0.1111111111111111,
              "#46039f"
             ],
             [
              0.2222222222222222,
              "#7201a8"
             ],
             [
              0.3333333333333333,
              "#9c179e"
             ],
             [
              0.4444444444444444,
              "#bd3786"
             ],
             [
              0.5555555555555556,
              "#d8576b"
             ],
             [
              0.6666666666666666,
              "#ed7953"
             ],
             [
              0.7777777777777778,
              "#fb9f3a"
             ],
             [
              0.8888888888888888,
              "#fdca26"
             ],
             [
              1,
              "#f0f921"
             ]
            ],
            "type": "histogram2d"
           }
          ],
          "histogram2dcontour": [
           {
            "colorbar": {
             "outlinewidth": 0,
             "ticks": ""
            },
            "colorscale": [
             [
              0,
              "#0d0887"
             ],
             [
              0.1111111111111111,
              "#46039f"
             ],
             [
              0.2222222222222222,
              "#7201a8"
             ],
             [
              0.3333333333333333,
              "#9c179e"
             ],
             [
              0.4444444444444444,
              "#bd3786"
             ],
             [
              0.5555555555555556,
              "#d8576b"
             ],
             [
              0.6666666666666666,
              "#ed7953"
             ],
             [
              0.7777777777777778,
              "#fb9f3a"
             ],
             [
              0.8888888888888888,
              "#fdca26"
             ],
             [
              1,
              "#f0f921"
             ]
            ],
            "type": "histogram2dcontour"
           }
          ],
          "mesh3d": [
           {
            "colorbar": {
             "outlinewidth": 0,
             "ticks": ""
            },
            "type": "mesh3d"
           }
          ],
          "parcoords": [
           {
            "line": {
             "colorbar": {
              "outlinewidth": 0,
              "ticks": ""
             }
            },
            "type": "parcoords"
           }
          ],
          "pie": [
           {
            "automargin": true,
            "type": "pie"
           }
          ],
          "scatter": [
           {
            "fillpattern": {
             "fillmode": "overlay",
             "size": 10,
             "solidity": 0.2
            },
            "type": "scatter"
           }
          ],
          "scatter3d": [
           {
            "line": {
             "colorbar": {
              "outlinewidth": 0,
              "ticks": ""
             }
            },
            "marker": {
             "colorbar": {
              "outlinewidth": 0,
              "ticks": ""
             }
            },
            "type": "scatter3d"
           }
          ],
          "scattercarpet": [
           {
            "marker": {
             "colorbar": {
              "outlinewidth": 0,
              "ticks": ""
             }
            },
            "type": "scattercarpet"
           }
          ],
          "scattergeo": [
           {
            "marker": {
             "colorbar": {
              "outlinewidth": 0,
              "ticks": ""
             }
            },
            "type": "scattergeo"
           }
          ],
          "scattergl": [
           {
            "marker": {
             "colorbar": {
              "outlinewidth": 0,
              "ticks": ""
             }
            },
            "type": "scattergl"
           }
          ],
          "scattermapbox": [
           {
            "marker": {
             "colorbar": {
              "outlinewidth": 0,
              "ticks": ""
             }
            },
            "type": "scattermapbox"
           }
          ],
          "scatterpolar": [
           {
            "marker": {
             "colorbar": {
              "outlinewidth": 0,
              "ticks": ""
             }
            },
            "type": "scatterpolar"
           }
          ],
          "scatterpolargl": [
           {
            "marker": {
             "colorbar": {
              "outlinewidth": 0,
              "ticks": ""
             }
            },
            "type": "scatterpolargl"
           }
          ],
          "scatterternary": [
           {
            "marker": {
             "colorbar": {
              "outlinewidth": 0,
              "ticks": ""
             }
            },
            "type": "scatterternary"
           }
          ],
          "surface": [
           {
            "colorbar": {
             "outlinewidth": 0,
             "ticks": ""
            },
            "colorscale": [
             [
              0,
              "#0d0887"
             ],
             [
              0.1111111111111111,
              "#46039f"
             ],
             [
              0.2222222222222222,
              "#7201a8"
             ],
             [
              0.3333333333333333,
              "#9c179e"
             ],
             [
              0.4444444444444444,
              "#bd3786"
             ],
             [
              0.5555555555555556,
              "#d8576b"
             ],
             [
              0.6666666666666666,
              "#ed7953"
             ],
             [
              0.7777777777777778,
              "#fb9f3a"
             ],
             [
              0.8888888888888888,
              "#fdca26"
             ],
             [
              1,
              "#f0f921"
             ]
            ],
            "type": "surface"
           }
          ],
          "table": [
           {
            "cells": {
             "fill": {
              "color": "#EBF0F8"
             },
             "line": {
              "color": "white"
             }
            },
            "header": {
             "fill": {
              "color": "#C8D4E3"
             },
             "line": {
              "color": "white"
             }
            },
            "type": "table"
           }
          ]
         },
         "layout": {
          "annotationdefaults": {
           "arrowcolor": "#2a3f5f",
           "arrowhead": 0,
           "arrowwidth": 1
          },
          "autotypenumbers": "strict",
          "coloraxis": {
           "colorbar": {
            "outlinewidth": 0,
            "ticks": ""
           }
          },
          "colorscale": {
           "diverging": [
            [
             0,
             "#8e0152"
            ],
            [
             0.1,
             "#c51b7d"
            ],
            [
             0.2,
             "#de77ae"
            ],
            [
             0.3,
             "#f1b6da"
            ],
            [
             0.4,
             "#fde0ef"
            ],
            [
             0.5,
             "#f7f7f7"
            ],
            [
             0.6,
             "#e6f5d0"
            ],
            [
             0.7,
             "#b8e186"
            ],
            [
             0.8,
             "#7fbc41"
            ],
            [
             0.9,
             "#4d9221"
            ],
            [
             1,
             "#276419"
            ]
           ],
           "sequential": [
            [
             0,
             "#0d0887"
            ],
            [
             0.1111111111111111,
             "#46039f"
            ],
            [
             0.2222222222222222,
             "#7201a8"
            ],
            [
             0.3333333333333333,
             "#9c179e"
            ],
            [
             0.4444444444444444,
             "#bd3786"
            ],
            [
             0.5555555555555556,
             "#d8576b"
            ],
            [
             0.6666666666666666,
             "#ed7953"
            ],
            [
             0.7777777777777778,
             "#fb9f3a"
            ],
            [
             0.8888888888888888,
             "#fdca26"
            ],
            [
             1,
             "#f0f921"
            ]
           ],
           "sequentialminus": [
            [
             0,
             "#0d0887"
            ],
            [
             0.1111111111111111,
             "#46039f"
            ],
            [
             0.2222222222222222,
             "#7201a8"
            ],
            [
             0.3333333333333333,
             "#9c179e"
            ],
            [
             0.4444444444444444,
             "#bd3786"
            ],
            [
             0.5555555555555556,
             "#d8576b"
            ],
            [
             0.6666666666666666,
             "#ed7953"
            ],
            [
             0.7777777777777778,
             "#fb9f3a"
            ],
            [
             0.8888888888888888,
             "#fdca26"
            ],
            [
             1,
             "#f0f921"
            ]
           ]
          },
          "colorway": [
           "#636efa",
           "#EF553B",
           "#00cc96",
           "#ab63fa",
           "#FFA15A",
           "#19d3f3",
           "#FF6692",
           "#B6E880",
           "#FF97FF",
           "#FECB52"
          ],
          "font": {
           "color": "#2a3f5f"
          },
          "geo": {
           "bgcolor": "white",
           "lakecolor": "white",
           "landcolor": "#E5ECF6",
           "showlakes": true,
           "showland": true,
           "subunitcolor": "white"
          },
          "hoverlabel": {
           "align": "left"
          },
          "hovermode": "closest",
          "mapbox": {
           "style": "light"
          },
          "paper_bgcolor": "white",
          "plot_bgcolor": "#E5ECF6",
          "polar": {
           "angularaxis": {
            "gridcolor": "white",
            "linecolor": "white",
            "ticks": ""
           },
           "bgcolor": "#E5ECF6",
           "radialaxis": {
            "gridcolor": "white",
            "linecolor": "white",
            "ticks": ""
           }
          },
          "scene": {
           "xaxis": {
            "backgroundcolor": "#E5ECF6",
            "gridcolor": "white",
            "gridwidth": 2,
            "linecolor": "white",
            "showbackground": true,
            "ticks": "",
            "zerolinecolor": "white"
           },
           "yaxis": {
            "backgroundcolor": "#E5ECF6",
            "gridcolor": "white",
            "gridwidth": 2,
            "linecolor": "white",
            "showbackground": true,
            "ticks": "",
            "zerolinecolor": "white"
           },
           "zaxis": {
            "backgroundcolor": "#E5ECF6",
            "gridcolor": "white",
            "gridwidth": 2,
            "linecolor": "white",
            "showbackground": true,
            "ticks": "",
            "zerolinecolor": "white"
           }
          },
          "shapedefaults": {
           "line": {
            "color": "#2a3f5f"
           }
          },
          "ternary": {
           "aaxis": {
            "gridcolor": "white",
            "linecolor": "white",
            "ticks": ""
           },
           "baxis": {
            "gridcolor": "white",
            "linecolor": "white",
            "ticks": ""
           },
           "bgcolor": "#E5ECF6",
           "caxis": {
            "gridcolor": "white",
            "linecolor": "white",
            "ticks": ""
           }
          },
          "title": {
           "x": 0.05
          },
          "xaxis": {
           "automargin": true,
           "gridcolor": "white",
           "linecolor": "white",
           "ticks": "",
           "title": {
            "standoff": 15
           },
           "zerolinecolor": "white",
           "zerolinewidth": 2
          },
          "yaxis": {
           "automargin": true,
           "gridcolor": "white",
           "linecolor": "white",
           "ticks": "",
           "title": {
            "standoff": 15
           },
           "zerolinecolor": "white",
           "zerolinewidth": 2
          }
         }
        },
        "title": {
         "text": "Triangulación"
        }
       }
      }
     },
     "metadata": {},
     "output_type": "display_data"
    }
   ],
   "source": [
    "fig = new_plot()\n",
    "fig = build_box(fig)\n",
    "plot_triangles(fig)\n",
    "fig = config_plot(fig, 'Triangulación')\n",
    "fig.show()"
   ]
  },
  {
   "cell_type": "markdown",
   "metadata": {},
   "source": [
    "Para obtener las normales de los triangulos se utilizó el producto cruz entre los vectores que se forman con los lados de los triangulos.\n",
    "\n",
    "Puede ocurrir que hayan triangulos degenerados, es decir, triangulos que sus puntos son colineales, para evitar esto se tiene en cuenta la relación de los dos triangulos anteriores usando el producto cruz, lo que mantiene la coherencia en la dirección del vector normal."
   ]
  },
  {
   "cell_type": "code",
   "execution_count": 25,
   "metadata": {},
   "outputs": [],
   "source": [
    "\"\"\"\n",
    "sacar la norma de cada triangulo\n",
    "\"\"\"\n",
    "isdegenerate = []\n",
    "def norm():\n",
    "    global normal\n",
    "    normal = np.zeros(((size - 1)*40, 3))\n",
    "    aux = 1\n",
    "    i = 0\n",
    "    for triangle in tri:\n",
    "        p1, p2, p3 = M[triangle]\n",
    "        v1 = p2 - p1\n",
    "        v2 = p3 - p1\n",
    "        n = np.cross(v1, v2)\n",
    "        normal[i] = n / np.linalg.norm(n)\n",
    "\n",
    "        if np.isnan(normal[i]).any():\n",
    "            isdegenerate.append(i)\n",
    "            \n",
    "            random_vector = np.random.rand(3)\n",
    "\n",
    "            random_vector /= np.linalg.norm(random_vector)\n",
    "\n",
    "            normal[i] = aux * normal[i - 1] / np.abs(np.dot(random_vector, normal[i - 1]))\n",
    "\n",
    "            normal[i] /= np.linalg.norm(normal[i])\n",
    "\n",
    "        if i > 0:\n",
    "            aux = np.dot(normal[i], normal[i - 1])\n",
    "        i += 1\n",
    "    normal = np.array(normal)\n",
    "\n",
    "norm()"
   ]
  },
  {
   "cell_type": "code",
   "execution_count": 26,
   "metadata": {},
   "outputs": [],
   "source": [
    "\"\"\"\n",
    "graficar la norma de los triangulos\n",
    "\"\"\"\n",
    "def plot_normals(fig):\n",
    "\n",
    "    global normal, M, tri\n",
    "\n",
    "    for i in range(normal.shape[0]):\n",
    "        mp = np.mean(M[tri[i]], axis=0)\n",
    "        v = normal[i]\n",
    "        fig.add_trace(go.Scatter3d(\n",
    "            x=[mp[0], mp[0] + v[0]],\n",
    "            y=[mp[1], mp[1] + v[1]],\n",
    "            z=[mp[2], mp[2] + v[2]],\n",
    "            mode='lines+markers',\n",
    "            line=dict(color='blue', width=1),\n",
    "            marker=dict(size=1, color='blue')\n",
    "        ))"
   ]
  },
  {
   "cell_type": "code",
   "execution_count": 27,
   "metadata": {},
   "outputs": [
    {
     "data": {
      "application/vnd.plotly.v1+json": {
       "config": {
        "plotlyServerURL": "https://plot.ly"
       },
       "data": [
        {
         "line": {
          "color": "black",
          "width": 2
         },
         "mode": "lines",
         "type": "scatter3d",
         "x": [
          9.162098083707518,
          9.09958399463823
         ],
         "y": [
          6.066128146327891,
          -2.827945923555345
         ],
         "z": [
          -4.979472521590816,
          -8.922984438734423
         ]
        },
        {
         "line": {
          "color": "black",
          "width": 2
         },
         "mode": "lines",
         "type": "scatter3d",
         "x": [
          9.162098083707518,
          9.482673907285587
         ],
         "y": [
          6.066128146327891,
          6.063865380319389
         ],
         "z": [
          -4.979472521590816,
          -4.979451042539759
         ]
        },
        {
         "line": {
          "color": "black",
          "width": 2
         },
         "mode": "lines",
         "type": "scatter3d",
         "x": [
          9.162098083707518,
          9.133680769219962
         ],
         "y": [
          6.066128146327891,
          2.1245142276484503
         ],
         "z": [
          -4.979472521590816,
          3.9107713439755454
         ]
        },
        {
         "line": {
          "color": "black",
          "width": 2
         },
         "mode": "lines",
         "type": "scatter3d",
         "x": [
          9.09958399463823,
          9.420159818216298
         ],
         "y": [
          -2.827945923555345,
          -2.8302086895638467
         ],
         "z": [
          -8.922984438734423,
          -8.922962959683364
         ]
        },
        {
         "line": {
          "color": "black",
          "width": 2
         },
         "mode": "lines",
         "type": "scatter3d",
         "x": [
          9.09958399463823,
          9.071166680150675
         ],
         "y": [
          -2.827945923555345,
          -6.769559842234785
         ],
         "z": [
          -8.922984438734423,
          -0.032740573168060116
         ]
        },
        {
         "line": {
          "color": "black",
          "width": 2
         },
         "mode": "lines",
         "type": "scatter3d",
         "x": [
          9.482673907285587,
          9.420159818216298
         ],
         "y": [
          6.063865380319389,
          -2.8302086895638467
         ],
         "z": [
          -4.979451042539759,
          -8.922962959683364
         ]
        },
        {
         "line": {
          "color": "black",
          "width": 2
         },
         "mode": "lines",
         "type": "scatter3d",
         "x": [
          9.482673907285587,
          9.454256592798032
         ],
         "y": [
          6.063865380319389,
          2.1222514616399484
         ],
         "z": [
          -4.979451042539759,
          3.9107928230266022
         ]
        },
        {
         "line": {
          "color": "black",
          "width": 2
         },
         "mode": "lines",
         "type": "scatter3d",
         "x": [
          9.420159818216298,
          9.391742503728745
         ],
         "y": [
          -2.8302086895638467,
          -6.771822608243287
         ],
         "z": [
          -8.922962959683364,
          -0.032719094117003245
         ]
        },
        {
         "line": {
          "color": "black",
          "width": 2
         },
         "mode": "lines",
         "type": "scatter3d",
         "x": [
          9.133680769219962,
          9.071166680150675
         ],
         "y": [
          2.1245142276484503,
          -6.769559842234785
         ],
         "z": [
          3.9107713439755454,
          -0.032740573168060116
         ]
        },
        {
         "line": {
          "color": "black",
          "width": 2
         },
         "mode": "lines",
         "type": "scatter3d",
         "x": [
          9.133680769219962,
          9.454256592798032
         ],
         "y": [
          2.1245142276484503,
          2.1222514616399484
         ],
         "z": [
          3.9107713439755454,
          3.9107928230266022
         ]
        },
        {
         "line": {
          "color": "black",
          "width": 2
         },
         "mode": "lines",
         "type": "scatter3d",
         "x": [
          9.071166680150675,
          9.391742503728745
         ],
         "y": [
          -6.769559842234785,
          -6.771822608243287
         ],
         "z": [
          -0.032740573168060116,
          -0.032719094117003245
         ]
        },
        {
         "line": {
          "color": "black",
          "width": 2
         },
         "mode": "lines",
         "type": "scatter3d",
         "x": [
          9.454256592798032,
          9.391742503728745
         ],
         "y": [
          2.1222514616399484,
          -6.771822608243287
         ],
         "z": [
          3.9107928230266022,
          -0.032719094117003245
         ]
        },
        {
         "line": {
          "color": [
           0.1753829238095701,
           0.02832620995667212,
           0.17514324560391958
          ]
         },
         "mode": "lines",
         "type": "scatter3d",
         "x": [
          9.287533998,
          9.305806769,
          9.320039026,
          9.287533998
         ],
         "y": [
          -0.1716849127,
          0.3792956205,
          0.9034048198,
          -0.1716849127
         ],
         "z": [
          -2.042524459,
          -0.6873769707,
          -1.003829751,
          -2.042524459
         ]
        },
        {
         "line": {
          "color": [
           0.1753829238095701,
           0.02832620995667212,
           0.17514324560391958
          ]
         },
         "mode": "lines",
         "type": "scatter3d",
         "x": [
          9.287533998,
          9.320039026,
          9.287533998,
          9.287533998
         ],
         "y": [
          -0.1716849127,
          0.9034048198,
          -0.03942097276,
          -0.1716849127
         ],
         "z": [
          -2.042524459,
          -1.003829751,
          -2.12239389,
          -2.042524459
         ]
        },
        {
         "line": {
          "color": [
           0.1753829238095701,
           0.02832620995667212,
           0.17514324560391958
          ]
         },
         "mode": "lines",
         "type": "scatter3d",
         "x": [
          9.287533998,
          9.320039026,
          9.323245437,
          9.287533998
         ],
         "y": [
          -0.03942097276,
          0.9034048198,
          1.303797882,
          -0.03942097276
         ],
         "z": [
          -2.12239389,
          -1.003829751,
          -1.466763987,
          -2.12239389
         ]
        },
        {
         "line": {
          "color": [
           0.1753829238095701,
           0.02832620995667212,
           0.17514324560391958
          ]
         },
         "mode": "lines",
         "type": "scatter3d",
         "x": [
          9.287533998,
          9.323245437,
          9.287533998,
          9.287533998
         ],
         "y": [
          -0.03942097276,
          1.303797882,
          0.06168849784,
          -0.03942097276
         ],
         "z": [
          -2.12239389,
          -1.466763987,
          -2.239226037,
          -2.12239389
         ]
        },
        {
         "line": {
          "color": [
           0.1753829238095701,
           0.02832620995667212,
           0.17514324560391958
          ]
         },
         "mode": "lines",
         "type": "scatter3d",
         "x": [
          9.287533998,
          9.323245437,
          9.328516455,
          9.287533998
         ],
         "y": [
          0.06168849784,
          1.303797882,
          1.541495174,
          0.06168849784
         ],
         "z": [
          -2.239226037,
          -1.466763987,
          -2.030928357,
          -2.239226037
         ]
        },
        {
         "line": {
          "color": [
           0.1753829238095701,
           0.02832620995667212,
           0.17514324560391958
          ]
         },
         "mode": "lines",
         "type": "scatter3d",
         "x": [
          9.287533998,
          9.328516455,
          9.287533998,
          9.287533998
         ],
         "y": [
          0.06168849784,
          1.541495174,
          0.1217461997,
          0.06168849784
         ],
         "z": [
          -2.239226037,
          -2.030928357,
          -2.381584557,
          -2.239226037
         ]
        },
        {
         "line": {
          "color": [
           0.1753829238095701,
           0.02832620995667212,
           0.17514324560391958
          ]
         },
         "mode": "lines",
         "type": "scatter3d",
         "x": [
          9.287533998,
          9.328516455,
          9.313186953,
          9.287533998
         ],
         "y": [
          0.1217461997,
          1.541495174,
          1.593917404,
          0.1217461997
         ],
         "z": [
          -2.381584557,
          -2.030928357,
          -2.640914482,
          -2.381584557
         ]
        },
        {
         "line": {
          "color": [
           0.1753829238095701,
           0.02832620995667212,
           0.17514324560391958
          ]
         },
         "mode": "lines",
         "type": "scatter3d",
         "x": [
          9.287533998,
          9.313186953,
          9.287533998,
          9.287533998
         ],
         "y": [
          0.1217461997,
          1.593917404,
          0.1348732665,
          0.1217461997
         ],
         "z": [
          -2.381584557,
          -2.640914482,
          -2.535534405,
          -2.381584557
         ]
        },
        {
         "line": {
          "color": [
           0.1753829238095701,
           0.02832620995667212,
           0.17514324560391958
          ]
         },
         "mode": "lines",
         "type": "scatter3d",
         "x": [
          9.287533998,
          9.313186953,
          9.299958834,
          9.287533998
         ],
         "y": [
          0.1348732665,
          1.593917404,
          1.455245106,
          0.1348732665
         ],
         "z": [
          -2.535534405,
          -2.640914482,
          -3.237125674,
          -2.535534405
         ]
        },
        {
         "line": {
          "color": [
           0.1753829238095701,
           0.02832620995667212,
           0.17514324560391958
          ]
         },
         "mode": "lines",
         "type": "scatter3d",
         "x": [
          9.287533998,
          9.299958834,
          9.287533998,
          9.287533998
         ],
         "y": [
          0.1348732665,
          1.455245106,
          0.09978472946,
          0.1348732665
         ],
         "z": [
          -2.535534405,
          -3.237125674,
          -2.686005899,
          -2.535534405
         ]
        },
        {
         "line": {
          "color": [
           0.1753829238095701,
           0.02832620995667212,
           0.17514324560391958
          ]
         },
         "mode": "lines",
         "type": "scatter3d",
         "x": [
          9.287533998,
          9.299958834,
          9.298203651,
          9.287533998
         ],
         "y": [
          0.09978472946,
          1.455245106,
          1.138741417,
          0.09978472946
         ],
         "z": [
          -2.686005899,
          -3.237125674,
          -3.761292179,
          -2.686005899
         ]
        },
        {
         "line": {
          "color": [
           0.1753829238095701,
           0.02832620995667212,
           0.17514324560391958
          ]
         },
         "mode": "lines",
         "type": "scatter3d",
         "x": [
          9.287533998,
          9.298203651,
          9.287533998,
          9.287533998
         ],
         "y": [
          0.09978472946,
          1.138741417,
          0.0199152991,
          0.09978472946
         ],
         "z": [
          -2.686005899,
          -3.761292179,
          -2.818269838,
          -2.686005899
         ]
        },
        {
         "line": {
          "color": [
           0.1753829238095701,
           0.02832620995667212,
           0.17514324560391958
          ]
         },
         "mode": "lines",
         "type": "scatter3d",
         "x": [
          9.287533998,
          9.298203651,
          9.294596234,
          9.287533998
         ],
         "y": [
          0.0199152991,
          1.138741417,
          0.6757505062,
          0.0199152991
         ],
         "z": [
          -2.818269838,
          -3.761292179,
          -4.161989365,
          -2.818269838
         ]
        },
        {
         "line": {
          "color": [
           0.1753829238095701,
           0.02832620995667212,
           0.17514324560391958
          ]
         },
         "mode": "lines",
         "type": "scatter3d",
         "x": [
          9.287533998,
          9.294596234,
          9.287533998,
          9.287533998
         ],
         "y": [
          0.0199152991,
          0.6757505062,
          -0.09691684827,
          0.0199152991
         ],
         "z": [
          -2.818269838,
          -4.161989365,
          -2.919379309,
          -2.818269838
         ]
        },
        {
         "line": {
          "color": [
           0.1753829238095701,
           0.02832620995667212,
           0.17514324560391958
          ]
         },
         "mode": "lines",
         "type": "scatter3d",
         "x": [
          9.287533998,
          9.294596234,
          9.28652539,
          9.287533998
         ],
         "y": [
          -0.09691684827,
          0.6757505062,
          0.111585378,
          -0.09691684827
         ],
         "z": [
          -2.919379309,
          -4.161989365,
          -4.400012153,
          -2.919379309
         ]
        },
        {
         "line": {
          "color": [
           0.1753829238095701,
           0.02832620995667212,
           0.17514324560391958
          ]
         },
         "mode": "lines",
         "type": "scatter3d",
         "x": [
          9.287533998,
          9.28652539,
          9.287533998,
          9.287533998
         ],
         "y": [
          -0.09691684827,
          0.111585378,
          -0.239275368,
          -0.09691684827
         ],
         "z": [
          -2.919379309,
          -4.400012153,
          -2.979437011,
          -2.919379309
         ]
        },
        {
         "line": {
          "color": [
           0.1753829238095701,
           0.02832620995667212,
           0.17514324560391958
          ]
         },
         "mode": "lines",
         "type": "scatter3d",
         "x": [
          9.287533998,
          9.28652539,
          9.282458527,
          9.287533998
         ],
         "y": [
          -0.239275368,
          0.111585378,
          -0.4985160526,
          -0.239275368
         ],
         "z": [
          -2.979437011,
          -4.400012153,
          -4.452051305,
          -2.979437011
         ]
        },
        {
         "line": {
          "color": [
           0.1753829238095701,
           0.02832620995667212,
           0.17514324560391958
          ]
         },
         "mode": "lines",
         "type": "scatter3d",
         "x": [
          9.287533998,
          9.282458527,
          9.287533998,
          9.287533998
         ],
         "y": [
          -0.239275368,
          -0.4985160526,
          -0.3932252164,
          -0.239275368
         ],
         "z": [
          -2.979437011,
          -4.452051305,
          -2.992564078,
          -2.979437011
         ]
        },
        {
         "line": {
          "color": [
           0.1753829238095701,
           0.02832620995667212,
           0.17514324560391958
          ]
         },
         "mode": "lines",
         "type": "scatter3d",
         "x": [
          9.287533998,
          9.282458527,
          9.283481726,
          9.287533998
         ],
         "y": [
          -0.3932252164,
          -0.4985160526,
          -1.094838503,
          -0.3932252164
         ],
         "z": [
          -2.992564078,
          -4.452051305,
          -4.312994269,
          -2.992564078
         ]
        },
        {
         "line": {
          "color": [
           0.1753829238095701,
           0.02832620995667212,
           0.17514324560391958
          ]
         },
         "mode": "lines",
         "type": "scatter3d",
         "x": [
          9.287533998,
          9.283481726,
          9.287533998,
          9.287533998
         ],
         "y": [
          -0.3932252164,
          -1.094838503,
          -0.5436967097,
          -0.3932252164
         ],
         "z": [
          -2.992564078,
          -4.312994269,
          -2.957475541,
          -2.992564078
         ]
        },
        {
         "line": {
          "color": [
           0.1753829238095701,
           0.02832620995667212,
           0.17514324560391958
          ]
         },
         "mode": "lines",
         "type": "scatter3d",
         "x": [
          9.287533998,
          9.283481726,
          9.282392479,
          9.287533998
         ],
         "y": [
          -0.5436967097,
          -1.094838503,
          -1.619003927,
          -0.5436967097
         ],
         "z": [
          -2.957475541,
          -4.312994269,
          -3.99646461,
          -2.957475541
         ]
        },
        {
         "line": {
          "color": [
           0.1753829238095701,
           0.02832620995667212,
           0.17514324560391958
          ]
         },
         "mode": "lines",
         "type": "scatter3d",
         "x": [
          9.287533998,
          9.282392479,
          9.287533998,
          9.287533998
         ],
         "y": [
          -0.5436967097,
          -1.619003927,
          -0.6759606496,
          -0.5436967097
         ],
         "z": [
          -2.957475541,
          -3.99646461,
          -2.87760611,
          -2.957475541
         ]
        },
        {
         "line": {
          "color": [
           0.1753829238095701,
           0.02832620995667212,
           0.17514324560391958
          ]
         },
         "mode": "lines",
         "type": "scatter3d",
         "x": [
          9.287533998,
          9.282392479,
          9.281000261,
          9.287533998
         ],
         "y": [
          -0.6759606496,
          -1.619003927,
          -2.019697012,
          -0.6759606496
         ],
         "z": [
          -2.87760611,
          -3.99646461,
          -3.533453757,
          -2.87760611
         ]
        },
        {
         "line": {
          "color": [
           0.1753829238095701,
           0.02832620995667212,
           0.17514324560391958
          ]
         },
         "mode": "lines",
         "type": "scatter3d",
         "x": [
          9.287533998,
          9.281000261,
          9.287533998,
          9.287533998
         ],
         "y": [
          -0.6759606496,
          -2.019697012,
          -0.7770701202,
          -0.6759606496
         ],
         "z": [
          -2.87760611,
          -3.533453757,
          -2.760773963,
          -2.87760611
         ]
        },
        {
         "line": {
          "color": [
           0.1753829238095701,
           0.02832620995667212,
           0.17514324560391958
          ]
         },
         "mode": "lines",
         "type": "scatter3d",
         "x": [
          9.287533998,
          9.281000261,
          9.277817595,
          9.287533998
         ],
         "y": [
          -0.7770701202,
          -2.019697012,
          -2.257691203,
          -0.7770701202
         ],
         "z": [
          -2.760773963,
          -3.533453757,
          -2.969280898,
          -2.760773963
         ]
        },
        {
         "line": {
          "color": [
           0.1753829238095701,
           0.02832620995667212,
           0.17514324560391958
          ]
         },
         "mode": "lines",
         "type": "scatter3d",
         "x": [
          9.287533998,
          9.277817595,
          9.287533998,
          9.287533998
         ],
         "y": [
          -0.7770701202,
          -2.257691203,
          -0.837127822,
          -0.7770701202
         ],
         "z": [
          -2.760773963,
          -2.969280898,
          -2.618415443,
          -2.760773963
         ]
        },
        {
         "line": {
          "color": [
           0.1753829238095701,
           0.02832620995667212,
           0.17514324560391958
          ]
         },
         "mode": "lines",
         "type": "scatter3d",
         "x": [
          9.287533998,
          9.277817595,
          9.290601687,
          9.287533998
         ],
         "y": [
          -0.837127822,
          -2.257691203,
          -2.30955822,
          -0.837127822
         ],
         "z": [
          -2.618415443,
          -2.969280898,
          -2.359238813,
          -2.618415443
         ]
        },
        {
         "line": {
          "color": [
           0.1753829238095701,
           0.02832620995667212,
           0.17514324560391958
          ]
         },
         "mode": "lines",
         "type": "scatter3d",
         "x": [
          9.287533998,
          9.290601687,
          9.287533998,
          9.287533998
         ],
         "y": [
          -0.837127822,
          -2.30955822,
          -0.8502548888,
          -0.837127822
         ],
         "z": [
          -2.618415443,
          -2.359238813,
          -2.464465595,
          -2.618415443
         ]
        },
        {
         "line": {
          "color": [
           0.1753829238095701,
           0.02832620995667212,
           0.17514324560391958
          ]
         },
         "mode": "lines",
         "type": "scatter3d",
         "x": [
          9.287533998,
          9.290601687,
          9.302112188,
          9.287533998
         ],
         "y": [
          -0.8502548888,
          -2.30955822,
          -2.170323617,
          -0.8502548888
         ],
         "z": [
          -2.464465595,
          -2.359238813,
          -1.76301112,
          -2.464465595
         ]
        },
        {
         "line": {
          "color": [
           0.1753829238095701,
           0.02832620995667212,
           0.17514324560391958
          ]
         },
         "mode": "lines",
         "type": "scatter3d",
         "x": [
          9.287533998,
          9.302112188,
          9.287533998,
          9.287533998
         ],
         "y": [
          -0.8502548888,
          -2.170323617,
          -0.8151663518,
          -0.8502548888
         ],
         "z": [
          -2.464465595,
          -1.76301112,
          -2.313994101,
          -2.464465595
         ]
        },
        {
         "line": {
          "color": [
           0.1753829238095701,
           0.02832620995667212,
           0.17514324560391958
          ]
         },
         "mode": "lines",
         "type": "scatter3d",
         "x": [
          9.287533998,
          9.302112188,
          9.273374805,
          9.287533998
         ],
         "y": [
          -0.8151663518,
          -2.170323617,
          -1.853798891,
          -0.8151663518
         ],
         "z": [
          -2.313994101,
          -1.76301112,
          -1.239017433,
          -2.313994101
         ]
        },
        {
         "line": {
          "color": [
           0.1753829238095701,
           0.02832620995667212,
           0.17514324560391958
          ]
         },
         "mode": "lines",
         "type": "scatter3d",
         "x": [
          9.287533998,
          9.273374805,
          9.287533998,
          9.287533998
         ],
         "y": [
          -0.8151663518,
          -1.853798891,
          -0.7352969214,
          -0.8151663518
         ],
         "z": [
          -2.313994101,
          -1.239017433,
          -2.181730162,
          -2.313994101
         ]
        },
        {
         "line": {
          "color": [
           0.1753829238095701,
           0.02832620995667212,
           0.17514324560391958
          ]
         },
         "mode": "lines",
         "type": "scatter3d",
         "x": [
          9.287533998,
          9.273374805,
          9.239047448,
          9.287533998
         ],
         "y": [
          -0.7352969214,
          -1.853798891,
          -1.390780611,
          -0.7352969214
         ],
         "z": [
          -2.181730162,
          -1.239017433,
          -0.8387236435,
          -2.181730162
         ]
        },
        {
         "line": {
          "color": [
           0.1753829238095701,
           0.02832620995667212,
           0.17514324560391958
          ]
         },
         "mode": "lines",
         "type": "scatter3d",
         "x": [
          9.287533998,
          9.239047448,
          9.287533998,
          9.287533998
         ],
         "y": [
          -0.7352969214,
          -1.390780611,
          -0.618464774,
          -0.7352969214
         ],
         "z": [
          -2.181730162,
          -0.8387236435,
          -2.080620691,
          -2.181730162
         ]
        },
        {
         "line": {
          "color": [
           0.1753829238095701,
           0.02832620995667212,
           0.17514324560391958
          ]
         },
         "mode": "lines",
         "type": "scatter3d",
         "x": [
          9.287533998,
          9.239047448,
          9.234956884,
          9.287533998
         ],
         "y": [
          -0.618464774,
          -1.390780611,
          -0.8267085275,
          -0.618464774
         ],
         "z": [
          -2.080620691,
          -0.8387236435,
          -0.6008619855,
          -2.080620691
         ]
        },
        {
         "line": {
          "color": [
           0.1753829238095701,
           0.02832620995667212,
           0.17514324560391958
          ]
         },
         "mode": "lines",
         "type": "scatter3d",
         "x": [
          9.287533998,
          9.234956884,
          9.287533998,
          9.287533998
         ],
         "y": [
          -0.618464774,
          -0.8267085275,
          -0.4761062543,
          -0.618464774
         ],
         "z": [
          -2.080620691,
          -0.6008619855,
          -2.020562989,
          -2.080620691
         ]
        },
        {
         "line": {
          "color": [
           0.1753829238095701,
           0.02832620995667212,
           0.17514324560391958
          ]
         },
         "mode": "lines",
         "type": "scatter3d",
         "x": [
          9.287533998,
          9.234956884,
          9.263444776,
          9.287533998
         ],
         "y": [
          -0.4761062543,
          -0.8267085275,
          -0.216843646,
          -0.4761062543
         ],
         "z": [
          -2.020562989,
          -0.6008619855,
          -0.5485213082,
          -2.020562989
         ]
        },
        {
         "line": {
          "color": [
           0.1753829238095701,
           0.02832620995667212,
           0.17514324560391958
          ]
         },
         "mode": "lines",
         "type": "scatter3d",
         "x": [
          9.287533998,
          9.263444776,
          9.287533998,
          9.287533998
         ],
         "y": [
          -0.4761062543,
          -0.216843646,
          -0.3221564059,
          -0.4761062543
         ],
         "z": [
          -2.020562989,
          -0.5485213082,
          -2.007435922,
          -2.020562989
         ]
        },
        {
         "line": {
          "color": [
           0.1753829238095701,
           0.02832620995667212,
           0.17514324560391958
          ]
         },
         "mode": "lines",
         "type": "scatter3d",
         "x": [
          9.287533998,
          9.263444776,
          9.305806769,
          9.287533998
         ],
         "y": [
          -0.3221564059,
          -0.216843646,
          0.3792956205,
          -0.3221564059
         ],
         "z": [
          -2.007435922,
          -0.5485213082,
          -0.6873769707,
          -2.007435922
         ]
        },
        {
         "line": {
          "color": [
           0.1753829238095701,
           0.02832620995667212,
           0.17514324560391958
          ]
         },
         "mode": "lines",
         "type": "scatter3d",
         "x": [
          9.287533998,
          9.305806769,
          9.287533998,
          9.287533998
         ],
         "y": [
          -0.3221564059,
          0.3792956205,
          -0.1716849127,
          -0.3221564059
         ],
         "z": [
          -2.007435922,
          -0.6873769707,
          -2.042524459,
          -2.007435922
         ]
        },
        {
         "line": {
          "color": [
           0.1753829238095701,
           0.02832620995667212,
           0.17514324560391958
          ]
         },
         "mode": "lines",
         "type": "scatter3d",
         "x": [
          9.305806769,
          9.250360091,
          9.21466313,
          9.305806769
         ],
         "y": [
          0.3792956205,
          0.9299951124,
          1.845335315,
          0.3792956205
         ],
         "z": [
          -0.6873769707,
          0.6645607923,
          0.1115787796,
          -0.6873769707
         ]
        },
        {
         "line": {
          "color": [
           0.1753829238095701,
           0.02832620995667212,
           0.17514324560391958
          ]
         },
         "mode": "lines",
         "type": "scatter3d",
         "x": [
          9.305806769,
          9.21466313,
          9.320039026,
          9.305806769
         ],
         "y": [
          0.3792956205,
          1.845335315,
          0.9034048198,
          0.3792956205
         ],
         "z": [
          -0.6873769707,
          0.1115787796,
          -1.003829751,
          -0.6873769707
         ]
        },
        {
         "line": {
          "color": [
           0.1753829238095701,
           0.02832620995667212,
           0.17514324560391958
          ]
         },
         "mode": "lines",
         "type": "scatter3d",
         "x": [
          9.320039026,
          9.21466313,
          9.206051792,
          9.320039026
         ],
         "y": [
          0.9034048198,
          1.845335315,
          2.542830274,
          0.9034048198
         ],
         "z": [
          -1.003829751,
          0.1115787796,
          -0.6969988122,
          -1.003829751
         ]
        },
        {
         "line": {
          "color": [
           0.1753829238095701,
           0.02832620995667212,
           0.17514324560391958
          ]
         },
         "mode": "lines",
         "type": "scatter3d",
         "x": [
          9.320039026,
          9.206051792,
          9.323245437,
          9.320039026
         ],
         "y": [
          0.9034048198,
          2.542830274,
          1.303797882,
          0.9034048198
         ],
         "z": [
          -1.003829751,
          -0.6969988122,
          -1.466763987,
          -1.003829751
         ]
        },
        {
         "line": {
          "color": [
           0.1753829238095701,
           0.02832620995667212,
           0.17514324560391958
          ]
         },
         "mode": "lines",
         "type": "scatter3d",
         "x": [
          9.323245437,
          9.206051792,
          9.204654066,
          9.323245437
         ],
         "y": [
          1.303797882,
          2.542830274,
          2.957321747,
          1.303797882
         ],
         "z": [
          -1.466763987,
          -0.6969988122,
          -1.680181124,
          -1.466763987
         ]
        },
        {
         "line": {
          "color": [
           0.1753829238095701,
           0.02832620995667212,
           0.17514324560391958
          ]
         },
         "mode": "lines",
         "type": "scatter3d",
         "x": [
          9.323245437,
          9.204654066,
          9.328516455,
          9.323245437
         ],
         "y": [
          1.303797882,
          2.957321747,
          1.541495174,
          1.303797882
         ],
         "z": [
          -1.466763987,
          -1.680181124,
          -2.030928357,
          -1.466763987
         ]
        },
        {
         "line": {
          "color": [
           0.1753829238095701,
           0.02832620995667212,
           0.17514324560391958
          ]
         },
         "mode": "lines",
         "type": "scatter3d",
         "x": [
          9.328516455,
          9.204654066,
          9.224986672,
          9.328516455
         ],
         "y": [
          1.541495174,
          2.957321747,
          3.050250519,
          1.541495174
         ],
         "z": [
          -2.030928357,
          -1.680181124,
          -2.743810283,
          -2.030928357
         ]
        },
        {
         "line": {
          "color": [
           0.1753829238095701,
           0.02832620995667212,
           0.17514324560391958
          ]
         },
         "mode": "lines",
         "type": "scatter3d",
         "x": [
          9.328516455,
          9.224986672,
          9.313186953,
          9.328516455
         ],
         "y": [
          1.541495174,
          3.050250519,
          1.593917404,
          1.541495174
         ],
         "z": [
          -2.030928357,
          -2.743810283,
          -2.640914482,
          -2.030928357
         ]
        },
        {
         "line": {
          "color": [
           0.1753829238095701,
           0.02832620995667212,
           0.17514324560391958
          ]
         },
         "mode": "lines",
         "type": "scatter3d",
         "x": [
          9.313186953,
          9.224986672,
          9.259143063,
          9.313186953
         ],
         "y": [
          1.593917404,
          3.050250519,
          2.810082456,
          1.593917404
         ],
         "z": [
          -2.640914482,
          -2.743810283,
          -3.786919773,
          -2.640914482
         ]
        },
        {
         "line": {
          "color": [
           0.1753829238095701,
           0.02832620995667212,
           0.17514324560391958
          ]
         },
         "mode": "lines",
         "type": "scatter3d",
         "x": [
          9.313186953,
          9.259143063,
          9.299958834,
          9.313186953
         ],
         "y": [
          1.593917404,
          2.810082456,
          1.455245106,
          1.593917404
         ],
         "z": [
          -2.640914482,
          -3.786919773,
          -3.237125674,
          -2.640914482
         ]
        },
        {
         "line": {
          "color": [
           0.1753829238095701,
           0.02832620995667212,
           0.17514324560391958
          ]
         },
         "mode": "lines",
         "type": "scatter3d",
         "x": [
          9.299958834,
          9.259143063,
          9.299379905,
          9.299958834
         ],
         "y": [
          1.455245106,
          2.810082456,
          2.257054838,
          1.455245106
         ],
         "z": [
          -3.237125674,
          -3.786919773,
          -4.703693744,
          -3.237125674
         ]
        },
        {
         "line": {
          "color": [
           0.1753829238095701,
           0.02832620995667212,
           0.17514324560391958
          ]
         },
         "mode": "lines",
         "type": "scatter3d",
         "x": [
          9.299958834,
          9.299379905,
          9.298203651,
          9.299958834
         ],
         "y": [
          1.455245106,
          2.257054838,
          1.138741417,
          1.455245106
         ],
         "z": [
          -3.237125674,
          -4.703693744,
          -3.761292179,
          -3.237125674
         ]
        },
        {
         "line": {
          "color": [
           0.1753829238095701,
           0.02832620995667212,
           0.17514324560391958
          ]
         },
         "mode": "lines",
         "type": "scatter3d",
         "x": [
          9.298203651,
          9.299379905,
          9.338014887,
          9.298203651
         ],
         "y": [
          1.138741417,
          2.257054838,
          1.447323864,
          1.138741417
         ],
         "z": [
          -3.761292179,
          -4.703693744,
          -5.403595017,
          -3.761292179
         ]
        },
        {
         "line": {
          "color": [
           0.1753829238095701,
           0.02832620995667212,
           0.17514324560391958
          ]
         },
         "mode": "lines",
         "type": "scatter3d",
         "x": [
          9.298203651,
          9.338014887,
          9.294596234,
          9.298203651
         ],
         "y": [
          1.138741417,
          1.447323864,
          0.6757505062,
          1.138741417
         ],
         "z": [
          -3.761292179,
          -5.403595017,
          -4.161989365,
          -3.761292179
         ]
        },
        {
         "line": {
          "color": [
           0.1753829238095701,
           0.02832620995667212,
           0.17514324560391958
          ]
         },
         "mode": "lines",
         "type": "scatter3d",
         "x": [
          9.294596234,
          9.338014887,
          9.330785969,
          9.294596234
         ],
         "y": [
          0.6757505062,
          1.447323864,
          0.4617306332,
          0.6757505062
         ],
         "z": [
          -4.161989365,
          -5.403595017,
          -5.820008233,
          -4.161989365
         ]
        },
        {
         "line": {
          "color": [
           0.1753829238095701,
           0.02832620995667212,
           0.17514324560391958
          ]
         },
         "mode": "lines",
         "type": "scatter3d",
         "x": [
          9.294596234,
          9.330785969,
          9.28652539,
          9.294596234
         ],
         "y": [
          0.6757505062,
          0.4617306332,
          0.111585378,
          0.6757505062
         ],
         "z": [
          -4.161989365,
          -5.820008233,
          -4.400012153,
          -4.161989365
         ]
        },
        {
         "line": {
          "color": [
           0.1753829238095701,
           0.02832620995667212,
           0.17514324560391958
          ]
         },
         "mode": "lines",
         "type": "scatter3d",
         "x": [
          9.28652539,
          9.330785969,
          9.310426744,
          9.28652539
         ],
         "y": [
          0.111585378,
          0.4617306332,
          -0.603857688,
          0.111585378
         ],
         "z": [
          -4.400012153,
          -5.820008233,
          -5.911328283,
          -4.400012153
         ]
        },
        {
         "line": {
          "color": [
           0.1753829238095701,
           0.02832620995667212,
           0.17514324560391958
          ]
         },
         "mode": "lines",
         "type": "scatter3d",
         "x": [
          9.28652539,
          9.310426744,
          9.282458527,
          9.28652539
         ],
         "y": [
          0.111585378,
          -0.603857688,
          -0.4985160526,
          0.111585378
         ],
         "z": [
          -4.400012153,
          -5.911328283,
          -4.452051305,
          -4.400012153
         ]
        },
        {
         "line": {
          "color": [
           0.1753829238095701,
           0.02832620995667212,
           0.17514324560391958
          ]
         },
         "mode": "lines",
         "type": "scatter3d",
         "x": [
          9.282458527,
          9.310426744,
          9.301611535,
          9.282458527
         ],
         "y": [
          -0.4985160526,
          -0.603857688,
          -1.645928729,
          -0.4985160526
         ],
         "z": [
          -4.452051305,
          -5.911328283,
          -5.668365682,
          -4.452051305
         ]
        },
        {
         "line": {
          "color": [
           0.1753829238095701,
           0.02832620995667212,
           0.17514324560391958
          ]
         },
         "mode": "lines",
         "type": "scatter3d",
         "x": [
          9.282458527,
          9.301611535,
          9.283481726,
          9.282458527
         ],
         "y": [
          -0.4985160526,
          -1.645928729,
          -1.094838503,
          -0.4985160526
         ],
         "z": [
          -4.452051305,
          -5.668365682,
          -4.312994269,
          -4.452051305
         ]
        },
        {
         "line": {
          "color": [
           0.1753829238095701,
           0.02832620995667212,
           0.17514324560391958
          ]
         },
         "mode": "lines",
         "type": "scatter3d",
         "x": [
          9.283481726,
          9.301611535,
          9.295561508,
          9.283481726
         ],
         "y": [
          -1.094838503,
          -1.645928729,
          -2.561991353,
          -1.094838503
         ],
         "z": [
          -4.312994269,
          -5.668365682,
          -5.115213259,
          -4.312994269
         ]
        },
        {
         "line": {
          "color": [
           0.1753829238095701,
           0.02832620995667212,
           0.17514324560391958
          ]
         },
         "mode": "lines",
         "type": "scatter3d",
         "x": [
          9.283481726,
          9.295561508,
          9.282392479,
          9.283481726
         ],
         "y": [
          -1.094838503,
          -2.561991353,
          -1.619003927,
          -1.094838503
         ],
         "z": [
          -4.312994269,
          -5.115213259,
          -3.99646461,
          -4.312994269
         ]
        },
        {
         "line": {
          "color": [
           0.1753829238095701,
           0.02832620995667212,
           0.17514324560391958
          ]
         },
         "mode": "lines",
         "type": "scatter3d",
         "x": [
          9.282392479,
          9.295561508,
          9.308582016,
          9.282392479
         ],
         "y": [
          -1.619003927,
          -2.561991353,
          -3.262080718,
          -1.619003927
         ],
         "z": [
          -3.99646461,
          -5.115213259,
          -4.305856231,
          -3.99646461
         ]
        },
        {
         "line": {
          "color": [
           0.1753829238095701,
           0.02832620995667212,
           0.17514324560391958
          ]
         },
         "mode": "lines",
         "type": "scatter3d",
         "x": [
          9.282392479,
          9.308582016,
          9.281000261,
          9.282392479
         ],
         "y": [
          -1.619003927,
          -3.262080718,
          -2.019697012,
          -1.619003927
         ],
         "z": [
          -3.99646461,
          -4.305856231,
          -3.533453757,
          -3.99646461
         ]
        },
        {
         "line": {
          "color": [
           0.1753829238095701,
           0.02832620995667212,
           0.17514324560391958
          ]
         },
         "mode": "lines",
         "type": "scatter3d",
         "x": [
          9.281000261,
          9.308582016,
          9.298667448,
          9.281000261
         ],
         "y": [
          -2.019697012,
          -3.262080718,
          -3.677799728,
          -2.019697012
         ],
         "z": [
          -3.533453757,
          -4.305856231,
          -3.319328415,
          -3.533453757
         ]
        },
        {
         "line": {
          "color": [
           0.1753829238095701,
           0.02832620995667212,
           0.17514324560391958
          ]
         },
         "mode": "lines",
         "type": "scatter3d",
         "x": [
          9.281000261,
          9.298667448,
          9.277817595,
          9.281000261
         ],
         "y": [
          -2.019697012,
          -3.677799728,
          -2.257691203,
          -2.019697012
         ],
         "z": [
          -3.533453757,
          -3.319328415,
          -2.969280898,
          -3.533453757
         ]
        },
        {
         "line": {
          "color": [
           0.1753829238095701,
           0.02832620995667212,
           0.17514324560391958
          ]
         },
         "mode": "lines",
         "type": "scatter3d",
         "x": [
          9.277817595,
          9.298667448,
          9.259098677,
          9.277817595
         ],
         "y": [
          -2.257691203,
          -3.677799728,
          -3.76805495,
          -2.257691203
         ],
         "z": [
          -2.969280898,
          -3.319328415,
          -2.25340053,
          -2.969280898
         ]
        },
        {
         "line": {
          "color": [
           0.1753829238095701,
           0.02832620995667212,
           0.17514324560391958
          ]
         },
         "mode": "lines",
         "type": "scatter3d",
         "x": [
          9.277817595,
          9.259098677,
          9.290601687,
          9.277817595
         ],
         "y": [
          -2.257691203,
          -3.76805495,
          -2.30955822,
          -2.257691203
         ],
         "z": [
          -2.969280898,
          -2.25340053,
          -2.359238813,
          -2.969280898
         ]
        },
        {
         "line": {
          "color": [
           0.1753829238095701,
           0.02832620995667212,
           0.17514324560391958
          ]
         },
         "mode": "lines",
         "type": "scatter3d",
         "x": [
          9.290601687,
          9.259098677,
          9.253465639,
          9.290601687
         ],
         "y": [
          -2.30955822,
          -3.76805495,
          -3.523971795,
          -2.30955822
         ],
         "z": [
          -2.359238813,
          -2.25340053,
          -1.211853019,
          -2.359238813
         ]
        },
        {
         "line": {
          "color": [
           0.1753829238095701,
           0.02832620995667212,
           0.17514324560391958
          ]
         },
         "mode": "lines",
         "type": "scatter3d",
         "x": [
          9.290601687,
          9.253465639,
          9.302112188,
          9.290601687
         ],
         "y": [
          -2.30955822,
          -3.523971795,
          -2.170323617,
          -2.30955822
         ],
         "z": [
          -2.359238813,
          -1.211853019,
          -1.76301112,
          -2.359238813
         ]
        },
        {
         "line": {
          "color": [
           0.1753829238095701,
           0.02832620995667212,
           0.17514324560391958
          ]
         },
         "mode": "lines",
         "type": "scatter3d",
         "x": [
          9.302112188,
          9.253465639,
          9.302504457,
          9.302112188
         ],
         "y": [
          -2.170323617,
          -3.523971795,
          -2.96864238,
          -2.170323617
         ],
         "z": [
          -1.76301112,
          -1.211853019,
          -0.2960998826,
          -1.76301112
         ]
        },
        {
         "line": {
          "color": [
           0.1753829238095701,
           0.02832620995667212,
           0.17514324560391958
          ]
         },
         "mode": "lines",
         "type": "scatter3d",
         "x": [
          9.302112188,
          9.302504457,
          9.273374805,
          9.302112188
         ],
         "y": [
          -2.170323617,
          -2.96864238,
          -1.853798891,
          -2.170323617
         ],
         "z": [
          -1.76301112,
          -0.2960998826,
          -1.239017433,
          -1.76301112
         ]
        },
        {
         "line": {
          "color": [
           0.1753829238095701,
           0.02832620995667212,
           0.17514324560391958
          ]
         },
         "mode": "lines",
         "type": "scatter3d",
         "x": [
          9.273374805,
          9.302504457,
          9.367692068,
          9.273374805
         ],
         "y": [
          -1.853798891,
          -2.96864238,
          -2.158625344,
          -1.853798891
         ],
         "z": [
          -1.239017433,
          -0.2960998826,
          0.399876557,
          -1.239017433
         ]
        },
        {
         "line": {
          "color": [
           0.1753829238095701,
           0.02832620995667212,
           0.17514324560391958
          ]
         },
         "mode": "lines",
         "type": "scatter3d",
         "x": [
          9.273374805,
          9.367692068,
          9.239047448,
          9.273374805
         ],
         "y": [
          -1.853798891,
          -2.158625344,
          -1.390780611,
          -1.853798891
         ],
         "z": [
          -1.239017433,
          0.399876557,
          -0.8387236435,
          -1.239017433
         ]
        },
        {
         "line": {
          "color": [
           0.1753829238095701,
           0.02832620995667212,
           0.17514324560391958
          ]
         },
         "mode": "lines",
         "type": "scatter3d",
         "x": [
          9.239047448,
          9.367692068,
          9.384984471,
          9.239047448
         ],
         "y": [
          -1.390780611,
          -2.158625344,
          -1.177847964,
          -1.390780611
         ],
         "z": [
          -0.8387236435,
          0.399876557,
          0.8125142533,
          -0.8387236435
         ]
        },
        {
         "line": {
          "color": [
           0.1753829238095701,
           0.02832620995667212,
           0.17514324560391958
          ]
         },
         "mode": "lines",
         "type": "scatter3d",
         "x": [
          9.239047448,
          9.384984471,
          9.234956884,
          9.239047448
         ],
         "y": [
          -1.390780611,
          -1.177847964,
          -0.8267085275,
          -1.390780611
         ],
         "z": [
          -0.8387236435,
          0.8125142533,
          -0.6008619855,
          -0.8387236435
         ]
        },
        {
         "line": {
          "color": [
           0.1753829238095701,
           0.02832620995667212,
           0.17514324560391958
          ]
         },
         "mode": "lines",
         "type": "scatter3d",
         "x": [
          9.234956884,
          9.384984471,
          9.326057033,
          9.234956884
         ],
         "y": [
          -0.8267085275,
          -1.177847964,
          -0.1145108376,
          -0.8267085275
         ],
         "z": [
          -0.6008619855,
          0.8125142533,
          0.9058052001,
          -0.6008619855
         ]
        },
        {
         "line": {
          "color": [
           0.1753829238095701,
           0.02832620995667212,
           0.17514324560391958
          ]
         },
         "mode": "lines",
         "type": "scatter3d",
         "x": [
          9.234956884,
          9.326057033,
          9.263444776,
          9.234956884
         ],
         "y": [
          -0.8267085275,
          -0.1145108376,
          -0.216843646,
          -0.8267085275
         ],
         "z": [
          -0.6008619855,
          0.9058052001,
          -0.5485213082,
          -0.6008619855
         ]
        },
        {
         "line": {
          "color": [
           0.1753829238095701,
           0.02832620995667212,
           0.17514324560391958
          ]
         },
         "mode": "lines",
         "type": "scatter3d",
         "x": [
          9.263444776,
          9.326057033,
          9.250360091,
          9.263444776
         ],
         "y": [
          -0.216843646,
          -0.1145108376,
          0.9299951124,
          -0.216843646
         ],
         "z": [
          -0.5485213082,
          0.9058052001,
          0.6645607923,
          -0.5485213082
         ]
        },
        {
         "line": {
          "color": [
           0.1753829238095701,
           0.02832620995667212,
           0.17514324560391958
          ]
         },
         "mode": "lines",
         "type": "scatter3d",
         "x": [
          9.263444776,
          9.250360091,
          9.305806769,
          9.263444776
         ],
         "y": [
          -0.216843646,
          0.9299951124,
          0.3792956205,
          -0.216843646
         ],
         "z": [
          -0.5485213082,
          0.6645607923,
          -0.6873769707,
          -0.5485213082
         ]
        },
        {
         "line": {
          "color": [
           0.1753829238095701,
           0.02832620995667212,
           0.17514324560391958
          ]
         },
         "mode": "lines",
         "type": "scatter3d",
         "x": [
          9.250360091,
          9.355381258,
          9.428949262,
          9.250360091
         ],
         "y": [
          0.9299951124,
          1.479151702,
          2.782733428,
          0.9299951124
         ],
         "z": [
          0.6645607923,
          2.009275551,
          1.215960809,
          0.6645607923
         ]
        },
        {
         "line": {
          "color": [
           0.1753829238095701,
           0.02832620995667212,
           0.17514324560391958
          ]
         },
         "mode": "lines",
         "type": "scatter3d",
         "x": [
          9.250360091,
          9.428949262,
          9.21466313,
          9.250360091
         ],
         "y": [
          0.9299951124,
          2.782733428,
          1.845335315,
          0.9299951124
         ],
         "z": [
          0.6645607923,
          1.215960809,
          0.1115787796,
          0.6645607923
         ]
        },
        {
         "line": {
          "color": [
           0.1753829238095701,
           0.02832620995667212,
           0.17514324560391958
          ]
         },
         "mode": "lines",
         "type": "scatter3d",
         "x": [
          9.21466313,
          9.428949262,
          9.436176341,
          9.21466313
         ],
         "y": [
          1.845335315,
          2.782733428,
          3.772145269,
          1.845335315
         ],
         "z": [
          0.1115787796,
          1.215960809,
          0.06460707931,
          0.1115787796
         ]
        },
        {
         "line": {
          "color": [
           0.1753829238095701,
           0.02832620995667212,
           0.17514324560391958
          ]
         },
         "mode": "lines",
         "type": "scatter3d",
         "x": [
          9.21466313,
          9.436176341,
          9.206051792,
          9.21466313
         ],
         "y": [
          1.845335315,
          3.772145269,
          2.542830274,
          1.845335315
         ],
         "z": [
          0.1115787796,
          0.06460707931,
          -0.6969988122,
          0.1115787796
         ]
        },
        {
         "line": {
          "color": [
           0.1753829238095701,
           0.02832620995667212,
           0.17514324560391958
          ]
         },
         "mode": "lines",
         "type": "scatter3d",
         "x": [
          9.206051792,
          9.436176341,
          9.399273492,
          9.206051792
         ],
         "y": [
          2.542830274,
          3.772145269,
          4.366042074,
          2.542830274
         ],
         "z": [
          -0.6969988122,
          0.06460707931,
          -1.330438946,
          -0.6969988122
         ]
        },
        {
         "line": {
          "color": [
           0.1753829238095701,
           0.02832620995667212,
           0.17514324560391958
          ]
         },
         "mode": "lines",
         "type": "scatter3d",
         "x": [
          9.206051792,
          9.399273492,
          9.204654066,
          9.206051792
         ],
         "y": [
          2.542830274,
          4.366042074,
          2.957321747,
          2.542830274
         ],
         "z": [
          -0.6969988122,
          -1.330438946,
          -1.680181124,
          -0.6969988122
         ]
        },
        {
         "line": {
          "color": [
           0.1753829238095701,
           0.02832620995667212,
           0.17514324560391958
          ]
         },
         "mode": "lines",
         "type": "scatter3d",
         "x": [
          9.204654066,
          9.399273492,
          9.370623984,
          9.204654066
         ],
         "y": [
          2.957321747,
          4.366042074,
          4.503159719,
          2.957321747
         ],
         "z": [
          -1.680181124,
          -1.330438946,
          -2.842329846,
          -1.680181124
         ]
        },
        {
         "line": {
          "color": [
           0.1753829238095701,
           0.02832620995667212,
           0.17514324560391958
          ]
         },
         "mode": "lines",
         "type": "scatter3d",
         "x": [
          9.204654066,
          9.370623984,
          9.224986672,
          9.204654066
         ],
         "y": [
          2.957321747,
          4.503159719,
          3.050250519,
          2.957321747
         ],
         "z": [
          -1.680181124,
          -2.842329846,
          -2.743810283,
          -1.680181124
         ]
        },
        {
         "line": {
          "color": [
           0.1753829238095701,
           0.02832620995667212,
           0.17514324560391958
          ]
         },
         "mode": "lines",
         "type": "scatter3d",
         "x": [
          9.224986672,
          9.370623984,
          9.342544964,
          9.224986672
         ],
         "y": [
          3.050250519,
          4.503159719,
          4.163380267,
          3.050250519
         ],
         "z": [
          -2.743810283,
          -2.842329846,
          -4.332520222,
          -2.743810283
         ]
        },
        {
         "line": {
          "color": [
           0.1753829238095701,
           0.02832620995667212,
           0.17514324560391958
          ]
         },
         "mode": "lines",
         "type": "scatter3d",
         "x": [
          9.224986672,
          9.342544964,
          9.259143063,
          9.224986672
         ],
         "y": [
          3.050250519,
          4.163380267,
          2.810082456,
          3.050250519
         ],
         "z": [
          -2.743810283,
          -4.332520222,
          -3.786919773,
          -2.743810283
         ]
        },
        {
         "line": {
          "color": [
           0.1753829238095701,
           0.02832620995667212,
           0.17514324560391958
          ]
         },
         "mode": "lines",
         "type": "scatter3d",
         "x": [
          9.259143063,
          9.342544964,
          9.282411416,
          9.259143063
         ],
         "y": [
          2.810082456,
          4.163380267,
          3.373552257,
          2.810082456
         ],
         "z": [
          -3.786919773,
          -4.332520222,
          -5.644483313,
          -3.786919773
         ]
        },
        {
         "line": {
          "color": [
           0.1753829238095701,
           0.02832620995667212,
           0.17514324560391958
          ]
         },
         "mode": "lines",
         "type": "scatter3d",
         "x": [
          9.259143063,
          9.282411416,
          9.299379905,
          9.259143063
         ],
         "y": [
          2.810082456,
          3.373552257,
          2.257054838,
          2.810082456
         ],
         "z": [
          -3.786919773,
          -5.644483313,
          -4.703693744,
          -3.786919773
         ]
        },
        {
         "line": {
          "color": [
           0.1753829238095701,
           0.02832620995667212,
           0.17514324560391958
          ]
         },
         "mode": "lines",
         "type": "scatter3d",
         "x": [
          9.299379905,
          9.282411416,
          9.238560269,
          9.299379905
         ],
         "y": [
          2.257054838,
          3.373552257,
          2.216719271,
          2.257054838
         ],
         "z": [
          -4.703693744,
          -5.644483313,
          -6.643410436,
          -4.703693744
         ]
        },
        {
         "line": {
          "color": [
           0.1753829238095701,
           0.02832620995667212,
           0.17514324560391958
          ]
         },
         "mode": "lines",
         "type": "scatter3d",
         "x": [
          9.299379905,
          9.238560269,
          9.338014887,
          9.299379905
         ],
         "y": [
          2.257054838,
          2.216719271,
          1.447323864,
          2.257054838
         ],
         "z": [
          -4.703693744,
          -6.643410436,
          -5.403595017,
          -4.703693744
         ]
        },
        {
         "line": {
          "color": [
           0.1753829238095701,
           0.02832620995667212,
           0.17514324560391958
          ]
         },
         "mode": "lines",
         "type": "scatter3d",
         "x": [
          9.338014887,
          9.238560269,
          9.23181969,
          9.338014887
         ],
         "y": [
          1.447323864,
          2.216719271,
          0.8123602372,
          1.447323864
         ],
         "z": [
          -5.403595017,
          -6.643410436,
          -7.237457132,
          -5.403595017
         ]
        },
        {
         "line": {
          "color": [
           0.1753829238095701,
           0.02832620995667212,
           0.17514324560391958
          ]
         },
         "mode": "lines",
         "type": "scatter3d",
         "x": [
          9.338014887,
          9.23181969,
          9.330785969,
          9.338014887
         ],
         "y": [
          1.447323864,
          0.8123602372,
          0.4617306332,
          1.447323864
         ],
         "z": [
          -5.403595017,
          -7.237457132,
          -5.820008233,
          -5.403595017
         ]
        },
        {
         "line": {
          "color": [
           0.1753829238095701,
           0.02832620995667212,
           0.17514324560391958
          ]
         },
         "mode": "lines",
         "type": "scatter3d",
         "x": [
          9.330785969,
          9.23181969,
          9.244437654,
          9.330785969
         ],
         "y": [
          0.4617306332,
          0.8123602372,
          -0.7079019813,
          0.4617306332
         ],
         "z": [
          -5.820008233,
          -7.237457132,
          -7.369149158,
          -5.820008233
         ]
        },
        {
         "line": {
          "color": [
           0.1753829238095701,
           0.02832620995667212,
           0.17514324560391958
          ]
         },
         "mode": "lines",
         "type": "scatter3d",
         "x": [
          9.330785969,
          9.244437654,
          9.310426744,
          9.330785969
         ],
         "y": [
          0.4617306332,
          -0.7079019813,
          -0.603857688,
          0.4617306332
         ],
         "z": [
          -5.820008233,
          -7.369149158,
          -5.911328283,
          -5.820008233
         ]
        },
        {
         "line": {
          "color": [
           0.1753829238095701,
           0.02832620995667212,
           0.17514324560391958
          ]
         },
         "mode": "lines",
         "type": "scatter3d",
         "x": [
          9.310426744,
          9.244437654,
          9.255888005,
          9.310426744
         ],
         "y": [
          -0.603857688,
          -0.7079019813,
          -2.196471068,
          -0.603857688
         ],
         "z": [
          -5.911328283,
          -7.369149158,
          -7.023335188,
          -5.911328283
         ]
        },
        {
         "line": {
          "color": [
           0.1753829238095701,
           0.02832620995667212,
           0.17514324560391958
          ]
         },
         "mode": "lines",
         "type": "scatter3d",
         "x": [
          9.310426744,
          9.255888005,
          9.301611535,
          9.310426744
         ],
         "y": [
          -0.603857688,
          -2.196471068,
          -1.645928729,
          -0.603857688
         ],
         "z": [
          -5.911328283,
          -7.023335188,
          -5.668365682,
          -5.911328283
         ]
        },
        {
         "line": {
          "color": [
           0.1753829238095701,
           0.02832620995667212,
           0.17514324560391958
          ]
         },
         "mode": "lines",
         "type": "scatter3d",
         "x": [
          9.301611535,
          9.255888005,
          9.247128238,
          9.301611535
         ],
         "y": [
          -1.645928729,
          -2.196471068,
          -3.504476117,
          -1.645928729
         ],
         "z": [
          -5.668365682,
          -7.023335188,
          -6.232960697,
          -5.668365682
         ]
        },
        {
         "line": {
          "color": [
           0.1753829238095701,
           0.02832620995667212,
           0.17514324560391958
          ]
         },
         "mode": "lines",
         "type": "scatter3d",
         "x": [
          9.301611535,
          9.247128238,
          9.295561508,
          9.301611535
         ],
         "y": [
          -1.645928729,
          -3.504476117,
          -2.561991353,
          -1.645928729
         ],
         "z": [
          -5.668365682,
          -6.232960697,
          -5.115213259,
          -5.668365682
         ]
        },
        {
         "line": {
          "color": [
           0.1753829238095701,
           0.02832620995667212,
           0.17514324560391958
          ]
         },
         "mode": "lines",
         "type": "scatter3d",
         "x": [
          9.295561508,
          9.247128238,
          9.240283878,
          9.295561508
         ],
         "y": [
          -2.561991353,
          -3.504476117,
          -4.50373084,
          -2.561991353
         ],
         "z": [
          -5.115213259,
          -6.232960697,
          -5.077195811,
          -5.115213259
         ]
        },
        {
         "line": {
          "color": [
           0.1753829238095701,
           0.02832620995667212,
           0.17514324560391958
          ]
         },
         "mode": "lines",
         "type": "scatter3d",
         "x": [
          9.295561508,
          9.240283878,
          9.308582016,
          9.295561508
         ],
         "y": [
          -2.561991353,
          -4.50373084,
          -3.262080718,
          -2.561991353
         ],
         "z": [
          -5.115213259,
          -5.077195811,
          -4.305856231,
          -5.115213259
         ]
        },
        {
         "line": {
          "color": [
           0.1753829238095701,
           0.02832620995667212,
           0.17514324560391958
          ]
         },
         "mode": "lines",
         "type": "scatter3d",
         "x": [
          9.308582016,
          9.240283878,
          9.275839075,
          9.308582016
         ],
         "y": [
          -3.262080718,
          -4.50373084,
          -5.095864754,
          -3.262080718
         ],
         "z": [
          -4.305856231,
          -5.077195811,
          -3.668900263,
          -4.305856231
         ]
        },
        {
         "line": {
          "color": [
           0.1753829238095701,
           0.02832620995667212,
           0.17514324560391958
          ]
         },
         "mode": "lines",
         "type": "scatter3d",
         "x": [
          9.308582016,
          9.275839075,
          9.298667448,
          9.308582016
         ],
         "y": [
          -3.262080718,
          -5.095864754,
          -3.677799728,
          -3.262080718
         ],
         "z": [
          -4.305856231,
          -3.668900263,
          -3.319328415,
          -4.305856231
         ]
        },
        {
         "line": {
          "color": [
           0.1753829238095701,
           0.02832620995667212,
           0.17514324560391958
          ]
         },
         "mode": "lines",
         "type": "scatter3d",
         "x": [
          9.298667448,
          9.275839075,
          9.323795246,
          9.298667448
         ],
         "y": [
          -3.677799728,
          -5.095864754,
          -5.2241644,
          -3.677799728
         ],
         "z": [
          -3.319328415,
          -3.668900263,
          -2.146471903,
          -3.319328415
         ]
        },
        {
         "line": {
          "color": [
           0.1753829238095701,
           0.02832620995667212,
           0.17514324560391958
          ]
         },
         "mode": "lines",
         "type": "scatter3d",
         "x": [
          9.298667448,
          9.323795246,
          9.259098677,
          9.298667448
         ],
         "y": [
          -3.677799728,
          -5.2241644,
          -3.76805495,
          -3.677799728
         ],
         "z": [
          -3.319328415,
          -2.146471903,
          -2.25340053,
          -3.319328415
         ]
        },
        {
         "line": {
          "color": [
           0.1753829238095701,
           0.02832620995667212,
           0.17514324560391958
          ]
         },
         "mode": "lines",
         "type": "scatter3d",
         "x": [
          9.259098677,
          9.323795246,
          9.283029805,
          9.259098677
         ],
         "y": [
          -3.76805495,
          -5.2241644,
          -4.873856553,
          -3.76805495
         ],
         "z": [
          -2.25340053,
          -2.146471903,
          -0.6592143639,
          -2.25340053
         ]
        },
        {
         "line": {
          "color": [
           0.1753829238095701,
           0.02832620995667212,
           0.17514324560391958
          ]
         },
         "mode": "lines",
         "type": "scatter3d",
         "x": [
          9.259098677,
          9.283029805,
          9.253465639,
          9.259098677
         ],
         "y": [
          -3.76805495,
          -4.873856553,
          -3.523971795,
          -3.76805495
         ],
         "z": [
          -2.25340053,
          -0.6592143639,
          -1.211853019,
          -2.25340053
         ]
        },
        {
         "line": {
          "color": [
           0.1753829238095701,
           0.02832620995667212,
           0.17514324560391958
          ]
         },
         "mode": "lines",
         "type": "scatter3d",
         "x": [
          9.253465639,
          9.283029805,
          9.173394298,
          9.253465639
         ],
         "y": [
          -3.523971795,
          -4.873856553,
          -4.070719189,
          -3.523971795
         ],
         "z": [
          -1.211853019,
          -0.6592143639,
          0.646700048,
          -1.211853019
         ]
        },
        {
         "line": {
          "color": [
           0.1753829238095701,
           0.02832620995667212,
           0.17514324560391958
          ]
         },
         "mode": "lines",
         "type": "scatter3d",
         "x": [
          9.253465639,
          9.173394298,
          9.302504457,
          9.253465639
         ],
         "y": [
          -3.523971795,
          -4.070719189,
          -2.96864238,
          -3.523971795
         ],
         "z": [
          -1.211853019,
          0.646700048,
          -0.2960998826,
          -1.211853019
         ]
        },
        {
         "line": {
          "color": [
           0.1753829238095701,
           0.02832620995667212,
           0.17514324560391958
          ]
         },
         "mode": "lines",
         "type": "scatter3d",
         "x": [
          9.302504457,
          9.173394298,
          9.117592531,
          9.302504457
         ],
         "y": [
          -2.96864238,
          -4.070719189,
          -2.911046924,
          -2.96864238
         ],
         "z": [
          -0.2960998826,
          0.646700048,
          1.631878242,
          -0.2960998826
         ]
        },
        {
         "line": {
          "color": [
           0.1753829238095701,
           0.02832620995667212,
           0.17514324560391958
          ]
         },
         "mode": "lines",
         "type": "scatter3d",
         "x": [
          9.302504457,
          9.117592531,
          9.367692068,
          9.302504457
         ],
         "y": [
          -2.96864238,
          -2.911046924,
          -2.158625344,
          -2.96864238
         ],
         "z": [
          -0.2960998826,
          1.631878242,
          0.399876557,
          -0.2960998826
         ]
        },
        {
         "line": {
          "color": [
           0.1753829238095701,
           0.02832620995667212,
           0.17514324560391958
          ]
         },
         "mode": "lines",
         "type": "scatter3d",
         "x": [
          9.367692068,
          9.117592531,
          9.146619614,
          9.367692068
         ],
         "y": [
          -2.158625344,
          -2.911046924,
          -1.526978547,
          -2.158625344
         ],
         "z": [
          0.399876557,
          1.631878242,
          2.215680348,
          0.399876557
         ]
        },
        {
         "line": {
          "color": [
           0.1753829238095701,
           0.02832620995667212,
           0.17514324560391958
          ]
         },
         "mode": "lines",
         "type": "scatter3d",
         "x": [
          9.367692068,
          9.146619614,
          9.384984471,
          9.367692068
         ],
         "y": [
          -2.158625344,
          -1.526978547,
          -1.177847964,
          -2.158625344
         ],
         "z": [
          0.399876557,
          2.215680348,
          0.8125142533,
          0.399876557
         ]
        },
        {
         "line": {
          "color": [
           0.1753829238095701,
           0.02832620995667212,
           0.17514324560391958
          ]
         },
         "mode": "lines",
         "type": "scatter3d",
         "x": [
          9.384984471,
          9.146619614,
          9.239038439,
          9.384984471
         ],
         "y": [
          -1.177847964,
          -1.526978547,
          -0.01742357225,
          -1.177847964
         ],
         "z": [
          0.8125142533,
          2.215680348,
          2.353744868,
          0.8125142533
         ]
        },
        {
         "line": {
          "color": [
           0.1753829238095701,
           0.02832620995667212,
           0.17514324560391958
          ]
         },
         "mode": "lines",
         "type": "scatter3d",
         "x": [
          9.384984471,
          9.239038439,
          9.326057033,
          9.384984471
         ],
         "y": [
          -1.177847964,
          -0.01742357225,
          -0.1145108376,
          -1.177847964
         ],
         "z": [
          0.8125142533,
          2.353744868,
          0.9058052001,
          0.8125142533
         ]
        },
        {
         "line": {
          "color": [
           0.1753829238095701,
           0.02832620995667212,
           0.17514324560391958
          ]
         },
         "mode": "lines",
         "type": "scatter3d",
         "x": [
          9.326057033,
          9.239038439,
          9.355381258,
          9.326057033
         ],
         "y": [
          -0.1145108376,
          -0.01742357225,
          1.479151702,
          -0.1145108376
         ],
         "z": [
          0.9058052001,
          2.353744868,
          2.009275551,
          0.9058052001
         ]
        },
        {
         "line": {
          "color": [
           0.1753829238095701,
           0.02832620995667212,
           0.17514324560391958
          ]
         },
         "mode": "lines",
         "type": "scatter3d",
         "x": [
          9.326057033,
          9.355381258,
          9.250360091,
          9.326057033
         ],
         "y": [
          -0.1145108376,
          1.479151702,
          0.9299951124,
          -0.1145108376
         ],
         "z": [
          0.9058052001,
          2.009275551,
          0.6645607923,
          0.9058052001
         ]
        },
        {
         "line": {
          "color": "blue",
          "width": 1
         },
         "marker": {
          "color": "blue",
          "size": 1
         },
         "mode": "lines+markers",
         "type": "scatter3d",
         "x": [
          9.304459931,
          8.304863175301573
         ],
         "y": [
          0.3703385092,
          0.3986666095156044
         ],
         "z": [
          -1.2445770602333333,
          -1.242616262006036
         ]
        },
        {
         "line": {
          "color": "blue",
          "width": 1
         },
         "marker": {
          "color": "blue",
          "size": 1
         },
         "mode": "lines+markers",
         "type": "scatter3d",
         "x": [
          9.298369007333333,
          8.298621956530784
         ],
         "y": [
          0.23076631144666668,
          0.24239236733686387
         ],
         "z": [
          -1.7229160333333333,
          -1.7036632611682214
         ]
        },
        {
         "line": {
          "color": "blue",
          "width": 1
         },
         "marker": {
          "color": "blue",
          "size": 1
         },
         "mode": "lines+markers",
         "type": "scatter3d",
         "x": [
          9.310272820333333,
          8.310558532680083
         ],
         "y": [
          0.72259390968,
          0.7436594708148205
         ],
         "z": [
          -1.5309958760000002,
          -1.5197005142956592
         ]
        },
        {
         "line": {
          "color": "blue",
          "width": 1
         },
         "marker": {
          "color": "blue",
          "size": 1
         },
         "mode": "lines+markers",
         "type": "scatter3d",
         "x": [
          9.299437811,
          8.299743175324444
         ],
         "y": [
          0.44202180236000005,
          0.4607071412748513
         ],
         "z": [
          -1.9427946379999999,
          -1.926623877005064
         ]
        },
        {
         "line": {
          "color": "blue",
          "width": 1
         },
         "marker": {
          "color": "blue",
          "size": 1
         },
         "mode": "lines+markers",
         "type": "scatter3d",
         "x": [
          9.31309863,
          8.313475807997968
         ],
         "y": [
          0.96899385128,
          0.9963689970706854
         ],
         "z": [
          -1.9123061270000001,
          -1.9101117875478872
         ]
        },
        {
         "line": {
          "color": "blue",
          "width": 1
         },
         "marker": {
          "color": "blue",
          "size": 1
         },
         "mode": "lines+markers",
         "type": "scatter3d",
         "x": [
          9.301194817,
          8.301597094205954
         ],
         "y": [
          0.5749766238466667,
          0.6011081710644991
         ],
         "z": [
          -2.2172463170000003,
          -2.2062220335784737
         ]
        },
        {
         "line": {
          "color": "blue",
          "width": 1
         },
         "marker": {
          "color": "blue",
          "size": 1
         },
         "mode": "lines+markers",
         "type": "scatter3d",
         "x": [
          9.309745802,
          8.310356916676342
         ],
         "y": [
          1.0857195925666667,
          1.1078941127568946
         ],
         "z": [
          -2.3511424653333335,
          -2.324121241344183
         ]
        },
        {
         "line": {
          "color": "blue",
          "width": 1
         },
         "marker": {
          "color": "blue",
          "size": 1
         },
         "mode": "lines+markers",
         "type": "scatter3d",
         "x": [
          9.296084983,
          8.296242568868747
         ],
         "y": [
          0.6168456234,
          0.6345338144229671
         ],
         "z": [
          -2.519344481333333,
          -2.517836236485117
         ]
        },
        {
         "line": {
          "color": "blue",
          "width": 1
         },
         "marker": {
          "color": "blue",
          "size": 1
         },
         "mode": "lines+markers",
         "type": "scatter3d",
         "x": [
          9.300226595,
          8.300562812130341
         ],
         "y": [
          1.0613452588333334,
          1.0802064534439342
         ],
         "z": [
          -2.8045248536666665,
          -2.786732255301432
         ]
        },
        {
         "line": {
          "color": "blue",
          "width": 1
         },
         "marker": {
          "color": "blue",
          "size": 1
         },
         "mode": "lines+markers",
         "type": "scatter3d",
         "x": [
          9.29167561,
          8.291712564692334
         ],
         "y": [
          0.5633010339866668,
          0.5716733891529039
         ],
         "z": [
          -2.8195553259999997,
          -2.821507680472951
         ]
        },
        {
         "line": {
          "color": "blue",
          "width": 1
         },
         "marker": {
          "color": "blue",
          "size": 1
         },
         "mode": "lines+markers",
         "type": "scatter3d",
         "x": [
          9.295232161000001,
          8.295269424251082
         ],
         "y": [
          0.8979237508200001,
          0.9063761916834367
         ],
         "z": [
          -3.228141250666667,
          -3.2298966301298333
         ]
        },
        {
         "line": {
          "color": "blue",
          "width": 1
         },
         "marker": {
          "color": "blue",
          "size": 1
         },
         "mode": "lines+markers",
         "type": "scatter3d",
         "x": [
          9.291090549000002,
          8.291117800097213
         ],
         "y": [
          0.41948048185333336,
          0.42580013323910304
         ],
         "z": [
          -3.088522638666666,
          -3.092338848588066
         ]
        },
        {
         "line": {
          "color": "blue",
          "width": 1
         },
         "marker": {
          "color": "blue",
          "size": 1
         },
         "mode": "lines+markers",
         "type": "scatter3d",
         "x": [
          9.293444627666668,
          8.29348277968366
         ],
         "y": [
          0.6114690741000001,
          0.6201442888273053
         ],
         "z": [
          -3.5805171273333336,
          -3.581538512590119
         ]
        },
        {
         "line": {
          "color": "blue",
          "width": 1
         },
         "marker": {
          "color": "blue",
          "size": 1
         },
         "mode": "lines+markers",
         "type": "scatter3d",
         "x": [
          9.289888076666667,
          8.289900015747811
         ],
         "y": [
          0.19958298567666666,
          0.20278069234455987
         ],
         "z": [
          -3.2998795039999997,
          -3.3035744589134652
         ]
        },
        {
         "line": {
          "color": "blue",
          "width": 1
         },
         "marker": {
          "color": "blue",
          "size": 1
         },
         "mode": "lines+markers",
         "type": "scatter3d",
         "x": [
          9.289551873999999,
          8.289642645400104
         ],
         "y": [
          0.23013967864333332,
          0.24337073810537516
         ],
         "z": [
          -3.827126942333333,
          -3.8245826101470968
         ]
        },
        {
         "line": {
          "color": "blue",
          "width": 1
         },
         "marker": {
          "color": "blue",
          "size": 1
         },
         "mode": "lines+markers",
         "type": "scatter3d",
         "x": [
          9.287197795333334,
          8.28719803885119
         ],
         "y": [
          -0.07486894609,
          -0.07514021293685201
         ],
         "z": [
          -3.4329428243333333,
          -3.4322998235943163
         ]
        },
        {
         "line": {
          "color": "blue",
          "width": 1
         },
         "marker": {
          "color": "blue",
          "size": 1
         },
         "mode": "lines+markers",
         "type": "scatter3d",
         "x": [
          9.285505971666668,
          8.285529557925749
         ],
         "y": [
          -0.20873534753333334,
          -0.2022664620426658
         ],
         "z": [
          -3.9438334896666665,
          -3.941525789001751
         ]
        },
        {
         "line": {
          "color": "blue",
          "width": 1
         },
         "marker": {
          "color": "blue",
          "size": 1
         },
         "mode": "lines+markers",
         "type": "scatter3d",
         "x": [
          9.285842174333334,
          8.285848340622623
         ],
         "y": [
          -0.3770055456666667,
          -0.3773039063612573
         ],
         "z": [
          -3.4746841313333334,
          -3.471185056962742
         ]
        },
        {
         "line": {
          "color": "blue",
          "width": 1
         },
         "marker": {
          "color": "blue",
          "size": 1
         },
         "mode": "lines+markers",
         "type": "scatter3d",
         "x": [
          9.284491417,
          8.284498085009067
         ],
         "y": [
          -0.6621932573333333,
          -0.6630831901470691
         ],
         "z": [
          -3.919203217333333,
          -3.91566146730551
         ]
        },
        {
         "line": {
          "color": "blue",
          "width": 1
         },
         "marker": {
          "color": "blue",
          "size": 1
         },
         "mode": "lines+markers",
         "type": "scatter3d",
         "x": [
          9.286183240666666,
          8.286187171365716
         ],
         "y": [
          -0.6772534763666668,
          -0.676616736033736
         ],
         "z": [
          -3.4210112959999996,
          -3.418280738475175
         ]
        },
        {
         "line": {
          "color": "blue",
          "width": 1
         },
         "marker": {
          "color": "blue",
          "size": 1
         },
         "mode": "lines+markers",
         "type": "scatter3d",
         "x": [
          9.284469401,
          8.284475743572091
         ],
         "y": [
          -1.0858463799,
          -1.0827285958976534
         ],
         "z": [
          -3.7556448066666666,
          -3.753923026521702
         ]
        },
        {
         "line": {
          "color": "blue",
          "width": 1
         },
         "marker": {
          "color": "blue",
          "size": 1
         },
         "mode": "lines+markers",
         "type": "scatter3d",
         "x": [
          9.285820158333335,
          8.285826486191825
         ],
         "y": [
          -0.9462204287666666,
          -0.9443814745747711
         ],
         "z": [
          -3.277182087,
          -3.2741367751244748
         ]
        },
        {
         "line": {
          "color": "blue",
          "width": 1
         },
         "marker": {
          "color": "blue",
          "size": 1
         },
         "mode": "lines+markers",
         "type": "scatter3d",
         "x": [
          9.283642246000001,
          8.283652504646575
         ],
         "y": [
          -1.4382205295333332,
          -1.4337703375095203
         ],
         "z": [
          -3.4691748256666664,
          -3.4683304449127297
         ]
        },
        {
         "line": {
          "color": "blue",
          "width": 1
         },
         "marker": {
          "color": "blue",
          "size": 1
         },
         "mode": "lines+markers",
         "type": "scatter3d",
         "x": [
          9.285356085666669,
          8.28536630442966
         ],
         "y": [
          -1.1575759272666666,
          -1.1541575259927928
         ],
         "z": [
          -3.0572779433333337,
          -3.0543195731246637
         ]
        },
        {
         "line": {
          "color": "blue",
          "width": 1
         },
         "marker": {
          "color": "blue",
          "size": 1
         },
         "mode": "lines+markers",
         "type": "scatter3d",
         "x": [
          9.282117284666668,
          8.28214507216396
         ],
         "y": [
          -1.6848194450666665,
          -1.6778753574577159
         ],
         "z": [
          -3.087836206,
          -3.0905480079318837
         ]
        },
        {
         "line": {
          "color": "blue",
          "width": 1
         },
         "marker": {
          "color": "blue",
          "size": 1
         },
         "mode": "lines+markers",
         "type": "scatter3d",
         "x": [
          9.284295197,
          8.284317795930257
         ],
         "y": [
          -1.2906297150666666,
          -1.2844354814554784
         ],
         "z": [
          -2.7828234346666663,
          -2.780210233608519
         ]
        },
        {
         "line": {
          "color": "blue",
          "width": 1
         },
         "marker": {
          "color": "blue",
          "size": 1
         },
         "mode": "lines+markers",
         "type": "scatter3d",
         "x": [
          9.28531776,
          8.285541504650375
         ],
         "y": [
          -1.8014590816666665,
          -1.7998297948805844
         ],
         "z": [
          -2.6489783846666666,
          -2.6278884661354933
         ]
        },
        {
         "line": {
          "color": "blue",
          "width": 1
         },
         "marker": {
          "color": "blue",
          "size": 1
         },
         "mode": "lines+markers",
         "type": "scatter3d",
         "x": [
          9.288556561,
          8.288558814218234
         ],
         "y": [
          -1.3323136435999998,
          -1.3344288038631542
         ],
         "z": [
          -2.480706617,
          -2.480886973463016
         ]
        },
        {
         "line": {
          "color": "blue",
          "width": 1
         },
         "marker": {
          "color": "blue",
          "size": 1
         },
         "mode": "lines+markers",
         "type": "scatter3d",
         "x": [
          9.293415957666667,
          8.293605661137619
         ],
         "y": [
          -1.7767122419333334,
          -1.7774104347844426
         ],
         "z": [
          -2.195571842666667,
          -2.1761069131461093
         ]
        },
        {
         "line": {
          "color": "blue",
          "width": 1
         },
         "marker": {
          "color": "blue",
          "size": 1
         },
         "mode": "lines+markers",
         "type": "scatter3d",
         "x": [
          9.292393394666668,
          8.292444290531526
         ],
         "y": [
          -1.2785816192,
          -1.28840707222356
         ],
         "z": [
          -2.180490272,
          -2.1781990687774218
         ]
        },
        {
         "line": {
          "color": "blue",
          "width": 1
         },
         "marker": {
          "color": "blue",
          "size": 1
         },
         "mode": "lines+markers",
         "type": "scatter3d",
         "x": [
          9.287673663666668,
          8.288777168098797
         ],
         "y": [
          -1.6130962866,
          -1.6396049991068529
         ],
         "z": [
          -1.7720075513333333,
          -1.8107771180507437
         ]
        },
        {
         "line": {
          "color": "blue",
          "width": 1
         },
         "marker": {
          "color": "blue",
          "size": 1
         },
         "mode": "lines+markers",
         "type": "scatter3d",
         "x": [
          9.282814267000001,
          8.282862285641873
         ],
         "y": [
          -1.1347540547333335,
          -1.126365178121138
         ],
         "z": [
          -1.9115805653333335,
          -1.916646305865316
         ]
        },
        {
         "line": {
          "color": "blue",
          "width": 1
         },
         "marker": {
          "color": "blue",
          "size": 1
         },
         "mode": "lines+markers",
         "type": "scatter3d",
         "x": [
          9.266652083666667,
          8.268395372878464
         ],
         "y": [
          -1.3266254744666668,
          -1.3567609462421826
         ],
         "z": [
          -1.4198237461666665,
          -1.4705720733034862
         ]
        },
        {
         "line": {
          "color": "blue",
          "width": 1
         },
         "marker": {
          "color": "blue",
          "size": 1
         },
         "mode": "lines+markers",
         "type": "scatter3d",
         "x": [
          9.271371814666667,
          8.271934716129367
         ],
         "y": [
          -0.9148474354666667,
          -0.8928936442080633
         ],
         "z": [
          -1.7003581655,
          -1.725725804663239
         ]
        },
        {
         "line": {
          "color": "blue",
          "width": 1
         },
         "marker": {
          "color": "blue",
          "size": 1
         },
         "mode": "lines+markers",
         "type": "scatter3d",
         "x": [
          9.25384611,
          8.254467418129396
         ],
         "y": [
          -0.9453179708333334,
          -0.9380245428119275
         ],
         "z": [
          -1.1734021066666667,
          -1.207884510044284
         ]
        },
        {
         "line": {
          "color": "blue",
          "width": 1
         },
         "marker": {
          "color": "blue",
          "size": 1
         },
         "mode": "lines+markers",
         "type": "scatter3d",
         "x": [
          9.270008293333333,
          8.270670194091862
         ],
         "y": [
          -0.6404265186,
          -0.6262863071895451
         ],
         "z": [
          -1.5673485551666666,
          -1.600865980868992
         ]
        },
        {
         "line": {
          "color": "blue",
          "width": 1
         },
         "marker": {
          "color": "blue",
          "size": 1
         },
         "mode": "lines+markers",
         "type": "scatter3d",
         "x": [
          9.261978552666667,
          8.263480281460176
         ],
         "y": [
          -0.5065528092666667,
          -0.45777144101823786
         ],
         "z": [
          -1.0566487609,
          -1.081580277289057
         ]
        },
        {
         "line": {
          "color": "blue",
          "width": 1
         },
         "marker": {
          "color": "blue",
          "size": 1
         },
         "mode": "lines+markers",
         "type": "scatter3d",
         "x": [
          9.279504257333334,
          8.279643244367554
         ],
         "y": [
          -0.33836876873333327,
          -0.33695231502981243
         ],
         "z": [
          -1.5255067397333333,
          -1.5421184347085053
         ]
        },
        {
         "line": {
          "color": "blue",
          "width": 1
         },
         "marker": {
          "color": "blue",
          "size": 1
         },
         "mode": "lines+markers",
         "type": "scatter3d",
         "x": [
          9.285595181,
          8.287997798132308
         ],
         "y": [
          -0.05323481046666667,
          0.012709490927472186
         ],
         "z": [
          -1.0811114003,
          -1.102343706090214
         ]
        },
        {
         "line": {
          "color": "blue",
          "width": 1
         },
         "marker": {
          "color": "blue",
          "size": 1
         },
         "mode": "lines+markers",
         "type": "scatter3d",
         "x": [
          9.293624921666668,
          8.293704881380723
         ],
         "y": [
          -0.03818189936666667,
          -0.035310095176280226
         ],
         "z": [
          -1.5791124505666667,
          -1.5667971846236761
         ]
        },
        {
         "line": {
          "color": "blue",
          "width": 1
         },
         "marker": {
          "color": "blue",
          "size": 1
         },
         "mode": "lines+markers",
         "type": "scatter3d",
         "x": [
          9.256943329999999,
          8.258452943690136
         ],
         "y": [
          1.0515420159666666,
          1.0004386184574974
         ],
         "z": [
          0.029587533733333313,
          0.009453204596204103
         ]
        },
        {
         "line": {
          "color": "blue",
          "width": 1
         },
         "marker": {
          "color": "blue",
          "size": 1
         },
         "mode": "lines+markers",
         "type": "scatter3d",
         "x": [
          9.280169641666665,
          8.283373188325106
         ],
         "y": [
          1.0426785851,
          1.0229478865684443
         ],
         "z": [
          -0.5265426473666667,
          -0.6040509059017828
         ]
        },
        {
         "line": {
          "color": "blue",
          "width": 1
         },
         "marker": {
          "color": "blue",
          "size": 1
         },
         "mode": "lines+markers",
         "type": "scatter3d",
         "x": [
          9.246917982666668,
          8.249704212665
         ],
         "y": [
          1.7638568029333335,
          1.7024482415828743
         ],
         "z": [
          -0.5297499278666667,
          -0.5721018524029574
         ]
        },
        {
         "line": {
          "color": "blue",
          "width": 1
         },
         "marker": {
          "color": "blue",
          "size": 1
         },
         "mode": "lines+markers",
         "type": "scatter3d",
         "x": [
          9.283112085,
          8.286485058047827
         ],
         "y": [
          1.5833443252666666,
          1.5248161463646257
         ],
         "z": [
          -1.0558641834,
          -1.1133882776812773
         ]
        },
        {
         "line": {
          "color": "blue",
          "width": 1
         },
         "marker": {
          "color": "blue",
          "size": 1
         },
         "mode": "lines+markers",
         "type": "scatter3d",
         "x": [
          9.244650431666667,
          8.247959933436462
         ],
         "y": [
          2.2679833009999997,
          2.192580270094795
         ],
         "z": [
          -1.2813146410666667,
          -1.311686234174932
         ]
        },
        {
         "line": {
          "color": "blue",
          "width": 1
         },
         "marker": {
          "color": "blue",
          "size": 1
         },
         "mode": "lines+markers",
         "type": "scatter3d",
         "x": [
          9.285471986,
          8.289298773136583
         ],
         "y": [
          1.934204934333333,
          1.8573800089445232
         ],
         "z": [
          -1.7259578226666665,
          -1.767633484777592
         ]
        },
        {
         "line": {
          "color": "blue",
          "width": 1
         },
         "marker": {
          "color": "blue",
          "size": 1
         },
         "mode": "lines+markers",
         "type": "scatter3d",
         "x": [
          9.252719064333334,
          8.256322644421767
         ],
         "y": [
          2.5163558133333335,
          2.435652353702021
         ],
         "z": [
          -2.1516399213333335,
          -2.177738311914935
         ]
        },
        {
         "line": {
          "color": "blue",
          "width": 1
         },
         "marker": {
          "color": "blue",
          "size": 1
         },
         "mode": "lines+markers",
         "type": "scatter3d",
         "x": [
          9.288896693333333,
          8.290841136935166
         ],
         "y": [
          2.061887699,
          2.002855906242781
         ],
         "z": [
          -2.471884374,
          -2.4518755312895437
         ]
        },
        {
         "line": {
          "color": "blue",
          "width": 1
         },
         "marker": {
          "color": "blue",
          "size": 1
         },
         "mode": "lines+markers",
         "type": "scatter3d",
         "x": [
          9.265772229333333,
          8.2678508171851
         ],
         "y": [
          2.484750126333333,
          2.4230083977160675
         ],
         "z": [
          -3.0572148459999995,
          -3.0756759977361674
         ]
        },
        {
         "line": {
          "color": "blue",
          "width": 1
         },
         "marker": {
          "color": "blue",
          "size": 1
         },
         "mode": "lines+markers",
         "type": "scatter3d",
         "x": [
          9.290762950000001,
          8.291304577076785
         ],
         "y": [
          1.9530816553333334,
          1.9337913433857892
         ],
         "z": [
          -3.221653309666667,
          -3.1949916394518643
         ]
        },
        {
         "line": {
          "color": "blue",
          "width": 1
         },
         "marker": {
          "color": "blue",
          "size": 1
         },
         "mode": "lines+markers",
         "type": "scatter3d",
         "x": [
          9.286160600666667,
          8.287114133289798
         ],
         "y": [
          2.1741274666666666,
          2.135654631561135
         ],
         "z": [
          -3.9092463970000004,
          -3.9298860912986324
         ]
        },
        {
         "line": {
          "color": "blue",
          "width": 1
         },
         "marker": {
          "color": "blue",
          "size": 1
         },
         "mode": "lines+markers",
         "type": "scatter3d",
         "x": [
          9.299180796666667,
          8.299185709096351
         ],
         "y": [
          1.617013787,
          1.6195810475264691
         ],
         "z": [
          -3.900703865666667,
          -3.898905530707176
         ]
        },
        {
         "line": {
          "color": "blue",
          "width": 1
         },
         "marker": {
          "color": "blue",
          "size": 1
         },
         "mode": "lines+markers",
         "type": "scatter3d",
         "x": [
          9.311866147666667,
          8.312538489030736
         ],
         "y": [
          1.614373373,
          1.5913675100439575
         ],
         "z": [
          -4.622860313333334,
          -4.651407834326904
         ]
        },
        {
         "line": {
          "color": "blue",
          "width": 1
         },
         "marker": {
          "color": "blue",
          "size": 1
         },
         "mode": "lines+markers",
         "type": "scatter3d",
         "x": [
          9.310271590666668,
          8.310769331568522
         ],
         "y": [
          1.0872719290666666,
          1.112006490720146
         ],
         "z": [
          -4.442292187,
          -4.461873696582087
         ]
        },
        {
         "line": {
          "color": "blue",
          "width": 1
         },
         "marker": {
          "color": "blue",
          "size": 1
         },
         "mode": "lines+markers",
         "type": "scatter3d",
         "x": [
          9.321132363333334,
          8.321575500267345
         ],
         "y": [
          0.8616016678,
          0.8791054712309276
         ],
         "z": [
          -5.128530871666666,
          -5.152607714547983
         ]
        },
        {
         "line": {
          "color": "blue",
          "width": 1
         },
         "marker": {
          "color": "blue",
          "size": 1
         },
         "mode": "lines+markers",
         "type": "scatter3d",
         "x": [
          9.303969197666667,
          8.304591284395002
         ],
         "y": [
          0.41635550579999997,
          0.4412091326688834
         ],
         "z": [
          -4.794003250333333,
          -4.819024914871003
         ]
        },
        {
         "line": {
          "color": "blue",
          "width": 1
         },
         "marker": {
          "color": "blue",
          "size": 1
         },
         "mode": "lines+markers",
         "type": "scatter3d",
         "x": [
          9.309246034333333,
          8.309808655004936
         ],
         "y": [
          -0.010180558933333325,
          0.011134061196796377
         ],
         "z": [
          -5.377116222999999,
          -5.403012395881239
         ]
        },
        {
         "line": {
          "color": "blue",
          "width": 1
         },
         "marker": {
          "color": "blue",
          "size": 1
         },
         "mode": "lines+markers",
         "type": "scatter3d",
         "x": [
          9.293136887,
          8.293367087174678
         ],
         "y": [
          -0.3302627875333333,
          -0.3219126392581068
         ],
         "z": [
          -4.921130580333333,
          -4.940894749453739
         ]
        },
        {
         "line": {
          "color": "blue",
          "width": 1
         },
         "marker": {
          "color": "blue",
          "size": 1
         },
         "mode": "lines+markers",
         "type": "scatter3d",
         "x": [
          9.298165602,
          8.298362379569866
         ],
         "y": [
          -0.9161008232,
          -0.9121769103133475
         ],
         "z": [
          -5.34391509,
          -5.3633603805861405
         ]
        },
        {
         "line": {
          "color": "blue",
          "width": 1
         },
         "marker": {
          "color": "blue",
          "size": 1
         },
         "mode": "lines+markers",
         "type": "scatter3d",
         "x": [
          9.289183929333333,
          8.289260727603608
         ],
         "y": [
          -1.0797610948666667,
          -1.0841770949380836
         ],
         "z": [
          -4.811137085333333,
          -4.822716791112958
         ]
        },
        {
         "line": {
          "color": "blue",
          "width": 1
         },
         "marker": {
          "color": "blue",
          "size": 1
         },
         "mode": "lines+markers",
         "type": "scatter3d",
         "x": [
          9.293551589666665,
          8.293635425189724
         ],
         "y": [
          -1.7675861949999998,
          -1.7687684966021682
         ],
         "z": [
          -5.03219107,
          -5.045085494401468
         ]
        },
        {
         "line": {
          "color": "blue",
          "width": 1
         },
         "marker": {
          "color": "blue",
          "size": 1
         },
         "mode": "lines+markers",
         "type": "scatter3d",
         "x": [
          9.287145237666666,
          8.287190944178706
         ],
         "y": [
          -1.7586112609999998,
          -1.7619446135406431
         ],
         "z": [
          -4.474890712666666,
          -4.48385172242192
         ]
        },
        {
         "line": {
          "color": "blue",
          "width": 1
         },
         "marker": {
          "color": "blue",
          "size": 1
         },
         "mode": "lines+markers",
         "type": "scatter3d",
         "x": [
          9.295512001,
          8.295646966489082
         ],
         "y": [
          -2.4810253326666665,
          -2.497334893749779
         ],
         "z": [
          -4.472511366666667,
          -4.470533746947196
         ]
        },
        {
         "line": {
          "color": "blue",
          "width": 1
         },
         "marker": {
          "color": "blue",
          "size": 1
         },
         "mode": "lines+markers",
         "type": "scatter3d",
         "x": [
          9.290658252,
          8.290849921681591
         ],
         "y": [
          -2.300260552333333,
          -2.313477027180552
         ],
         "z": [
          -3.9452581993333333,
          -3.9597021398803935
         ]
        },
        {
         "line": {
          "color": "blue",
          "width": 1
         },
         "marker": {
          "color": "blue",
          "size": 1
         },
         "mode": "lines+markers",
         "type": "scatter3d",
         "x": [
          9.296083241666667,
          8.296281299820661
         ],
         "y": [
          -2.9865258193333335,
          -2.9991641115410785
         ],
         "z": [
          -3.7195461343333336,
          -3.734919834311865
         ]
        },
        {
         "line": {
          "color": "blue",
          "width": 1
         },
         "marker": {
          "color": "blue",
          "size": 1
         },
         "mode": "lines+markers",
         "type": "scatter3d",
         "x": [
          9.285828434666668,
          8.285958343565147
         ],
         "y": [
          -2.6517293143333336,
          -2.6637671911825787
         ],
         "z": [
          -3.2740210233333333,
          -3.284739719224126
         ]
        },
        {
         "line": {
          "color": "blue",
          "width": 1
         },
         "marker": {
          "color": "blue",
          "size": 1
         },
         "mode": "lines+markers",
         "type": "scatter3d",
         "x": [
          9.278527906666666,
          8.279247946040583
         ],
         "y": [
          -3.2345152936666666,
          -3.2399299800141605
         ],
         "z": [
          -2.8473366143333334,
          -2.884889796127855
         ]
        },
        {
         "line": {
          "color": "blue",
          "width": 1
         },
         "marker": {
          "color": "blue",
          "size": 1
         },
         "mode": "lines+markers",
         "type": "scatter3d",
         "x": [
          9.275839319666666,
          8.276372482022445
         ],
         "y": [
          -2.778434791,
          -2.7551833041806737
         ],
         "z": [
          -2.527306747,
          -2.5043849492923442
         ]
        },
        {
         "line": {
          "color": "blue",
          "width": 1
         },
         "marker": {
          "color": "blue",
          "size": 1
         },
         "mode": "lines+markers",
         "type": "scatter3d",
         "x": [
          9.267722001000001,
          8.267992300273042
         ],
         "y": [
          -3.2005283216666665,
          -3.179681392909815
         ],
         "z": [
          -1.941497454,
          -1.9517897348837254
         ]
        },
        {
         "line": {
          "color": "blue",
          "width": 1
         },
         "marker": {
          "color": "blue",
          "size": 1
         },
         "mode": "lines+markers",
         "type": "scatter3d",
         "x": [
          9.282059838,
          8.282908215914667
         ],
         "y": [
          -2.6679512106666667,
          -2.6279901050469006
         ],
         "z": [
          -1.7780343173333335,
          -1.768077102768401
         ]
        },
        {
         "line": {
          "color": "blue",
          "width": 1
         },
         "marker": {
          "color": "blue",
          "size": 1
         },
         "mode": "lines+markers",
         "type": "scatter3d",
         "x": [
          9.286027427999999,
          8.28742101931267
         ],
         "y": [
          -2.887645930666667,
          -2.8414031527796566
         ],
         "z": [
          -1.0903213405333334,
          -1.0648881727815502
         ]
        },
        {
         "line": {
          "color": "blue",
          "width": 1
         },
         "marker": {
          "color": "blue",
          "size": 1
         },
         "mode": "lines+markers",
         "type": "scatter3d",
         "x": [
          9.292663816666666,
          8.294146375272712
         ],
         "y": [
          -2.3309216293333335,
          -2.378844366997729
         ],
         "z": [
          -1.0993761452,
          -1.1251895224843076
         ]
        },
        {
         "line": {
          "color": "blue",
          "width": 1
         },
         "marker": {
          "color": "blue",
          "size": 1
         },
         "mode": "lines+markers",
         "type": "scatter3d",
         "x": [
          9.314523776666666,
          8.316828396686004
         ],
         "y": [
          -2.327022205,
          -2.3003296793738017
         ],
         "z": [
          -0.3784135862,
          -0.31603219601882826
         ]
        },
        {
         "line": {
          "color": "blue",
          "width": 1
         },
         "marker": {
          "color": "blue",
          "size": 1
         },
         "mode": "lines+markers",
         "type": "scatter3d",
         "x": [
          9.293371440333333,
          8.299716698142136
         ],
         "y": [
          -1.8010682820000001,
          -1.907120531520709
         ],
         "z": [
          -0.5592881731666667,
          -0.5218292130563935
         ]
        },
        {
         "line": {
          "color": "blue",
          "width": 1
         },
         "marker": {
          "color": "blue",
          "size": 1
         },
         "mode": "lines+markers",
         "type": "scatter3d",
         "x": [
          9.330574662333333,
          8.334904806137
         ],
         "y": [
          -1.5757513063333333,
          -1.5963359607991743
         ],
         "z": [
          0.12455572226666671,
          0.21520785661823894
         ]
        },
        {
         "line": {
          "color": "blue",
          "width": 1
         },
         "marker": {
          "color": "blue",
          "size": 1
         },
         "mode": "lines+markers",
         "type": "scatter3d",
         "x": [
          9.286329601,
          8.291852365154913
         ],
         "y": [
          -1.1317790341666667,
          -1.178599842951913
         ],
         "z": [
          -0.20902379189999998,
          -0.11509382197234841
         ]
        },
        {
         "line": {
          "color": "blue",
          "width": 1
         },
         "marker": {
          "color": "blue",
          "size": 1
         },
         "mode": "lines+markers",
         "type": "scatter3d",
         "x": [
          9.315332796,
          8.321371204547907
         ],
         "y": [
          -0.7063557763666667,
          -0.7693227275621672
         ],
         "z": [
          0.37248582263333335,
          0.46234970734329667
         ]
        },
        {
         "line": {
          "color": "blue",
          "width": 1
         },
         "marker": {
          "color": "blue",
          "size": 1
         },
         "mode": "lines+markers",
         "type": "scatter3d",
         "x": [
          9.274819564333333,
          8.276551842944766
         ],
         "y": [
          -0.38602100370000003,
          -0.3428177148216014
         ],
         "z": [
          -0.08119269786666668,
          -0.04125484284452569
         ]
        },
        {
         "line": {
          "color": "blue",
          "width": 1
         },
         "marker": {
          "color": "blue",
          "size": 1
         },
         "mode": "lines+markers",
         "type": "scatter3d",
         "x": [
          9.279953966666666,
          8.282955759824556
         ],
         "y": [
          0.19954687626666667,
          0.138203581335872
         ],
         "z": [
          0.34061489473333334,
          0.3878544514697514
         ]
        },
        {
         "line": {
          "color": "blue",
          "width": 1
         },
         "marker": {
          "color": "blue",
          "size": 1
         },
         "mode": "lines+markers",
         "type": "scatter3d",
         "x": [
          9.273203878666665,
          8.276803666000971
         ],
         "y": [
          0.3641490289666667,
          0.42012436161545974
         ],
         "z": [
          -0.1904458288666667,
          -0.25411197634407173
         ]
        },
        {
         "line": {
          "color": "blue",
          "width": 1
         },
         "marker": {
          "color": "blue",
          "size": 1
         },
         "mode": "lines+markers",
         "type": "scatter3d",
         "x": [
          9.344896870333333,
          8.349306530090425
         ],
         "y": [
          1.7306267474666666,
          1.813528705211351
         ],
         "z": [
          1.2965990507666667,
          1.340498251409837
         ]
        },
        {
         "line": {
          "color": "blue",
          "width": 1
         },
         "marker": {
          "color": "blue",
          "size": 1
         },
         "mode": "lines+markers",
         "type": "scatter3d",
         "x": [
          9.297990827666666,
          8.310365638636167
         ],
         "y": [
          1.8526879518,
          1.9037553374069967
         ],
         "z": [
          0.6640334603,
          0.8123190230488285
         ]
        },
        {
         "line": {
          "color": "blue",
          "width": 1
         },
         "marker": {
          "color": "blue",
          "size": 1
         },
         "mode": "lines+markers",
         "type": "scatter3d",
         "x": [
          9.359929577666668,
          8.371080823555014
         ],
         "y": [
          2.8000713373333332,
          2.9160309913650297
         ],
         "z": [
          0.4640488893033334,
          0.5574913856777316
         ]
        },
        {
         "line": {
          "color": "blue",
          "width": 1
         },
         "marker": {
          "color": "blue",
          "size": 1
         },
         "mode": "lines+markers",
         "type": "scatter3d",
         "x": [
          9.285630420999999,
          8.298592484963871
         ],
         "y": [
          2.720103619333333,
          2.8362764040699897
         ],
         "z": [
          -0.17360431776333338,
          -0.0628794474221522
         ]
        },
        {
         "line": {
          "color": "blue",
          "width": 1
         },
         "marker": {
          "color": "blue",
          "size": 1
         },
         "mode": "lines+markers",
         "type": "scatter3d",
         "x": [
          9.347167208333333,
          8.359593308100855
         ],
         "y": [
          3.5603392056666667,
          3.6938202393070627
         ],
         "z": [
          -0.6542768929633334,
          -0.5713274792348269
         ]
        },
        {
         "line": {
          "color": "blue",
          "width": 1
         },
         "marker": {
          "color": "blue",
          "size": 1
         },
         "mode": "lines+markers",
         "type": "scatter3d",
         "x": [
          9.269993116666667,
          8.279106158217738
         ],
         "y": [
          3.2887313650000003,
          3.4123385383617255
         ],
         "z": [
          -1.2358729607333334,
          -1.1823537840827498
         ]
        },
        {
         "line": {
          "color": "blue",
          "width": 1
         },
         "marker": {
          "color": "blue",
          "size": 1
         },
         "mode": "lines+markers",
         "type": "scatter3d",
         "x": [
          9.324850514,
          8.333721398668715
         ],
         "y": [
          3.9421745133333332,
          4.0715269478494145
         ],
         "z": [
          -1.9509833053333334,
          -1.920470612443536
         ]
        },
        {
         "line": {
          "color": "blue",
          "width": 1
         },
         "marker": {
          "color": "blue",
          "size": 1
         },
         "mode": "lines+markers",
         "type": "scatter3d",
         "x": [
          9.266754907333334,
          8.271725188067494
         ],
         "y": [
          3.5035773283333334,
          3.602614461556617
         ],
         "z": [
          -2.422107084333333,
          -2.4324754989014816
         ]
        },
        {
         "line": {
          "color": "blue",
          "width": 1
         },
         "marker": {
          "color": "blue",
          "size": 1
         },
         "mode": "lines+markers",
         "type": "scatter3d",
         "x": [
          9.312718539999999,
          8.31768613145868
         ],
         "y": [
          3.9055968349999994,
          4.005070672064874
         ],
         "z": [
          -3.306220117,
          -3.310152252813338
         ]
        },
        {
         "line": {
          "color": "blue",
          "width": 1
         },
         "marker": {
          "color": "blue",
          "size": 1
         },
         "mode": "lines+markers",
         "type": "scatter3d",
         "x": [
          9.275558233,
          8.27745691505735
         ],
         "y": [
          3.341237747333333,
          3.385467308009304
         ],
         "z": [
          -3.621083426,
          -3.6639495557944413
         ]
        },
        {
         "line": {
          "color": "blue",
          "width": 1
         },
         "marker": {
          "color": "blue",
          "size": 1
         },
         "mode": "lines+markers",
         "type": "scatter3d",
         "x": [
          9.294699814333335,
          8.296795565578204
         ],
         "y": [
          3.4490049933333338,
          3.5133317520631087
         ],
         "z": [
          -4.5879744360000005,
          -4.580961702739632
         ]
        },
        {
         "line": {
          "color": "blue",
          "width": 1
         },
         "marker": {
          "color": "blue",
          "size": 1
         },
         "mode": "lines+markers",
         "type": "scatter3d",
         "x": [
          9.280311461333334,
          8.281173741847875
         ],
         "y": [
          2.8135631836666666,
          2.7789974386727434
         ],
         "z": [
          -4.7116989433333325,
          -4.734699525378427
         ]
        },
        {
         "line": {
          "color": "blue",
          "width": 1
         },
         "marker": {
          "color": "blue",
          "size": 1
         },
         "mode": "lines+markers",
         "type": "scatter3d",
         "x": [
          9.27345053,
          8.273995306710077
         ],
         "y": [
          2.6157754553333334,
          2.6267986813734217
         ],
         "z": [
          -5.663862497666667,
          -5.63275389554185
         ]
        },
        {
         "line": {
          "color": "blue",
          "width": 1
         },
         "marker": {
          "color": "blue",
          "size": 1
         },
         "mode": "lines+markers",
         "type": "scatter3d",
         "x": [
          9.291985020333334,
          8.295411873311496
         ],
         "y": [
          1.9736993243333334,
          1.8977756819881315
         ],
         "z": [
          -5.5835663989999995,
          -5.550740141704513
         ]
        },
        {
         "line": {
          "color": "blue",
          "width": 1
         },
         "marker": {
          "color": "blue",
          "size": 1
         },
         "mode": "lines+markers",
         "type": "scatter3d",
         "x": [
          9.269464948666666,
          8.271893544577281
         ],
         "y": [
          1.4921344574,
          1.4691154590298643
         ],
         "z": [
          -6.428154195,
          -6.3624166908097015
         ]
        },
        {
         "line": {
          "color": "blue",
          "width": 1
         },
         "marker": {
          "color": "blue",
          "size": 1
         },
         "mode": "lines+markers",
         "type": "scatter3d",
         "x": [
          9.300206848666667,
          8.302503412008399
         ],
         "y": [
          0.9071382448,
          0.8871172235721364
         ],
         "z": [
          -6.1536867939999995,
          -6.088979675463672
         ]
        },
        {
         "line": {
          "color": "blue",
          "width": 1
         },
         "marker": {
          "color": "blue",
          "size": 1
         },
         "mode": "lines+markers",
         "type": "scatter3d",
         "x": [
          9.269014437666668,
          8.271306040818502
         ],
         "y": [
          0.18872962969999998,
          0.17471483304580732
         ],
         "z": [
          -6.808871507666667,
          -6.7426783030803765
         ]
        },
        {
         "line": {
          "color": "blue",
          "width": 1
         },
         "marker": {
          "color": "blue",
          "size": 1
         },
         "mode": "lines+markers",
         "type": "scatter3d",
         "x": [
          9.295216789,
          8.29630794951684
         ],
         "y": [
          -0.28334301203333334,
          -0.26803915713217197
         ],
         "z": [
          -6.366828557999999,
          -6.322704614074108
         ]
        },
        {
         "line": {
          "color": "blue",
          "width": 1
         },
         "marker": {
          "color": "blue",
          "size": 1
         },
         "mode": "lines+markers",
         "type": "scatter3d",
         "x": [
          9.270250801,
          8.27126863464879
         ],
         "y": [
          -1.1694102457666666,
          -1.1666355307896223
         ],
         "z": [
          -6.7679375429999995,
          -6.722916078463179
         ]
        },
        {
         "line": {
          "color": "blue",
          "width": 1
         },
         "marker": {
          "color": "blue",
          "size": 1
         },
         "mode": "lines+markers",
         "type": "scatter3d",
         "x": [
          9.289308761333332,
          8.289802847432592
         ],
         "y": [
          -1.4820858283333334,
          -1.4671789739234768
         ],
         "z": [
          -6.201009717666667,
          -6.173338184115946
         ]
        },
        {
         "line": {
          "color": "blue",
          "width": 1
         },
         "marker": {
          "color": "blue",
          "size": 1
         },
         "mode": "lines+markers",
         "type": "scatter3d",
         "x": [
          9.268209259333332,
          8.26875551984338
         ],
         "y": [
          -2.448958638,
          -2.42722229643609
         ],
         "z": [
          -6.308220522333333,
          -6.283325661920672
         ]
        },
        {
         "line": {
          "color": "blue",
          "width": 1
         },
         "marker": {
          "color": "blue",
          "size": 1
         },
         "mode": "lines+markers",
         "type": "scatter3d",
         "x": [
          9.281433760333334,
          8.28198210522704
         ],
         "y": [
          -2.5707987329999997,
          -2.5490969553620197
         ],
         "z": [
          -5.672179879333334,
          -5.647171441704334
         ]
        },
        {
         "line": {
          "color": "blue",
          "width": 1
         },
         "marker": {
          "color": "blue",
          "size": 1
         },
         "mode": "lines+markers",
         "type": "scatter3d",
         "x": [
          9.260991208,
          8.26158730371533
         ],
         "y": [
          -3.5233994366666663,
          -3.494576274458365
         ],
         "z": [
          -5.4751232556666665,
          -5.4561216393966685
         ]
        },
        {
         "line": {
          "color": "blue",
          "width": 1
         },
         "marker": {
          "color": "blue",
          "size": 1
         },
         "mode": "lines+markers",
         "type": "scatter3d",
         "x": [
          9.281475800666668,
          8.282759495460768
         ],
         "y": [
          -3.442600970333333,
          -3.413359618077425
         ],
         "z": [
          -4.832755100333333,
          -4.7913946719733485
         ]
        },
        {
         "line": {
          "color": "blue",
          "width": 1
         },
         "marker": {
          "color": "blue",
          "size": 1
         },
         "mode": "lines+markers",
         "type": "scatter3d",
         "x": [
          9.274901656333334,
          8.27612106342038
         ],
         "y": [
          -4.287225437333333,
          -4.2560852138531695
         ],
         "z": [
          -4.350650768333333,
          -4.312341321690857
         ]
        },
        {
         "line": {
          "color": "blue",
          "width": 1
         },
         "marker": {
          "color": "blue",
          "size": 1
         },
         "mode": "lines+markers",
         "type": "scatter3d",
         "x": [
          9.294362846333334,
          8.294508776739997
         ],
         "y": [
          -4.011915066666667,
          -3.995089869831799
         ],
         "z": [
          -3.764694969666666,
          -3.7676533930830964
         ]
        },
        {
         "line": {
          "color": "blue",
          "width": 1
         },
         "marker": {
          "color": "blue",
          "size": 1
         },
         "mode": "lines+markers",
         "type": "scatter3d",
         "x": [
          9.299433923,
          8.299984814977154
         ],
         "y": [
          -4.6659429606666665,
          -4.657783911256715
         ],
         "z": [
          -3.044900193666667,
          -3.0127301705851646
         ]
        },
        {
         "line": {
          "color": "blue",
          "width": 1
         },
         "marker": {
          "color": "blue",
          "size": 1
         },
         "mode": "lines+markers",
         "type": "scatter3d",
         "x": [
          9.293853790333333,
          8.295820052604174
         ],
         "y": [
          -4.223339692666666,
          -4.270698552172153
         ],
         "z": [
          -2.573066949333333,
          -2.6141254049875
         ]
        },
        {
         "line": {
          "color": "blue",
          "width": 1
         },
         "marker": {
          "color": "blue",
          "size": 1
         },
         "mode": "lines+markers",
         "type": "scatter3d",
         "x": [
          9.288641242666666,
          8.28982002959075
         ],
         "y": [
          -4.622025301,
          -4.667625756740542
         ],
         "z": [
          -1.6863622656333337,
          -1.7029990545606093
         ]
        },
        {
         "line": {
          "color": "blue",
          "width": 1
         },
         "marker": {
          "color": "blue",
          "size": 1
         },
         "mode": "lines+markers",
         "type": "scatter3d",
         "x": [
          9.265198040333333,
          8.26544007866939
         ],
         "y": [
          -4.055294432666666,
          -4.077293404604852
         ],
         "z": [
          -1.3748226376333335,
          -1.375074278685383
         ]
        },
        {
         "line": {
          "color": "blue",
          "width": 1
         },
         "marker": {
          "color": "blue",
          "size": 1
         },
         "mode": "lines+markers",
         "type": "scatter3d",
         "x": [
          9.236629914,
          8.239215475931125
         ],
         "y": [
          -4.156182512333333,
          -4.201019401732956
         ],
         "z": [
          -0.4081224449666667,
          -0.4642837490889806
         ]
        },
        {
         "line": {
          "color": "blue",
          "width": 1
         },
         "marker": {
          "color": "blue",
          "size": 1
         },
         "mode": "lines+markers",
         "type": "scatter3d",
         "x": [
          9.243121464666666,
          8.248893923810105
         ],
         "y": [
          -3.5211111213333335,
          -3.414431840981657
         ],
         "z": [
          -0.28708428453333334,
          -0.2985354043895966
         ]
        },
        {
         "line": {
          "color": "blue",
          "width": 1
         },
         "marker": {
          "color": "blue",
          "size": 1
         },
         "mode": "lines+markers",
         "type": "scatter3d",
         "x": [
          9.197830428666666,
          8.203072645729664
         ],
         "y": [
          -3.3168028310000004,
          -3.282753792443419
         ],
         "z": [
          0.6608261357999999,
          0.5644019881002077
         ]
        },
        {
         "line": {
          "color": "blue",
          "width": 1
         },
         "marker": {
          "color": "blue",
          "size": 1
         },
         "mode": "lines+markers",
         "type": "scatter3d",
         "x": [
          9.262596352,
          8.281132410906274
         ],
         "y": [
          -2.679438216,
          -2.5153623218720846
         ],
         "z": [
          0.5785516387999999,
          0.47951814295693407
         ]
        },
        {
         "line": {
          "color": "blue",
          "width": 1
         },
         "marker": {
          "color": "blue",
          "size": 1
         },
         "mode": "lines+markers",
         "type": "scatter3d",
         "x": [
          9.210634737666666,
          8.22533264909771
         ],
         "y": [
          -2.198883605,
          -2.11536603311847
         ],
         "z": [
          1.4158117156666663,
          1.266799603915078
         ]
        },
        {
         "line": {
          "color": "blue",
          "width": 1
         },
         "marker": {
          "color": "blue",
          "size": 1
         },
         "mode": "lines+markers",
         "type": "scatter3d",
         "x": [
          9.299765384333332,
          8.313932560476598
         ],
         "y": [
          -1.621150618333333,
          -1.541634361932804
         ],
         "z": [
          1.1426903861,
          0.9950055582580569
         ]
        },
        {
         "line": {
          "color": "blue",
          "width": 1
         },
         "marker": {
          "color": "blue",
          "size": 1
         },
         "mode": "lines+markers",
         "type": "scatter3d",
         "x": [
          9.256880841333333,
          8.27083086149509
         ],
         "y": [
          -0.9074166944166665,
          -0.8334120706096194
         ],
         "z": [
          1.7939798231000001,
          1.6448867215956682
         ]
        },
        {
         "line": {
          "color": "blue",
          "width": 1
         },
         "marker": {
          "color": "blue",
          "size": 1
         },
         "mode": "lines+markers",
         "type": "scatter3d",
         "x": [
          9.316693314333333,
          8.319561454447385
         ],
         "y": [
          -0.43659412461666663,
          -0.48689097743649784
         ],
         "z": [
          1.3573547738,
          1.3008014308677953
         ]
        },
        {
         "line": {
          "color": "blue",
          "width": 1
         },
         "marker": {
          "color": "blue",
          "size": 1
         },
         "mode": "lines+markers",
         "type": "scatter3d",
         "x": [
          9.306825576666666,
          8.31084998051817
         ],
         "y": [
          0.4490724307166667,
          0.5117543053387421
         ],
         "z": [
          1.7562752063666667,
          1.692215902042373
         ]
        },
        {
         "line": {
          "color": "blue",
          "width": 1
         },
         "marker": {
          "color": "blue",
          "size": 1
         },
         "mode": "lines+markers",
         "type": "scatter3d",
         "x": [
          9.310599460666666,
          8.31662422390739
         ],
         "y": [
          0.7648786589333333,
          0.7154367262217941
         ],
         "z": [
          1.1932138478,
          1.2910337026306469
         ]
        }
       ],
       "layout": {
        "scene": {
         "xaxis": {
          "range": [
           2.418314777187371,
           16.154208365687623
          ],
          "title": {
           "text": "X"
          }
         },
         "yaxis": {
          "range": [
           -7.225860788939875,
           6.510032799560375
          ],
          "title": {
           "text": "Y"
          }
         },
         "zaxis": {
          "range": [
           -9.369149157999999,
           4.36674443050025
          ],
          "title": {
           "text": "Z"
          }
         }
        },
        "template": {
         "data": {
          "bar": [
           {
            "error_x": {
             "color": "#2a3f5f"
            },
            "error_y": {
             "color": "#2a3f5f"
            },
            "marker": {
             "line": {
              "color": "#E5ECF6",
              "width": 0.5
             },
             "pattern": {
              "fillmode": "overlay",
              "size": 10,
              "solidity": 0.2
             }
            },
            "type": "bar"
           }
          ],
          "barpolar": [
           {
            "marker": {
             "line": {
              "color": "#E5ECF6",
              "width": 0.5
             },
             "pattern": {
              "fillmode": "overlay",
              "size": 10,
              "solidity": 0.2
             }
            },
            "type": "barpolar"
           }
          ],
          "carpet": [
           {
            "aaxis": {
             "endlinecolor": "#2a3f5f",
             "gridcolor": "white",
             "linecolor": "white",
             "minorgridcolor": "white",
             "startlinecolor": "#2a3f5f"
            },
            "baxis": {
             "endlinecolor": "#2a3f5f",
             "gridcolor": "white",
             "linecolor": "white",
             "minorgridcolor": "white",
             "startlinecolor": "#2a3f5f"
            },
            "type": "carpet"
           }
          ],
          "choropleth": [
           {
            "colorbar": {
             "outlinewidth": 0,
             "ticks": ""
            },
            "type": "choropleth"
           }
          ],
          "contour": [
           {
            "colorbar": {
             "outlinewidth": 0,
             "ticks": ""
            },
            "colorscale": [
             [
              0,
              "#0d0887"
             ],
             [
              0.1111111111111111,
              "#46039f"
             ],
             [
              0.2222222222222222,
              "#7201a8"
             ],
             [
              0.3333333333333333,
              "#9c179e"
             ],
             [
              0.4444444444444444,
              "#bd3786"
             ],
             [
              0.5555555555555556,
              "#d8576b"
             ],
             [
              0.6666666666666666,
              "#ed7953"
             ],
             [
              0.7777777777777778,
              "#fb9f3a"
             ],
             [
              0.8888888888888888,
              "#fdca26"
             ],
             [
              1,
              "#f0f921"
             ]
            ],
            "type": "contour"
           }
          ],
          "contourcarpet": [
           {
            "colorbar": {
             "outlinewidth": 0,
             "ticks": ""
            },
            "type": "contourcarpet"
           }
          ],
          "heatmap": [
           {
            "colorbar": {
             "outlinewidth": 0,
             "ticks": ""
            },
            "colorscale": [
             [
              0,
              "#0d0887"
             ],
             [
              0.1111111111111111,
              "#46039f"
             ],
             [
              0.2222222222222222,
              "#7201a8"
             ],
             [
              0.3333333333333333,
              "#9c179e"
             ],
             [
              0.4444444444444444,
              "#bd3786"
             ],
             [
              0.5555555555555556,
              "#d8576b"
             ],
             [
              0.6666666666666666,
              "#ed7953"
             ],
             [
              0.7777777777777778,
              "#fb9f3a"
             ],
             [
              0.8888888888888888,
              "#fdca26"
             ],
             [
              1,
              "#f0f921"
             ]
            ],
            "type": "heatmap"
           }
          ],
          "heatmapgl": [
           {
            "colorbar": {
             "outlinewidth": 0,
             "ticks": ""
            },
            "colorscale": [
             [
              0,
              "#0d0887"
             ],
             [
              0.1111111111111111,
              "#46039f"
             ],
             [
              0.2222222222222222,
              "#7201a8"
             ],
             [
              0.3333333333333333,
              "#9c179e"
             ],
             [
              0.4444444444444444,
              "#bd3786"
             ],
             [
              0.5555555555555556,
              "#d8576b"
             ],
             [
              0.6666666666666666,
              "#ed7953"
             ],
             [
              0.7777777777777778,
              "#fb9f3a"
             ],
             [
              0.8888888888888888,
              "#fdca26"
             ],
             [
              1,
              "#f0f921"
             ]
            ],
            "type": "heatmapgl"
           }
          ],
          "histogram": [
           {
            "marker": {
             "pattern": {
              "fillmode": "overlay",
              "size": 10,
              "solidity": 0.2
             }
            },
            "type": "histogram"
           }
          ],
          "histogram2d": [
           {
            "colorbar": {
             "outlinewidth": 0,
             "ticks": ""
            },
            "colorscale": [
             [
              0,
              "#0d0887"
             ],
             [
              0.1111111111111111,
              "#46039f"
             ],
             [
              0.2222222222222222,
              "#7201a8"
             ],
             [
              0.3333333333333333,
              "#9c179e"
             ],
             [
              0.4444444444444444,
              "#bd3786"
             ],
             [
              0.5555555555555556,
              "#d8576b"
             ],
             [
              0.6666666666666666,
              "#ed7953"
             ],
             [
              0.7777777777777778,
              "#fb9f3a"
             ],
             [
              0.8888888888888888,
              "#fdca26"
             ],
             [
              1,
              "#f0f921"
             ]
            ],
            "type": "histogram2d"
           }
          ],
          "histogram2dcontour": [
           {
            "colorbar": {
             "outlinewidth": 0,
             "ticks": ""
            },
            "colorscale": [
             [
              0,
              "#0d0887"
             ],
             [
              0.1111111111111111,
              "#46039f"
             ],
             [
              0.2222222222222222,
              "#7201a8"
             ],
             [
              0.3333333333333333,
              "#9c179e"
             ],
             [
              0.4444444444444444,
              "#bd3786"
             ],
             [
              0.5555555555555556,
              "#d8576b"
             ],
             [
              0.6666666666666666,
              "#ed7953"
             ],
             [
              0.7777777777777778,
              "#fb9f3a"
             ],
             [
              0.8888888888888888,
              "#fdca26"
             ],
             [
              1,
              "#f0f921"
             ]
            ],
            "type": "histogram2dcontour"
           }
          ],
          "mesh3d": [
           {
            "colorbar": {
             "outlinewidth": 0,
             "ticks": ""
            },
            "type": "mesh3d"
           }
          ],
          "parcoords": [
           {
            "line": {
             "colorbar": {
              "outlinewidth": 0,
              "ticks": ""
             }
            },
            "type": "parcoords"
           }
          ],
          "pie": [
           {
            "automargin": true,
            "type": "pie"
           }
          ],
          "scatter": [
           {
            "fillpattern": {
             "fillmode": "overlay",
             "size": 10,
             "solidity": 0.2
            },
            "type": "scatter"
           }
          ],
          "scatter3d": [
           {
            "line": {
             "colorbar": {
              "outlinewidth": 0,
              "ticks": ""
             }
            },
            "marker": {
             "colorbar": {
              "outlinewidth": 0,
              "ticks": ""
             }
            },
            "type": "scatter3d"
           }
          ],
          "scattercarpet": [
           {
            "marker": {
             "colorbar": {
              "outlinewidth": 0,
              "ticks": ""
             }
            },
            "type": "scattercarpet"
           }
          ],
          "scattergeo": [
           {
            "marker": {
             "colorbar": {
              "outlinewidth": 0,
              "ticks": ""
             }
            },
            "type": "scattergeo"
           }
          ],
          "scattergl": [
           {
            "marker": {
             "colorbar": {
              "outlinewidth": 0,
              "ticks": ""
             }
            },
            "type": "scattergl"
           }
          ],
          "scattermapbox": [
           {
            "marker": {
             "colorbar": {
              "outlinewidth": 0,
              "ticks": ""
             }
            },
            "type": "scattermapbox"
           }
          ],
          "scatterpolar": [
           {
            "marker": {
             "colorbar": {
              "outlinewidth": 0,
              "ticks": ""
             }
            },
            "type": "scatterpolar"
           }
          ],
          "scatterpolargl": [
           {
            "marker": {
             "colorbar": {
              "outlinewidth": 0,
              "ticks": ""
             }
            },
            "type": "scatterpolargl"
           }
          ],
          "scatterternary": [
           {
            "marker": {
             "colorbar": {
              "outlinewidth": 0,
              "ticks": ""
             }
            },
            "type": "scatterternary"
           }
          ],
          "surface": [
           {
            "colorbar": {
             "outlinewidth": 0,
             "ticks": ""
            },
            "colorscale": [
             [
              0,
              "#0d0887"
             ],
             [
              0.1111111111111111,
              "#46039f"
             ],
             [
              0.2222222222222222,
              "#7201a8"
             ],
             [
              0.3333333333333333,
              "#9c179e"
             ],
             [
              0.4444444444444444,
              "#bd3786"
             ],
             [
              0.5555555555555556,
              "#d8576b"
             ],
             [
              0.6666666666666666,
              "#ed7953"
             ],
             [
              0.7777777777777778,
              "#fb9f3a"
             ],
             [
              0.8888888888888888,
              "#fdca26"
             ],
             [
              1,
              "#f0f921"
             ]
            ],
            "type": "surface"
           }
          ],
          "table": [
           {
            "cells": {
             "fill": {
              "color": "#EBF0F8"
             },
             "line": {
              "color": "white"
             }
            },
            "header": {
             "fill": {
              "color": "#C8D4E3"
             },
             "line": {
              "color": "white"
             }
            },
            "type": "table"
           }
          ]
         },
         "layout": {
          "annotationdefaults": {
           "arrowcolor": "#2a3f5f",
           "arrowhead": 0,
           "arrowwidth": 1
          },
          "autotypenumbers": "strict",
          "coloraxis": {
           "colorbar": {
            "outlinewidth": 0,
            "ticks": ""
           }
          },
          "colorscale": {
           "diverging": [
            [
             0,
             "#8e0152"
            ],
            [
             0.1,
             "#c51b7d"
            ],
            [
             0.2,
             "#de77ae"
            ],
            [
             0.3,
             "#f1b6da"
            ],
            [
             0.4,
             "#fde0ef"
            ],
            [
             0.5,
             "#f7f7f7"
            ],
            [
             0.6,
             "#e6f5d0"
            ],
            [
             0.7,
             "#b8e186"
            ],
            [
             0.8,
             "#7fbc41"
            ],
            [
             0.9,
             "#4d9221"
            ],
            [
             1,
             "#276419"
            ]
           ],
           "sequential": [
            [
             0,
             "#0d0887"
            ],
            [
             0.1111111111111111,
             "#46039f"
            ],
            [
             0.2222222222222222,
             "#7201a8"
            ],
            [
             0.3333333333333333,
             "#9c179e"
            ],
            [
             0.4444444444444444,
             "#bd3786"
            ],
            [
             0.5555555555555556,
             "#d8576b"
            ],
            [
             0.6666666666666666,
             "#ed7953"
            ],
            [
             0.7777777777777778,
             "#fb9f3a"
            ],
            [
             0.8888888888888888,
             "#fdca26"
            ],
            [
             1,
             "#f0f921"
            ]
           ],
           "sequentialminus": [
            [
             0,
             "#0d0887"
            ],
            [
             0.1111111111111111,
             "#46039f"
            ],
            [
             0.2222222222222222,
             "#7201a8"
            ],
            [
             0.3333333333333333,
             "#9c179e"
            ],
            [
             0.4444444444444444,
             "#bd3786"
            ],
            [
             0.5555555555555556,
             "#d8576b"
            ],
            [
             0.6666666666666666,
             "#ed7953"
            ],
            [
             0.7777777777777778,
             "#fb9f3a"
            ],
            [
             0.8888888888888888,
             "#fdca26"
            ],
            [
             1,
             "#f0f921"
            ]
           ]
          },
          "colorway": [
           "#636efa",
           "#EF553B",
           "#00cc96",
           "#ab63fa",
           "#FFA15A",
           "#19d3f3",
           "#FF6692",
           "#B6E880",
           "#FF97FF",
           "#FECB52"
          ],
          "font": {
           "color": "#2a3f5f"
          },
          "geo": {
           "bgcolor": "white",
           "lakecolor": "white",
           "landcolor": "#E5ECF6",
           "showlakes": true,
           "showland": true,
           "subunitcolor": "white"
          },
          "hoverlabel": {
           "align": "left"
          },
          "hovermode": "closest",
          "mapbox": {
           "style": "light"
          },
          "paper_bgcolor": "white",
          "plot_bgcolor": "#E5ECF6",
          "polar": {
           "angularaxis": {
            "gridcolor": "white",
            "linecolor": "white",
            "ticks": ""
           },
           "bgcolor": "#E5ECF6",
           "radialaxis": {
            "gridcolor": "white",
            "linecolor": "white",
            "ticks": ""
           }
          },
          "scene": {
           "xaxis": {
            "backgroundcolor": "#E5ECF6",
            "gridcolor": "white",
            "gridwidth": 2,
            "linecolor": "white",
            "showbackground": true,
            "ticks": "",
            "zerolinecolor": "white"
           },
           "yaxis": {
            "backgroundcolor": "#E5ECF6",
            "gridcolor": "white",
            "gridwidth": 2,
            "linecolor": "white",
            "showbackground": true,
            "ticks": "",
            "zerolinecolor": "white"
           },
           "zaxis": {
            "backgroundcolor": "#E5ECF6",
            "gridcolor": "white",
            "gridwidth": 2,
            "linecolor": "white",
            "showbackground": true,
            "ticks": "",
            "zerolinecolor": "white"
           }
          },
          "shapedefaults": {
           "line": {
            "color": "#2a3f5f"
           }
          },
          "ternary": {
           "aaxis": {
            "gridcolor": "white",
            "linecolor": "white",
            "ticks": ""
           },
           "baxis": {
            "gridcolor": "white",
            "linecolor": "white",
            "ticks": ""
           },
           "bgcolor": "#E5ECF6",
           "caxis": {
            "gridcolor": "white",
            "linecolor": "white",
            "ticks": ""
           }
          },
          "title": {
           "x": 0.05
          },
          "xaxis": {
           "automargin": true,
           "gridcolor": "white",
           "linecolor": "white",
           "ticks": "",
           "title": {
            "standoff": 15
           },
           "zerolinecolor": "white",
           "zerolinewidth": 2
          },
          "yaxis": {
           "automargin": true,
           "gridcolor": "white",
           "linecolor": "white",
           "ticks": "",
           "title": {
            "standoff": 15
           },
           "zerolinecolor": "white",
           "zerolinewidth": 2
          }
         }
        },
        "title": {
         "text": "Normales"
        }
       }
      }
     },
     "metadata": {},
     "output_type": "display_data"
    }
   ],
   "source": [
    "fig = new_plot()\n",
    "fig = build_box(fig)\n",
    "plot_triangles(fig)\n",
    "plot_normals(fig)\n",
    "fig = config_plot(fig, 'Normales')\n",
    "fig.show()"
   ]
  },
  {
   "cell_type": "markdown",
   "metadata": {},
   "source": [
    "### 3. Interseccion normales en las caras de la caja"
   ]
  },
  {
   "cell_type": "markdown",
   "metadata": {},
   "source": [
    "Cada cara de la caja puede contener varios triángulos correspondientes a las intersecciones de las normales de los triángulos de la fractura con las caras de la caja. Identificar y organizar estos triángulos en las distintas caras te permitirá modelar cómo la fractura interactúa con la caja. Estos triángulos sirven la base para la construcción de hexaedros en el siguiente paso."
   ]
  },
  {
   "cell_type": "markdown",
   "metadata": {},
   "source": [
    "#### 3.1 Promediar vectores normales"
   ]
  },
  {
   "cell_type": "markdown",
   "metadata": {},
   "source": [
    "La normal de un vertice será promedio de las normales de los triangulos a los que pertenece. "
   ]
  },
  {
   "cell_type": "code",
   "execution_count": 28,
   "metadata": {},
   "outputs": [],
   "source": [
    "normal_vertex = None\n",
    "\n",
    "def get_normal_vertex():\n",
    "    global normal_vertex, normal, M, tri\n",
    "    normal_vertex = [[] for _ in range(M.shape[0])]\n",
    "    for i, n in enumerate(normal):\n",
    "        for j in tri[i]:\n",
    "            normal_vertex[j].append(n)\n",
    "\n",
    "    for i in range(len(normal_vertex)):\n",
    "        normal_vertex[i] = np.mean(normal_vertex[i], axis=0)\n",
    "\n",
    "    normal_vertex = np.array(normal_vertex)\n",
    "\n",
    "get_normal_vertex()\n",
    "\n"
   ]
  },
  {
   "cell_type": "code",
   "execution_count": 29,
   "metadata": {},
   "outputs": [],
   "source": [
    "def plot_normals_vertex(fig):\n",
    "\n",
    "    global normal_vertex, M\n",
    "\n",
    "    for i in range(normal_vertex.shape[0]):\n",
    "        fig.add_trace(go.Scatter3d(\n",
    "            x=[M[i, 0], M[i, 0] + normal_vertex[i, 0]],\n",
    "            y=[M[i, 1], M[i, 1] + normal_vertex[i, 1]],\n",
    "            z=[M[i, 2], M[i, 2] + normal_vertex[i, 2]],\n",
    "            mode='lines+markers',\n",
    "            line=dict(color='blue', width=1),\n",
    "            marker=dict(size=1, color='blue')\n",
    "        ))"
   ]
  },
  {
   "cell_type": "code",
   "execution_count": 30,
   "metadata": {},
   "outputs": [
    {
     "data": {
      "application/vnd.plotly.v1+json": {
       "config": {
        "plotlyServerURL": "https://plot.ly"
       },
       "data": [
        {
         "line": {
          "color": "black",
          "width": 2
         },
         "mode": "lines",
         "type": "scatter3d",
         "x": [
          9.162098083707518,
          9.09958399463823
         ],
         "y": [
          6.066128146327891,
          -2.827945923555345
         ],
         "z": [
          -4.979472521590816,
          -8.922984438734423
         ]
        },
        {
         "line": {
          "color": "black",
          "width": 2
         },
         "mode": "lines",
         "type": "scatter3d",
         "x": [
          9.162098083707518,
          9.482673907285587
         ],
         "y": [
          6.066128146327891,
          6.063865380319389
         ],
         "z": [
          -4.979472521590816,
          -4.979451042539759
         ]
        },
        {
         "line": {
          "color": "black",
          "width": 2
         },
         "mode": "lines",
         "type": "scatter3d",
         "x": [
          9.162098083707518,
          9.133680769219962
         ],
         "y": [
          6.066128146327891,
          2.1245142276484503
         ],
         "z": [
          -4.979472521590816,
          3.9107713439755454
         ]
        },
        {
         "line": {
          "color": "black",
          "width": 2
         },
         "mode": "lines",
         "type": "scatter3d",
         "x": [
          9.09958399463823,
          9.420159818216298
         ],
         "y": [
          -2.827945923555345,
          -2.8302086895638467
         ],
         "z": [
          -8.922984438734423,
          -8.922962959683364
         ]
        },
        {
         "line": {
          "color": "black",
          "width": 2
         },
         "mode": "lines",
         "type": "scatter3d",
         "x": [
          9.09958399463823,
          9.071166680150675
         ],
         "y": [
          -2.827945923555345,
          -6.769559842234785
         ],
         "z": [
          -8.922984438734423,
          -0.032740573168060116
         ]
        },
        {
         "line": {
          "color": "black",
          "width": 2
         },
         "mode": "lines",
         "type": "scatter3d",
         "x": [
          9.482673907285587,
          9.420159818216298
         ],
         "y": [
          6.063865380319389,
          -2.8302086895638467
         ],
         "z": [
          -4.979451042539759,
          -8.922962959683364
         ]
        },
        {
         "line": {
          "color": "black",
          "width": 2
         },
         "mode": "lines",
         "type": "scatter3d",
         "x": [
          9.482673907285587,
          9.454256592798032
         ],
         "y": [
          6.063865380319389,
          2.1222514616399484
         ],
         "z": [
          -4.979451042539759,
          3.9107928230266022
         ]
        },
        {
         "line": {
          "color": "black",
          "width": 2
         },
         "mode": "lines",
         "type": "scatter3d",
         "x": [
          9.420159818216298,
          9.391742503728745
         ],
         "y": [
          -2.8302086895638467,
          -6.771822608243287
         ],
         "z": [
          -8.922962959683364,
          -0.032719094117003245
         ]
        },
        {
         "line": {
          "color": "black",
          "width": 2
         },
         "mode": "lines",
         "type": "scatter3d",
         "x": [
          9.133680769219962,
          9.071166680150675
         ],
         "y": [
          2.1245142276484503,
          -6.769559842234785
         ],
         "z": [
          3.9107713439755454,
          -0.032740573168060116
         ]
        },
        {
         "line": {
          "color": "black",
          "width": 2
         },
         "mode": "lines",
         "type": "scatter3d",
         "x": [
          9.133680769219962,
          9.454256592798032
         ],
         "y": [
          2.1245142276484503,
          2.1222514616399484
         ],
         "z": [
          3.9107713439755454,
          3.9107928230266022
         ]
        },
        {
         "line": {
          "color": "black",
          "width": 2
         },
         "mode": "lines",
         "type": "scatter3d",
         "x": [
          9.071166680150675,
          9.391742503728745
         ],
         "y": [
          -6.769559842234785,
          -6.771822608243287
         ],
         "z": [
          -0.032740573168060116,
          -0.032719094117003245
         ]
        },
        {
         "line": {
          "color": "black",
          "width": 2
         },
         "mode": "lines",
         "type": "scatter3d",
         "x": [
          9.454256592798032,
          9.391742503728745
         ],
         "y": [
          2.1222514616399484,
          -6.771822608243287
         ],
         "z": [
          3.9107928230266022,
          -0.032719094117003245
         ]
        },
        {
         "line": {
          "color": [
           0.1753829238095701,
           0.02832620995667212,
           0.17514324560391958
          ]
         },
         "mode": "lines",
         "type": "scatter3d",
         "x": [
          9.287533998,
          9.305806769,
          9.320039026,
          9.287533998
         ],
         "y": [
          -0.1716849127,
          0.3792956205,
          0.9034048198,
          -0.1716849127
         ],
         "z": [
          -2.042524459,
          -0.6873769707,
          -1.003829751,
          -2.042524459
         ]
        },
        {
         "line": {
          "color": [
           0.1753829238095701,
           0.02832620995667212,
           0.17514324560391958
          ]
         },
         "mode": "lines",
         "type": "scatter3d",
         "x": [
          9.287533998,
          9.320039026,
          9.287533998,
          9.287533998
         ],
         "y": [
          -0.1716849127,
          0.9034048198,
          -0.03942097276,
          -0.1716849127
         ],
         "z": [
          -2.042524459,
          -1.003829751,
          -2.12239389,
          -2.042524459
         ]
        },
        {
         "line": {
          "color": [
           0.1753829238095701,
           0.02832620995667212,
           0.17514324560391958
          ]
         },
         "mode": "lines",
         "type": "scatter3d",
         "x": [
          9.287533998,
          9.320039026,
          9.323245437,
          9.287533998
         ],
         "y": [
          -0.03942097276,
          0.9034048198,
          1.303797882,
          -0.03942097276
         ],
         "z": [
          -2.12239389,
          -1.003829751,
          -1.466763987,
          -2.12239389
         ]
        },
        {
         "line": {
          "color": [
           0.1753829238095701,
           0.02832620995667212,
           0.17514324560391958
          ]
         },
         "mode": "lines",
         "type": "scatter3d",
         "x": [
          9.287533998,
          9.323245437,
          9.287533998,
          9.287533998
         ],
         "y": [
          -0.03942097276,
          1.303797882,
          0.06168849784,
          -0.03942097276
         ],
         "z": [
          -2.12239389,
          -1.466763987,
          -2.239226037,
          -2.12239389
         ]
        },
        {
         "line": {
          "color": [
           0.1753829238095701,
           0.02832620995667212,
           0.17514324560391958
          ]
         },
         "mode": "lines",
         "type": "scatter3d",
         "x": [
          9.287533998,
          9.323245437,
          9.328516455,
          9.287533998
         ],
         "y": [
          0.06168849784,
          1.303797882,
          1.541495174,
          0.06168849784
         ],
         "z": [
          -2.239226037,
          -1.466763987,
          -2.030928357,
          -2.239226037
         ]
        },
        {
         "line": {
          "color": [
           0.1753829238095701,
           0.02832620995667212,
           0.17514324560391958
          ]
         },
         "mode": "lines",
         "type": "scatter3d",
         "x": [
          9.287533998,
          9.328516455,
          9.287533998,
          9.287533998
         ],
         "y": [
          0.06168849784,
          1.541495174,
          0.1217461997,
          0.06168849784
         ],
         "z": [
          -2.239226037,
          -2.030928357,
          -2.381584557,
          -2.239226037
         ]
        },
        {
         "line": {
          "color": [
           0.1753829238095701,
           0.02832620995667212,
           0.17514324560391958
          ]
         },
         "mode": "lines",
         "type": "scatter3d",
         "x": [
          9.287533998,
          9.328516455,
          9.313186953,
          9.287533998
         ],
         "y": [
          0.1217461997,
          1.541495174,
          1.593917404,
          0.1217461997
         ],
         "z": [
          -2.381584557,
          -2.030928357,
          -2.640914482,
          -2.381584557
         ]
        },
        {
         "line": {
          "color": [
           0.1753829238095701,
           0.02832620995667212,
           0.17514324560391958
          ]
         },
         "mode": "lines",
         "type": "scatter3d",
         "x": [
          9.287533998,
          9.313186953,
          9.287533998,
          9.287533998
         ],
         "y": [
          0.1217461997,
          1.593917404,
          0.1348732665,
          0.1217461997
         ],
         "z": [
          -2.381584557,
          -2.640914482,
          -2.535534405,
          -2.381584557
         ]
        },
        {
         "line": {
          "color": [
           0.1753829238095701,
           0.02832620995667212,
           0.17514324560391958
          ]
         },
         "mode": "lines",
         "type": "scatter3d",
         "x": [
          9.287533998,
          9.313186953,
          9.299958834,
          9.287533998
         ],
         "y": [
          0.1348732665,
          1.593917404,
          1.455245106,
          0.1348732665
         ],
         "z": [
          -2.535534405,
          -2.640914482,
          -3.237125674,
          -2.535534405
         ]
        },
        {
         "line": {
          "color": [
           0.1753829238095701,
           0.02832620995667212,
           0.17514324560391958
          ]
         },
         "mode": "lines",
         "type": "scatter3d",
         "x": [
          9.287533998,
          9.299958834,
          9.287533998,
          9.287533998
         ],
         "y": [
          0.1348732665,
          1.455245106,
          0.09978472946,
          0.1348732665
         ],
         "z": [
          -2.535534405,
          -3.237125674,
          -2.686005899,
          -2.535534405
         ]
        },
        {
         "line": {
          "color": [
           0.1753829238095701,
           0.02832620995667212,
           0.17514324560391958
          ]
         },
         "mode": "lines",
         "type": "scatter3d",
         "x": [
          9.287533998,
          9.299958834,
          9.298203651,
          9.287533998
         ],
         "y": [
          0.09978472946,
          1.455245106,
          1.138741417,
          0.09978472946
         ],
         "z": [
          -2.686005899,
          -3.237125674,
          -3.761292179,
          -2.686005899
         ]
        },
        {
         "line": {
          "color": [
           0.1753829238095701,
           0.02832620995667212,
           0.17514324560391958
          ]
         },
         "mode": "lines",
         "type": "scatter3d",
         "x": [
          9.287533998,
          9.298203651,
          9.287533998,
          9.287533998
         ],
         "y": [
          0.09978472946,
          1.138741417,
          0.0199152991,
          0.09978472946
         ],
         "z": [
          -2.686005899,
          -3.761292179,
          -2.818269838,
          -2.686005899
         ]
        },
        {
         "line": {
          "color": [
           0.1753829238095701,
           0.02832620995667212,
           0.17514324560391958
          ]
         },
         "mode": "lines",
         "type": "scatter3d",
         "x": [
          9.287533998,
          9.298203651,
          9.294596234,
          9.287533998
         ],
         "y": [
          0.0199152991,
          1.138741417,
          0.6757505062,
          0.0199152991
         ],
         "z": [
          -2.818269838,
          -3.761292179,
          -4.161989365,
          -2.818269838
         ]
        },
        {
         "line": {
          "color": [
           0.1753829238095701,
           0.02832620995667212,
           0.17514324560391958
          ]
         },
         "mode": "lines",
         "type": "scatter3d",
         "x": [
          9.287533998,
          9.294596234,
          9.287533998,
          9.287533998
         ],
         "y": [
          0.0199152991,
          0.6757505062,
          -0.09691684827,
          0.0199152991
         ],
         "z": [
          -2.818269838,
          -4.161989365,
          -2.919379309,
          -2.818269838
         ]
        },
        {
         "line": {
          "color": [
           0.1753829238095701,
           0.02832620995667212,
           0.17514324560391958
          ]
         },
         "mode": "lines",
         "type": "scatter3d",
         "x": [
          9.287533998,
          9.294596234,
          9.28652539,
          9.287533998
         ],
         "y": [
          -0.09691684827,
          0.6757505062,
          0.111585378,
          -0.09691684827
         ],
         "z": [
          -2.919379309,
          -4.161989365,
          -4.400012153,
          -2.919379309
         ]
        },
        {
         "line": {
          "color": [
           0.1753829238095701,
           0.02832620995667212,
           0.17514324560391958
          ]
         },
         "mode": "lines",
         "type": "scatter3d",
         "x": [
          9.287533998,
          9.28652539,
          9.287533998,
          9.287533998
         ],
         "y": [
          -0.09691684827,
          0.111585378,
          -0.239275368,
          -0.09691684827
         ],
         "z": [
          -2.919379309,
          -4.400012153,
          -2.979437011,
          -2.919379309
         ]
        },
        {
         "line": {
          "color": [
           0.1753829238095701,
           0.02832620995667212,
           0.17514324560391958
          ]
         },
         "mode": "lines",
         "type": "scatter3d",
         "x": [
          9.287533998,
          9.28652539,
          9.282458527,
          9.287533998
         ],
         "y": [
          -0.239275368,
          0.111585378,
          -0.4985160526,
          -0.239275368
         ],
         "z": [
          -2.979437011,
          -4.400012153,
          -4.452051305,
          -2.979437011
         ]
        },
        {
         "line": {
          "color": [
           0.1753829238095701,
           0.02832620995667212,
           0.17514324560391958
          ]
         },
         "mode": "lines",
         "type": "scatter3d",
         "x": [
          9.287533998,
          9.282458527,
          9.287533998,
          9.287533998
         ],
         "y": [
          -0.239275368,
          -0.4985160526,
          -0.3932252164,
          -0.239275368
         ],
         "z": [
          -2.979437011,
          -4.452051305,
          -2.992564078,
          -2.979437011
         ]
        },
        {
         "line": {
          "color": [
           0.1753829238095701,
           0.02832620995667212,
           0.17514324560391958
          ]
         },
         "mode": "lines",
         "type": "scatter3d",
         "x": [
          9.287533998,
          9.282458527,
          9.283481726,
          9.287533998
         ],
         "y": [
          -0.3932252164,
          -0.4985160526,
          -1.094838503,
          -0.3932252164
         ],
         "z": [
          -2.992564078,
          -4.452051305,
          -4.312994269,
          -2.992564078
         ]
        },
        {
         "line": {
          "color": [
           0.1753829238095701,
           0.02832620995667212,
           0.17514324560391958
          ]
         },
         "mode": "lines",
         "type": "scatter3d",
         "x": [
          9.287533998,
          9.283481726,
          9.287533998,
          9.287533998
         ],
         "y": [
          -0.3932252164,
          -1.094838503,
          -0.5436967097,
          -0.3932252164
         ],
         "z": [
          -2.992564078,
          -4.312994269,
          -2.957475541,
          -2.992564078
         ]
        },
        {
         "line": {
          "color": [
           0.1753829238095701,
           0.02832620995667212,
           0.17514324560391958
          ]
         },
         "mode": "lines",
         "type": "scatter3d",
         "x": [
          9.287533998,
          9.283481726,
          9.282392479,
          9.287533998
         ],
         "y": [
          -0.5436967097,
          -1.094838503,
          -1.619003927,
          -0.5436967097
         ],
         "z": [
          -2.957475541,
          -4.312994269,
          -3.99646461,
          -2.957475541
         ]
        },
        {
         "line": {
          "color": [
           0.1753829238095701,
           0.02832620995667212,
           0.17514324560391958
          ]
         },
         "mode": "lines",
         "type": "scatter3d",
         "x": [
          9.287533998,
          9.282392479,
          9.287533998,
          9.287533998
         ],
         "y": [
          -0.5436967097,
          -1.619003927,
          -0.6759606496,
          -0.5436967097
         ],
         "z": [
          -2.957475541,
          -3.99646461,
          -2.87760611,
          -2.957475541
         ]
        },
        {
         "line": {
          "color": [
           0.1753829238095701,
           0.02832620995667212,
           0.17514324560391958
          ]
         },
         "mode": "lines",
         "type": "scatter3d",
         "x": [
          9.287533998,
          9.282392479,
          9.281000261,
          9.287533998
         ],
         "y": [
          -0.6759606496,
          -1.619003927,
          -2.019697012,
          -0.6759606496
         ],
         "z": [
          -2.87760611,
          -3.99646461,
          -3.533453757,
          -2.87760611
         ]
        },
        {
         "line": {
          "color": [
           0.1753829238095701,
           0.02832620995667212,
           0.17514324560391958
          ]
         },
         "mode": "lines",
         "type": "scatter3d",
         "x": [
          9.287533998,
          9.281000261,
          9.287533998,
          9.287533998
         ],
         "y": [
          -0.6759606496,
          -2.019697012,
          -0.7770701202,
          -0.6759606496
         ],
         "z": [
          -2.87760611,
          -3.533453757,
          -2.760773963,
          -2.87760611
         ]
        },
        {
         "line": {
          "color": [
           0.1753829238095701,
           0.02832620995667212,
           0.17514324560391958
          ]
         },
         "mode": "lines",
         "type": "scatter3d",
         "x": [
          9.287533998,
          9.281000261,
          9.277817595,
          9.287533998
         ],
         "y": [
          -0.7770701202,
          -2.019697012,
          -2.257691203,
          -0.7770701202
         ],
         "z": [
          -2.760773963,
          -3.533453757,
          -2.969280898,
          -2.760773963
         ]
        },
        {
         "line": {
          "color": [
           0.1753829238095701,
           0.02832620995667212,
           0.17514324560391958
          ]
         },
         "mode": "lines",
         "type": "scatter3d",
         "x": [
          9.287533998,
          9.277817595,
          9.287533998,
          9.287533998
         ],
         "y": [
          -0.7770701202,
          -2.257691203,
          -0.837127822,
          -0.7770701202
         ],
         "z": [
          -2.760773963,
          -2.969280898,
          -2.618415443,
          -2.760773963
         ]
        },
        {
         "line": {
          "color": [
           0.1753829238095701,
           0.02832620995667212,
           0.17514324560391958
          ]
         },
         "mode": "lines",
         "type": "scatter3d",
         "x": [
          9.287533998,
          9.277817595,
          9.290601687,
          9.287533998
         ],
         "y": [
          -0.837127822,
          -2.257691203,
          -2.30955822,
          -0.837127822
         ],
         "z": [
          -2.618415443,
          -2.969280898,
          -2.359238813,
          -2.618415443
         ]
        },
        {
         "line": {
          "color": [
           0.1753829238095701,
           0.02832620995667212,
           0.17514324560391958
          ]
         },
         "mode": "lines",
         "type": "scatter3d",
         "x": [
          9.287533998,
          9.290601687,
          9.287533998,
          9.287533998
         ],
         "y": [
          -0.837127822,
          -2.30955822,
          -0.8502548888,
          -0.837127822
         ],
         "z": [
          -2.618415443,
          -2.359238813,
          -2.464465595,
          -2.618415443
         ]
        },
        {
         "line": {
          "color": [
           0.1753829238095701,
           0.02832620995667212,
           0.17514324560391958
          ]
         },
         "mode": "lines",
         "type": "scatter3d",
         "x": [
          9.287533998,
          9.290601687,
          9.302112188,
          9.287533998
         ],
         "y": [
          -0.8502548888,
          -2.30955822,
          -2.170323617,
          -0.8502548888
         ],
         "z": [
          -2.464465595,
          -2.359238813,
          -1.76301112,
          -2.464465595
         ]
        },
        {
         "line": {
          "color": [
           0.1753829238095701,
           0.02832620995667212,
           0.17514324560391958
          ]
         },
         "mode": "lines",
         "type": "scatter3d",
         "x": [
          9.287533998,
          9.302112188,
          9.287533998,
          9.287533998
         ],
         "y": [
          -0.8502548888,
          -2.170323617,
          -0.8151663518,
          -0.8502548888
         ],
         "z": [
          -2.464465595,
          -1.76301112,
          -2.313994101,
          -2.464465595
         ]
        },
        {
         "line": {
          "color": [
           0.1753829238095701,
           0.02832620995667212,
           0.17514324560391958
          ]
         },
         "mode": "lines",
         "type": "scatter3d",
         "x": [
          9.287533998,
          9.302112188,
          9.273374805,
          9.287533998
         ],
         "y": [
          -0.8151663518,
          -2.170323617,
          -1.853798891,
          -0.8151663518
         ],
         "z": [
          -2.313994101,
          -1.76301112,
          -1.239017433,
          -2.313994101
         ]
        },
        {
         "line": {
          "color": [
           0.1753829238095701,
           0.02832620995667212,
           0.17514324560391958
          ]
         },
         "mode": "lines",
         "type": "scatter3d",
         "x": [
          9.287533998,
          9.273374805,
          9.287533998,
          9.287533998
         ],
         "y": [
          -0.8151663518,
          -1.853798891,
          -0.7352969214,
          -0.8151663518
         ],
         "z": [
          -2.313994101,
          -1.239017433,
          -2.181730162,
          -2.313994101
         ]
        },
        {
         "line": {
          "color": [
           0.1753829238095701,
           0.02832620995667212,
           0.17514324560391958
          ]
         },
         "mode": "lines",
         "type": "scatter3d",
         "x": [
          9.287533998,
          9.273374805,
          9.239047448,
          9.287533998
         ],
         "y": [
          -0.7352969214,
          -1.853798891,
          -1.390780611,
          -0.7352969214
         ],
         "z": [
          -2.181730162,
          -1.239017433,
          -0.8387236435,
          -2.181730162
         ]
        },
        {
         "line": {
          "color": [
           0.1753829238095701,
           0.02832620995667212,
           0.17514324560391958
          ]
         },
         "mode": "lines",
         "type": "scatter3d",
         "x": [
          9.287533998,
          9.239047448,
          9.287533998,
          9.287533998
         ],
         "y": [
          -0.7352969214,
          -1.390780611,
          -0.618464774,
          -0.7352969214
         ],
         "z": [
          -2.181730162,
          -0.8387236435,
          -2.080620691,
          -2.181730162
         ]
        },
        {
         "line": {
          "color": [
           0.1753829238095701,
           0.02832620995667212,
           0.17514324560391958
          ]
         },
         "mode": "lines",
         "type": "scatter3d",
         "x": [
          9.287533998,
          9.239047448,
          9.234956884,
          9.287533998
         ],
         "y": [
          -0.618464774,
          -1.390780611,
          -0.8267085275,
          -0.618464774
         ],
         "z": [
          -2.080620691,
          -0.8387236435,
          -0.6008619855,
          -2.080620691
         ]
        },
        {
         "line": {
          "color": [
           0.1753829238095701,
           0.02832620995667212,
           0.17514324560391958
          ]
         },
         "mode": "lines",
         "type": "scatter3d",
         "x": [
          9.287533998,
          9.234956884,
          9.287533998,
          9.287533998
         ],
         "y": [
          -0.618464774,
          -0.8267085275,
          -0.4761062543,
          -0.618464774
         ],
         "z": [
          -2.080620691,
          -0.6008619855,
          -2.020562989,
          -2.080620691
         ]
        },
        {
         "line": {
          "color": [
           0.1753829238095701,
           0.02832620995667212,
           0.17514324560391958
          ]
         },
         "mode": "lines",
         "type": "scatter3d",
         "x": [
          9.287533998,
          9.234956884,
          9.263444776,
          9.287533998
         ],
         "y": [
          -0.4761062543,
          -0.8267085275,
          -0.216843646,
          -0.4761062543
         ],
         "z": [
          -2.020562989,
          -0.6008619855,
          -0.5485213082,
          -2.020562989
         ]
        },
        {
         "line": {
          "color": [
           0.1753829238095701,
           0.02832620995667212,
           0.17514324560391958
          ]
         },
         "mode": "lines",
         "type": "scatter3d",
         "x": [
          9.287533998,
          9.263444776,
          9.287533998,
          9.287533998
         ],
         "y": [
          -0.4761062543,
          -0.216843646,
          -0.3221564059,
          -0.4761062543
         ],
         "z": [
          -2.020562989,
          -0.5485213082,
          -2.007435922,
          -2.020562989
         ]
        },
        {
         "line": {
          "color": [
           0.1753829238095701,
           0.02832620995667212,
           0.17514324560391958
          ]
         },
         "mode": "lines",
         "type": "scatter3d",
         "x": [
          9.287533998,
          9.263444776,
          9.305806769,
          9.287533998
         ],
         "y": [
          -0.3221564059,
          -0.216843646,
          0.3792956205,
          -0.3221564059
         ],
         "z": [
          -2.007435922,
          -0.5485213082,
          -0.6873769707,
          -2.007435922
         ]
        },
        {
         "line": {
          "color": [
           0.1753829238095701,
           0.02832620995667212,
           0.17514324560391958
          ]
         },
         "mode": "lines",
         "type": "scatter3d",
         "x": [
          9.287533998,
          9.305806769,
          9.287533998,
          9.287533998
         ],
         "y": [
          -0.3221564059,
          0.3792956205,
          -0.1716849127,
          -0.3221564059
         ],
         "z": [
          -2.007435922,
          -0.6873769707,
          -2.042524459,
          -2.007435922
         ]
        },
        {
         "line": {
          "color": [
           0.1753829238095701,
           0.02832620995667212,
           0.17514324560391958
          ]
         },
         "mode": "lines",
         "type": "scatter3d",
         "x": [
          9.305806769,
          9.250360091,
          9.21466313,
          9.305806769
         ],
         "y": [
          0.3792956205,
          0.9299951124,
          1.845335315,
          0.3792956205
         ],
         "z": [
          -0.6873769707,
          0.6645607923,
          0.1115787796,
          -0.6873769707
         ]
        },
        {
         "line": {
          "color": [
           0.1753829238095701,
           0.02832620995667212,
           0.17514324560391958
          ]
         },
         "mode": "lines",
         "type": "scatter3d",
         "x": [
          9.305806769,
          9.21466313,
          9.320039026,
          9.305806769
         ],
         "y": [
          0.3792956205,
          1.845335315,
          0.9034048198,
          0.3792956205
         ],
         "z": [
          -0.6873769707,
          0.1115787796,
          -1.003829751,
          -0.6873769707
         ]
        },
        {
         "line": {
          "color": [
           0.1753829238095701,
           0.02832620995667212,
           0.17514324560391958
          ]
         },
         "mode": "lines",
         "type": "scatter3d",
         "x": [
          9.320039026,
          9.21466313,
          9.206051792,
          9.320039026
         ],
         "y": [
          0.9034048198,
          1.845335315,
          2.542830274,
          0.9034048198
         ],
         "z": [
          -1.003829751,
          0.1115787796,
          -0.6969988122,
          -1.003829751
         ]
        },
        {
         "line": {
          "color": [
           0.1753829238095701,
           0.02832620995667212,
           0.17514324560391958
          ]
         },
         "mode": "lines",
         "type": "scatter3d",
         "x": [
          9.320039026,
          9.206051792,
          9.323245437,
          9.320039026
         ],
         "y": [
          0.9034048198,
          2.542830274,
          1.303797882,
          0.9034048198
         ],
         "z": [
          -1.003829751,
          -0.6969988122,
          -1.466763987,
          -1.003829751
         ]
        },
        {
         "line": {
          "color": [
           0.1753829238095701,
           0.02832620995667212,
           0.17514324560391958
          ]
         },
         "mode": "lines",
         "type": "scatter3d",
         "x": [
          9.323245437,
          9.206051792,
          9.204654066,
          9.323245437
         ],
         "y": [
          1.303797882,
          2.542830274,
          2.957321747,
          1.303797882
         ],
         "z": [
          -1.466763987,
          -0.6969988122,
          -1.680181124,
          -1.466763987
         ]
        },
        {
         "line": {
          "color": [
           0.1753829238095701,
           0.02832620995667212,
           0.17514324560391958
          ]
         },
         "mode": "lines",
         "type": "scatter3d",
         "x": [
          9.323245437,
          9.204654066,
          9.328516455,
          9.323245437
         ],
         "y": [
          1.303797882,
          2.957321747,
          1.541495174,
          1.303797882
         ],
         "z": [
          -1.466763987,
          -1.680181124,
          -2.030928357,
          -1.466763987
         ]
        },
        {
         "line": {
          "color": [
           0.1753829238095701,
           0.02832620995667212,
           0.17514324560391958
          ]
         },
         "mode": "lines",
         "type": "scatter3d",
         "x": [
          9.328516455,
          9.204654066,
          9.224986672,
          9.328516455
         ],
         "y": [
          1.541495174,
          2.957321747,
          3.050250519,
          1.541495174
         ],
         "z": [
          -2.030928357,
          -1.680181124,
          -2.743810283,
          -2.030928357
         ]
        },
        {
         "line": {
          "color": [
           0.1753829238095701,
           0.02832620995667212,
           0.17514324560391958
          ]
         },
         "mode": "lines",
         "type": "scatter3d",
         "x": [
          9.328516455,
          9.224986672,
          9.313186953,
          9.328516455
         ],
         "y": [
          1.541495174,
          3.050250519,
          1.593917404,
          1.541495174
         ],
         "z": [
          -2.030928357,
          -2.743810283,
          -2.640914482,
          -2.030928357
         ]
        },
        {
         "line": {
          "color": [
           0.1753829238095701,
           0.02832620995667212,
           0.17514324560391958
          ]
         },
         "mode": "lines",
         "type": "scatter3d",
         "x": [
          9.313186953,
          9.224986672,
          9.259143063,
          9.313186953
         ],
         "y": [
          1.593917404,
          3.050250519,
          2.810082456,
          1.593917404
         ],
         "z": [
          -2.640914482,
          -2.743810283,
          -3.786919773,
          -2.640914482
         ]
        },
        {
         "line": {
          "color": [
           0.1753829238095701,
           0.02832620995667212,
           0.17514324560391958
          ]
         },
         "mode": "lines",
         "type": "scatter3d",
         "x": [
          9.313186953,
          9.259143063,
          9.299958834,
          9.313186953
         ],
         "y": [
          1.593917404,
          2.810082456,
          1.455245106,
          1.593917404
         ],
         "z": [
          -2.640914482,
          -3.786919773,
          -3.237125674,
          -2.640914482
         ]
        },
        {
         "line": {
          "color": [
           0.1753829238095701,
           0.02832620995667212,
           0.17514324560391958
          ]
         },
         "mode": "lines",
         "type": "scatter3d",
         "x": [
          9.299958834,
          9.259143063,
          9.299379905,
          9.299958834
         ],
         "y": [
          1.455245106,
          2.810082456,
          2.257054838,
          1.455245106
         ],
         "z": [
          -3.237125674,
          -3.786919773,
          -4.703693744,
          -3.237125674
         ]
        },
        {
         "line": {
          "color": [
           0.1753829238095701,
           0.02832620995667212,
           0.17514324560391958
          ]
         },
         "mode": "lines",
         "type": "scatter3d",
         "x": [
          9.299958834,
          9.299379905,
          9.298203651,
          9.299958834
         ],
         "y": [
          1.455245106,
          2.257054838,
          1.138741417,
          1.455245106
         ],
         "z": [
          -3.237125674,
          -4.703693744,
          -3.761292179,
          -3.237125674
         ]
        },
        {
         "line": {
          "color": [
           0.1753829238095701,
           0.02832620995667212,
           0.17514324560391958
          ]
         },
         "mode": "lines",
         "type": "scatter3d",
         "x": [
          9.298203651,
          9.299379905,
          9.338014887,
          9.298203651
         ],
         "y": [
          1.138741417,
          2.257054838,
          1.447323864,
          1.138741417
         ],
         "z": [
          -3.761292179,
          -4.703693744,
          -5.403595017,
          -3.761292179
         ]
        },
        {
         "line": {
          "color": [
           0.1753829238095701,
           0.02832620995667212,
           0.17514324560391958
          ]
         },
         "mode": "lines",
         "type": "scatter3d",
         "x": [
          9.298203651,
          9.338014887,
          9.294596234,
          9.298203651
         ],
         "y": [
          1.138741417,
          1.447323864,
          0.6757505062,
          1.138741417
         ],
         "z": [
          -3.761292179,
          -5.403595017,
          -4.161989365,
          -3.761292179
         ]
        },
        {
         "line": {
          "color": [
           0.1753829238095701,
           0.02832620995667212,
           0.17514324560391958
          ]
         },
         "mode": "lines",
         "type": "scatter3d",
         "x": [
          9.294596234,
          9.338014887,
          9.330785969,
          9.294596234
         ],
         "y": [
          0.6757505062,
          1.447323864,
          0.4617306332,
          0.6757505062
         ],
         "z": [
          -4.161989365,
          -5.403595017,
          -5.820008233,
          -4.161989365
         ]
        },
        {
         "line": {
          "color": [
           0.1753829238095701,
           0.02832620995667212,
           0.17514324560391958
          ]
         },
         "mode": "lines",
         "type": "scatter3d",
         "x": [
          9.294596234,
          9.330785969,
          9.28652539,
          9.294596234
         ],
         "y": [
          0.6757505062,
          0.4617306332,
          0.111585378,
          0.6757505062
         ],
         "z": [
          -4.161989365,
          -5.820008233,
          -4.400012153,
          -4.161989365
         ]
        },
        {
         "line": {
          "color": [
           0.1753829238095701,
           0.02832620995667212,
           0.17514324560391958
          ]
         },
         "mode": "lines",
         "type": "scatter3d",
         "x": [
          9.28652539,
          9.330785969,
          9.310426744,
          9.28652539
         ],
         "y": [
          0.111585378,
          0.4617306332,
          -0.603857688,
          0.111585378
         ],
         "z": [
          -4.400012153,
          -5.820008233,
          -5.911328283,
          -4.400012153
         ]
        },
        {
         "line": {
          "color": [
           0.1753829238095701,
           0.02832620995667212,
           0.17514324560391958
          ]
         },
         "mode": "lines",
         "type": "scatter3d",
         "x": [
          9.28652539,
          9.310426744,
          9.282458527,
          9.28652539
         ],
         "y": [
          0.111585378,
          -0.603857688,
          -0.4985160526,
          0.111585378
         ],
         "z": [
          -4.400012153,
          -5.911328283,
          -4.452051305,
          -4.400012153
         ]
        },
        {
         "line": {
          "color": [
           0.1753829238095701,
           0.02832620995667212,
           0.17514324560391958
          ]
         },
         "mode": "lines",
         "type": "scatter3d",
         "x": [
          9.282458527,
          9.310426744,
          9.301611535,
          9.282458527
         ],
         "y": [
          -0.4985160526,
          -0.603857688,
          -1.645928729,
          -0.4985160526
         ],
         "z": [
          -4.452051305,
          -5.911328283,
          -5.668365682,
          -4.452051305
         ]
        },
        {
         "line": {
          "color": [
           0.1753829238095701,
           0.02832620995667212,
           0.17514324560391958
          ]
         },
         "mode": "lines",
         "type": "scatter3d",
         "x": [
          9.282458527,
          9.301611535,
          9.283481726,
          9.282458527
         ],
         "y": [
          -0.4985160526,
          -1.645928729,
          -1.094838503,
          -0.4985160526
         ],
         "z": [
          -4.452051305,
          -5.668365682,
          -4.312994269,
          -4.452051305
         ]
        },
        {
         "line": {
          "color": [
           0.1753829238095701,
           0.02832620995667212,
           0.17514324560391958
          ]
         },
         "mode": "lines",
         "type": "scatter3d",
         "x": [
          9.283481726,
          9.301611535,
          9.295561508,
          9.283481726
         ],
         "y": [
          -1.094838503,
          -1.645928729,
          -2.561991353,
          -1.094838503
         ],
         "z": [
          -4.312994269,
          -5.668365682,
          -5.115213259,
          -4.312994269
         ]
        },
        {
         "line": {
          "color": [
           0.1753829238095701,
           0.02832620995667212,
           0.17514324560391958
          ]
         },
         "mode": "lines",
         "type": "scatter3d",
         "x": [
          9.283481726,
          9.295561508,
          9.282392479,
          9.283481726
         ],
         "y": [
          -1.094838503,
          -2.561991353,
          -1.619003927,
          -1.094838503
         ],
         "z": [
          -4.312994269,
          -5.115213259,
          -3.99646461,
          -4.312994269
         ]
        },
        {
         "line": {
          "color": [
           0.1753829238095701,
           0.02832620995667212,
           0.17514324560391958
          ]
         },
         "mode": "lines",
         "type": "scatter3d",
         "x": [
          9.282392479,
          9.295561508,
          9.308582016,
          9.282392479
         ],
         "y": [
          -1.619003927,
          -2.561991353,
          -3.262080718,
          -1.619003927
         ],
         "z": [
          -3.99646461,
          -5.115213259,
          -4.305856231,
          -3.99646461
         ]
        },
        {
         "line": {
          "color": [
           0.1753829238095701,
           0.02832620995667212,
           0.17514324560391958
          ]
         },
         "mode": "lines",
         "type": "scatter3d",
         "x": [
          9.282392479,
          9.308582016,
          9.281000261,
          9.282392479
         ],
         "y": [
          -1.619003927,
          -3.262080718,
          -2.019697012,
          -1.619003927
         ],
         "z": [
          -3.99646461,
          -4.305856231,
          -3.533453757,
          -3.99646461
         ]
        },
        {
         "line": {
          "color": [
           0.1753829238095701,
           0.02832620995667212,
           0.17514324560391958
          ]
         },
         "mode": "lines",
         "type": "scatter3d",
         "x": [
          9.281000261,
          9.308582016,
          9.298667448,
          9.281000261
         ],
         "y": [
          -2.019697012,
          -3.262080718,
          -3.677799728,
          -2.019697012
         ],
         "z": [
          -3.533453757,
          -4.305856231,
          -3.319328415,
          -3.533453757
         ]
        },
        {
         "line": {
          "color": [
           0.1753829238095701,
           0.02832620995667212,
           0.17514324560391958
          ]
         },
         "mode": "lines",
         "type": "scatter3d",
         "x": [
          9.281000261,
          9.298667448,
          9.277817595,
          9.281000261
         ],
         "y": [
          -2.019697012,
          -3.677799728,
          -2.257691203,
          -2.019697012
         ],
         "z": [
          -3.533453757,
          -3.319328415,
          -2.969280898,
          -3.533453757
         ]
        },
        {
         "line": {
          "color": [
           0.1753829238095701,
           0.02832620995667212,
           0.17514324560391958
          ]
         },
         "mode": "lines",
         "type": "scatter3d",
         "x": [
          9.277817595,
          9.298667448,
          9.259098677,
          9.277817595
         ],
         "y": [
          -2.257691203,
          -3.677799728,
          -3.76805495,
          -2.257691203
         ],
         "z": [
          -2.969280898,
          -3.319328415,
          -2.25340053,
          -2.969280898
         ]
        },
        {
         "line": {
          "color": [
           0.1753829238095701,
           0.02832620995667212,
           0.17514324560391958
          ]
         },
         "mode": "lines",
         "type": "scatter3d",
         "x": [
          9.277817595,
          9.259098677,
          9.290601687,
          9.277817595
         ],
         "y": [
          -2.257691203,
          -3.76805495,
          -2.30955822,
          -2.257691203
         ],
         "z": [
          -2.969280898,
          -2.25340053,
          -2.359238813,
          -2.969280898
         ]
        },
        {
         "line": {
          "color": [
           0.1753829238095701,
           0.02832620995667212,
           0.17514324560391958
          ]
         },
         "mode": "lines",
         "type": "scatter3d",
         "x": [
          9.290601687,
          9.259098677,
          9.253465639,
          9.290601687
         ],
         "y": [
          -2.30955822,
          -3.76805495,
          -3.523971795,
          -2.30955822
         ],
         "z": [
          -2.359238813,
          -2.25340053,
          -1.211853019,
          -2.359238813
         ]
        },
        {
         "line": {
          "color": [
           0.1753829238095701,
           0.02832620995667212,
           0.17514324560391958
          ]
         },
         "mode": "lines",
         "type": "scatter3d",
         "x": [
          9.290601687,
          9.253465639,
          9.302112188,
          9.290601687
         ],
         "y": [
          -2.30955822,
          -3.523971795,
          -2.170323617,
          -2.30955822
         ],
         "z": [
          -2.359238813,
          -1.211853019,
          -1.76301112,
          -2.359238813
         ]
        },
        {
         "line": {
          "color": [
           0.1753829238095701,
           0.02832620995667212,
           0.17514324560391958
          ]
         },
         "mode": "lines",
         "type": "scatter3d",
         "x": [
          9.302112188,
          9.253465639,
          9.302504457,
          9.302112188
         ],
         "y": [
          -2.170323617,
          -3.523971795,
          -2.96864238,
          -2.170323617
         ],
         "z": [
          -1.76301112,
          -1.211853019,
          -0.2960998826,
          -1.76301112
         ]
        },
        {
         "line": {
          "color": [
           0.1753829238095701,
           0.02832620995667212,
           0.17514324560391958
          ]
         },
         "mode": "lines",
         "type": "scatter3d",
         "x": [
          9.302112188,
          9.302504457,
          9.273374805,
          9.302112188
         ],
         "y": [
          -2.170323617,
          -2.96864238,
          -1.853798891,
          -2.170323617
         ],
         "z": [
          -1.76301112,
          -0.2960998826,
          -1.239017433,
          -1.76301112
         ]
        },
        {
         "line": {
          "color": [
           0.1753829238095701,
           0.02832620995667212,
           0.17514324560391958
          ]
         },
         "mode": "lines",
         "type": "scatter3d",
         "x": [
          9.273374805,
          9.302504457,
          9.367692068,
          9.273374805
         ],
         "y": [
          -1.853798891,
          -2.96864238,
          -2.158625344,
          -1.853798891
         ],
         "z": [
          -1.239017433,
          -0.2960998826,
          0.399876557,
          -1.239017433
         ]
        },
        {
         "line": {
          "color": [
           0.1753829238095701,
           0.02832620995667212,
           0.17514324560391958
          ]
         },
         "mode": "lines",
         "type": "scatter3d",
         "x": [
          9.273374805,
          9.367692068,
          9.239047448,
          9.273374805
         ],
         "y": [
          -1.853798891,
          -2.158625344,
          -1.390780611,
          -1.853798891
         ],
         "z": [
          -1.239017433,
          0.399876557,
          -0.8387236435,
          -1.239017433
         ]
        },
        {
         "line": {
          "color": [
           0.1753829238095701,
           0.02832620995667212,
           0.17514324560391958
          ]
         },
         "mode": "lines",
         "type": "scatter3d",
         "x": [
          9.239047448,
          9.367692068,
          9.384984471,
          9.239047448
         ],
         "y": [
          -1.390780611,
          -2.158625344,
          -1.177847964,
          -1.390780611
         ],
         "z": [
          -0.8387236435,
          0.399876557,
          0.8125142533,
          -0.8387236435
         ]
        },
        {
         "line": {
          "color": [
           0.1753829238095701,
           0.02832620995667212,
           0.17514324560391958
          ]
         },
         "mode": "lines",
         "type": "scatter3d",
         "x": [
          9.239047448,
          9.384984471,
          9.234956884,
          9.239047448
         ],
         "y": [
          -1.390780611,
          -1.177847964,
          -0.8267085275,
          -1.390780611
         ],
         "z": [
          -0.8387236435,
          0.8125142533,
          -0.6008619855,
          -0.8387236435
         ]
        },
        {
         "line": {
          "color": [
           0.1753829238095701,
           0.02832620995667212,
           0.17514324560391958
          ]
         },
         "mode": "lines",
         "type": "scatter3d",
         "x": [
          9.234956884,
          9.384984471,
          9.326057033,
          9.234956884
         ],
         "y": [
          -0.8267085275,
          -1.177847964,
          -0.1145108376,
          -0.8267085275
         ],
         "z": [
          -0.6008619855,
          0.8125142533,
          0.9058052001,
          -0.6008619855
         ]
        },
        {
         "line": {
          "color": [
           0.1753829238095701,
           0.02832620995667212,
           0.17514324560391958
          ]
         },
         "mode": "lines",
         "type": "scatter3d",
         "x": [
          9.234956884,
          9.326057033,
          9.263444776,
          9.234956884
         ],
         "y": [
          -0.8267085275,
          -0.1145108376,
          -0.216843646,
          -0.8267085275
         ],
         "z": [
          -0.6008619855,
          0.9058052001,
          -0.5485213082,
          -0.6008619855
         ]
        },
        {
         "line": {
          "color": [
           0.1753829238095701,
           0.02832620995667212,
           0.17514324560391958
          ]
         },
         "mode": "lines",
         "type": "scatter3d",
         "x": [
          9.263444776,
          9.326057033,
          9.250360091,
          9.263444776
         ],
         "y": [
          -0.216843646,
          -0.1145108376,
          0.9299951124,
          -0.216843646
         ],
         "z": [
          -0.5485213082,
          0.9058052001,
          0.6645607923,
          -0.5485213082
         ]
        },
        {
         "line": {
          "color": [
           0.1753829238095701,
           0.02832620995667212,
           0.17514324560391958
          ]
         },
         "mode": "lines",
         "type": "scatter3d",
         "x": [
          9.263444776,
          9.250360091,
          9.305806769,
          9.263444776
         ],
         "y": [
          -0.216843646,
          0.9299951124,
          0.3792956205,
          -0.216843646
         ],
         "z": [
          -0.5485213082,
          0.6645607923,
          -0.6873769707,
          -0.5485213082
         ]
        },
        {
         "line": {
          "color": [
           0.1753829238095701,
           0.02832620995667212,
           0.17514324560391958
          ]
         },
         "mode": "lines",
         "type": "scatter3d",
         "x": [
          9.250360091,
          9.355381258,
          9.428949262,
          9.250360091
         ],
         "y": [
          0.9299951124,
          1.479151702,
          2.782733428,
          0.9299951124
         ],
         "z": [
          0.6645607923,
          2.009275551,
          1.215960809,
          0.6645607923
         ]
        },
        {
         "line": {
          "color": [
           0.1753829238095701,
           0.02832620995667212,
           0.17514324560391958
          ]
         },
         "mode": "lines",
         "type": "scatter3d",
         "x": [
          9.250360091,
          9.428949262,
          9.21466313,
          9.250360091
         ],
         "y": [
          0.9299951124,
          2.782733428,
          1.845335315,
          0.9299951124
         ],
         "z": [
          0.6645607923,
          1.215960809,
          0.1115787796,
          0.6645607923
         ]
        },
        {
         "line": {
          "color": [
           0.1753829238095701,
           0.02832620995667212,
           0.17514324560391958
          ]
         },
         "mode": "lines",
         "type": "scatter3d",
         "x": [
          9.21466313,
          9.428949262,
          9.436176341,
          9.21466313
         ],
         "y": [
          1.845335315,
          2.782733428,
          3.772145269,
          1.845335315
         ],
         "z": [
          0.1115787796,
          1.215960809,
          0.06460707931,
          0.1115787796
         ]
        },
        {
         "line": {
          "color": [
           0.1753829238095701,
           0.02832620995667212,
           0.17514324560391958
          ]
         },
         "mode": "lines",
         "type": "scatter3d",
         "x": [
          9.21466313,
          9.436176341,
          9.206051792,
          9.21466313
         ],
         "y": [
          1.845335315,
          3.772145269,
          2.542830274,
          1.845335315
         ],
         "z": [
          0.1115787796,
          0.06460707931,
          -0.6969988122,
          0.1115787796
         ]
        },
        {
         "line": {
          "color": [
           0.1753829238095701,
           0.02832620995667212,
           0.17514324560391958
          ]
         },
         "mode": "lines",
         "type": "scatter3d",
         "x": [
          9.206051792,
          9.436176341,
          9.399273492,
          9.206051792
         ],
         "y": [
          2.542830274,
          3.772145269,
          4.366042074,
          2.542830274
         ],
         "z": [
          -0.6969988122,
          0.06460707931,
          -1.330438946,
          -0.6969988122
         ]
        },
        {
         "line": {
          "color": [
           0.1753829238095701,
           0.02832620995667212,
           0.17514324560391958
          ]
         },
         "mode": "lines",
         "type": "scatter3d",
         "x": [
          9.206051792,
          9.399273492,
          9.204654066,
          9.206051792
         ],
         "y": [
          2.542830274,
          4.366042074,
          2.957321747,
          2.542830274
         ],
         "z": [
          -0.6969988122,
          -1.330438946,
          -1.680181124,
          -0.6969988122
         ]
        },
        {
         "line": {
          "color": [
           0.1753829238095701,
           0.02832620995667212,
           0.17514324560391958
          ]
         },
         "mode": "lines",
         "type": "scatter3d",
         "x": [
          9.204654066,
          9.399273492,
          9.370623984,
          9.204654066
         ],
         "y": [
          2.957321747,
          4.366042074,
          4.503159719,
          2.957321747
         ],
         "z": [
          -1.680181124,
          -1.330438946,
          -2.842329846,
          -1.680181124
         ]
        },
        {
         "line": {
          "color": [
           0.1753829238095701,
           0.02832620995667212,
           0.17514324560391958
          ]
         },
         "mode": "lines",
         "type": "scatter3d",
         "x": [
          9.204654066,
          9.370623984,
          9.224986672,
          9.204654066
         ],
         "y": [
          2.957321747,
          4.503159719,
          3.050250519,
          2.957321747
         ],
         "z": [
          -1.680181124,
          -2.842329846,
          -2.743810283,
          -1.680181124
         ]
        },
        {
         "line": {
          "color": [
           0.1753829238095701,
           0.02832620995667212,
           0.17514324560391958
          ]
         },
         "mode": "lines",
         "type": "scatter3d",
         "x": [
          9.224986672,
          9.370623984,
          9.342544964,
          9.224986672
         ],
         "y": [
          3.050250519,
          4.503159719,
          4.163380267,
          3.050250519
         ],
         "z": [
          -2.743810283,
          -2.842329846,
          -4.332520222,
          -2.743810283
         ]
        },
        {
         "line": {
          "color": [
           0.1753829238095701,
           0.02832620995667212,
           0.17514324560391958
          ]
         },
         "mode": "lines",
         "type": "scatter3d",
         "x": [
          9.224986672,
          9.342544964,
          9.259143063,
          9.224986672
         ],
         "y": [
          3.050250519,
          4.163380267,
          2.810082456,
          3.050250519
         ],
         "z": [
          -2.743810283,
          -4.332520222,
          -3.786919773,
          -2.743810283
         ]
        },
        {
         "line": {
          "color": [
           0.1753829238095701,
           0.02832620995667212,
           0.17514324560391958
          ]
         },
         "mode": "lines",
         "type": "scatter3d",
         "x": [
          9.259143063,
          9.342544964,
          9.282411416,
          9.259143063
         ],
         "y": [
          2.810082456,
          4.163380267,
          3.373552257,
          2.810082456
         ],
         "z": [
          -3.786919773,
          -4.332520222,
          -5.644483313,
          -3.786919773
         ]
        },
        {
         "line": {
          "color": [
           0.1753829238095701,
           0.02832620995667212,
           0.17514324560391958
          ]
         },
         "mode": "lines",
         "type": "scatter3d",
         "x": [
          9.259143063,
          9.282411416,
          9.299379905,
          9.259143063
         ],
         "y": [
          2.810082456,
          3.373552257,
          2.257054838,
          2.810082456
         ],
         "z": [
          -3.786919773,
          -5.644483313,
          -4.703693744,
          -3.786919773
         ]
        },
        {
         "line": {
          "color": [
           0.1753829238095701,
           0.02832620995667212,
           0.17514324560391958
          ]
         },
         "mode": "lines",
         "type": "scatter3d",
         "x": [
          9.299379905,
          9.282411416,
          9.238560269,
          9.299379905
         ],
         "y": [
          2.257054838,
          3.373552257,
          2.216719271,
          2.257054838
         ],
         "z": [
          -4.703693744,
          -5.644483313,
          -6.643410436,
          -4.703693744
         ]
        },
        {
         "line": {
          "color": [
           0.1753829238095701,
           0.02832620995667212,
           0.17514324560391958
          ]
         },
         "mode": "lines",
         "type": "scatter3d",
         "x": [
          9.299379905,
          9.238560269,
          9.338014887,
          9.299379905
         ],
         "y": [
          2.257054838,
          2.216719271,
          1.447323864,
          2.257054838
         ],
         "z": [
          -4.703693744,
          -6.643410436,
          -5.403595017,
          -4.703693744
         ]
        },
        {
         "line": {
          "color": [
           0.1753829238095701,
           0.02832620995667212,
           0.17514324560391958
          ]
         },
         "mode": "lines",
         "type": "scatter3d",
         "x": [
          9.338014887,
          9.238560269,
          9.23181969,
          9.338014887
         ],
         "y": [
          1.447323864,
          2.216719271,
          0.8123602372,
          1.447323864
         ],
         "z": [
          -5.403595017,
          -6.643410436,
          -7.237457132,
          -5.403595017
         ]
        },
        {
         "line": {
          "color": [
           0.1753829238095701,
           0.02832620995667212,
           0.17514324560391958
          ]
         },
         "mode": "lines",
         "type": "scatter3d",
         "x": [
          9.338014887,
          9.23181969,
          9.330785969,
          9.338014887
         ],
         "y": [
          1.447323864,
          0.8123602372,
          0.4617306332,
          1.447323864
         ],
         "z": [
          -5.403595017,
          -7.237457132,
          -5.820008233,
          -5.403595017
         ]
        },
        {
         "line": {
          "color": [
           0.1753829238095701,
           0.02832620995667212,
           0.17514324560391958
          ]
         },
         "mode": "lines",
         "type": "scatter3d",
         "x": [
          9.330785969,
          9.23181969,
          9.244437654,
          9.330785969
         ],
         "y": [
          0.4617306332,
          0.8123602372,
          -0.7079019813,
          0.4617306332
         ],
         "z": [
          -5.820008233,
          -7.237457132,
          -7.369149158,
          -5.820008233
         ]
        },
        {
         "line": {
          "color": [
           0.1753829238095701,
           0.02832620995667212,
           0.17514324560391958
          ]
         },
         "mode": "lines",
         "type": "scatter3d",
         "x": [
          9.330785969,
          9.244437654,
          9.310426744,
          9.330785969
         ],
         "y": [
          0.4617306332,
          -0.7079019813,
          -0.603857688,
          0.4617306332
         ],
         "z": [
          -5.820008233,
          -7.369149158,
          -5.911328283,
          -5.820008233
         ]
        },
        {
         "line": {
          "color": [
           0.1753829238095701,
           0.02832620995667212,
           0.17514324560391958
          ]
         },
         "mode": "lines",
         "type": "scatter3d",
         "x": [
          9.310426744,
          9.244437654,
          9.255888005,
          9.310426744
         ],
         "y": [
          -0.603857688,
          -0.7079019813,
          -2.196471068,
          -0.603857688
         ],
         "z": [
          -5.911328283,
          -7.369149158,
          -7.023335188,
          -5.911328283
         ]
        },
        {
         "line": {
          "color": [
           0.1753829238095701,
           0.02832620995667212,
           0.17514324560391958
          ]
         },
         "mode": "lines",
         "type": "scatter3d",
         "x": [
          9.310426744,
          9.255888005,
          9.301611535,
          9.310426744
         ],
         "y": [
          -0.603857688,
          -2.196471068,
          -1.645928729,
          -0.603857688
         ],
         "z": [
          -5.911328283,
          -7.023335188,
          -5.668365682,
          -5.911328283
         ]
        },
        {
         "line": {
          "color": [
           0.1753829238095701,
           0.02832620995667212,
           0.17514324560391958
          ]
         },
         "mode": "lines",
         "type": "scatter3d",
         "x": [
          9.301611535,
          9.255888005,
          9.247128238,
          9.301611535
         ],
         "y": [
          -1.645928729,
          -2.196471068,
          -3.504476117,
          -1.645928729
         ],
         "z": [
          -5.668365682,
          -7.023335188,
          -6.232960697,
          -5.668365682
         ]
        },
        {
         "line": {
          "color": [
           0.1753829238095701,
           0.02832620995667212,
           0.17514324560391958
          ]
         },
         "mode": "lines",
         "type": "scatter3d",
         "x": [
          9.301611535,
          9.247128238,
          9.295561508,
          9.301611535
         ],
         "y": [
          -1.645928729,
          -3.504476117,
          -2.561991353,
          -1.645928729
         ],
         "z": [
          -5.668365682,
          -6.232960697,
          -5.115213259,
          -5.668365682
         ]
        },
        {
         "line": {
          "color": [
           0.1753829238095701,
           0.02832620995667212,
           0.17514324560391958
          ]
         },
         "mode": "lines",
         "type": "scatter3d",
         "x": [
          9.295561508,
          9.247128238,
          9.240283878,
          9.295561508
         ],
         "y": [
          -2.561991353,
          -3.504476117,
          -4.50373084,
          -2.561991353
         ],
         "z": [
          -5.115213259,
          -6.232960697,
          -5.077195811,
          -5.115213259
         ]
        },
        {
         "line": {
          "color": [
           0.1753829238095701,
           0.02832620995667212,
           0.17514324560391958
          ]
         },
         "mode": "lines",
         "type": "scatter3d",
         "x": [
          9.295561508,
          9.240283878,
          9.308582016,
          9.295561508
         ],
         "y": [
          -2.561991353,
          -4.50373084,
          -3.262080718,
          -2.561991353
         ],
         "z": [
          -5.115213259,
          -5.077195811,
          -4.305856231,
          -5.115213259
         ]
        },
        {
         "line": {
          "color": [
           0.1753829238095701,
           0.02832620995667212,
           0.17514324560391958
          ]
         },
         "mode": "lines",
         "type": "scatter3d",
         "x": [
          9.308582016,
          9.240283878,
          9.275839075,
          9.308582016
         ],
         "y": [
          -3.262080718,
          -4.50373084,
          -5.095864754,
          -3.262080718
         ],
         "z": [
          -4.305856231,
          -5.077195811,
          -3.668900263,
          -4.305856231
         ]
        },
        {
         "line": {
          "color": [
           0.1753829238095701,
           0.02832620995667212,
           0.17514324560391958
          ]
         },
         "mode": "lines",
         "type": "scatter3d",
         "x": [
          9.308582016,
          9.275839075,
          9.298667448,
          9.308582016
         ],
         "y": [
          -3.262080718,
          -5.095864754,
          -3.677799728,
          -3.262080718
         ],
         "z": [
          -4.305856231,
          -3.668900263,
          -3.319328415,
          -4.305856231
         ]
        },
        {
         "line": {
          "color": [
           0.1753829238095701,
           0.02832620995667212,
           0.17514324560391958
          ]
         },
         "mode": "lines",
         "type": "scatter3d",
         "x": [
          9.298667448,
          9.275839075,
          9.323795246,
          9.298667448
         ],
         "y": [
          -3.677799728,
          -5.095864754,
          -5.2241644,
          -3.677799728
         ],
         "z": [
          -3.319328415,
          -3.668900263,
          -2.146471903,
          -3.319328415
         ]
        },
        {
         "line": {
          "color": [
           0.1753829238095701,
           0.02832620995667212,
           0.17514324560391958
          ]
         },
         "mode": "lines",
         "type": "scatter3d",
         "x": [
          9.298667448,
          9.323795246,
          9.259098677,
          9.298667448
         ],
         "y": [
          -3.677799728,
          -5.2241644,
          -3.76805495,
          -3.677799728
         ],
         "z": [
          -3.319328415,
          -2.146471903,
          -2.25340053,
          -3.319328415
         ]
        },
        {
         "line": {
          "color": [
           0.1753829238095701,
           0.02832620995667212,
           0.17514324560391958
          ]
         },
         "mode": "lines",
         "type": "scatter3d",
         "x": [
          9.259098677,
          9.323795246,
          9.283029805,
          9.259098677
         ],
         "y": [
          -3.76805495,
          -5.2241644,
          -4.873856553,
          -3.76805495
         ],
         "z": [
          -2.25340053,
          -2.146471903,
          -0.6592143639,
          -2.25340053
         ]
        },
        {
         "line": {
          "color": [
           0.1753829238095701,
           0.02832620995667212,
           0.17514324560391958
          ]
         },
         "mode": "lines",
         "type": "scatter3d",
         "x": [
          9.259098677,
          9.283029805,
          9.253465639,
          9.259098677
         ],
         "y": [
          -3.76805495,
          -4.873856553,
          -3.523971795,
          -3.76805495
         ],
         "z": [
          -2.25340053,
          -0.6592143639,
          -1.211853019,
          -2.25340053
         ]
        },
        {
         "line": {
          "color": [
           0.1753829238095701,
           0.02832620995667212,
           0.17514324560391958
          ]
         },
         "mode": "lines",
         "type": "scatter3d",
         "x": [
          9.253465639,
          9.283029805,
          9.173394298,
          9.253465639
         ],
         "y": [
          -3.523971795,
          -4.873856553,
          -4.070719189,
          -3.523971795
         ],
         "z": [
          -1.211853019,
          -0.6592143639,
          0.646700048,
          -1.211853019
         ]
        },
        {
         "line": {
          "color": [
           0.1753829238095701,
           0.02832620995667212,
           0.17514324560391958
          ]
         },
         "mode": "lines",
         "type": "scatter3d",
         "x": [
          9.253465639,
          9.173394298,
          9.302504457,
          9.253465639
         ],
         "y": [
          -3.523971795,
          -4.070719189,
          -2.96864238,
          -3.523971795
         ],
         "z": [
          -1.211853019,
          0.646700048,
          -0.2960998826,
          -1.211853019
         ]
        },
        {
         "line": {
          "color": [
           0.1753829238095701,
           0.02832620995667212,
           0.17514324560391958
          ]
         },
         "mode": "lines",
         "type": "scatter3d",
         "x": [
          9.302504457,
          9.173394298,
          9.117592531,
          9.302504457
         ],
         "y": [
          -2.96864238,
          -4.070719189,
          -2.911046924,
          -2.96864238
         ],
         "z": [
          -0.2960998826,
          0.646700048,
          1.631878242,
          -0.2960998826
         ]
        },
        {
         "line": {
          "color": [
           0.1753829238095701,
           0.02832620995667212,
           0.17514324560391958
          ]
         },
         "mode": "lines",
         "type": "scatter3d",
         "x": [
          9.302504457,
          9.117592531,
          9.367692068,
          9.302504457
         ],
         "y": [
          -2.96864238,
          -2.911046924,
          -2.158625344,
          -2.96864238
         ],
         "z": [
          -0.2960998826,
          1.631878242,
          0.399876557,
          -0.2960998826
         ]
        },
        {
         "line": {
          "color": [
           0.1753829238095701,
           0.02832620995667212,
           0.17514324560391958
          ]
         },
         "mode": "lines",
         "type": "scatter3d",
         "x": [
          9.367692068,
          9.117592531,
          9.146619614,
          9.367692068
         ],
         "y": [
          -2.158625344,
          -2.911046924,
          -1.526978547,
          -2.158625344
         ],
         "z": [
          0.399876557,
          1.631878242,
          2.215680348,
          0.399876557
         ]
        },
        {
         "line": {
          "color": [
           0.1753829238095701,
           0.02832620995667212,
           0.17514324560391958
          ]
         },
         "mode": "lines",
         "type": "scatter3d",
         "x": [
          9.367692068,
          9.146619614,
          9.384984471,
          9.367692068
         ],
         "y": [
          -2.158625344,
          -1.526978547,
          -1.177847964,
          -2.158625344
         ],
         "z": [
          0.399876557,
          2.215680348,
          0.8125142533,
          0.399876557
         ]
        },
        {
         "line": {
          "color": [
           0.1753829238095701,
           0.02832620995667212,
           0.17514324560391958
          ]
         },
         "mode": "lines",
         "type": "scatter3d",
         "x": [
          9.384984471,
          9.146619614,
          9.239038439,
          9.384984471
         ],
         "y": [
          -1.177847964,
          -1.526978547,
          -0.01742357225,
          -1.177847964
         ],
         "z": [
          0.8125142533,
          2.215680348,
          2.353744868,
          0.8125142533
         ]
        },
        {
         "line": {
          "color": [
           0.1753829238095701,
           0.02832620995667212,
           0.17514324560391958
          ]
         },
         "mode": "lines",
         "type": "scatter3d",
         "x": [
          9.384984471,
          9.239038439,
          9.326057033,
          9.384984471
         ],
         "y": [
          -1.177847964,
          -0.01742357225,
          -0.1145108376,
          -1.177847964
         ],
         "z": [
          0.8125142533,
          2.353744868,
          0.9058052001,
          0.8125142533
         ]
        },
        {
         "line": {
          "color": [
           0.1753829238095701,
           0.02832620995667212,
           0.17514324560391958
          ]
         },
         "mode": "lines",
         "type": "scatter3d",
         "x": [
          9.326057033,
          9.239038439,
          9.355381258,
          9.326057033
         ],
         "y": [
          -0.1145108376,
          -0.01742357225,
          1.479151702,
          -0.1145108376
         ],
         "z": [
          0.9058052001,
          2.353744868,
          2.009275551,
          0.9058052001
         ]
        },
        {
         "line": {
          "color": [
           0.1753829238095701,
           0.02832620995667212,
           0.17514324560391958
          ]
         },
         "mode": "lines",
         "type": "scatter3d",
         "x": [
          9.326057033,
          9.355381258,
          9.250360091,
          9.326057033
         ],
         "y": [
          -0.1145108376,
          1.479151702,
          0.9299951124,
          -0.1145108376
         ],
         "z": [
          0.9058052001,
          2.009275551,
          0.6645607923,
          0.9058052001
         ]
        },
        {
         "line": {
          "color": "blue",
          "width": 1
         },
         "marker": {
          "color": "blue",
          "size": 1
         },
         "mode": "lines+markers",
         "type": "scatter3d",
         "x": [
          9.287533998,
          8.28777938240436
         ],
         "y": [
          -0.1716849127,
          -0.15740959256793732
         ],
         "z": [
          -2.042524459,
          -2.0313481802215336
         ]
        },
        {
         "line": {
          "color": "blue",
          "width": 1
         },
         "marker": {
          "color": "blue",
          "size": 1
         },
         "mode": "lines+markers",
         "type": "scatter3d",
         "x": [
          9.287533998,
          8.287815339956216
         ],
         "y": [
          -0.03942097276,
          -0.0222953207800437
         ],
         "z": [
          -2.12239389,
          -2.106820925045204
         ]
        },
        {
         "line": {
          "color": "blue",
          "width": 1
         },
         "marker": {
          "color": "blue",
          "size": 1
         },
         "mode": "lines+markers",
         "type": "scatter3d",
         "x": [
          9.287533998,
          8.287895604509455
         ],
         "y": [
          0.06168849784,
          0.08575250848112298
         ],
         "z": [
          -2.239226037,
          -2.229429575710475
         ]
        },
        {
         "line": {
          "color": "blue",
          "width": 1
         },
         "marker": {
          "color": "blue",
          "size": 1
         },
         "mode": "lines+markers",
         "type": "scatter3d",
         "x": [
          9.287533998,
          8.287924323917014
         ],
         "y": [
          0.1217461997,
          0.14374428584367577
         ],
         "z": [
          -2.381584557,
          -2.368399972913702
         ]
        },
        {
         "line": {
          "color": "blue",
          "width": 1
         },
         "marker": {
          "color": "blue",
          "size": 1
         },
         "mode": "lines+markers",
         "type": "scatter3d",
         "x": [
          9.287533998,
          8.287710917230475
         ],
         "y": [
          0.1348732665,
          0.14984718009993497
         ],
         "z": [
          -2.535534405,
          -2.5297515754198336
         ]
        },
        {
         "line": {
          "color": "blue",
          "width": 1
         },
         "marker": {
          "color": "blue",
          "size": 1
         },
         "mode": "lines+markers",
         "type": "scatter3d",
         "x": [
          9.287533998,
          8.287567821013543
         ],
         "y": [
          0.09978472946,
          0.10749954526514784
         ],
         "z": [
          -2.686005899,
          -2.6885138802858393
         ]
        },
        {
         "line": {
          "color": "blue",
          "width": 1
         },
         "marker": {
          "color": "blue",
          "size": 1
         },
         "mode": "lines+markers",
         "type": "scatter3d",
         "x": [
          9.287533998,
          8.287559778731783
         ],
         "y": [
          0.0199152991,
          0.025979490026989394
         ],
         "z": [
          -2.818269838,
          -2.8211140213638832
         ]
        },
        {
         "line": {
          "color": "blue",
          "width": 1
         },
         "marker": {
          "color": "blue",
          "size": 1
         },
         "mode": "lines+markers",
         "type": "scatter3d",
         "x": [
          9.287533998,
          8.287568315999703
         ],
         "y": [
          -0.09691684827,
          -0.09153101517563898
         ],
         "z": [
          -2.919379309,
          -2.919548516329404
         ]
        },
        {
         "line": {
          "color": "blue",
          "width": 1
         },
         "marker": {
          "color": "blue",
          "size": 1
         },
         "mode": "lines+markers",
         "type": "scatter3d",
         "x": [
          9.287533998,
          8.287543996688743
         ],
         "y": [
          -0.239275368,
          -0.23730894868359168
         ],
         "z": [
          -2.979437011,
          -2.977287085741825
         ]
        },
        {
         "line": {
          "color": "blue",
          "width": 1
         },
         "marker": {
          "color": "blue",
          "size": 1
         },
         "mode": "lines+markers",
         "type": "scatter3d",
         "x": [
          9.287533998,
          8.28753958633247
         ],
         "y": [
          -0.3932252164,
          -0.39340906745846516
         ],
         "z": [
          -2.992564078,
          -2.9893069506922534
         ]
        },
        {
         "line": {
          "color": "blue",
          "width": 1
         },
         "marker": {
          "color": "blue",
          "size": 1
         },
         "mode": "lines+markers",
         "type": "scatter3d",
         "x": [
          9.287533998,
          8.287539531709877
         ],
         "y": [
          -0.5436967097,
          -0.541832216857609
         ],
         "z": [
          -2.957475541,
          -2.9549763244848952
         ]
        },
        {
         "line": {
          "color": "blue",
          "width": 1
         },
         "marker": {
          "color": "blue",
          "size": 1
         },
         "mode": "lines+markers",
         "type": "scatter3d",
         "x": [
          9.287533998,
          8.287542933089352
         ],
         "y": [
          -0.6759606496,
          -0.6727248004368059
         ],
         "z": [
          -2.87760611,
          -2.8753234223872894
         ]
        },
        {
         "line": {
          "color": "blue",
          "width": 1
         },
         "marker": {
          "color": "blue",
          "size": 1
         },
         "mode": "lines+markers",
         "type": "scatter3d",
         "x": [
          9.287533998,
          8.287554199730181
         ],
         "y": [
          -0.7770701202,
          -0.7715512127019957
         ],
         "z": [
          -2.760773963,
          -2.7598207065550224
         ]
        },
        {
         "line": {
          "color": "blue",
          "width": 1
         },
         "marker": {
          "color": "blue",
          "size": 1
         },
         "mode": "lines+markers",
         "type": "scatter3d",
         "x": [
          9.287533998,
          8.287616863599624
         ],
         "y": [
          -0.837127822,
          -0.835225035288628
         ],
         "z": [
          -2.618415443,
          -2.6105745219578984
         ]
        },
        {
         "line": {
          "color": "blue",
          "width": 1
         },
         "marker": {
          "color": "blue",
          "size": 1
         },
         "mode": "lines+markers",
         "type": "scatter3d",
         "x": [
          9.287533998,
          8.287614948851349
         ],
         "y": [
          -0.8502548888,
          -0.8544678241792746
         ],
         "z": [
          -2.464465595,
          -2.4572736695732935
         ]
        },
        {
         "line": {
          "color": "blue",
          "width": 1
         },
         "marker": {
          "color": "blue",
          "size": 1
         },
         "mode": "lines+markers",
         "type": "scatter3d",
         "x": [
          9.287533998,
          8.287934804312954
         ],
         "y": [
          -0.8151663518,
          -0.8244814481060724
         ],
         "z": [
          -2.313994101,
          -2.327842135675605
         ]
        },
        {
         "line": {
          "color": "blue",
          "width": 1
         },
         "marker": {
          "color": "blue",
          "size": 1
         },
         "mode": "lines+markers",
         "type": "scatter3d",
         "x": [
          9.287533998,
          8.28831873443879
         ],
         "y": [
          -0.7352969214,
          -0.7352278560349056
         ],
         "z": [
          -2.181730162,
          -2.208790730944014
         ]
        },
        {
         "line": {
          "color": "blue",
          "width": 1
         },
         "marker": {
          "color": "blue",
          "size": 1
         },
         "mode": "lines+markers",
         "type": "scatter3d",
         "x": [
          9.287533998,
          8.288149368116876
         ],
         "y": [
          -0.618464774,
          -0.6040022971031787
         ],
         "z": [
          -2.080620691,
          -2.111743180414394
         ]
        },
        {
         "line": {
          "color": "blue",
          "width": 1
         },
         "marker": {
          "color": "blue",
          "size": 1
         },
         "mode": "lines+markers",
         "type": "scatter3d",
         "x": [
          9.287533998,
          8.288301536862086
         ],
         "y": [
          -0.4761062543,
          -0.4546602431791985
         ],
         "z": [
          -2.020562989,
          -2.045583201355518
         ]
        },
        {
         "line": {
          "color": "blue",
          "width": 1
         },
         "marker": {
          "color": "blue",
          "size": 1
         },
         "mode": "lines+markers",
         "type": "scatter3d",
         "x": [
          9.287533998,
          8.288407852626861
         ],
         "y": [
          -0.3221564059,
          -0.2987455528039846
         ],
         "z": [
          -2.007435922,
          -2.0159455002741318
         ]
        },
        {
         "line": {
          "color": "blue",
          "width": 1
         },
         "marker": {
          "color": "blue",
          "size": 1
         },
         "mode": "lines+markers",
         "type": "scatter3d",
         "x": [
          9.305806769,
          8.307673230471803
         ],
         "y": [
          0.3792956205,
          0.3930098609180329
         ],
         "z": [
          -0.6873769707,
          -0.7154211334949294
         ]
        },
        {
         "line": {
          "color": "blue",
          "width": 1
         },
         "marker": {
          "color": "blue",
          "size": 1
         },
         "mode": "lines+markers",
         "type": "scatter3d",
         "x": [
          9.320039026,
          8.32175646859173
         ],
         "y": [
          0.9034048198,
          0.8902968662260944
         ],
         "z": [
          -1.003829751,
          -1.027975641875989
         ]
        },
        {
         "line": {
          "color": "blue",
          "width": 1
         },
         "marker": {
          "color": "blue",
          "size": 1
         },
         "mode": "lines+markers",
         "type": "scatter3d",
         "x": [
          9.323245437,
          8.325158356437228
         ],
         "y": [
          1.303797882,
          1.2798595337740504
         ],
         "z": [
          -1.466763987,
          -1.4834158015581798
         ]
        },
        {
         "line": {
          "color": "blue",
          "width": 1
         },
         "marker": {
          "color": "blue",
          "size": 1
         },
         "mode": "lines+markers",
         "type": "scatter3d",
         "x": [
          9.328516455,
          8.330310685117853
         ],
         "y": [
          1.541495174,
          1.5180153465702342
         ],
         "z": [
          -2.030928357,
          -2.032182584186547
         ]
        },
        {
         "line": {
          "color": "blue",
          "width": 1
         },
         "marker": {
          "color": "blue",
          "size": 1
         },
         "mode": "lines+markers",
         "type": "scatter3d",
         "x": [
          9.313186953,
          8.314131882367636
         ],
         "y": [
          1.593917404,
          1.5803607494169611
         ],
         "z": [
          -2.640914482,
          -2.628492577268051
         ]
        },
        {
         "line": {
          "color": "blue",
          "width": 1
         },
         "marker": {
          "color": "blue",
          "size": 1
         },
         "mode": "lines+markers",
         "type": "scatter3d",
         "x": [
          9.299958834,
          8.300277251867225
         ],
         "y": [
          1.455245106,
          1.4519934566856114
         ],
         "z": [
          -3.237125674,
          -3.2334748114492036
         ]
        },
        {
         "line": {
          "color": "blue",
          "width": 1
         },
         "marker": {
          "color": "blue",
          "size": 1
         },
         "mode": "lines+markers",
         "type": "scatter3d",
         "x": [
          9.298203651,
          8.29841659451015
         ],
         "y": [
          1.138741417,
          1.1433652947000696
         ],
         "z": [
          -3.761292179,
          -3.7701127907095864
         ]
        },
        {
         "line": {
          "color": "blue",
          "width": 1
         },
         "marker": {
          "color": "blue",
          "size": 1
         },
         "mode": "lines+markers",
         "type": "scatter3d",
         "x": [
          9.294596234,
          8.294880205177074
         ],
         "y": [
          0.6757505062,
          0.6911165016684218
         ],
         "z": [
          -4.161989365,
          -4.173798035830848
         ]
        },
        {
         "line": {
          "color": "blue",
          "width": 1
         },
         "marker": {
          "color": "blue",
          "size": 1
         },
         "mode": "lines+markers",
         "type": "scatter3d",
         "x": [
          9.28652539,
          8.286780308125277
         ],
         "y": [
          0.111585378,
          0.12390989023001617
         ],
         "z": [
          -4.400012153,
          -4.4108766484915245
         ]
        },
        {
         "line": {
          "color": "blue",
          "width": 1
         },
         "marker": {
          "color": "blue",
          "size": 1
         },
         "mode": "lines+markers",
         "type": "scatter3d",
         "x": [
          9.282458527,
          8.282548559762041
         ],
         "y": [
          -0.4985160526,
          -0.4963262770878661
         ],
         "z": [
          -4.452051305,
          -4.458958078403807
         ]
        },
        {
         "line": {
          "color": "blue",
          "width": 1
         },
         "marker": {
          "color": "blue",
          "size": 1
         },
         "mode": "lines+markers",
         "type": "scatter3d",
         "x": [
          9.283481726,
          8.283518939597597
         ],
         "y": [
          -1.094838503,
          -1.0958496801154478
         ],
         "z": [
          -4.312994269,
          -4.317234444373122
         ]
        },
        {
         "line": {
          "color": "blue",
          "width": 1
         },
         "marker": {
          "color": "blue",
          "size": 1
         },
         "mode": "lines+markers",
         "type": "scatter3d",
         "x": [
          9.282392479,
          8.282458357459978
         ],
         "y": [
          -1.619003927,
          -1.6229126700421532
         ],
         "z": [
          -3.99646461,
          -3.999100586301403
         ]
        },
        {
         "line": {
          "color": "blue",
          "width": 1
         },
         "marker": {
          "color": "blue",
          "size": 1
         },
         "mode": "lines+markers",
         "type": "scatter3d",
         "x": [
          9.281000261,
          8.281094911273488
         ],
         "y": [
          -2.019697012,
          -2.023543672499595
         ],
         "z": [
          -3.533453757,
          -3.5400279882309436
         ]
        },
        {
         "line": {
          "color": "blue",
          "width": 1
         },
         "marker": {
          "color": "blue",
          "size": 1
         },
         "mode": "lines+markers",
         "type": "scatter3d",
         "x": [
          9.277817595,
          8.278093801951016
         ],
         "y": [
          -2.257691203,
          -2.254263447728532
         ],
         "z": [
          -2.969280898,
          -2.9700073583867037
         ]
        },
        {
         "line": {
          "color": "blue",
          "width": 1
         },
         "marker": {
          "color": "blue",
          "size": 1
         },
         "mode": "lines+markers",
         "type": "scatter3d",
         "x": [
          9.290601687,
          8.290946277147174
         ],
         "y": [
          -2.30955822,
          -2.295745644188706
         ],
         "z": [
          -2.359238813,
          -2.3487452758370706
         ]
        },
        {
         "line": {
          "color": "blue",
          "width": 1
         },
         "marker": {
          "color": "blue",
          "size": 1
         },
         "mode": "lines+markers",
         "type": "scatter3d",
         "x": [
          9.302112188,
          8.302956959933555
         ],
         "y": [
          -2.170323617,
          -2.170115485756524
         ],
         "z": [
          -1.76301112,
          -1.7642505248236444
         ]
        },
        {
         "line": {
          "color": "blue",
          "width": 1
         },
         "marker": {
          "color": "blue",
          "size": 1
         },
         "mode": "lines+markers",
         "type": "scatter3d",
         "x": [
          9.273374805,
          8.275546013119996
         ],
         "y": [
          -1.853798891,
          -1.8830551858715132
         ],
         "z": [
          -1.239017433,
          -1.2424435432298457
         ]
        },
        {
         "line": {
          "color": "blue",
          "width": 1
         },
         "marker": {
          "color": "blue",
          "size": 1
         },
         "mode": "lines+markers",
         "type": "scatter3d",
         "x": [
          9.239047448,
          8.24223505876188
         ],
         "y": [
          -1.390780611,
          -1.4198382718778837
         ],
         "z": [
          -0.8387236435,
          -0.8201498610480298
         ]
        },
        {
         "line": {
          "color": "blue",
          "width": 1
         },
         "marker": {
          "color": "blue",
          "size": 1
         },
         "mode": "lines+markers",
         "type": "scatter3d",
         "x": [
          9.234956884,
          8.237636615499282
         ],
         "y": [
          -0.8267085275,
          -0.8261034380703431
         ],
         "z": [
          -0.6008619855,
          -0.5790619248015407
         ]
        },
        {
         "line": {
          "color": "blue",
          "width": 1
         },
         "marker": {
          "color": "blue",
          "size": 1
         },
         "mode": "lines+markers",
         "type": "scatter3d",
         "x": [
          9.263444776,
          8.265507641343945
         ],
         "y": [
          -0.216843646,
          -0.19118073767625243
         ],
         "z": [
          -0.5485213082,
          -0.5550653503455483
         ]
        },
        {
         "line": {
          "color": "blue",
          "width": 1
         },
         "marker": {
          "color": "blue",
          "size": 1
         },
         "mode": "lines+markers",
         "type": "scatter3d",
         "x": [
          9.250360091,
          8.255513495691607
         ],
         "y": [
          0.9299951124,
          0.9346711208748285
         ],
         "z": [
          0.6645607923,
          0.7068014086907549
         ]
        },
        {
         "line": {
          "color": "blue",
          "width": 1
         },
         "marker": {
          "color": "blue",
          "size": 1
         },
         "mode": "lines+markers",
         "type": "scatter3d",
         "x": [
          9.21466313,
          8.221994381861439
         ],
         "y": [
          1.845335315,
          1.8704948428306944
         ],
         "z": [
          0.1115787796,
          0.146988515809312
         ]
        },
        {
         "line": {
          "color": "blue",
          "width": 1
         },
         "marker": {
          "color": "blue",
          "size": 1
         },
         "mode": "lines+markers",
         "type": "scatter3d",
         "x": [
          9.206051792,
          8.213380110349737
         ],
         "y": [
          2.542830274,
          2.572483810763512
         ],
         "z": [
          -0.6969988122,
          -0.677507837400927
         ]
        },
        {
         "line": {
          "color": "blue",
          "width": 1
         },
         "marker": {
          "color": "blue",
          "size": 1
         },
         "mode": "lines+markers",
         "type": "scatter3d",
         "x": [
          9.204654066,
          8.210269745324792
         ],
         "y": [
          2.957321747,
          2.977165967862627
         ],
         "z": [
          -1.680181124,
          -1.6842614891380931
         ]
        },
        {
         "line": {
          "color": "blue",
          "width": 1
         },
         "marker": {
          "color": "blue",
          "size": 1
         },
         "mode": "lines+markers",
         "type": "scatter3d",
         "x": [
          9.224986672,
          8.22823053296537
         ],
         "y": [
          3.050250519,
          3.0571277773263885
         ],
         "z": [
          -2.743810283,
          -2.7574298462972067
         ]
        },
        {
         "line": {
          "color": "blue",
          "width": 1
         },
         "marker": {
          "color": "blue",
          "size": 1
         },
         "mode": "lines+markers",
         "type": "scatter3d",
         "x": [
          9.259143063,
          8.26054813989474
         ],
         "y": [
          2.810082456,
          2.80249673912358
         ],
         "z": [
          -3.786919773,
          -3.798801965399861
         ]
        },
        {
         "line": {
          "color": "blue",
          "width": 1
         },
         "marker": {
          "color": "blue",
          "size": 1
         },
         "mode": "lines+markers",
         "type": "scatter3d",
         "x": [
          9.299379905,
          8.300457354436611
         ],
         "y": [
          2.257054838,
          2.230658571527643
         ],
         "z": [
          -4.703693744,
          -4.704769511159584
         ]
        },
        {
         "line": {
          "color": "blue",
          "width": 1
         },
         "marker": {
          "color": "blue",
          "size": 1
         },
         "mode": "lines+markers",
         "type": "scatter3d",
         "x": [
          9.338014887,
          8.339642425571741
         ],
         "y": [
          1.447323864,
          1.4307020040308605
         ],
         "z": [
          -5.403595017,
          -5.38841751590581
         ]
        },
        {
         "line": {
          "color": "blue",
          "width": 1
         },
         "marker": {
          "color": "blue",
          "size": 1
         },
         "mode": "lines+markers",
         "type": "scatter3d",
         "x": [
          9.330785969,
          8.332003830890727
         ],
         "y": [
          0.4617306332,
          0.469220647774841
         ],
         "z": [
          -5.820008233,
          -5.80333663520862
         ]
        },
        {
         "line": {
          "color": "blue",
          "width": 1
         },
         "marker": {
          "color": "blue",
          "size": 1
         },
         "mode": "lines+markers",
         "type": "scatter3d",
         "x": [
          9.310426744,
          8.311025523780174
         ],
         "y": [
          -0.603857688,
          -0.5927620037366548
         ],
         "z": [
          -5.911328283,
          -5.902709731429058
         ]
        },
        {
         "line": {
          "color": "blue",
          "width": 1
         },
         "marker": {
          "color": "blue",
          "size": 1
         },
         "mode": "lines+markers",
         "type": "scatter3d",
         "x": [
          9.301611535,
          8.301935885477702
         ],
         "y": [
          -1.645928729,
          -1.6364836315291977
         ],
         "z": [
          -5.668365682,
          -5.662756446862475
         ]
        },
        {
         "line": {
          "color": "blue",
          "width": 1
         },
         "marker": {
          "color": "blue",
          "size": 1
         },
         "mode": "lines+markers",
         "type": "scatter3d",
         "x": [
          9.295561508,
          8.29601028182122
         ],
         "y": [
          -2.561991353,
          -2.552167840187289
         ],
         "z": [
          -5.115213259,
          -5.104297814363044
         ]
        },
        {
         "line": {
          "color": "blue",
          "width": 1
         },
         "marker": {
          "color": "blue",
          "size": 1
         },
         "mode": "lines+markers",
         "type": "scatter3d",
         "x": [
          9.308582016,
          8.309110970268748
         ],
         "y": [
          -3.262080718,
          -3.2562403105945226
         ],
         "z": [
          -4.305856231,
          -4.297710992536682
         ]
        },
        {
         "line": {
          "color": "blue",
          "width": 1
         },
         "marker": {
          "color": "blue",
          "size": 1
         },
         "mode": "lines+markers",
         "type": "scatter3d",
         "x": [
          9.298667448,
          8.299285963180175
         ],
         "y": [
          -3.677799728,
          -3.686543972777525
         ],
         "z": [
          -3.319328415,
          -3.3319104872754903
         ]
        },
        {
         "line": {
          "color": "blue",
          "width": 1
         },
         "marker": {
          "color": "blue",
          "size": 1
         },
         "mode": "lines+markers",
         "type": "scatter3d",
         "x": [
          9.259098677,
          8.259917108422288
         ],
         "y": [
          -3.76805495,
          -3.7807673763259215
         ],
         "z": [
          -2.25340053,
          -2.267212288434014
         ]
        },
        {
         "line": {
          "color": "blue",
          "width": 1
         },
         "marker": {
          "color": "blue",
          "size": 1
         },
         "mode": "lines+markers",
         "type": "scatter3d",
         "x": [
          9.253465639,
          8.255317693651833
         ],
         "y": [
          -3.523971795,
          -3.4994894231204174
         ],
         "z": [
          -1.211853019,
          -1.218980679599606
         ]
        },
        {
         "line": {
          "color": "blue",
          "width": 1
         },
         "marker": {
          "color": "blue",
          "size": 1
         },
         "mode": "lines+markers",
         "type": "scatter3d",
         "x": [
          9.302504457,
          8.308293041175126
         ],
         "y": [
          -2.96864238,
          -2.9136729168525024
         ],
         "z": [
          -0.2960998826,
          -0.3202511463917457
         ]
        },
        {
         "line": {
          "color": "blue",
          "width": 1
         },
         "marker": {
          "color": "blue",
          "size": 1
         },
         "mode": "lines+markers",
         "type": "scatter3d",
         "x": [
          9.367692068,
          8.377755596018732
         ],
         "y": [
          -2.158625344,
          -2.1207644533250627
         ],
         "z": [
          0.399876557,
          0.3656702318677367
         ]
        },
        {
         "line": {
          "color": "blue",
          "width": 1
         },
         "marker": {
          "color": "blue",
          "size": 1
         },
         "mode": "lines+markers",
         "type": "scatter3d",
         "x": [
          9.384984471,
          8.392797246487593
         ],
         "y": [
          -1.177847964,
          -1.1823726951764737
         ],
         "z": [
          0.8125142533,
          0.799366706085118
         ]
        },
        {
         "line": {
          "color": "blue",
          "width": 1
         },
         "marker": {
          "color": "blue",
          "size": 1
         },
         "mode": "lines+markers",
         "type": "scatter3d",
         "x": [
          9.326057033,
          8.330005330920585
         ],
         "y": [
          -0.1145108376,
          -0.1342048156261986
         ],
         "z": [
          0.9058052001,
          0.9315132841071118
         ]
        },
        {
         "line": {
          "color": "blue",
          "width": 1
         },
         "marker": {
          "color": "blue",
          "size": 1
         },
         "mode": "lines+markers",
         "type": "scatter3d",
         "x": [
          9.355381258,
          8.360200866949773
         ],
         "y": [
          1.479151702,
          1.5111990018850736
         ],
         "z": [
          2.009275551,
          2.035162134716508
         ]
        },
        {
         "line": {
          "color": "blue",
          "width": 1
         },
         "marker": {
          "color": "blue",
          "size": 1
         },
         "mode": "lines+markers",
         "type": "scatter3d",
         "x": [
          9.428949262,
          8.438261167538313
         ],
         "y": [
          2.782733428,
          2.8660430937944588
         ],
         "z": [
          1.215960809,
          1.311169895588799
         ]
        },
        {
         "line": {
          "color": "blue",
          "width": 1
         },
         "marker": {
          "color": "blue",
          "size": 1
         },
         "mode": "lines+markers",
         "type": "scatter3d",
         "x": [
          9.436176341,
          8.44835614420658
         ],
         "y": [
          3.772145269,
          3.8940164264695833
         ],
         "z": [
          0.06460707931,
          0.16031267279136194
         ]
        },
        {
         "line": {
          "color": "blue",
          "width": 1
         },
         "marker": {
          "color": "blue",
          "size": 1
         },
         "mode": "lines+markers",
         "type": "scatter3d",
         "x": [
          9.399273492,
          8.409410167329103
         ],
         "y": [
          4.366042074,
          4.494855621172734
         ],
         "z": [
          -1.330438946,
          -1.2747785182437041
         ]
        },
        {
         "line": {
          "color": "blue",
          "width": 1
         },
         "marker": {
          "color": "blue",
          "size": 1
         },
         "mode": "lines+markers",
         "type": "scatter3d",
         "x": [
          9.370623984,
          8.376893569620519
         ],
         "y": [
          4.503159719,
          4.612447520601413
         ],
         "z": [
          -2.842329846,
          -2.8369257984972296
         ]
        },
        {
         "line": {
          "color": "blue",
          "width": 1
         },
         "marker": {
          "color": "blue",
          "size": 1
         },
         "mode": "lines+markers",
         "type": "scatter3d",
         "x": [
          9.342544964,
          8.345532305586968
         ],
         "y": [
          4.163380267,
          4.232723652490207
         ],
         "z": [
          -4.332520222,
          -4.345782066115803
         ]
        },
        {
         "line": {
          "color": "blue",
          "width": 1
         },
         "marker": {
          "color": "blue",
          "size": 1
         },
         "mode": "lines+markers",
         "type": "scatter3d",
         "x": [
          9.282411416,
          8.283579018823163
         ],
         "y": [
          3.373552257,
          3.38714700359198
         ],
         "z": [
          -5.644483313,
          -5.639443061886636
         ]
        },
        {
         "line": {
          "color": "blue",
          "width": 1
         },
         "marker": {
          "color": "blue",
          "size": 1
         },
         "mode": "lines+markers",
         "type": "scatter3d",
         "x": [
          9.238560269,
          8.240693677532953
         ],
         "y": [
          2.216719271,
          2.1874127994415837
         ],
         "z": [
          -6.643410436,
          -6.600186314796465
         ]
        },
        {
         "line": {
          "color": "blue",
          "width": 1
         },
         "marker": {
          "color": "blue",
          "size": 1
         },
         "mode": "lines+markers",
         "type": "scatter3d",
         "x": [
          9.23181969,
          8.234158610801394
         ],
         "y": [
          0.8123602372,
          0.793341965115936
         ],
         "z": [
          -7.237457132,
          -7.171911189562361
         ]
        },
        {
         "line": {
          "color": "blue",
          "width": 1
         },
         "marker": {
          "color": "blue",
          "size": 1
         },
         "mode": "lines+markers",
         "type": "scatter3d",
         "x": [
          9.244437654,
          8.24590451977249
         ],
         "y": [
          -0.7079019813,
          -0.706547390225329
         ],
         "z": [
          -7.369149158,
          -7.317369620316999
         ]
        },
        {
         "line": {
          "color": "blue",
          "width": 1
         },
         "marker": {
          "color": "blue",
          "size": 1
         },
         "mode": "lines+markers",
         "type": "scatter3d",
         "x": [
          9.255888005,
          8.256574065086031
         ],
         "y": [
          -2.196471068,
          -2.1833317643497296
         ],
         "z": [
          -7.023335188,
          -6.990805901833265
         ]
        },
        {
         "line": {
          "color": "blue",
          "width": 1
         },
         "marker": {
          "color": "blue",
          "size": 1
         },
         "mode": "lines+markers",
         "type": "scatter3d",
         "x": [
          9.247128238,
          8.247691805039695
         ],
         "y": [
          -3.504476117,
          -3.4803890231966026
         ],
         "z": [
          -6.232960697,
          -6.209992392229447
         ]
        },
        {
         "line": {
          "color": "blue",
          "width": 1
         },
         "marker": {
          "color": "blue",
          "size": 1
         },
         "mode": "lines+markers",
         "type": "scatter3d",
         "x": [
          9.240283878,
          8.241316943865492
         ],
         "y": [
          -4.50373084,
          -4.473995927351876
         ],
         "z": [
          -5.077195811,
          -5.044305313909181
         ]
        },
        {
         "line": {
          "color": "blue",
          "width": 1
         },
         "marker": {
          "color": "blue",
          "size": 1
         },
         "mode": "lines+markers",
         "type": "scatter3d",
         "x": [
          9.275839075,
          8.276477818156955
         ],
         "y": [
          -5.095864754,
          -5.077156597425005
         ],
         "z": [
          -3.668900263,
          -3.6463932475641507
         ]
        },
        {
         "line": {
          "color": "blue",
          "width": 1
         },
         "marker": {
          "color": "blue",
          "size": 1
         },
         "mode": "lines+markers",
         "type": "scatter3d",
         "x": [
          9.323795246,
          8.325027226390693
         ],
         "y": [
          -5.2241644,
          -5.252431155278693
         ],
         "z": [
          -2.146471903,
          -2.154980310166647
         ]
        },
        {
         "line": {
          "color": "blue",
          "width": 1
         },
         "marker": {
          "color": "blue",
          "size": 1
         },
         "mode": "lines+markers",
         "type": "scatter3d",
         "x": [
          9.283029805,
          8.284365267397089
         ],
         "y": [
          -4.873856553,
          -4.911335325359451
         ],
         "z": [
          -0.6592143639,
          -0.683564275267213
         ]
        },
        {
         "line": {
          "color": "blue",
          "width": 1
         },
         "marker": {
          "color": "blue",
          "size": 1
         },
         "mode": "lines+markers",
         "type": "scatter3d",
         "x": [
          9.173394298,
          8.17792771071252
         ],
         "y": [
          -4.070719189,
          -4.0387553791637885
         ],
         "z": [
          0.646700048,
          0.5920211907738769
         ]
        },
        {
         "line": {
          "color": "blue",
          "width": 1
         },
         "marker": {
          "color": "blue",
          "size": 1
         },
         "mode": "lines+markers",
         "type": "scatter3d",
         "x": [
          9.117592531,
          8.130417926800105
         ],
         "y": [
          -2.911046924,
          -2.8171660891446577
         ],
         "z": [
          1.631878242,
          1.5170549902351844
         ]
        },
        {
         "line": {
          "color": "blue",
          "width": 1
         },
         "marker": {
          "color": "blue",
          "size": 1
         },
         "mode": "lines+markers",
         "type": "scatter3d",
         "x": [
          9.146619614,
          8.16089131657869
         ],
         "y": [
          -1.526978547,
          -1.4479657296369646
         ],
         "z": [
          2.215680348,
          2.067083667634045
         ]
        },
        {
         "line": {
          "color": "blue",
          "width": 1
         },
         "marker": {
          "color": "blue",
          "size": 1
         },
         "mode": "lines+markers",
         "type": "scatter3d",
         "x": [
          9.239038439,
          8.245985960375771
         ],
         "y": [
          -0.01742357225,
          0.011372976286430431
         ],
         "z": [
          2.353744868,
          2.26384295174639
         ]
        }
       ],
       "layout": {
        "scene": {
         "xaxis": {
          "range": [
           2.418314777187371,
           16.154208365687623
          ],
          "title": {
           "text": "X"
          }
         },
         "yaxis": {
          "range": [
           -7.225860788939875,
           6.510032799560375
          ],
          "title": {
           "text": "Y"
          }
         },
         "zaxis": {
          "range": [
           -9.369149157999999,
           4.36674443050025
          ],
          "title": {
           "text": "Z"
          }
         }
        },
        "template": {
         "data": {
          "bar": [
           {
            "error_x": {
             "color": "#2a3f5f"
            },
            "error_y": {
             "color": "#2a3f5f"
            },
            "marker": {
             "line": {
              "color": "#E5ECF6",
              "width": 0.5
             },
             "pattern": {
              "fillmode": "overlay",
              "size": 10,
              "solidity": 0.2
             }
            },
            "type": "bar"
           }
          ],
          "barpolar": [
           {
            "marker": {
             "line": {
              "color": "#E5ECF6",
              "width": 0.5
             },
             "pattern": {
              "fillmode": "overlay",
              "size": 10,
              "solidity": 0.2
             }
            },
            "type": "barpolar"
           }
          ],
          "carpet": [
           {
            "aaxis": {
             "endlinecolor": "#2a3f5f",
             "gridcolor": "white",
             "linecolor": "white",
             "minorgridcolor": "white",
             "startlinecolor": "#2a3f5f"
            },
            "baxis": {
             "endlinecolor": "#2a3f5f",
             "gridcolor": "white",
             "linecolor": "white",
             "minorgridcolor": "white",
             "startlinecolor": "#2a3f5f"
            },
            "type": "carpet"
           }
          ],
          "choropleth": [
           {
            "colorbar": {
             "outlinewidth": 0,
             "ticks": ""
            },
            "type": "choropleth"
           }
          ],
          "contour": [
           {
            "colorbar": {
             "outlinewidth": 0,
             "ticks": ""
            },
            "colorscale": [
             [
              0,
              "#0d0887"
             ],
             [
              0.1111111111111111,
              "#46039f"
             ],
             [
              0.2222222222222222,
              "#7201a8"
             ],
             [
              0.3333333333333333,
              "#9c179e"
             ],
             [
              0.4444444444444444,
              "#bd3786"
             ],
             [
              0.5555555555555556,
              "#d8576b"
             ],
             [
              0.6666666666666666,
              "#ed7953"
             ],
             [
              0.7777777777777778,
              "#fb9f3a"
             ],
             [
              0.8888888888888888,
              "#fdca26"
             ],
             [
              1,
              "#f0f921"
             ]
            ],
            "type": "contour"
           }
          ],
          "contourcarpet": [
           {
            "colorbar": {
             "outlinewidth": 0,
             "ticks": ""
            },
            "type": "contourcarpet"
           }
          ],
          "heatmap": [
           {
            "colorbar": {
             "outlinewidth": 0,
             "ticks": ""
            },
            "colorscale": [
             [
              0,
              "#0d0887"
             ],
             [
              0.1111111111111111,
              "#46039f"
             ],
             [
              0.2222222222222222,
              "#7201a8"
             ],
             [
              0.3333333333333333,
              "#9c179e"
             ],
             [
              0.4444444444444444,
              "#bd3786"
             ],
             [
              0.5555555555555556,
              "#d8576b"
             ],
             [
              0.6666666666666666,
              "#ed7953"
             ],
             [
              0.7777777777777778,
              "#fb9f3a"
             ],
             [
              0.8888888888888888,
              "#fdca26"
             ],
             [
              1,
              "#f0f921"
             ]
            ],
            "type": "heatmap"
           }
          ],
          "heatmapgl": [
           {
            "colorbar": {
             "outlinewidth": 0,
             "ticks": ""
            },
            "colorscale": [
             [
              0,
              "#0d0887"
             ],
             [
              0.1111111111111111,
              "#46039f"
             ],
             [
              0.2222222222222222,
              "#7201a8"
             ],
             [
              0.3333333333333333,
              "#9c179e"
             ],
             [
              0.4444444444444444,
              "#bd3786"
             ],
             [
              0.5555555555555556,
              "#d8576b"
             ],
             [
              0.6666666666666666,
              "#ed7953"
             ],
             [
              0.7777777777777778,
              "#fb9f3a"
             ],
             [
              0.8888888888888888,
              "#fdca26"
             ],
             [
              1,
              "#f0f921"
             ]
            ],
            "type": "heatmapgl"
           }
          ],
          "histogram": [
           {
            "marker": {
             "pattern": {
              "fillmode": "overlay",
              "size": 10,
              "solidity": 0.2
             }
            },
            "type": "histogram"
           }
          ],
          "histogram2d": [
           {
            "colorbar": {
             "outlinewidth": 0,
             "ticks": ""
            },
            "colorscale": [
             [
              0,
              "#0d0887"
             ],
             [
              0.1111111111111111,
              "#46039f"
             ],
             [
              0.2222222222222222,
              "#7201a8"
             ],
             [
              0.3333333333333333,
              "#9c179e"
             ],
             [
              0.4444444444444444,
              "#bd3786"
             ],
             [
              0.5555555555555556,
              "#d8576b"
             ],
             [
              0.6666666666666666,
              "#ed7953"
             ],
             [
              0.7777777777777778,
              "#fb9f3a"
             ],
             [
              0.8888888888888888,
              "#fdca26"
             ],
             [
              1,
              "#f0f921"
             ]
            ],
            "type": "histogram2d"
           }
          ],
          "histogram2dcontour": [
           {
            "colorbar": {
             "outlinewidth": 0,
             "ticks": ""
            },
            "colorscale": [
             [
              0,
              "#0d0887"
             ],
             [
              0.1111111111111111,
              "#46039f"
             ],
             [
              0.2222222222222222,
              "#7201a8"
             ],
             [
              0.3333333333333333,
              "#9c179e"
             ],
             [
              0.4444444444444444,
              "#bd3786"
             ],
             [
              0.5555555555555556,
              "#d8576b"
             ],
             [
              0.6666666666666666,
              "#ed7953"
             ],
             [
              0.7777777777777778,
              "#fb9f3a"
             ],
             [
              0.8888888888888888,
              "#fdca26"
             ],
             [
              1,
              "#f0f921"
             ]
            ],
            "type": "histogram2dcontour"
           }
          ],
          "mesh3d": [
           {
            "colorbar": {
             "outlinewidth": 0,
             "ticks": ""
            },
            "type": "mesh3d"
           }
          ],
          "parcoords": [
           {
            "line": {
             "colorbar": {
              "outlinewidth": 0,
              "ticks": ""
             }
            },
            "type": "parcoords"
           }
          ],
          "pie": [
           {
            "automargin": true,
            "type": "pie"
           }
          ],
          "scatter": [
           {
            "fillpattern": {
             "fillmode": "overlay",
             "size": 10,
             "solidity": 0.2
            },
            "type": "scatter"
           }
          ],
          "scatter3d": [
           {
            "line": {
             "colorbar": {
              "outlinewidth": 0,
              "ticks": ""
             }
            },
            "marker": {
             "colorbar": {
              "outlinewidth": 0,
              "ticks": ""
             }
            },
            "type": "scatter3d"
           }
          ],
          "scattercarpet": [
           {
            "marker": {
             "colorbar": {
              "outlinewidth": 0,
              "ticks": ""
             }
            },
            "type": "scattercarpet"
           }
          ],
          "scattergeo": [
           {
            "marker": {
             "colorbar": {
              "outlinewidth": 0,
              "ticks": ""
             }
            },
            "type": "scattergeo"
           }
          ],
          "scattergl": [
           {
            "marker": {
             "colorbar": {
              "outlinewidth": 0,
              "ticks": ""
             }
            },
            "type": "scattergl"
           }
          ],
          "scattermapbox": [
           {
            "marker": {
             "colorbar": {
              "outlinewidth": 0,
              "ticks": ""
             }
            },
            "type": "scattermapbox"
           }
          ],
          "scatterpolar": [
           {
            "marker": {
             "colorbar": {
              "outlinewidth": 0,
              "ticks": ""
             }
            },
            "type": "scatterpolar"
           }
          ],
          "scatterpolargl": [
           {
            "marker": {
             "colorbar": {
              "outlinewidth": 0,
              "ticks": ""
             }
            },
            "type": "scatterpolargl"
           }
          ],
          "scatterternary": [
           {
            "marker": {
             "colorbar": {
              "outlinewidth": 0,
              "ticks": ""
             }
            },
            "type": "scatterternary"
           }
          ],
          "surface": [
           {
            "colorbar": {
             "outlinewidth": 0,
             "ticks": ""
            },
            "colorscale": [
             [
              0,
              "#0d0887"
             ],
             [
              0.1111111111111111,
              "#46039f"
             ],
             [
              0.2222222222222222,
              "#7201a8"
             ],
             [
              0.3333333333333333,
              "#9c179e"
             ],
             [
              0.4444444444444444,
              "#bd3786"
             ],
             [
              0.5555555555555556,
              "#d8576b"
             ],
             [
              0.6666666666666666,
              "#ed7953"
             ],
             [
              0.7777777777777778,
              "#fb9f3a"
             ],
             [
              0.8888888888888888,
              "#fdca26"
             ],
             [
              1,
              "#f0f921"
             ]
            ],
            "type": "surface"
           }
          ],
          "table": [
           {
            "cells": {
             "fill": {
              "color": "#EBF0F8"
             },
             "line": {
              "color": "white"
             }
            },
            "header": {
             "fill": {
              "color": "#C8D4E3"
             },
             "line": {
              "color": "white"
             }
            },
            "type": "table"
           }
          ]
         },
         "layout": {
          "annotationdefaults": {
           "arrowcolor": "#2a3f5f",
           "arrowhead": 0,
           "arrowwidth": 1
          },
          "autotypenumbers": "strict",
          "coloraxis": {
           "colorbar": {
            "outlinewidth": 0,
            "ticks": ""
           }
          },
          "colorscale": {
           "diverging": [
            [
             0,
             "#8e0152"
            ],
            [
             0.1,
             "#c51b7d"
            ],
            [
             0.2,
             "#de77ae"
            ],
            [
             0.3,
             "#f1b6da"
            ],
            [
             0.4,
             "#fde0ef"
            ],
            [
             0.5,
             "#f7f7f7"
            ],
            [
             0.6,
             "#e6f5d0"
            ],
            [
             0.7,
             "#b8e186"
            ],
            [
             0.8,
             "#7fbc41"
            ],
            [
             0.9,
             "#4d9221"
            ],
            [
             1,
             "#276419"
            ]
           ],
           "sequential": [
            [
             0,
             "#0d0887"
            ],
            [
             0.1111111111111111,
             "#46039f"
            ],
            [
             0.2222222222222222,
             "#7201a8"
            ],
            [
             0.3333333333333333,
             "#9c179e"
            ],
            [
             0.4444444444444444,
             "#bd3786"
            ],
            [
             0.5555555555555556,
             "#d8576b"
            ],
            [
             0.6666666666666666,
             "#ed7953"
            ],
            [
             0.7777777777777778,
             "#fb9f3a"
            ],
            [
             0.8888888888888888,
             "#fdca26"
            ],
            [
             1,
             "#f0f921"
            ]
           ],
           "sequentialminus": [
            [
             0,
             "#0d0887"
            ],
            [
             0.1111111111111111,
             "#46039f"
            ],
            [
             0.2222222222222222,
             "#7201a8"
            ],
            [
             0.3333333333333333,
             "#9c179e"
            ],
            [
             0.4444444444444444,
             "#bd3786"
            ],
            [
             0.5555555555555556,
             "#d8576b"
            ],
            [
             0.6666666666666666,
             "#ed7953"
            ],
            [
             0.7777777777777778,
             "#fb9f3a"
            ],
            [
             0.8888888888888888,
             "#fdca26"
            ],
            [
             1,
             "#f0f921"
            ]
           ]
          },
          "colorway": [
           "#636efa",
           "#EF553B",
           "#00cc96",
           "#ab63fa",
           "#FFA15A",
           "#19d3f3",
           "#FF6692",
           "#B6E880",
           "#FF97FF",
           "#FECB52"
          ],
          "font": {
           "color": "#2a3f5f"
          },
          "geo": {
           "bgcolor": "white",
           "lakecolor": "white",
           "landcolor": "#E5ECF6",
           "showlakes": true,
           "showland": true,
           "subunitcolor": "white"
          },
          "hoverlabel": {
           "align": "left"
          },
          "hovermode": "closest",
          "mapbox": {
           "style": "light"
          },
          "paper_bgcolor": "white",
          "plot_bgcolor": "#E5ECF6",
          "polar": {
           "angularaxis": {
            "gridcolor": "white",
            "linecolor": "white",
            "ticks": ""
           },
           "bgcolor": "#E5ECF6",
           "radialaxis": {
            "gridcolor": "white",
            "linecolor": "white",
            "ticks": ""
           }
          },
          "scene": {
           "xaxis": {
            "backgroundcolor": "#E5ECF6",
            "gridcolor": "white",
            "gridwidth": 2,
            "linecolor": "white",
            "showbackground": true,
            "ticks": "",
            "zerolinecolor": "white"
           },
           "yaxis": {
            "backgroundcolor": "#E5ECF6",
            "gridcolor": "white",
            "gridwidth": 2,
            "linecolor": "white",
            "showbackground": true,
            "ticks": "",
            "zerolinecolor": "white"
           },
           "zaxis": {
            "backgroundcolor": "#E5ECF6",
            "gridcolor": "white",
            "gridwidth": 2,
            "linecolor": "white",
            "showbackground": true,
            "ticks": "",
            "zerolinecolor": "white"
           }
          },
          "shapedefaults": {
           "line": {
            "color": "#2a3f5f"
           }
          },
          "ternary": {
           "aaxis": {
            "gridcolor": "white",
            "linecolor": "white",
            "ticks": ""
           },
           "baxis": {
            "gridcolor": "white",
            "linecolor": "white",
            "ticks": ""
           },
           "bgcolor": "#E5ECF6",
           "caxis": {
            "gridcolor": "white",
            "linecolor": "white",
            "ticks": ""
           }
          },
          "title": {
           "x": 0.05
          },
          "xaxis": {
           "automargin": true,
           "gridcolor": "white",
           "linecolor": "white",
           "ticks": "",
           "title": {
            "standoff": 15
           },
           "zerolinecolor": "white",
           "zerolinewidth": 2
          },
          "yaxis": {
           "automargin": true,
           "gridcolor": "white",
           "linecolor": "white",
           "ticks": "",
           "title": {
            "standoff": 15
           },
           "zerolinecolor": "white",
           "zerolinewidth": 2
          }
         }
        },
        "title": {
         "text": "Normales en los vertices"
        }
       }
      }
     },
     "metadata": {},
     "output_type": "display_data"
    }
   ],
   "source": [
    "fig = new_plot()\n",
    "fig = build_box(fig)\n",
    "plot_triangles(fig)\n",
    "plot_normals_vertex(fig)\n",
    "fig = config_plot(fig, 'Normales en los vertices')\n",
    "fig.show()"
   ]
  },
  {
   "cell_type": "markdown",
   "metadata": {},
   "source": [
    "#### 3.2. Interseccion normales del triangulo con las caras de la caja"
   ]
  },
  {
   "cell_type": "markdown",
   "metadata": {},
   "source": [
    "I. Para cada vertice se crea una linea que parte del vertice $mp$ en la dirección de la normal $v$ correspondiente al vertice.\n",
    "\n",
    "Dado un punto de inicio $ \\mathbf{mp} $ y un vector director $ \\mathbf{v} $, la ecuación de la línea en forma paramétrica es:\n",
    "\n",
    "$$\n",
    "\\mathbf{L}(t) = \\mathbf{mp} + t \\cdot \\mathbf{v}\n",
    "$$\n",
    "\n",
    "Donde:\n",
    "- $ \\mathbf{L}(t) $ es el punto en la línea en función del parámetro $ t $,\n",
    "- $ \\mathbf{mp} $ es el punto de inicio de la línea,\n",
    "- $ \\mathbf{v} $ es el vector director de la línea,\n",
    "- $ t $ es un parámetro escalar que varía en los números reales ($ t \\in \\mathbb{R} $).\n",
    "\n"
   ]
  },
  {
   "cell_type": "markdown",
   "metadata": {},
   "source": [
    "II. Intersectar línea con las caras de la caja.\n",
    "\n",
    "Dada una línea paramétrica $ \\mathbf{L}(t) = \\mathbf{p_0} + t \\cdot \\mathbf{v} $ y un plano definido por la ecuación $ \\mathbf{n} \\cdot (\\mathbf{p} - \\mathbf{p_{\\text{plane}}}) = 0 $, donde:\n",
    "\n",
    "- $ \\mathbf{p_0} $ es un punto en la línea,\n",
    "- $ \\mathbf{v} $ es el vector director de la línea,\n",
    "- $ \\mathbf{n} $ es el vector normal al plano,\n",
    "- $ \\mathbf{p_{\\text{plane}}} $ es un punto en el plano,\n",
    "- $ t $ es el parámetro escalar de la línea.\n",
    "\n",
    "La ecuación para encontrar el parámetro $ t $ en la intersección es:\n",
    "\n",
    "$$\n",
    "t = \\frac{\\mathbf{n} \\cdot (\\mathbf{p_{\\text{plane}}} - \\mathbf{p_0})}{\\mathbf{n} \\cdot \\mathbf{v}}\n",
    "$$\n",
    "\n",
    "Donde:\n",
    "- Si $ \\mathbf{n} \\cdot \\mathbf{v} = 0 $, la línea es paralela al plano y no hay intersección (o está contenido en el plano),\n",
    "- Si $ t $ es una solución real, puedes sustituir este valor en $ \\mathbf{L}(t) $ para obtener el punto de intersección.\n",
    "\n",
    "### Punto de Intersección\n",
    "El punto de intersección $ \\mathbf{p_{\\text{inter}}} $ es:\n",
    "\n",
    "$$\n",
    "\\mathbf{p_{\\text{inter}}} = \\mathbf{p_0} + t \\cdot \\mathbf{v}\n",
    "$$\n"
   ]
  },
  {
   "cell_type": "markdown",
   "metadata": {},
   "source": [
    "III. Se verifican las intersecciones que están en la dirección correcta (en la misma dirección que la normal) haciendo uso del producto punto. Si la intersección cumple con esta condición, se agrega a la lista de intersecciones."
   ]
  },
  {
   "cell_type": "markdown",
   "metadata": {},
   "source": [
    "IV. De todas las intersecciones válidas, se selecciona la más cercana al vértice."
   ]
  },
  {
   "cell_type": "code",
   "execution_count": 31,
   "metadata": {},
   "outputs": [],
   "source": [
    "caras = []\n",
    "points = np.array(\n",
    "    [[0, 1, 2, 3],\n",
    "    [0, 1, 4, 5],\n",
    "    [0, 4, 2, 6],\n",
    "    [7, 5, 3, 1],\n",
    "    [7, 6, 3, 2],\n",
    "    [7, 6, 5, 4]]\n",
    "    )\n",
    "\n",
    "def plane_from_points():\n",
    "    \"\"\"\n",
    "        Calcula los planos a partir de puntos dados y los guarda en la lista.\n",
    "    \"\"\"\n",
    "    for p in points:\n",
    "        p1, p2, p3 = vertex[p[0]], vertex[p[1]], vertex[p[2]]\n",
    "        caras.append(Plane.from_points(p1,p2,p3))\n",
    "\n",
    "plane_from_points()"
   ]
  },
  {
   "cell_type": "code",
   "execution_count": 32,
   "metadata": {},
   "outputs": [],
   "source": [
    "\"\"\"\n",
    "    Crea una línea a partir de un punto y un vector.\n",
    "\n",
    "    Args:\n",
    "    - point: Punto inicial de la línea.\n",
    "    - vector: Vector director de la línea.\n",
    "\n",
    "    Returns:\n",
    "    - Líne\n",
    "\"\"\"\n",
    "def make_line(point, vector):\n",
    "    return Line(point=point, direction=vector)"
   ]
  },
  {
   "cell_type": "code",
   "execution_count": 33,
   "metadata": {},
   "outputs": [],
   "source": [
    "\"\"\"\n",
    "Verifica si un punto final está en la dirección de un vector dado desde un punto inicial.\n",
    "\"\"\"\n",
    "def is_direction(pi, pf, vd):\n",
    "    vr = pf - pi\n",
    "    return np.dot(vr, vd) > 0\n"
   ]
  },
  {
   "cell_type": "code",
   "execution_count": 34,
   "metadata": {},
   "outputs": [],
   "source": [
    "\"\"\"\n",
    "Encuentra la intersección más cercana a un punto inicial desde una lista de intersecciones.\n",
    "\"\"\"\n",
    "def close_intersection(pi, intersections):\n",
    "    intersect = None\n",
    "    min_dist = float('inf')\n",
    "    point = Point(pi)\n",
    "    for intersection in intersections:\n",
    "        dist = point.distance_point(intersection)\n",
    "        if dist < min_dist:\n",
    "            min_dist = dist\n",
    "            intersect = intersection\n",
    "            \n",
    "    return intersect"
   ]
  },
  {
   "cell_type": "code",
   "execution_count": 35,
   "metadata": {},
   "outputs": [],
   "source": [
    "\"\"\"\n",
    "Encuentra la intersección más cercana de una línea con varias caras (planos).\n",
    "\"\"\"\n",
    "def intersection_plane_line(line, pi, vd):\n",
    "    intersections = []\n",
    "    for i, plane in enumerate(caras):\n",
    "        point = plane.intersect_line(line)\n",
    "        if point is not None and is_direction(pi, point, vd):\n",
    "            intersections.append(point)\n",
    "\n",
    "    return close_intersection(pi, intersections)\n"
   ]
  },
  {
   "cell_type": "code",
   "execution_count": 36,
   "metadata": {},
   "outputs": [],
   "source": [
    "\"\"\"\n",
    "Calcula las intersecciones más cercanas de líneas definidas por puntos medios de triángulos y sus normales con las caras de la caja.\n",
    "\n",
    "Utiliza las normales de los triángulos y los puntos medios de los triángulos para definir las líneas.\n",
    "Luego, encuentra la intersección más cercana de cada línea con las caras de la caja.\n",
    "Las intersecciones se almacenan en una variable global `inter`.\n",
    "\"\"\"\n",
    "def intersection():\n",
    "    global inter  \n",
    "    inter = [] \n",
    "    \n",
    "    for i in range(normal_vertex.shape[0]):\n",
    "        mp = M[i] # np.mean(M[tri[i]], axis=0)\n",
    "        v = normal_vertex[i]\n",
    "        if np.any(np.isnan(normal_vertex[i])):\n",
    "            inter.append(normal_vertex[i])\n",
    "            continue\n",
    "        line = make_line(mp, v)\n",
    "        r = intersection_plane_line(line, mp, v)\n",
    "        inter.append(r)\n",
    "    inter = np.array(inter)\n",
    "\n",
    "\n",
    "intersection()"
   ]
  },
  {
   "cell_type": "code",
   "execution_count": 37,
   "metadata": {},
   "outputs": [],
   "source": [
    "def plot_intersections(fig):\n",
    "    global inter, size, color_m\n",
    "    fig.add_trace(go.Scatter3d(\n",
    "        x=inter[:, 0],\n",
    "        y=inter[:, 1],\n",
    "        z=inter[:, 2],\n",
    "        mode='markers',\n",
    "        marker=dict(\n",
    "            color=color_m,\n",
    "            size=2\n",
    "        )\n",
    "    ))"
   ]
  },
  {
   "cell_type": "code",
   "execution_count": 38,
   "metadata": {},
   "outputs": [
    {
     "data": {
      "application/vnd.plotly.v1+json": {
       "config": {
        "plotlyServerURL": "https://plot.ly"
       },
       "data": [
        {
         "line": {
          "color": "black",
          "width": 2
         },
         "mode": "lines",
         "type": "scatter3d",
         "x": [
          9.162098083707518,
          9.09958399463823
         ],
         "y": [
          6.066128146327891,
          -2.827945923555345
         ],
         "z": [
          -4.979472521590816,
          -8.922984438734423
         ]
        },
        {
         "line": {
          "color": "black",
          "width": 2
         },
         "mode": "lines",
         "type": "scatter3d",
         "x": [
          9.162098083707518,
          9.482673907285587
         ],
         "y": [
          6.066128146327891,
          6.063865380319389
         ],
         "z": [
          -4.979472521590816,
          -4.979451042539759
         ]
        },
        {
         "line": {
          "color": "black",
          "width": 2
         },
         "mode": "lines",
         "type": "scatter3d",
         "x": [
          9.162098083707518,
          9.133680769219962
         ],
         "y": [
          6.066128146327891,
          2.1245142276484503
         ],
         "z": [
          -4.979472521590816,
          3.9107713439755454
         ]
        },
        {
         "line": {
          "color": "black",
          "width": 2
         },
         "mode": "lines",
         "type": "scatter3d",
         "x": [
          9.09958399463823,
          9.420159818216298
         ],
         "y": [
          -2.827945923555345,
          -2.8302086895638467
         ],
         "z": [
          -8.922984438734423,
          -8.922962959683364
         ]
        },
        {
         "line": {
          "color": "black",
          "width": 2
         },
         "mode": "lines",
         "type": "scatter3d",
         "x": [
          9.09958399463823,
          9.071166680150675
         ],
         "y": [
          -2.827945923555345,
          -6.769559842234785
         ],
         "z": [
          -8.922984438734423,
          -0.032740573168060116
         ]
        },
        {
         "line": {
          "color": "black",
          "width": 2
         },
         "mode": "lines",
         "type": "scatter3d",
         "x": [
          9.482673907285587,
          9.420159818216298
         ],
         "y": [
          6.063865380319389,
          -2.8302086895638467
         ],
         "z": [
          -4.979451042539759,
          -8.922962959683364
         ]
        },
        {
         "line": {
          "color": "black",
          "width": 2
         },
         "mode": "lines",
         "type": "scatter3d",
         "x": [
          9.482673907285587,
          9.454256592798032
         ],
         "y": [
          6.063865380319389,
          2.1222514616399484
         ],
         "z": [
          -4.979451042539759,
          3.9107928230266022
         ]
        },
        {
         "line": {
          "color": "black",
          "width": 2
         },
         "mode": "lines",
         "type": "scatter3d",
         "x": [
          9.420159818216298,
          9.391742503728745
         ],
         "y": [
          -2.8302086895638467,
          -6.771822608243287
         ],
         "z": [
          -8.922962959683364,
          -0.032719094117003245
         ]
        },
        {
         "line": {
          "color": "black",
          "width": 2
         },
         "mode": "lines",
         "type": "scatter3d",
         "x": [
          9.133680769219962,
          9.071166680150675
         ],
         "y": [
          2.1245142276484503,
          -6.769559842234785
         ],
         "z": [
          3.9107713439755454,
          -0.032740573168060116
         ]
        },
        {
         "line": {
          "color": "black",
          "width": 2
         },
         "mode": "lines",
         "type": "scatter3d",
         "x": [
          9.133680769219962,
          9.454256592798032
         ],
         "y": [
          2.1245142276484503,
          2.1222514616399484
         ],
         "z": [
          3.9107713439755454,
          3.9107928230266022
         ]
        },
        {
         "line": {
          "color": "black",
          "width": 2
         },
         "mode": "lines",
         "type": "scatter3d",
         "x": [
          9.071166680150675,
          9.391742503728745
         ],
         "y": [
          -6.769559842234785,
          -6.771822608243287
         ],
         "z": [
          -0.032740573168060116,
          -0.032719094117003245
         ]
        },
        {
         "line": {
          "color": "black",
          "width": 2
         },
         "mode": "lines",
         "type": "scatter3d",
         "x": [
          9.454256592798032,
          9.391742503728745
         ],
         "y": [
          2.1222514616399484,
          -6.771822608243287
         ],
         "z": [
          3.9107928230266022,
          -0.032719094117003245
         ]
        },
        {
         "marker": {
          "color": [
           [
            0.1753829238095701,
            0.02832620995667212,
            0.17514324560391958
           ],
           [
            0.1753829238095701,
            0.02832620995667212,
            0.17514324560391958
           ],
           [
            0.1753829238095701,
            0.02832620995667212,
            0.17514324560391958
           ],
           [
            0.1753829238095701,
            0.02832620995667212,
            0.17514324560391958
           ],
           [
            0.1753829238095701,
            0.02832620995667212,
            0.17514324560391958
           ],
           [
            0.1753829238095701,
            0.02832620995667212,
            0.17514324560391958
           ],
           [
            0.1753829238095701,
            0.02832620995667212,
            0.17514324560391958
           ],
           [
            0.1753829238095701,
            0.02832620995667212,
            0.17514324560391958
           ],
           [
            0.1753829238095701,
            0.02832620995667212,
            0.17514324560391958
           ],
           [
            0.1753829238095701,
            0.02832620995667212,
            0.17514324560391958
           ],
           [
            0.1753829238095701,
            0.02832620995667212,
            0.17514324560391958
           ],
           [
            0.1753829238095701,
            0.02832620995667212,
            0.17514324560391958
           ],
           [
            0.1753829238095701,
            0.02832620995667212,
            0.17514324560391958
           ],
           [
            0.1753829238095701,
            0.02832620995667212,
            0.17514324560391958
           ],
           [
            0.1753829238095701,
            0.02832620995667212,
            0.17514324560391958
           ],
           [
            0.1753829238095701,
            0.02832620995667212,
            0.17514324560391958
           ],
           [
            0.1753829238095701,
            0.02832620995667212,
            0.17514324560391958
           ],
           [
            0.1753829238095701,
            0.02832620995667212,
            0.17514324560391958
           ],
           [
            0.1753829238095701,
            0.02832620995667212,
            0.17514324560391958
           ],
           [
            0.1753829238095701,
            0.02832620995667212,
            0.17514324560391958
           ],
           [
            0.718381057004934,
            0.844173003971911,
            0.9685284058420933
           ],
           [
            0.718381057004934,
            0.844173003971911,
            0.9685284058420933
           ],
           [
            0.718381057004934,
            0.844173003971911,
            0.9685284058420933
           ],
           [
            0.718381057004934,
            0.844173003971911,
            0.9685284058420933
           ],
           [
            0.718381057004934,
            0.844173003971911,
            0.9685284058420933
           ],
           [
            0.718381057004934,
            0.844173003971911,
            0.9685284058420933
           ],
           [
            0.718381057004934,
            0.844173003971911,
            0.9685284058420933
           ],
           [
            0.718381057004934,
            0.844173003971911,
            0.9685284058420933
           ],
           [
            0.718381057004934,
            0.844173003971911,
            0.9685284058420933
           ],
           [
            0.718381057004934,
            0.844173003971911,
            0.9685284058420933
           ],
           [
            0.718381057004934,
            0.844173003971911,
            0.9685284058420933
           ],
           [
            0.718381057004934,
            0.844173003971911,
            0.9685284058420933
           ],
           [
            0.718381057004934,
            0.844173003971911,
            0.9685284058420933
           ],
           [
            0.718381057004934,
            0.844173003971911,
            0.9685284058420933
           ],
           [
            0.718381057004934,
            0.844173003971911,
            0.9685284058420933
           ],
           [
            0.718381057004934,
            0.844173003971911,
            0.9685284058420933
           ],
           [
            0.718381057004934,
            0.844173003971911,
            0.9685284058420933
           ],
           [
            0.718381057004934,
            0.844173003971911,
            0.9685284058420933
           ],
           [
            0.718381057004934,
            0.844173003971911,
            0.9685284058420933
           ],
           [
            0.718381057004934,
            0.844173003971911,
            0.9685284058420933
           ],
           [
            0.06674192893790498,
            0.7080248030457489,
            0.349775418052081
           ],
           [
            0.06674192893790498,
            0.7080248030457489,
            0.349775418052081
           ],
           [
            0.06674192893790498,
            0.7080248030457489,
            0.349775418052081
           ],
           [
            0.06674192893790498,
            0.7080248030457489,
            0.349775418052081
           ],
           [
            0.06674192893790498,
            0.7080248030457489,
            0.349775418052081
           ],
           [
            0.06674192893790498,
            0.7080248030457489,
            0.349775418052081
           ],
           [
            0.06674192893790498,
            0.7080248030457489,
            0.349775418052081
           ],
           [
            0.06674192893790498,
            0.7080248030457489,
            0.349775418052081
           ],
           [
            0.06674192893790498,
            0.7080248030457489,
            0.349775418052081
           ],
           [
            0.06674192893790498,
            0.7080248030457489,
            0.349775418052081
           ],
           [
            0.06674192893790498,
            0.7080248030457489,
            0.349775418052081
           ],
           [
            0.06674192893790498,
            0.7080248030457489,
            0.349775418052081
           ],
           [
            0.06674192893790498,
            0.7080248030457489,
            0.349775418052081
           ],
           [
            0.06674192893790498,
            0.7080248030457489,
            0.349775418052081
           ],
           [
            0.06674192893790498,
            0.7080248030457489,
            0.349775418052081
           ],
           [
            0.06674192893790498,
            0.7080248030457489,
            0.349775418052081
           ],
           [
            0.06674192893790498,
            0.7080248030457489,
            0.349775418052081
           ],
           [
            0.06674192893790498,
            0.7080248030457489,
            0.349775418052081
           ],
           [
            0.06674192893790498,
            0.7080248030457489,
            0.349775418052081
           ],
           [
            0.06674192893790498,
            0.7080248030457489,
            0.349775418052081
           ],
           [
            0.3711179656151078,
            0.37610982870346954,
            0.6356246820372559
           ],
           [
            0.3711179656151078,
            0.37610982870346954,
            0.6356246820372559
           ],
           [
            0.3711179656151078,
            0.37610982870346954,
            0.6356246820372559
           ],
           [
            0.3711179656151078,
            0.37610982870346954,
            0.6356246820372559
           ],
           [
            0.3711179656151078,
            0.37610982870346954,
            0.6356246820372559
           ],
           [
            0.3711179656151078,
            0.37610982870346954,
            0.6356246820372559
           ],
           [
            0.3711179656151078,
            0.37610982870346954,
            0.6356246820372559
           ],
           [
            0.3711179656151078,
            0.37610982870346954,
            0.6356246820372559
           ],
           [
            0.3711179656151078,
            0.37610982870346954,
            0.6356246820372559
           ],
           [
            0.3711179656151078,
            0.37610982870346954,
            0.6356246820372559
           ],
           [
            0.3711179656151078,
            0.37610982870346954,
            0.6356246820372559
           ],
           [
            0.3711179656151078,
            0.37610982870346954,
            0.6356246820372559
           ],
           [
            0.3711179656151078,
            0.37610982870346954,
            0.6356246820372559
           ],
           [
            0.3711179656151078,
            0.37610982870346954,
            0.6356246820372559
           ],
           [
            0.3711179656151078,
            0.37610982870346954,
            0.6356246820372559
           ],
           [
            0.3711179656151078,
            0.37610982870346954,
            0.6356246820372559
           ],
           [
            0.3711179656151078,
            0.37610982870346954,
            0.6356246820372559
           ],
           [
            0.3711179656151078,
            0.37610982870346954,
            0.6356246820372559
           ],
           [
            0.3711179656151078,
            0.37610982870346954,
            0.6356246820372559
           ],
           [
            0.3711179656151078,
            0.37610982870346954,
            0.6356246820372559
           ]
          ],
          "size": 2
         },
         "mode": "markers",
         "type": "scatter3d",
         "x": [
          9.11788903006329,
          9.118831210556536,
          9.119560922334115,
          9.119991820141362,
          9.120086551092333,
          9.119840486470565,
          9.119283668393074,
          9.118464985288428,
          9.117460086550839,
          9.116371724336735,
          9.115309776161928,
          9.11437253823483,
          9.113653868871776,
          9.113215904119969,
          9.113105411364554,
          9.113336975025565,
          9.113903563061172,
          9.114739052557853,
          9.115748159602392,
          9.116835942822249,
          9.121688529567454,
          9.125373197873333,
          9.128215293980718,
          9.129930711121892,
          9.130356890979236,
          9.129431734386786,
          9.12724247004219,
          9.124014282237844,
          9.120044068868447,
          9.115729236717485,
          9.111506978922872,
          9.107782371201182,
          9.10492316297954,
          9.103214432019232,
          9.102821405753524,
          9.103746363276544,
          9.105910499600196,
          9.10915959838708,
          9.113152362475395,
          9.117479767433826,
          9.125470613719601,
          9.131979346807196,
          9.13695663435746,
          9.13994282824967,
          9.140665076037997,
          9.139029225145817,
          9.135162863806125,
          9.129500220088278,
          9.122606869975268,
          9.11509600237935,
          9.107721988236268,
          9.101219432693416,
          9.096218967963612,
          9.093197380972732,
          9.092486609215216,
          9.094182131587484,
          9.09809298873278,
          9.10375557226368,
          9.110570233951233,
          9.118048687429317,
          9.129303911225918,
          9.138677753381993,
          9.145819142850938,
          9.15008158573575,
          9.151093104206993,
          9.148719626538464,
          9.143150580083962,
          9.135016973828934,
          9.12515113120472,
          9.114444886674715,
          9.10392771579341,
          9.094654212719316,
          9.087529646293872,
          9.083249145915127,
          9.082168257289439,
          9.084537111870466,
          9.090189931953068,
          9.098303338126003,
          9.108042706884891,
          9.118691710195412
         ],
         "y": [
          -0.16926258207175157,
          -0.03653101446767535,
          0.06573206590077824,
          0.12543324611100481,
          0.1373810537783206,
          0.10107849777231118,
          0.020935627527078806,
          -0.0960062395358368,
          -0.2389409280313481,
          -0.393256684941039,
          -0.5433755970941525,
          -0.6754003202287284,
          -0.7761104724650557,
          -0.8367961043594322,
          -0.8509898046558575,
          -0.8167896644792076,
          -0.7352849201327878,
          -0.6159641923104089,
          -0.4724193034212466,
          -0.31815672366563164,
          0.3818253840070415,
          0.9008487592752775,
          1.2991202345591375,
          1.5368240339034844,
          1.5914364957186955,
          1.454690435056319,
          1.139532088960671,
          0.6783724122435172,
          0.1136377022530061,
          -0.49815092000908817,
          -1.0950124064002504,
          -1.6196864780093576,
          -2.020374384931372,
          -2.257092540732998,
          -2.3069635965477397,
          -2.1702822959673886,
          -1.858708936830607,
          -1.3945669173571016,
          -0.8266346268376082,
          -0.2130900161337261,
          0.9305821217509231,
          1.8474309636726185,
          2.5448943157523822,
          2.9586131431609326,
          3.0508323076393813,
          2.809170024396534,
          2.2527154457456047,
          1.4438523123208198,
          0.46329179897016914,
          -0.6016890612341941,
          -1.644096829154657,
          -2.5600813739845956,
          -3.2608397748794378,
          -3.679597520522507,
          -3.7701747285300806,
          -3.520064921193435,
          -2.9573405698487676,
          -2.1485308873423934,
          -1.1790993917779105,
          -0.11862358774979927,
          1.4864319585187653,
          2.8071431514112413,
          3.807967747557251,
          4.398470079536326,
          4.527303135452825,
          4.17686104377846,
          3.3754476858825804,
          2.213678294720261,
          0.810326829546558,
          -0.7077256355821118,
          -2.1944730448534,
          -3.5008013898954062,
          -4.4991840090877755,
          -5.092259448587752,
          -5.23100283577739,
          -4.881305763601463,
          -4.068047548818572,
          -2.909212511401669,
          -1.5238863459094045,
          -0.013933756261601144
         ],
         "z": [
          -2.0406279941820857,
          -2.1197659480530384,
          -2.2375799000127063,
          -2.3793747205115676,
          -2.534565913606147,
          -2.6864264854141724,
          -2.818748385125731,
          -2.919407917697919,
          -2.9790713611459996,
          -2.9920065775688975,
          -2.9570451129986175,
          -2.8772108329489594,
          -2.760608207297703,
          -2.617048515318395,
          -2.4632110160533984,
          -2.31640735466184,
          -2.186432390365383,
          -2.0860018112409757,
          -2.0248644086631327,
          -2.0088897609056318,
          -0.6925500679669007,
          -1.0085382173639057,
          -1.4700178170896363,
          -2.0311778763339365,
          -2.638641236330849,
          -3.2365029046972533,
          -3.7628004823780565,
          -4.164004283296763,
          -4.401821349759903,
          -4.453202970115351,
          -4.313723499224635,
          -3.996924908429895,
          -3.5346114381316958,
          -2.969407775325698,
          -2.3572676543984423,
          -1.763257183427486,
          -1.2395924326136945,
          -0.8363034201080048,
          -0.5981995048040296,
          -0.5494784838923963,
          0.6698635279437882,
          0.11452821359511199,
          -0.6956421380838311,
          -1.680446660647219,
          -2.7449624437628506,
          -3.7883489969007496,
          -4.703870593846728,
          -5.400425126295403,
          -5.816533322831821,
          -5.909643806299363,
          -5.667277757072524,
          -5.113090976411493,
          -4.304125567891307,
          -3.3219152542331214,
          -2.255703620554113,
          -1.212990444353869,
          -0.3010654213310995,
          0.39075647925464985,
          0.808877969694547,
          0.9111738933223976,
          2.015156263900198,
          1.2438570614661104,
          0.09273852272515502,
          -1.3164267811380617,
          -2.8411360058140103,
          -4.3350984053253745,
          -5.643780582907086,
          -6.638925299431085,
          -7.230449049435211,
          -7.362408304678748,
          -7.018388634633591,
          -6.229456652353692,
          -5.072166452728103,
          -3.66456286801193,
          -2.1485302997067794,
          -0.6640541066792368,
          0.642129809571338,
          1.629634618794654,
          2.2098649520627145,
          2.342849772557134
         ]
        }
       ],
       "layout": {
        "scene": {
         "xaxis": {
          "range": [
           2.418314777187371,
           16.154208365687623
          ],
          "title": {
           "text": "X"
          }
         },
         "yaxis": {
          "range": [
           -7.225860788939875,
           6.510032799560375
          ],
          "title": {
           "text": "Y"
          }
         },
         "zaxis": {
          "range": [
           -9.369149157999999,
           4.36674443050025
          ],
          "title": {
           "text": "Z"
          }
         }
        },
        "template": {
         "data": {
          "bar": [
           {
            "error_x": {
             "color": "#2a3f5f"
            },
            "error_y": {
             "color": "#2a3f5f"
            },
            "marker": {
             "line": {
              "color": "#E5ECF6",
              "width": 0.5
             },
             "pattern": {
              "fillmode": "overlay",
              "size": 10,
              "solidity": 0.2
             }
            },
            "type": "bar"
           }
          ],
          "barpolar": [
           {
            "marker": {
             "line": {
              "color": "#E5ECF6",
              "width": 0.5
             },
             "pattern": {
              "fillmode": "overlay",
              "size": 10,
              "solidity": 0.2
             }
            },
            "type": "barpolar"
           }
          ],
          "carpet": [
           {
            "aaxis": {
             "endlinecolor": "#2a3f5f",
             "gridcolor": "white",
             "linecolor": "white",
             "minorgridcolor": "white",
             "startlinecolor": "#2a3f5f"
            },
            "baxis": {
             "endlinecolor": "#2a3f5f",
             "gridcolor": "white",
             "linecolor": "white",
             "minorgridcolor": "white",
             "startlinecolor": "#2a3f5f"
            },
            "type": "carpet"
           }
          ],
          "choropleth": [
           {
            "colorbar": {
             "outlinewidth": 0,
             "ticks": ""
            },
            "type": "choropleth"
           }
          ],
          "contour": [
           {
            "colorbar": {
             "outlinewidth": 0,
             "ticks": ""
            },
            "colorscale": [
             [
              0,
              "#0d0887"
             ],
             [
              0.1111111111111111,
              "#46039f"
             ],
             [
              0.2222222222222222,
              "#7201a8"
             ],
             [
              0.3333333333333333,
              "#9c179e"
             ],
             [
              0.4444444444444444,
              "#bd3786"
             ],
             [
              0.5555555555555556,
              "#d8576b"
             ],
             [
              0.6666666666666666,
              "#ed7953"
             ],
             [
              0.7777777777777778,
              "#fb9f3a"
             ],
             [
              0.8888888888888888,
              "#fdca26"
             ],
             [
              1,
              "#f0f921"
             ]
            ],
            "type": "contour"
           }
          ],
          "contourcarpet": [
           {
            "colorbar": {
             "outlinewidth": 0,
             "ticks": ""
            },
            "type": "contourcarpet"
           }
          ],
          "heatmap": [
           {
            "colorbar": {
             "outlinewidth": 0,
             "ticks": ""
            },
            "colorscale": [
             [
              0,
              "#0d0887"
             ],
             [
              0.1111111111111111,
              "#46039f"
             ],
             [
              0.2222222222222222,
              "#7201a8"
             ],
             [
              0.3333333333333333,
              "#9c179e"
             ],
             [
              0.4444444444444444,
              "#bd3786"
             ],
             [
              0.5555555555555556,
              "#d8576b"
             ],
             [
              0.6666666666666666,
              "#ed7953"
             ],
             [
              0.7777777777777778,
              "#fb9f3a"
             ],
             [
              0.8888888888888888,
              "#fdca26"
             ],
             [
              1,
              "#f0f921"
             ]
            ],
            "type": "heatmap"
           }
          ],
          "heatmapgl": [
           {
            "colorbar": {
             "outlinewidth": 0,
             "ticks": ""
            },
            "colorscale": [
             [
              0,
              "#0d0887"
             ],
             [
              0.1111111111111111,
              "#46039f"
             ],
             [
              0.2222222222222222,
              "#7201a8"
             ],
             [
              0.3333333333333333,
              "#9c179e"
             ],
             [
              0.4444444444444444,
              "#bd3786"
             ],
             [
              0.5555555555555556,
              "#d8576b"
             ],
             [
              0.6666666666666666,
              "#ed7953"
             ],
             [
              0.7777777777777778,
              "#fb9f3a"
             ],
             [
              0.8888888888888888,
              "#fdca26"
             ],
             [
              1,
              "#f0f921"
             ]
            ],
            "type": "heatmapgl"
           }
          ],
          "histogram": [
           {
            "marker": {
             "pattern": {
              "fillmode": "overlay",
              "size": 10,
              "solidity": 0.2
             }
            },
            "type": "histogram"
           }
          ],
          "histogram2d": [
           {
            "colorbar": {
             "outlinewidth": 0,
             "ticks": ""
            },
            "colorscale": [
             [
              0,
              "#0d0887"
             ],
             [
              0.1111111111111111,
              "#46039f"
             ],
             [
              0.2222222222222222,
              "#7201a8"
             ],
             [
              0.3333333333333333,
              "#9c179e"
             ],
             [
              0.4444444444444444,
              "#bd3786"
             ],
             [
              0.5555555555555556,
              "#d8576b"
             ],
             [
              0.6666666666666666,
              "#ed7953"
             ],
             [
              0.7777777777777778,
              "#fb9f3a"
             ],
             [
              0.8888888888888888,
              "#fdca26"
             ],
             [
              1,
              "#f0f921"
             ]
            ],
            "type": "histogram2d"
           }
          ],
          "histogram2dcontour": [
           {
            "colorbar": {
             "outlinewidth": 0,
             "ticks": ""
            },
            "colorscale": [
             [
              0,
              "#0d0887"
             ],
             [
              0.1111111111111111,
              "#46039f"
             ],
             [
              0.2222222222222222,
              "#7201a8"
             ],
             [
              0.3333333333333333,
              "#9c179e"
             ],
             [
              0.4444444444444444,
              "#bd3786"
             ],
             [
              0.5555555555555556,
              "#d8576b"
             ],
             [
              0.6666666666666666,
              "#ed7953"
             ],
             [
              0.7777777777777778,
              "#fb9f3a"
             ],
             [
              0.8888888888888888,
              "#fdca26"
             ],
             [
              1,
              "#f0f921"
             ]
            ],
            "type": "histogram2dcontour"
           }
          ],
          "mesh3d": [
           {
            "colorbar": {
             "outlinewidth": 0,
             "ticks": ""
            },
            "type": "mesh3d"
           }
          ],
          "parcoords": [
           {
            "line": {
             "colorbar": {
              "outlinewidth": 0,
              "ticks": ""
             }
            },
            "type": "parcoords"
           }
          ],
          "pie": [
           {
            "automargin": true,
            "type": "pie"
           }
          ],
          "scatter": [
           {
            "fillpattern": {
             "fillmode": "overlay",
             "size": 10,
             "solidity": 0.2
            },
            "type": "scatter"
           }
          ],
          "scatter3d": [
           {
            "line": {
             "colorbar": {
              "outlinewidth": 0,
              "ticks": ""
             }
            },
            "marker": {
             "colorbar": {
              "outlinewidth": 0,
              "ticks": ""
             }
            },
            "type": "scatter3d"
           }
          ],
          "scattercarpet": [
           {
            "marker": {
             "colorbar": {
              "outlinewidth": 0,
              "ticks": ""
             }
            },
            "type": "scattercarpet"
           }
          ],
          "scattergeo": [
           {
            "marker": {
             "colorbar": {
              "outlinewidth": 0,
              "ticks": ""
             }
            },
            "type": "scattergeo"
           }
          ],
          "scattergl": [
           {
            "marker": {
             "colorbar": {
              "outlinewidth": 0,
              "ticks": ""
             }
            },
            "type": "scattergl"
           }
          ],
          "scattermapbox": [
           {
            "marker": {
             "colorbar": {
              "outlinewidth": 0,
              "ticks": ""
             }
            },
            "type": "scattermapbox"
           }
          ],
          "scatterpolar": [
           {
            "marker": {
             "colorbar": {
              "outlinewidth": 0,
              "ticks": ""
             }
            },
            "type": "scatterpolar"
           }
          ],
          "scatterpolargl": [
           {
            "marker": {
             "colorbar": {
              "outlinewidth": 0,
              "ticks": ""
             }
            },
            "type": "scatterpolargl"
           }
          ],
          "scatterternary": [
           {
            "marker": {
             "colorbar": {
              "outlinewidth": 0,
              "ticks": ""
             }
            },
            "type": "scatterternary"
           }
          ],
          "surface": [
           {
            "colorbar": {
             "outlinewidth": 0,
             "ticks": ""
            },
            "colorscale": [
             [
              0,
              "#0d0887"
             ],
             [
              0.1111111111111111,
              "#46039f"
             ],
             [
              0.2222222222222222,
              "#7201a8"
             ],
             [
              0.3333333333333333,
              "#9c179e"
             ],
             [
              0.4444444444444444,
              "#bd3786"
             ],
             [
              0.5555555555555556,
              "#d8576b"
             ],
             [
              0.6666666666666666,
              "#ed7953"
             ],
             [
              0.7777777777777778,
              "#fb9f3a"
             ],
             [
              0.8888888888888888,
              "#fdca26"
             ],
             [
              1,
              "#f0f921"
             ]
            ],
            "type": "surface"
           }
          ],
          "table": [
           {
            "cells": {
             "fill": {
              "color": "#EBF0F8"
             },
             "line": {
              "color": "white"
             }
            },
            "header": {
             "fill": {
              "color": "#C8D4E3"
             },
             "line": {
              "color": "white"
             }
            },
            "type": "table"
           }
          ]
         },
         "layout": {
          "annotationdefaults": {
           "arrowcolor": "#2a3f5f",
           "arrowhead": 0,
           "arrowwidth": 1
          },
          "autotypenumbers": "strict",
          "coloraxis": {
           "colorbar": {
            "outlinewidth": 0,
            "ticks": ""
           }
          },
          "colorscale": {
           "diverging": [
            [
             0,
             "#8e0152"
            ],
            [
             0.1,
             "#c51b7d"
            ],
            [
             0.2,
             "#de77ae"
            ],
            [
             0.3,
             "#f1b6da"
            ],
            [
             0.4,
             "#fde0ef"
            ],
            [
             0.5,
             "#f7f7f7"
            ],
            [
             0.6,
             "#e6f5d0"
            ],
            [
             0.7,
             "#b8e186"
            ],
            [
             0.8,
             "#7fbc41"
            ],
            [
             0.9,
             "#4d9221"
            ],
            [
             1,
             "#276419"
            ]
           ],
           "sequential": [
            [
             0,
             "#0d0887"
            ],
            [
             0.1111111111111111,
             "#46039f"
            ],
            [
             0.2222222222222222,
             "#7201a8"
            ],
            [
             0.3333333333333333,
             "#9c179e"
            ],
            [
             0.4444444444444444,
             "#bd3786"
            ],
            [
             0.5555555555555556,
             "#d8576b"
            ],
            [
             0.6666666666666666,
             "#ed7953"
            ],
            [
             0.7777777777777778,
             "#fb9f3a"
            ],
            [
             0.8888888888888888,
             "#fdca26"
            ],
            [
             1,
             "#f0f921"
            ]
           ],
           "sequentialminus": [
            [
             0,
             "#0d0887"
            ],
            [
             0.1111111111111111,
             "#46039f"
            ],
            [
             0.2222222222222222,
             "#7201a8"
            ],
            [
             0.3333333333333333,
             "#9c179e"
            ],
            [
             0.4444444444444444,
             "#bd3786"
            ],
            [
             0.5555555555555556,
             "#d8576b"
            ],
            [
             0.6666666666666666,
             "#ed7953"
            ],
            [
             0.7777777777777778,
             "#fb9f3a"
            ],
            [
             0.8888888888888888,
             "#fdca26"
            ],
            [
             1,
             "#f0f921"
            ]
           ]
          },
          "colorway": [
           "#636efa",
           "#EF553B",
           "#00cc96",
           "#ab63fa",
           "#FFA15A",
           "#19d3f3",
           "#FF6692",
           "#B6E880",
           "#FF97FF",
           "#FECB52"
          ],
          "font": {
           "color": "#2a3f5f"
          },
          "geo": {
           "bgcolor": "white",
           "lakecolor": "white",
           "landcolor": "#E5ECF6",
           "showlakes": true,
           "showland": true,
           "subunitcolor": "white"
          },
          "hoverlabel": {
           "align": "left"
          },
          "hovermode": "closest",
          "mapbox": {
           "style": "light"
          },
          "paper_bgcolor": "white",
          "plot_bgcolor": "#E5ECF6",
          "polar": {
           "angularaxis": {
            "gridcolor": "white",
            "linecolor": "white",
            "ticks": ""
           },
           "bgcolor": "#E5ECF6",
           "radialaxis": {
            "gridcolor": "white",
            "linecolor": "white",
            "ticks": ""
           }
          },
          "scene": {
           "xaxis": {
            "backgroundcolor": "#E5ECF6",
            "gridcolor": "white",
            "gridwidth": 2,
            "linecolor": "white",
            "showbackground": true,
            "ticks": "",
            "zerolinecolor": "white"
           },
           "yaxis": {
            "backgroundcolor": "#E5ECF6",
            "gridcolor": "white",
            "gridwidth": 2,
            "linecolor": "white",
            "showbackground": true,
            "ticks": "",
            "zerolinecolor": "white"
           },
           "zaxis": {
            "backgroundcolor": "#E5ECF6",
            "gridcolor": "white",
            "gridwidth": 2,
            "linecolor": "white",
            "showbackground": true,
            "ticks": "",
            "zerolinecolor": "white"
           }
          },
          "shapedefaults": {
           "line": {
            "color": "#2a3f5f"
           }
          },
          "ternary": {
           "aaxis": {
            "gridcolor": "white",
            "linecolor": "white",
            "ticks": ""
           },
           "baxis": {
            "gridcolor": "white",
            "linecolor": "white",
            "ticks": ""
           },
           "bgcolor": "#E5ECF6",
           "caxis": {
            "gridcolor": "white",
            "linecolor": "white",
            "ticks": ""
           }
          },
          "title": {
           "x": 0.05
          },
          "xaxis": {
           "automargin": true,
           "gridcolor": "white",
           "linecolor": "white",
           "ticks": "",
           "title": {
            "standoff": 15
           },
           "zerolinecolor": "white",
           "zerolinewidth": 2
          },
          "yaxis": {
           "automargin": true,
           "gridcolor": "white",
           "linecolor": "white",
           "ticks": "",
           "title": {
            "standoff": 15
           },
           "zerolinecolor": "white",
           "zerolinewidth": 2
          }
         }
        },
        "title": {
         "text": "Intersecciones"
        }
       }
      }
     },
     "metadata": {},
     "output_type": "display_data"
    }
   ],
   "source": [
    "fig = new_plot()\n",
    "fig = build_box(fig)\n",
    "plot_intersections(fig)\n",
    "fig = config_plot(fig, 'Intersecciones')\n",
    "fig.show()"
   ]
  },
  {
   "cell_type": "markdown",
   "metadata": {},
   "source": [
    "#### 3.3 Triangularización en la superficie de la caja"
   ]
  },
  {
   "cell_type": "markdown",
   "metadata": {},
   "source": [
    "Como la tringularización de la superficie de la caja es similar a la triangularización de la fractura, y la tringularización de la fractura ya se ha realizado, se puede usar la misma variable (*tri*) que almacena las posiciones de los triangulos de la fractura interna."
   ]
  },
  {
   "cell_type": "code",
   "execution_count": 39,
   "metadata": {},
   "outputs": [],
   "source": [
    "def plot_surface_triangles(fig):\n",
    "    global inter, tri, color_t\n",
    "\n",
    "    for s in range(len(tri)):\n",
    "        triangle = np.array([inter[tri[s][0]], inter[tri[s][1]], inter[tri[s][2]], inter[tri[s][0]]])\n",
    "        fig.add_trace(go.Scatter3d(\n",
    "            x=triangle[:, 0],\n",
    "            y=triangle[:, 1],\n",
    "            z=triangle[:, 2],\n",
    "            mode='lines',\n",
    "            line=dict(color=color_t[s])\n",
    "        ))\n",
    "\n"
   ]
  },
  {
   "cell_type": "code",
   "execution_count": 40,
   "metadata": {},
   "outputs": [
    {
     "data": {
      "application/vnd.plotly.v1+json": {
       "config": {
        "plotlyServerURL": "https://plot.ly"
       },
       "data": [
        {
         "line": {
          "color": "black",
          "width": 2
         },
         "mode": "lines",
         "type": "scatter3d",
         "x": [
          9.162098083707518,
          9.09958399463823
         ],
         "y": [
          6.066128146327891,
          -2.827945923555345
         ],
         "z": [
          -4.979472521590816,
          -8.922984438734423
         ]
        },
        {
         "line": {
          "color": "black",
          "width": 2
         },
         "mode": "lines",
         "type": "scatter3d",
         "x": [
          9.162098083707518,
          9.482673907285587
         ],
         "y": [
          6.066128146327891,
          6.063865380319389
         ],
         "z": [
          -4.979472521590816,
          -4.979451042539759
         ]
        },
        {
         "line": {
          "color": "black",
          "width": 2
         },
         "mode": "lines",
         "type": "scatter3d",
         "x": [
          9.162098083707518,
          9.133680769219962
         ],
         "y": [
          6.066128146327891,
          2.1245142276484503
         ],
         "z": [
          -4.979472521590816,
          3.9107713439755454
         ]
        },
        {
         "line": {
          "color": "black",
          "width": 2
         },
         "mode": "lines",
         "type": "scatter3d",
         "x": [
          9.09958399463823,
          9.420159818216298
         ],
         "y": [
          -2.827945923555345,
          -2.8302086895638467
         ],
         "z": [
          -8.922984438734423,
          -8.922962959683364
         ]
        },
        {
         "line": {
          "color": "black",
          "width": 2
         },
         "mode": "lines",
         "type": "scatter3d",
         "x": [
          9.09958399463823,
          9.071166680150675
         ],
         "y": [
          -2.827945923555345,
          -6.769559842234785
         ],
         "z": [
          -8.922984438734423,
          -0.032740573168060116
         ]
        },
        {
         "line": {
          "color": "black",
          "width": 2
         },
         "mode": "lines",
         "type": "scatter3d",
         "x": [
          9.482673907285587,
          9.420159818216298
         ],
         "y": [
          6.063865380319389,
          -2.8302086895638467
         ],
         "z": [
          -4.979451042539759,
          -8.922962959683364
         ]
        },
        {
         "line": {
          "color": "black",
          "width": 2
         },
         "mode": "lines",
         "type": "scatter3d",
         "x": [
          9.482673907285587,
          9.454256592798032
         ],
         "y": [
          6.063865380319389,
          2.1222514616399484
         ],
         "z": [
          -4.979451042539759,
          3.9107928230266022
         ]
        },
        {
         "line": {
          "color": "black",
          "width": 2
         },
         "mode": "lines",
         "type": "scatter3d",
         "x": [
          9.420159818216298,
          9.391742503728745
         ],
         "y": [
          -2.8302086895638467,
          -6.771822608243287
         ],
         "z": [
          -8.922962959683364,
          -0.032719094117003245
         ]
        },
        {
         "line": {
          "color": "black",
          "width": 2
         },
         "mode": "lines",
         "type": "scatter3d",
         "x": [
          9.133680769219962,
          9.071166680150675
         ],
         "y": [
          2.1245142276484503,
          -6.769559842234785
         ],
         "z": [
          3.9107713439755454,
          -0.032740573168060116
         ]
        },
        {
         "line": {
          "color": "black",
          "width": 2
         },
         "mode": "lines",
         "type": "scatter3d",
         "x": [
          9.133680769219962,
          9.454256592798032
         ],
         "y": [
          2.1245142276484503,
          2.1222514616399484
         ],
         "z": [
          3.9107713439755454,
          3.9107928230266022
         ]
        },
        {
         "line": {
          "color": "black",
          "width": 2
         },
         "mode": "lines",
         "type": "scatter3d",
         "x": [
          9.071166680150675,
          9.391742503728745
         ],
         "y": [
          -6.769559842234785,
          -6.771822608243287
         ],
         "z": [
          -0.032740573168060116,
          -0.032719094117003245
         ]
        },
        {
         "line": {
          "color": "black",
          "width": 2
         },
         "mode": "lines",
         "type": "scatter3d",
         "x": [
          9.454256592798032,
          9.391742503728745
         ],
         "y": [
          2.1222514616399484,
          -6.771822608243287
         ],
         "z": [
          3.9107928230266022,
          -0.032719094117003245
         ]
        },
        {
         "line": {
          "color": [
           0.1753829238095701,
           0.02832620995667212,
           0.17514324560391958
          ]
         },
         "mode": "lines",
         "type": "scatter3d",
         "x": [
          9.11788903006329,
          9.121688529567454,
          9.125373197873333,
          9.11788903006329
         ],
         "y": [
          -0.16926258207175157,
          0.3818253840070415,
          0.9008487592752775,
          -0.16926258207175157
         ],
         "z": [
          -2.0406279941820857,
          -0.6925500679669007,
          -1.0085382173639057,
          -2.0406279941820857
         ]
        },
        {
         "line": {
          "color": [
           0.1753829238095701,
           0.02832620995667212,
           0.17514324560391958
          ]
         },
         "mode": "lines",
         "type": "scatter3d",
         "x": [
          9.11788903006329,
          9.125373197873333,
          9.118831210556536,
          9.11788903006329
         ],
         "y": [
          -0.16926258207175157,
          0.9008487592752775,
          -0.03653101446767535,
          -0.16926258207175157
         ],
         "z": [
          -2.0406279941820857,
          -1.0085382173639057,
          -2.1197659480530384,
          -2.0406279941820857
         ]
        },
        {
         "line": {
          "color": [
           0.1753829238095701,
           0.02832620995667212,
           0.17514324560391958
          ]
         },
         "mode": "lines",
         "type": "scatter3d",
         "x": [
          9.118831210556536,
          9.125373197873333,
          9.128215293980718,
          9.118831210556536
         ],
         "y": [
          -0.03653101446767535,
          0.9008487592752775,
          1.2991202345591375,
          -0.03653101446767535
         ],
         "z": [
          -2.1197659480530384,
          -1.0085382173639057,
          -1.4700178170896363,
          -2.1197659480530384
         ]
        },
        {
         "line": {
          "color": [
           0.1753829238095701,
           0.02832620995667212,
           0.17514324560391958
          ]
         },
         "mode": "lines",
         "type": "scatter3d",
         "x": [
          9.118831210556536,
          9.128215293980718,
          9.119560922334115,
          9.118831210556536
         ],
         "y": [
          -0.03653101446767535,
          1.2991202345591375,
          0.06573206590077824,
          -0.03653101446767535
         ],
         "z": [
          -2.1197659480530384,
          -1.4700178170896363,
          -2.2375799000127063,
          -2.1197659480530384
         ]
        },
        {
         "line": {
          "color": [
           0.1753829238095701,
           0.02832620995667212,
           0.17514324560391958
          ]
         },
         "mode": "lines",
         "type": "scatter3d",
         "x": [
          9.119560922334115,
          9.128215293980718,
          9.129930711121892,
          9.119560922334115
         ],
         "y": [
          0.06573206590077824,
          1.2991202345591375,
          1.5368240339034844,
          0.06573206590077824
         ],
         "z": [
          -2.2375799000127063,
          -1.4700178170896363,
          -2.0311778763339365,
          -2.2375799000127063
         ]
        },
        {
         "line": {
          "color": [
           0.1753829238095701,
           0.02832620995667212,
           0.17514324560391958
          ]
         },
         "mode": "lines",
         "type": "scatter3d",
         "x": [
          9.119560922334115,
          9.129930711121892,
          9.119991820141362,
          9.119560922334115
         ],
         "y": [
          0.06573206590077824,
          1.5368240339034844,
          0.12543324611100481,
          0.06573206590077824
         ],
         "z": [
          -2.2375799000127063,
          -2.0311778763339365,
          -2.3793747205115676,
          -2.2375799000127063
         ]
        },
        {
         "line": {
          "color": [
           0.1753829238095701,
           0.02832620995667212,
           0.17514324560391958
          ]
         },
         "mode": "lines",
         "type": "scatter3d",
         "x": [
          9.119991820141362,
          9.129930711121892,
          9.130356890979236,
          9.119991820141362
         ],
         "y": [
          0.12543324611100481,
          1.5368240339034844,
          1.5914364957186955,
          0.12543324611100481
         ],
         "z": [
          -2.3793747205115676,
          -2.0311778763339365,
          -2.638641236330849,
          -2.3793747205115676
         ]
        },
        {
         "line": {
          "color": [
           0.1753829238095701,
           0.02832620995667212,
           0.17514324560391958
          ]
         },
         "mode": "lines",
         "type": "scatter3d",
         "x": [
          9.119991820141362,
          9.130356890979236,
          9.120086551092333,
          9.119991820141362
         ],
         "y": [
          0.12543324611100481,
          1.5914364957186955,
          0.1373810537783206,
          0.12543324611100481
         ],
         "z": [
          -2.3793747205115676,
          -2.638641236330849,
          -2.534565913606147,
          -2.3793747205115676
         ]
        },
        {
         "line": {
          "color": [
           0.1753829238095701,
           0.02832620995667212,
           0.17514324560391958
          ]
         },
         "mode": "lines",
         "type": "scatter3d",
         "x": [
          9.120086551092333,
          9.130356890979236,
          9.129431734386786,
          9.120086551092333
         ],
         "y": [
          0.1373810537783206,
          1.5914364957186955,
          1.454690435056319,
          0.1373810537783206
         ],
         "z": [
          -2.534565913606147,
          -2.638641236330849,
          -3.2365029046972533,
          -2.534565913606147
         ]
        },
        {
         "line": {
          "color": [
           0.1753829238095701,
           0.02832620995667212,
           0.17514324560391958
          ]
         },
         "mode": "lines",
         "type": "scatter3d",
         "x": [
          9.120086551092333,
          9.129431734386786,
          9.119840486470565,
          9.120086551092333
         ],
         "y": [
          0.1373810537783206,
          1.454690435056319,
          0.10107849777231118,
          0.1373810537783206
         ],
         "z": [
          -2.534565913606147,
          -3.2365029046972533,
          -2.6864264854141724,
          -2.534565913606147
         ]
        },
        {
         "line": {
          "color": [
           0.1753829238095701,
           0.02832620995667212,
           0.17514324560391958
          ]
         },
         "mode": "lines",
         "type": "scatter3d",
         "x": [
          9.119840486470565,
          9.129431734386786,
          9.12724247004219,
          9.119840486470565
         ],
         "y": [
          0.10107849777231118,
          1.454690435056319,
          1.139532088960671,
          0.10107849777231118
         ],
         "z": [
          -2.6864264854141724,
          -3.2365029046972533,
          -3.7628004823780565,
          -2.6864264854141724
         ]
        },
        {
         "line": {
          "color": [
           0.1753829238095701,
           0.02832620995667212,
           0.17514324560391958
          ]
         },
         "mode": "lines",
         "type": "scatter3d",
         "x": [
          9.119840486470565,
          9.12724247004219,
          9.119283668393074,
          9.119840486470565
         ],
         "y": [
          0.10107849777231118,
          1.139532088960671,
          0.020935627527078806,
          0.10107849777231118
         ],
         "z": [
          -2.6864264854141724,
          -3.7628004823780565,
          -2.818748385125731,
          -2.6864264854141724
         ]
        },
        {
         "line": {
          "color": [
           0.1753829238095701,
           0.02832620995667212,
           0.17514324560391958
          ]
         },
         "mode": "lines",
         "type": "scatter3d",
         "x": [
          9.119283668393074,
          9.12724247004219,
          9.124014282237844,
          9.119283668393074
         ],
         "y": [
          0.020935627527078806,
          1.139532088960671,
          0.6783724122435172,
          0.020935627527078806
         ],
         "z": [
          -2.818748385125731,
          -3.7628004823780565,
          -4.164004283296763,
          -2.818748385125731
         ]
        },
        {
         "line": {
          "color": [
           0.1753829238095701,
           0.02832620995667212,
           0.17514324560391958
          ]
         },
         "mode": "lines",
         "type": "scatter3d",
         "x": [
          9.119283668393074,
          9.124014282237844,
          9.118464985288428,
          9.119283668393074
         ],
         "y": [
          0.020935627527078806,
          0.6783724122435172,
          -0.0960062395358368,
          0.020935627527078806
         ],
         "z": [
          -2.818748385125731,
          -4.164004283296763,
          -2.919407917697919,
          -2.818748385125731
         ]
        },
        {
         "line": {
          "color": [
           0.1753829238095701,
           0.02832620995667212,
           0.17514324560391958
          ]
         },
         "mode": "lines",
         "type": "scatter3d",
         "x": [
          9.118464985288428,
          9.124014282237844,
          9.120044068868447,
          9.118464985288428
         ],
         "y": [
          -0.0960062395358368,
          0.6783724122435172,
          0.1136377022530061,
          -0.0960062395358368
         ],
         "z": [
          -2.919407917697919,
          -4.164004283296763,
          -4.401821349759903,
          -2.919407917697919
         ]
        },
        {
         "line": {
          "color": [
           0.1753829238095701,
           0.02832620995667212,
           0.17514324560391958
          ]
         },
         "mode": "lines",
         "type": "scatter3d",
         "x": [
          9.118464985288428,
          9.120044068868447,
          9.117460086550839,
          9.118464985288428
         ],
         "y": [
          -0.0960062395358368,
          0.1136377022530061,
          -0.2389409280313481,
          -0.0960062395358368
         ],
         "z": [
          -2.919407917697919,
          -4.401821349759903,
          -2.9790713611459996,
          -2.919407917697919
         ]
        },
        {
         "line": {
          "color": [
           0.1753829238095701,
           0.02832620995667212,
           0.17514324560391958
          ]
         },
         "mode": "lines",
         "type": "scatter3d",
         "x": [
          9.117460086550839,
          9.120044068868447,
          9.115729236717485,
          9.117460086550839
         ],
         "y": [
          -0.2389409280313481,
          0.1136377022530061,
          -0.49815092000908817,
          -0.2389409280313481
         ],
         "z": [
          -2.9790713611459996,
          -4.401821349759903,
          -4.453202970115351,
          -2.9790713611459996
         ]
        },
        {
         "line": {
          "color": [
           0.1753829238095701,
           0.02832620995667212,
           0.17514324560391958
          ]
         },
         "mode": "lines",
         "type": "scatter3d",
         "x": [
          9.117460086550839,
          9.115729236717485,
          9.116371724336735,
          9.117460086550839
         ],
         "y": [
          -0.2389409280313481,
          -0.49815092000908817,
          -0.393256684941039,
          -0.2389409280313481
         ],
         "z": [
          -2.9790713611459996,
          -4.453202970115351,
          -2.9920065775688975,
          -2.9790713611459996
         ]
        },
        {
         "line": {
          "color": [
           0.1753829238095701,
           0.02832620995667212,
           0.17514324560391958
          ]
         },
         "mode": "lines",
         "type": "scatter3d",
         "x": [
          9.116371724336735,
          9.115729236717485,
          9.111506978922872,
          9.116371724336735
         ],
         "y": [
          -0.393256684941039,
          -0.49815092000908817,
          -1.0950124064002504,
          -0.393256684941039
         ],
         "z": [
          -2.9920065775688975,
          -4.453202970115351,
          -4.313723499224635,
          -2.9920065775688975
         ]
        },
        {
         "line": {
          "color": [
           0.1753829238095701,
           0.02832620995667212,
           0.17514324560391958
          ]
         },
         "mode": "lines",
         "type": "scatter3d",
         "x": [
          9.116371724336735,
          9.111506978922872,
          9.115309776161928,
          9.116371724336735
         ],
         "y": [
          -0.393256684941039,
          -1.0950124064002504,
          -0.5433755970941525,
          -0.393256684941039
         ],
         "z": [
          -2.9920065775688975,
          -4.313723499224635,
          -2.9570451129986175,
          -2.9920065775688975
         ]
        },
        {
         "line": {
          "color": [
           0.1753829238095701,
           0.02832620995667212,
           0.17514324560391958
          ]
         },
         "mode": "lines",
         "type": "scatter3d",
         "x": [
          9.115309776161928,
          9.111506978922872,
          9.107782371201182,
          9.115309776161928
         ],
         "y": [
          -0.5433755970941525,
          -1.0950124064002504,
          -1.6196864780093576,
          -0.5433755970941525
         ],
         "z": [
          -2.9570451129986175,
          -4.313723499224635,
          -3.996924908429895,
          -2.9570451129986175
         ]
        },
        {
         "line": {
          "color": [
           0.1753829238095701,
           0.02832620995667212,
           0.17514324560391958
          ]
         },
         "mode": "lines",
         "type": "scatter3d",
         "x": [
          9.115309776161928,
          9.107782371201182,
          9.11437253823483,
          9.115309776161928
         ],
         "y": [
          -0.5433755970941525,
          -1.6196864780093576,
          -0.6754003202287284,
          -0.5433755970941525
         ],
         "z": [
          -2.9570451129986175,
          -3.996924908429895,
          -2.8772108329489594,
          -2.9570451129986175
         ]
        },
        {
         "line": {
          "color": [
           0.1753829238095701,
           0.02832620995667212,
           0.17514324560391958
          ]
         },
         "mode": "lines",
         "type": "scatter3d",
         "x": [
          9.11437253823483,
          9.107782371201182,
          9.10492316297954,
          9.11437253823483
         ],
         "y": [
          -0.6754003202287284,
          -1.6196864780093576,
          -2.020374384931372,
          -0.6754003202287284
         ],
         "z": [
          -2.8772108329489594,
          -3.996924908429895,
          -3.5346114381316958,
          -2.8772108329489594
         ]
        },
        {
         "line": {
          "color": [
           0.1753829238095701,
           0.02832620995667212,
           0.17514324560391958
          ]
         },
         "mode": "lines",
         "type": "scatter3d",
         "x": [
          9.11437253823483,
          9.10492316297954,
          9.113653868871776,
          9.11437253823483
         ],
         "y": [
          -0.6754003202287284,
          -2.020374384931372,
          -0.7761104724650557,
          -0.6754003202287284
         ],
         "z": [
          -2.8772108329489594,
          -3.5346114381316958,
          -2.760608207297703,
          -2.8772108329489594
         ]
        },
        {
         "line": {
          "color": [
           0.1753829238095701,
           0.02832620995667212,
           0.17514324560391958
          ]
         },
         "mode": "lines",
         "type": "scatter3d",
         "x": [
          9.113653868871776,
          9.10492316297954,
          9.103214432019232,
          9.113653868871776
         ],
         "y": [
          -0.7761104724650557,
          -2.020374384931372,
          -2.257092540732998,
          -0.7761104724650557
         ],
         "z": [
          -2.760608207297703,
          -3.5346114381316958,
          -2.969407775325698,
          -2.760608207297703
         ]
        },
        {
         "line": {
          "color": [
           0.1753829238095701,
           0.02832620995667212,
           0.17514324560391958
          ]
         },
         "mode": "lines",
         "type": "scatter3d",
         "x": [
          9.113653868871776,
          9.103214432019232,
          9.113215904119969,
          9.113653868871776
         ],
         "y": [
          -0.7761104724650557,
          -2.257092540732998,
          -0.8367961043594322,
          -0.7761104724650557
         ],
         "z": [
          -2.760608207297703,
          -2.969407775325698,
          -2.617048515318395,
          -2.760608207297703
         ]
        },
        {
         "line": {
          "color": [
           0.1753829238095701,
           0.02832620995667212,
           0.17514324560391958
          ]
         },
         "mode": "lines",
         "type": "scatter3d",
         "x": [
          9.113215904119969,
          9.103214432019232,
          9.102821405753524,
          9.113215904119969
         ],
         "y": [
          -0.8367961043594322,
          -2.257092540732998,
          -2.3069635965477397,
          -0.8367961043594322
         ],
         "z": [
          -2.617048515318395,
          -2.969407775325698,
          -2.3572676543984423,
          -2.617048515318395
         ]
        },
        {
         "line": {
          "color": [
           0.1753829238095701,
           0.02832620995667212,
           0.17514324560391958
          ]
         },
         "mode": "lines",
         "type": "scatter3d",
         "x": [
          9.113215904119969,
          9.102821405753524,
          9.113105411364554,
          9.113215904119969
         ],
         "y": [
          -0.8367961043594322,
          -2.3069635965477397,
          -0.8509898046558575,
          -0.8367961043594322
         ],
         "z": [
          -2.617048515318395,
          -2.3572676543984423,
          -2.4632110160533984,
          -2.617048515318395
         ]
        },
        {
         "line": {
          "color": [
           0.1753829238095701,
           0.02832620995667212,
           0.17514324560391958
          ]
         },
         "mode": "lines",
         "type": "scatter3d",
         "x": [
          9.113105411364554,
          9.102821405753524,
          9.103746363276544,
          9.113105411364554
         ],
         "y": [
          -0.8509898046558575,
          -2.3069635965477397,
          -2.1702822959673886,
          -0.8509898046558575
         ],
         "z": [
          -2.4632110160533984,
          -2.3572676543984423,
          -1.763257183427486,
          -2.4632110160533984
         ]
        },
        {
         "line": {
          "color": [
           0.1753829238095701,
           0.02832620995667212,
           0.17514324560391958
          ]
         },
         "mode": "lines",
         "type": "scatter3d",
         "x": [
          9.113105411364554,
          9.103746363276544,
          9.113336975025565,
          9.113105411364554
         ],
         "y": [
          -0.8509898046558575,
          -2.1702822959673886,
          -0.8167896644792076,
          -0.8509898046558575
         ],
         "z": [
          -2.4632110160533984,
          -1.763257183427486,
          -2.31640735466184,
          -2.4632110160533984
         ]
        },
        {
         "line": {
          "color": [
           0.1753829238095701,
           0.02832620995667212,
           0.17514324560391958
          ]
         },
         "mode": "lines",
         "type": "scatter3d",
         "x": [
          9.113336975025565,
          9.103746363276544,
          9.105910499600196,
          9.113336975025565
         ],
         "y": [
          -0.8167896644792076,
          -2.1702822959673886,
          -1.858708936830607,
          -0.8167896644792076
         ],
         "z": [
          -2.31640735466184,
          -1.763257183427486,
          -1.2395924326136945,
          -2.31640735466184
         ]
        },
        {
         "line": {
          "color": [
           0.1753829238095701,
           0.02832620995667212,
           0.17514324560391958
          ]
         },
         "mode": "lines",
         "type": "scatter3d",
         "x": [
          9.113336975025565,
          9.105910499600196,
          9.113903563061172,
          9.113336975025565
         ],
         "y": [
          -0.8167896644792076,
          -1.858708936830607,
          -0.7352849201327878,
          -0.8167896644792076
         ],
         "z": [
          -2.31640735466184,
          -1.2395924326136945,
          -2.186432390365383,
          -2.31640735466184
         ]
        },
        {
         "line": {
          "color": [
           0.1753829238095701,
           0.02832620995667212,
           0.17514324560391958
          ]
         },
         "mode": "lines",
         "type": "scatter3d",
         "x": [
          9.113903563061172,
          9.105910499600196,
          9.10915959838708,
          9.113903563061172
         ],
         "y": [
          -0.7352849201327878,
          -1.858708936830607,
          -1.3945669173571016,
          -0.7352849201327878
         ],
         "z": [
          -2.186432390365383,
          -1.2395924326136945,
          -0.8363034201080048,
          -2.186432390365383
         ]
        },
        {
         "line": {
          "color": [
           0.1753829238095701,
           0.02832620995667212,
           0.17514324560391958
          ]
         },
         "mode": "lines",
         "type": "scatter3d",
         "x": [
          9.113903563061172,
          9.10915959838708,
          9.114739052557853,
          9.113903563061172
         ],
         "y": [
          -0.7352849201327878,
          -1.3945669173571016,
          -0.6159641923104089,
          -0.7352849201327878
         ],
         "z": [
          -2.186432390365383,
          -0.8363034201080048,
          -2.0860018112409757,
          -2.186432390365383
         ]
        },
        {
         "line": {
          "color": [
           0.1753829238095701,
           0.02832620995667212,
           0.17514324560391958
          ]
         },
         "mode": "lines",
         "type": "scatter3d",
         "x": [
          9.114739052557853,
          9.10915959838708,
          9.113152362475395,
          9.114739052557853
         ],
         "y": [
          -0.6159641923104089,
          -1.3945669173571016,
          -0.8266346268376082,
          -0.6159641923104089
         ],
         "z": [
          -2.0860018112409757,
          -0.8363034201080048,
          -0.5981995048040296,
          -2.0860018112409757
         ]
        },
        {
         "line": {
          "color": [
           0.1753829238095701,
           0.02832620995667212,
           0.17514324560391958
          ]
         },
         "mode": "lines",
         "type": "scatter3d",
         "x": [
          9.114739052557853,
          9.113152362475395,
          9.115748159602392,
          9.114739052557853
         ],
         "y": [
          -0.6159641923104089,
          -0.8266346268376082,
          -0.4724193034212466,
          -0.6159641923104089
         ],
         "z": [
          -2.0860018112409757,
          -0.5981995048040296,
          -2.0248644086631327,
          -2.0860018112409757
         ]
        },
        {
         "line": {
          "color": [
           0.1753829238095701,
           0.02832620995667212,
           0.17514324560391958
          ]
         },
         "mode": "lines",
         "type": "scatter3d",
         "x": [
          9.115748159602392,
          9.113152362475395,
          9.117479767433826,
          9.115748159602392
         ],
         "y": [
          -0.4724193034212466,
          -0.8266346268376082,
          -0.2130900161337261,
          -0.4724193034212466
         ],
         "z": [
          -2.0248644086631327,
          -0.5981995048040296,
          -0.5494784838923963,
          -2.0248644086631327
         ]
        },
        {
         "line": {
          "color": [
           0.1753829238095701,
           0.02832620995667212,
           0.17514324560391958
          ]
         },
         "mode": "lines",
         "type": "scatter3d",
         "x": [
          9.115748159602392,
          9.117479767433826,
          9.116835942822249,
          9.115748159602392
         ],
         "y": [
          -0.4724193034212466,
          -0.2130900161337261,
          -0.31815672366563164,
          -0.4724193034212466
         ],
         "z": [
          -2.0248644086631327,
          -0.5494784838923963,
          -2.0088897609056318,
          -2.0248644086631327
         ]
        },
        {
         "line": {
          "color": [
           0.1753829238095701,
           0.02832620995667212,
           0.17514324560391958
          ]
         },
         "mode": "lines",
         "type": "scatter3d",
         "x": [
          9.116835942822249,
          9.117479767433826,
          9.121688529567454,
          9.116835942822249
         ],
         "y": [
          -0.31815672366563164,
          -0.2130900161337261,
          0.3818253840070415,
          -0.31815672366563164
         ],
         "z": [
          -2.0088897609056318,
          -0.5494784838923963,
          -0.6925500679669007,
          -2.0088897609056318
         ]
        },
        {
         "line": {
          "color": [
           0.1753829238095701,
           0.02832620995667212,
           0.17514324560391958
          ]
         },
         "mode": "lines",
         "type": "scatter3d",
         "x": [
          9.116835942822249,
          9.121688529567454,
          9.11788903006329,
          9.116835942822249
         ],
         "y": [
          -0.31815672366563164,
          0.3818253840070415,
          -0.16926258207175157,
          -0.31815672366563164
         ],
         "z": [
          -2.0088897609056318,
          -0.6925500679669007,
          -2.0406279941820857,
          -2.0088897609056318
         ]
        },
        {
         "line": {
          "color": [
           0.1753829238095701,
           0.02832620995667212,
           0.17514324560391958
          ]
         },
         "mode": "lines",
         "type": "scatter3d",
         "x": [
          9.121688529567454,
          9.125470613719601,
          9.131979346807196,
          9.121688529567454
         ],
         "y": [
          0.3818253840070415,
          0.9305821217509231,
          1.8474309636726185,
          0.3818253840070415
         ],
         "z": [
          -0.6925500679669007,
          0.6698635279437882,
          0.11452821359511199,
          -0.6925500679669007
         ]
        },
        {
         "line": {
          "color": [
           0.1753829238095701,
           0.02832620995667212,
           0.17514324560391958
          ]
         },
         "mode": "lines",
         "type": "scatter3d",
         "x": [
          9.121688529567454,
          9.131979346807196,
          9.125373197873333,
          9.121688529567454
         ],
         "y": [
          0.3818253840070415,
          1.8474309636726185,
          0.9008487592752775,
          0.3818253840070415
         ],
         "z": [
          -0.6925500679669007,
          0.11452821359511199,
          -1.0085382173639057,
          -0.6925500679669007
         ]
        },
        {
         "line": {
          "color": [
           0.1753829238095701,
           0.02832620995667212,
           0.17514324560391958
          ]
         },
         "mode": "lines",
         "type": "scatter3d",
         "x": [
          9.125373197873333,
          9.131979346807196,
          9.13695663435746,
          9.125373197873333
         ],
         "y": [
          0.9008487592752775,
          1.8474309636726185,
          2.5448943157523822,
          0.9008487592752775
         ],
         "z": [
          -1.0085382173639057,
          0.11452821359511199,
          -0.6956421380838311,
          -1.0085382173639057
         ]
        },
        {
         "line": {
          "color": [
           0.1753829238095701,
           0.02832620995667212,
           0.17514324560391958
          ]
         },
         "mode": "lines",
         "type": "scatter3d",
         "x": [
          9.125373197873333,
          9.13695663435746,
          9.128215293980718,
          9.125373197873333
         ],
         "y": [
          0.9008487592752775,
          2.5448943157523822,
          1.2991202345591375,
          0.9008487592752775
         ],
         "z": [
          -1.0085382173639057,
          -0.6956421380838311,
          -1.4700178170896363,
          -1.0085382173639057
         ]
        },
        {
         "line": {
          "color": [
           0.1753829238095701,
           0.02832620995667212,
           0.17514324560391958
          ]
         },
         "mode": "lines",
         "type": "scatter3d",
         "x": [
          9.128215293980718,
          9.13695663435746,
          9.13994282824967,
          9.128215293980718
         ],
         "y": [
          1.2991202345591375,
          2.5448943157523822,
          2.9586131431609326,
          1.2991202345591375
         ],
         "z": [
          -1.4700178170896363,
          -0.6956421380838311,
          -1.680446660647219,
          -1.4700178170896363
         ]
        },
        {
         "line": {
          "color": [
           0.1753829238095701,
           0.02832620995667212,
           0.17514324560391958
          ]
         },
         "mode": "lines",
         "type": "scatter3d",
         "x": [
          9.128215293980718,
          9.13994282824967,
          9.129930711121892,
          9.128215293980718
         ],
         "y": [
          1.2991202345591375,
          2.9586131431609326,
          1.5368240339034844,
          1.2991202345591375
         ],
         "z": [
          -1.4700178170896363,
          -1.680446660647219,
          -2.0311778763339365,
          -1.4700178170896363
         ]
        },
        {
         "line": {
          "color": [
           0.1753829238095701,
           0.02832620995667212,
           0.17514324560391958
          ]
         },
         "mode": "lines",
         "type": "scatter3d",
         "x": [
          9.129930711121892,
          9.13994282824967,
          9.140665076037997,
          9.129930711121892
         ],
         "y": [
          1.5368240339034844,
          2.9586131431609326,
          3.0508323076393813,
          1.5368240339034844
         ],
         "z": [
          -2.0311778763339365,
          -1.680446660647219,
          -2.7449624437628506,
          -2.0311778763339365
         ]
        },
        {
         "line": {
          "color": [
           0.1753829238095701,
           0.02832620995667212,
           0.17514324560391958
          ]
         },
         "mode": "lines",
         "type": "scatter3d",
         "x": [
          9.129930711121892,
          9.140665076037997,
          9.130356890979236,
          9.129930711121892
         ],
         "y": [
          1.5368240339034844,
          3.0508323076393813,
          1.5914364957186955,
          1.5368240339034844
         ],
         "z": [
          -2.0311778763339365,
          -2.7449624437628506,
          -2.638641236330849,
          -2.0311778763339365
         ]
        },
        {
         "line": {
          "color": [
           0.1753829238095701,
           0.02832620995667212,
           0.17514324560391958
          ]
         },
         "mode": "lines",
         "type": "scatter3d",
         "x": [
          9.130356890979236,
          9.140665076037997,
          9.139029225145817,
          9.130356890979236
         ],
         "y": [
          1.5914364957186955,
          3.0508323076393813,
          2.809170024396534,
          1.5914364957186955
         ],
         "z": [
          -2.638641236330849,
          -2.7449624437628506,
          -3.7883489969007496,
          -2.638641236330849
         ]
        },
        {
         "line": {
          "color": [
           0.1753829238095701,
           0.02832620995667212,
           0.17514324560391958
          ]
         },
         "mode": "lines",
         "type": "scatter3d",
         "x": [
          9.130356890979236,
          9.139029225145817,
          9.129431734386786,
          9.130356890979236
         ],
         "y": [
          1.5914364957186955,
          2.809170024396534,
          1.454690435056319,
          1.5914364957186955
         ],
         "z": [
          -2.638641236330849,
          -3.7883489969007496,
          -3.2365029046972533,
          -2.638641236330849
         ]
        },
        {
         "line": {
          "color": [
           0.1753829238095701,
           0.02832620995667212,
           0.17514324560391958
          ]
         },
         "mode": "lines",
         "type": "scatter3d",
         "x": [
          9.129431734386786,
          9.139029225145817,
          9.135162863806125,
          9.129431734386786
         ],
         "y": [
          1.454690435056319,
          2.809170024396534,
          2.2527154457456047,
          1.454690435056319
         ],
         "z": [
          -3.2365029046972533,
          -3.7883489969007496,
          -4.703870593846728,
          -3.2365029046972533
         ]
        },
        {
         "line": {
          "color": [
           0.1753829238095701,
           0.02832620995667212,
           0.17514324560391958
          ]
         },
         "mode": "lines",
         "type": "scatter3d",
         "x": [
          9.129431734386786,
          9.135162863806125,
          9.12724247004219,
          9.129431734386786
         ],
         "y": [
          1.454690435056319,
          2.2527154457456047,
          1.139532088960671,
          1.454690435056319
         ],
         "z": [
          -3.2365029046972533,
          -4.703870593846728,
          -3.7628004823780565,
          -3.2365029046972533
         ]
        },
        {
         "line": {
          "color": [
           0.1753829238095701,
           0.02832620995667212,
           0.17514324560391958
          ]
         },
         "mode": "lines",
         "type": "scatter3d",
         "x": [
          9.12724247004219,
          9.135162863806125,
          9.129500220088278,
          9.12724247004219
         ],
         "y": [
          1.139532088960671,
          2.2527154457456047,
          1.4438523123208198,
          1.139532088960671
         ],
         "z": [
          -3.7628004823780565,
          -4.703870593846728,
          -5.400425126295403,
          -3.7628004823780565
         ]
        },
        {
         "line": {
          "color": [
           0.1753829238095701,
           0.02832620995667212,
           0.17514324560391958
          ]
         },
         "mode": "lines",
         "type": "scatter3d",
         "x": [
          9.12724247004219,
          9.129500220088278,
          9.124014282237844,
          9.12724247004219
         ],
         "y": [
          1.139532088960671,
          1.4438523123208198,
          0.6783724122435172,
          1.139532088960671
         ],
         "z": [
          -3.7628004823780565,
          -5.400425126295403,
          -4.164004283296763,
          -3.7628004823780565
         ]
        },
        {
         "line": {
          "color": [
           0.1753829238095701,
           0.02832620995667212,
           0.17514324560391958
          ]
         },
         "mode": "lines",
         "type": "scatter3d",
         "x": [
          9.124014282237844,
          9.129500220088278,
          9.122606869975268,
          9.124014282237844
         ],
         "y": [
          0.6783724122435172,
          1.4438523123208198,
          0.46329179897016914,
          0.6783724122435172
         ],
         "z": [
          -4.164004283296763,
          -5.400425126295403,
          -5.816533322831821,
          -4.164004283296763
         ]
        },
        {
         "line": {
          "color": [
           0.1753829238095701,
           0.02832620995667212,
           0.17514324560391958
          ]
         },
         "mode": "lines",
         "type": "scatter3d",
         "x": [
          9.124014282237844,
          9.122606869975268,
          9.120044068868447,
          9.124014282237844
         ],
         "y": [
          0.6783724122435172,
          0.46329179897016914,
          0.1136377022530061,
          0.6783724122435172
         ],
         "z": [
          -4.164004283296763,
          -5.816533322831821,
          -4.401821349759903,
          -4.164004283296763
         ]
        },
        {
         "line": {
          "color": [
           0.1753829238095701,
           0.02832620995667212,
           0.17514324560391958
          ]
         },
         "mode": "lines",
         "type": "scatter3d",
         "x": [
          9.120044068868447,
          9.122606869975268,
          9.11509600237935,
          9.120044068868447
         ],
         "y": [
          0.1136377022530061,
          0.46329179897016914,
          -0.6016890612341941,
          0.1136377022530061
         ],
         "z": [
          -4.401821349759903,
          -5.816533322831821,
          -5.909643806299363,
          -4.401821349759903
         ]
        },
        {
         "line": {
          "color": [
           0.1753829238095701,
           0.02832620995667212,
           0.17514324560391958
          ]
         },
         "mode": "lines",
         "type": "scatter3d",
         "x": [
          9.120044068868447,
          9.11509600237935,
          9.115729236717485,
          9.120044068868447
         ],
         "y": [
          0.1136377022530061,
          -0.6016890612341941,
          -0.49815092000908817,
          0.1136377022530061
         ],
         "z": [
          -4.401821349759903,
          -5.909643806299363,
          -4.453202970115351,
          -4.401821349759903
         ]
        },
        {
         "line": {
          "color": [
           0.1753829238095701,
           0.02832620995667212,
           0.17514324560391958
          ]
         },
         "mode": "lines",
         "type": "scatter3d",
         "x": [
          9.115729236717485,
          9.11509600237935,
          9.107721988236268,
          9.115729236717485
         ],
         "y": [
          -0.49815092000908817,
          -0.6016890612341941,
          -1.644096829154657,
          -0.49815092000908817
         ],
         "z": [
          -4.453202970115351,
          -5.909643806299363,
          -5.667277757072524,
          -4.453202970115351
         ]
        },
        {
         "line": {
          "color": [
           0.1753829238095701,
           0.02832620995667212,
           0.17514324560391958
          ]
         },
         "mode": "lines",
         "type": "scatter3d",
         "x": [
          9.115729236717485,
          9.107721988236268,
          9.111506978922872,
          9.115729236717485
         ],
         "y": [
          -0.49815092000908817,
          -1.644096829154657,
          -1.0950124064002504,
          -0.49815092000908817
         ],
         "z": [
          -4.453202970115351,
          -5.667277757072524,
          -4.313723499224635,
          -4.453202970115351
         ]
        },
        {
         "line": {
          "color": [
           0.1753829238095701,
           0.02832620995667212,
           0.17514324560391958
          ]
         },
         "mode": "lines",
         "type": "scatter3d",
         "x": [
          9.111506978922872,
          9.107721988236268,
          9.101219432693416,
          9.111506978922872
         ],
         "y": [
          -1.0950124064002504,
          -1.644096829154657,
          -2.5600813739845956,
          -1.0950124064002504
         ],
         "z": [
          -4.313723499224635,
          -5.667277757072524,
          -5.113090976411493,
          -4.313723499224635
         ]
        },
        {
         "line": {
          "color": [
           0.1753829238095701,
           0.02832620995667212,
           0.17514324560391958
          ]
         },
         "mode": "lines",
         "type": "scatter3d",
         "x": [
          9.111506978922872,
          9.101219432693416,
          9.107782371201182,
          9.111506978922872
         ],
         "y": [
          -1.0950124064002504,
          -2.5600813739845956,
          -1.6196864780093576,
          -1.0950124064002504
         ],
         "z": [
          -4.313723499224635,
          -5.113090976411493,
          -3.996924908429895,
          -4.313723499224635
         ]
        },
        {
         "line": {
          "color": [
           0.1753829238095701,
           0.02832620995667212,
           0.17514324560391958
          ]
         },
         "mode": "lines",
         "type": "scatter3d",
         "x": [
          9.107782371201182,
          9.101219432693416,
          9.096218967963612,
          9.107782371201182
         ],
         "y": [
          -1.6196864780093576,
          -2.5600813739845956,
          -3.2608397748794378,
          -1.6196864780093576
         ],
         "z": [
          -3.996924908429895,
          -5.113090976411493,
          -4.304125567891307,
          -3.996924908429895
         ]
        },
        {
         "line": {
          "color": [
           0.1753829238095701,
           0.02832620995667212,
           0.17514324560391958
          ]
         },
         "mode": "lines",
         "type": "scatter3d",
         "x": [
          9.107782371201182,
          9.096218967963612,
          9.10492316297954,
          9.107782371201182
         ],
         "y": [
          -1.6196864780093576,
          -3.2608397748794378,
          -2.020374384931372,
          -1.6196864780093576
         ],
         "z": [
          -3.996924908429895,
          -4.304125567891307,
          -3.5346114381316958,
          -3.996924908429895
         ]
        },
        {
         "line": {
          "color": [
           0.1753829238095701,
           0.02832620995667212,
           0.17514324560391958
          ]
         },
         "mode": "lines",
         "type": "scatter3d",
         "x": [
          9.10492316297954,
          9.096218967963612,
          9.093197380972732,
          9.10492316297954
         ],
         "y": [
          -2.020374384931372,
          -3.2608397748794378,
          -3.679597520522507,
          -2.020374384931372
         ],
         "z": [
          -3.5346114381316958,
          -4.304125567891307,
          -3.3219152542331214,
          -3.5346114381316958
         ]
        },
        {
         "line": {
          "color": [
           0.1753829238095701,
           0.02832620995667212,
           0.17514324560391958
          ]
         },
         "mode": "lines",
         "type": "scatter3d",
         "x": [
          9.10492316297954,
          9.093197380972732,
          9.103214432019232,
          9.10492316297954
         ],
         "y": [
          -2.020374384931372,
          -3.679597520522507,
          -2.257092540732998,
          -2.020374384931372
         ],
         "z": [
          -3.5346114381316958,
          -3.3219152542331214,
          -2.969407775325698,
          -3.5346114381316958
         ]
        },
        {
         "line": {
          "color": [
           0.1753829238095701,
           0.02832620995667212,
           0.17514324560391958
          ]
         },
         "mode": "lines",
         "type": "scatter3d",
         "x": [
          9.103214432019232,
          9.093197380972732,
          9.092486609215216,
          9.103214432019232
         ],
         "y": [
          -2.257092540732998,
          -3.679597520522507,
          -3.7701747285300806,
          -2.257092540732998
         ],
         "z": [
          -2.969407775325698,
          -3.3219152542331214,
          -2.255703620554113,
          -2.969407775325698
         ]
        },
        {
         "line": {
          "color": [
           0.1753829238095701,
           0.02832620995667212,
           0.17514324560391958
          ]
         },
         "mode": "lines",
         "type": "scatter3d",
         "x": [
          9.103214432019232,
          9.092486609215216,
          9.102821405753524,
          9.103214432019232
         ],
         "y": [
          -2.257092540732998,
          -3.7701747285300806,
          -2.3069635965477397,
          -2.257092540732998
         ],
         "z": [
          -2.969407775325698,
          -2.255703620554113,
          -2.3572676543984423,
          -2.969407775325698
         ]
        },
        {
         "line": {
          "color": [
           0.1753829238095701,
           0.02832620995667212,
           0.17514324560391958
          ]
         },
         "mode": "lines",
         "type": "scatter3d",
         "x": [
          9.102821405753524,
          9.092486609215216,
          9.094182131587484,
          9.102821405753524
         ],
         "y": [
          -2.3069635965477397,
          -3.7701747285300806,
          -3.520064921193435,
          -2.3069635965477397
         ],
         "z": [
          -2.3572676543984423,
          -2.255703620554113,
          -1.212990444353869,
          -2.3572676543984423
         ]
        },
        {
         "line": {
          "color": [
           0.1753829238095701,
           0.02832620995667212,
           0.17514324560391958
          ]
         },
         "mode": "lines",
         "type": "scatter3d",
         "x": [
          9.102821405753524,
          9.094182131587484,
          9.103746363276544,
          9.102821405753524
         ],
         "y": [
          -2.3069635965477397,
          -3.520064921193435,
          -2.1702822959673886,
          -2.3069635965477397
         ],
         "z": [
          -2.3572676543984423,
          -1.212990444353869,
          -1.763257183427486,
          -2.3572676543984423
         ]
        },
        {
         "line": {
          "color": [
           0.1753829238095701,
           0.02832620995667212,
           0.17514324560391958
          ]
         },
         "mode": "lines",
         "type": "scatter3d",
         "x": [
          9.103746363276544,
          9.094182131587484,
          9.09809298873278,
          9.103746363276544
         ],
         "y": [
          -2.1702822959673886,
          -3.520064921193435,
          -2.9573405698487676,
          -2.1702822959673886
         ],
         "z": [
          -1.763257183427486,
          -1.212990444353869,
          -0.3010654213310995,
          -1.763257183427486
         ]
        },
        {
         "line": {
          "color": [
           0.1753829238095701,
           0.02832620995667212,
           0.17514324560391958
          ]
         },
         "mode": "lines",
         "type": "scatter3d",
         "x": [
          9.103746363276544,
          9.09809298873278,
          9.105910499600196,
          9.103746363276544
         ],
         "y": [
          -2.1702822959673886,
          -2.9573405698487676,
          -1.858708936830607,
          -2.1702822959673886
         ],
         "z": [
          -1.763257183427486,
          -0.3010654213310995,
          -1.2395924326136945,
          -1.763257183427486
         ]
        },
        {
         "line": {
          "color": [
           0.1753829238095701,
           0.02832620995667212,
           0.17514324560391958
          ]
         },
         "mode": "lines",
         "type": "scatter3d",
         "x": [
          9.105910499600196,
          9.09809298873278,
          9.10375557226368,
          9.105910499600196
         ],
         "y": [
          -1.858708936830607,
          -2.9573405698487676,
          -2.1485308873423934,
          -1.858708936830607
         ],
         "z": [
          -1.2395924326136945,
          -0.3010654213310995,
          0.39075647925464985,
          -1.2395924326136945
         ]
        },
        {
         "line": {
          "color": [
           0.1753829238095701,
           0.02832620995667212,
           0.17514324560391958
          ]
         },
         "mode": "lines",
         "type": "scatter3d",
         "x": [
          9.105910499600196,
          9.10375557226368,
          9.10915959838708,
          9.105910499600196
         ],
         "y": [
          -1.858708936830607,
          -2.1485308873423934,
          -1.3945669173571016,
          -1.858708936830607
         ],
         "z": [
          -1.2395924326136945,
          0.39075647925464985,
          -0.8363034201080048,
          -1.2395924326136945
         ]
        },
        {
         "line": {
          "color": [
           0.1753829238095701,
           0.02832620995667212,
           0.17514324560391958
          ]
         },
         "mode": "lines",
         "type": "scatter3d",
         "x": [
          9.10915959838708,
          9.10375557226368,
          9.110570233951233,
          9.10915959838708
         ],
         "y": [
          -1.3945669173571016,
          -2.1485308873423934,
          -1.1790993917779105,
          -1.3945669173571016
         ],
         "z": [
          -0.8363034201080048,
          0.39075647925464985,
          0.808877969694547,
          -0.8363034201080048
         ]
        },
        {
         "line": {
          "color": [
           0.1753829238095701,
           0.02832620995667212,
           0.17514324560391958
          ]
         },
         "mode": "lines",
         "type": "scatter3d",
         "x": [
          9.10915959838708,
          9.110570233951233,
          9.113152362475395,
          9.10915959838708
         ],
         "y": [
          -1.3945669173571016,
          -1.1790993917779105,
          -0.8266346268376082,
          -1.3945669173571016
         ],
         "z": [
          -0.8363034201080048,
          0.808877969694547,
          -0.5981995048040296,
          -0.8363034201080048
         ]
        },
        {
         "line": {
          "color": [
           0.1753829238095701,
           0.02832620995667212,
           0.17514324560391958
          ]
         },
         "mode": "lines",
         "type": "scatter3d",
         "x": [
          9.113152362475395,
          9.110570233951233,
          9.118048687429317,
          9.113152362475395
         ],
         "y": [
          -0.8266346268376082,
          -1.1790993917779105,
          -0.11862358774979927,
          -0.8266346268376082
         ],
         "z": [
          -0.5981995048040296,
          0.808877969694547,
          0.9111738933223976,
          -0.5981995048040296
         ]
        },
        {
         "line": {
          "color": [
           0.1753829238095701,
           0.02832620995667212,
           0.17514324560391958
          ]
         },
         "mode": "lines",
         "type": "scatter3d",
         "x": [
          9.113152362475395,
          9.118048687429317,
          9.117479767433826,
          9.113152362475395
         ],
         "y": [
          -0.8266346268376082,
          -0.11862358774979927,
          -0.2130900161337261,
          -0.8266346268376082
         ],
         "z": [
          -0.5981995048040296,
          0.9111738933223976,
          -0.5494784838923963,
          -0.5981995048040296
         ]
        },
        {
         "line": {
          "color": [
           0.1753829238095701,
           0.02832620995667212,
           0.17514324560391958
          ]
         },
         "mode": "lines",
         "type": "scatter3d",
         "x": [
          9.117479767433826,
          9.118048687429317,
          9.125470613719601,
          9.117479767433826
         ],
         "y": [
          -0.2130900161337261,
          -0.11862358774979927,
          0.9305821217509231,
          -0.2130900161337261
         ],
         "z": [
          -0.5494784838923963,
          0.9111738933223976,
          0.6698635279437882,
          -0.5494784838923963
         ]
        },
        {
         "line": {
          "color": [
           0.1753829238095701,
           0.02832620995667212,
           0.17514324560391958
          ]
         },
         "mode": "lines",
         "type": "scatter3d",
         "x": [
          9.117479767433826,
          9.125470613719601,
          9.121688529567454,
          9.117479767433826
         ],
         "y": [
          -0.2130900161337261,
          0.9305821217509231,
          0.3818253840070415,
          -0.2130900161337261
         ],
         "z": [
          -0.5494784838923963,
          0.6698635279437882,
          -0.6925500679669007,
          -0.5494784838923963
         ]
        },
        {
         "line": {
          "color": [
           0.1753829238095701,
           0.02832620995667212,
           0.17514324560391958
          ]
         },
         "mode": "lines",
         "type": "scatter3d",
         "x": [
          9.125470613719601,
          9.129303911225918,
          9.138677753381993,
          9.125470613719601
         ],
         "y": [
          0.9305821217509231,
          1.4864319585187653,
          2.8071431514112413,
          0.9305821217509231
         ],
         "z": [
          0.6698635279437882,
          2.015156263900198,
          1.2438570614661104,
          0.6698635279437882
         ]
        },
        {
         "line": {
          "color": [
           0.1753829238095701,
           0.02832620995667212,
           0.17514324560391958
          ]
         },
         "mode": "lines",
         "type": "scatter3d",
         "x": [
          9.125470613719601,
          9.138677753381993,
          9.131979346807196,
          9.125470613719601
         ],
         "y": [
          0.9305821217509231,
          2.8071431514112413,
          1.8474309636726185,
          0.9305821217509231
         ],
         "z": [
          0.6698635279437882,
          1.2438570614661104,
          0.11452821359511199,
          0.6698635279437882
         ]
        },
        {
         "line": {
          "color": [
           0.1753829238095701,
           0.02832620995667212,
           0.17514324560391958
          ]
         },
         "mode": "lines",
         "type": "scatter3d",
         "x": [
          9.131979346807196,
          9.138677753381993,
          9.145819142850938,
          9.131979346807196
         ],
         "y": [
          1.8474309636726185,
          2.8071431514112413,
          3.807967747557251,
          1.8474309636726185
         ],
         "z": [
          0.11452821359511199,
          1.2438570614661104,
          0.09273852272515502,
          0.11452821359511199
         ]
        },
        {
         "line": {
          "color": [
           0.1753829238095701,
           0.02832620995667212,
           0.17514324560391958
          ]
         },
         "mode": "lines",
         "type": "scatter3d",
         "x": [
          9.131979346807196,
          9.145819142850938,
          9.13695663435746,
          9.131979346807196
         ],
         "y": [
          1.8474309636726185,
          3.807967747557251,
          2.5448943157523822,
          1.8474309636726185
         ],
         "z": [
          0.11452821359511199,
          0.09273852272515502,
          -0.6956421380838311,
          0.11452821359511199
         ]
        },
        {
         "line": {
          "color": [
           0.1753829238095701,
           0.02832620995667212,
           0.17514324560391958
          ]
         },
         "mode": "lines",
         "type": "scatter3d",
         "x": [
          9.13695663435746,
          9.145819142850938,
          9.15008158573575,
          9.13695663435746
         ],
         "y": [
          2.5448943157523822,
          3.807967747557251,
          4.398470079536326,
          2.5448943157523822
         ],
         "z": [
          -0.6956421380838311,
          0.09273852272515502,
          -1.3164267811380617,
          -0.6956421380838311
         ]
        },
        {
         "line": {
          "color": [
           0.1753829238095701,
           0.02832620995667212,
           0.17514324560391958
          ]
         },
         "mode": "lines",
         "type": "scatter3d",
         "x": [
          9.13695663435746,
          9.15008158573575,
          9.13994282824967,
          9.13695663435746
         ],
         "y": [
          2.5448943157523822,
          4.398470079536326,
          2.9586131431609326,
          2.5448943157523822
         ],
         "z": [
          -0.6956421380838311,
          -1.3164267811380617,
          -1.680446660647219,
          -0.6956421380838311
         ]
        },
        {
         "line": {
          "color": [
           0.1753829238095701,
           0.02832620995667212,
           0.17514324560391958
          ]
         },
         "mode": "lines",
         "type": "scatter3d",
         "x": [
          9.13994282824967,
          9.15008158573575,
          9.151093104206993,
          9.13994282824967
         ],
         "y": [
          2.9586131431609326,
          4.398470079536326,
          4.527303135452825,
          2.9586131431609326
         ],
         "z": [
          -1.680446660647219,
          -1.3164267811380617,
          -2.8411360058140103,
          -1.680446660647219
         ]
        },
        {
         "line": {
          "color": [
           0.1753829238095701,
           0.02832620995667212,
           0.17514324560391958
          ]
         },
         "mode": "lines",
         "type": "scatter3d",
         "x": [
          9.13994282824967,
          9.151093104206993,
          9.140665076037997,
          9.13994282824967
         ],
         "y": [
          2.9586131431609326,
          4.527303135452825,
          3.0508323076393813,
          2.9586131431609326
         ],
         "z": [
          -1.680446660647219,
          -2.8411360058140103,
          -2.7449624437628506,
          -1.680446660647219
         ]
        },
        {
         "line": {
          "color": [
           0.1753829238095701,
           0.02832620995667212,
           0.17514324560391958
          ]
         },
         "mode": "lines",
         "type": "scatter3d",
         "x": [
          9.140665076037997,
          9.151093104206993,
          9.148719626538464,
          9.140665076037997
         ],
         "y": [
          3.0508323076393813,
          4.527303135452825,
          4.17686104377846,
          3.0508323076393813
         ],
         "z": [
          -2.7449624437628506,
          -2.8411360058140103,
          -4.3350984053253745,
          -2.7449624437628506
         ]
        },
        {
         "line": {
          "color": [
           0.1753829238095701,
           0.02832620995667212,
           0.17514324560391958
          ]
         },
         "mode": "lines",
         "type": "scatter3d",
         "x": [
          9.140665076037997,
          9.148719626538464,
          9.139029225145817,
          9.140665076037997
         ],
         "y": [
          3.0508323076393813,
          4.17686104377846,
          2.809170024396534,
          3.0508323076393813
         ],
         "z": [
          -2.7449624437628506,
          -4.3350984053253745,
          -3.7883489969007496,
          -2.7449624437628506
         ]
        },
        {
         "line": {
          "color": [
           0.1753829238095701,
           0.02832620995667212,
           0.17514324560391958
          ]
         },
         "mode": "lines",
         "type": "scatter3d",
         "x": [
          9.139029225145817,
          9.148719626538464,
          9.143150580083962,
          9.139029225145817
         ],
         "y": [
          2.809170024396534,
          4.17686104377846,
          3.3754476858825804,
          2.809170024396534
         ],
         "z": [
          -3.7883489969007496,
          -4.3350984053253745,
          -5.643780582907086,
          -3.7883489969007496
         ]
        },
        {
         "line": {
          "color": [
           0.1753829238095701,
           0.02832620995667212,
           0.17514324560391958
          ]
         },
         "mode": "lines",
         "type": "scatter3d",
         "x": [
          9.139029225145817,
          9.143150580083962,
          9.135162863806125,
          9.139029225145817
         ],
         "y": [
          2.809170024396534,
          3.3754476858825804,
          2.2527154457456047,
          2.809170024396534
         ],
         "z": [
          -3.7883489969007496,
          -5.643780582907086,
          -4.703870593846728,
          -3.7883489969007496
         ]
        },
        {
         "line": {
          "color": [
           0.1753829238095701,
           0.02832620995667212,
           0.17514324560391958
          ]
         },
         "mode": "lines",
         "type": "scatter3d",
         "x": [
          9.135162863806125,
          9.143150580083962,
          9.135016973828934,
          9.135162863806125
         ],
         "y": [
          2.2527154457456047,
          3.3754476858825804,
          2.213678294720261,
          2.2527154457456047
         ],
         "z": [
          -4.703870593846728,
          -5.643780582907086,
          -6.638925299431085,
          -4.703870593846728
         ]
        },
        {
         "line": {
          "color": [
           0.1753829238095701,
           0.02832620995667212,
           0.17514324560391958
          ]
         },
         "mode": "lines",
         "type": "scatter3d",
         "x": [
          9.135162863806125,
          9.135016973828934,
          9.129500220088278,
          9.135162863806125
         ],
         "y": [
          2.2527154457456047,
          2.213678294720261,
          1.4438523123208198,
          2.2527154457456047
         ],
         "z": [
          -4.703870593846728,
          -6.638925299431085,
          -5.400425126295403,
          -4.703870593846728
         ]
        },
        {
         "line": {
          "color": [
           0.1753829238095701,
           0.02832620995667212,
           0.17514324560391958
          ]
         },
         "mode": "lines",
         "type": "scatter3d",
         "x": [
          9.129500220088278,
          9.135016973828934,
          9.12515113120472,
          9.129500220088278
         ],
         "y": [
          1.4438523123208198,
          2.213678294720261,
          0.810326829546558,
          1.4438523123208198
         ],
         "z": [
          -5.400425126295403,
          -6.638925299431085,
          -7.230449049435211,
          -5.400425126295403
         ]
        },
        {
         "line": {
          "color": [
           0.1753829238095701,
           0.02832620995667212,
           0.17514324560391958
          ]
         },
         "mode": "lines",
         "type": "scatter3d",
         "x": [
          9.129500220088278,
          9.12515113120472,
          9.122606869975268,
          9.129500220088278
         ],
         "y": [
          1.4438523123208198,
          0.810326829546558,
          0.46329179897016914,
          1.4438523123208198
         ],
         "z": [
          -5.400425126295403,
          -7.230449049435211,
          -5.816533322831821,
          -5.400425126295403
         ]
        },
        {
         "line": {
          "color": [
           0.1753829238095701,
           0.02832620995667212,
           0.17514324560391958
          ]
         },
         "mode": "lines",
         "type": "scatter3d",
         "x": [
          9.122606869975268,
          9.12515113120472,
          9.114444886674715,
          9.122606869975268
         ],
         "y": [
          0.46329179897016914,
          0.810326829546558,
          -0.7077256355821118,
          0.46329179897016914
         ],
         "z": [
          -5.816533322831821,
          -7.230449049435211,
          -7.362408304678748,
          -5.816533322831821
         ]
        },
        {
         "line": {
          "color": [
           0.1753829238095701,
           0.02832620995667212,
           0.17514324560391958
          ]
         },
         "mode": "lines",
         "type": "scatter3d",
         "x": [
          9.122606869975268,
          9.114444886674715,
          9.11509600237935,
          9.122606869975268
         ],
         "y": [
          0.46329179897016914,
          -0.7077256355821118,
          -0.6016890612341941,
          0.46329179897016914
         ],
         "z": [
          -5.816533322831821,
          -7.362408304678748,
          -5.909643806299363,
          -5.816533322831821
         ]
        },
        {
         "line": {
          "color": [
           0.1753829238095701,
           0.02832620995667212,
           0.17514324560391958
          ]
         },
         "mode": "lines",
         "type": "scatter3d",
         "x": [
          9.11509600237935,
          9.114444886674715,
          9.10392771579341,
          9.11509600237935
         ],
         "y": [
          -0.6016890612341941,
          -0.7077256355821118,
          -2.1944730448534,
          -0.6016890612341941
         ],
         "z": [
          -5.909643806299363,
          -7.362408304678748,
          -7.018388634633591,
          -5.909643806299363
         ]
        },
        {
         "line": {
          "color": [
           0.1753829238095701,
           0.02832620995667212,
           0.17514324560391958
          ]
         },
         "mode": "lines",
         "type": "scatter3d",
         "x": [
          9.11509600237935,
          9.10392771579341,
          9.107721988236268,
          9.11509600237935
         ],
         "y": [
          -0.6016890612341941,
          -2.1944730448534,
          -1.644096829154657,
          -0.6016890612341941
         ],
         "z": [
          -5.909643806299363,
          -7.018388634633591,
          -5.667277757072524,
          -5.909643806299363
         ]
        },
        {
         "line": {
          "color": [
           0.1753829238095701,
           0.02832620995667212,
           0.17514324560391958
          ]
         },
         "mode": "lines",
         "type": "scatter3d",
         "x": [
          9.107721988236268,
          9.10392771579341,
          9.094654212719316,
          9.107721988236268
         ],
         "y": [
          -1.644096829154657,
          -2.1944730448534,
          -3.5008013898954062,
          -1.644096829154657
         ],
         "z": [
          -5.667277757072524,
          -7.018388634633591,
          -6.229456652353692,
          -5.667277757072524
         ]
        },
        {
         "line": {
          "color": [
           0.1753829238095701,
           0.02832620995667212,
           0.17514324560391958
          ]
         },
         "mode": "lines",
         "type": "scatter3d",
         "x": [
          9.107721988236268,
          9.094654212719316,
          9.101219432693416,
          9.107721988236268
         ],
         "y": [
          -1.644096829154657,
          -3.5008013898954062,
          -2.5600813739845956,
          -1.644096829154657
         ],
         "z": [
          -5.667277757072524,
          -6.229456652353692,
          -5.113090976411493,
          -5.667277757072524
         ]
        },
        {
         "line": {
          "color": [
           0.1753829238095701,
           0.02832620995667212,
           0.17514324560391958
          ]
         },
         "mode": "lines",
         "type": "scatter3d",
         "x": [
          9.101219432693416,
          9.094654212719316,
          9.087529646293872,
          9.101219432693416
         ],
         "y": [
          -2.5600813739845956,
          -3.5008013898954062,
          -4.4991840090877755,
          -2.5600813739845956
         ],
         "z": [
          -5.113090976411493,
          -6.229456652353692,
          -5.072166452728103,
          -5.113090976411493
         ]
        },
        {
         "line": {
          "color": [
           0.1753829238095701,
           0.02832620995667212,
           0.17514324560391958
          ]
         },
         "mode": "lines",
         "type": "scatter3d",
         "x": [
          9.101219432693416,
          9.087529646293872,
          9.096218967963612,
          9.101219432693416
         ],
         "y": [
          -2.5600813739845956,
          -4.4991840090877755,
          -3.2608397748794378,
          -2.5600813739845956
         ],
         "z": [
          -5.113090976411493,
          -5.072166452728103,
          -4.304125567891307,
          -5.113090976411493
         ]
        },
        {
         "line": {
          "color": [
           0.1753829238095701,
           0.02832620995667212,
           0.17514324560391958
          ]
         },
         "mode": "lines",
         "type": "scatter3d",
         "x": [
          9.096218967963612,
          9.087529646293872,
          9.083249145915127,
          9.096218967963612
         ],
         "y": [
          -3.2608397748794378,
          -4.4991840090877755,
          -5.092259448587752,
          -3.2608397748794378
         ],
         "z": [
          -4.304125567891307,
          -5.072166452728103,
          -3.66456286801193,
          -4.304125567891307
         ]
        },
        {
         "line": {
          "color": [
           0.1753829238095701,
           0.02832620995667212,
           0.17514324560391958
          ]
         },
         "mode": "lines",
         "type": "scatter3d",
         "x": [
          9.096218967963612,
          9.083249145915127,
          9.093197380972732,
          9.096218967963612
         ],
         "y": [
          -3.2608397748794378,
          -5.092259448587752,
          -3.679597520522507,
          -3.2608397748794378
         ],
         "z": [
          -4.304125567891307,
          -3.66456286801193,
          -3.3219152542331214,
          -4.304125567891307
         ]
        },
        {
         "line": {
          "color": [
           0.1753829238095701,
           0.02832620995667212,
           0.17514324560391958
          ]
         },
         "mode": "lines",
         "type": "scatter3d",
         "x": [
          9.093197380972732,
          9.083249145915127,
          9.082168257289439,
          9.093197380972732
         ],
         "y": [
          -3.679597520522507,
          -5.092259448587752,
          -5.23100283577739,
          -3.679597520522507
         ],
         "z": [
          -3.3219152542331214,
          -3.66456286801193,
          -2.1485302997067794,
          -3.3219152542331214
         ]
        },
        {
         "line": {
          "color": [
           0.1753829238095701,
           0.02832620995667212,
           0.17514324560391958
          ]
         },
         "mode": "lines",
         "type": "scatter3d",
         "x": [
          9.093197380972732,
          9.082168257289439,
          9.092486609215216,
          9.093197380972732
         ],
         "y": [
          -3.679597520522507,
          -5.23100283577739,
          -3.7701747285300806,
          -3.679597520522507
         ],
         "z": [
          -3.3219152542331214,
          -2.1485302997067794,
          -2.255703620554113,
          -3.3219152542331214
         ]
        },
        {
         "line": {
          "color": [
           0.1753829238095701,
           0.02832620995667212,
           0.17514324560391958
          ]
         },
         "mode": "lines",
         "type": "scatter3d",
         "x": [
          9.092486609215216,
          9.082168257289439,
          9.084537111870466,
          9.092486609215216
         ],
         "y": [
          -3.7701747285300806,
          -5.23100283577739,
          -4.881305763601463,
          -3.7701747285300806
         ],
         "z": [
          -2.255703620554113,
          -2.1485302997067794,
          -0.6640541066792368,
          -2.255703620554113
         ]
        },
        {
         "line": {
          "color": [
           0.1753829238095701,
           0.02832620995667212,
           0.17514324560391958
          ]
         },
         "mode": "lines",
         "type": "scatter3d",
         "x": [
          9.092486609215216,
          9.084537111870466,
          9.094182131587484,
          9.092486609215216
         ],
         "y": [
          -3.7701747285300806,
          -4.881305763601463,
          -3.520064921193435,
          -3.7701747285300806
         ],
         "z": [
          -2.255703620554113,
          -0.6640541066792368,
          -1.212990444353869,
          -2.255703620554113
         ]
        },
        {
         "line": {
          "color": [
           0.1753829238095701,
           0.02832620995667212,
           0.17514324560391958
          ]
         },
         "mode": "lines",
         "type": "scatter3d",
         "x": [
          9.094182131587484,
          9.084537111870466,
          9.090189931953068,
          9.094182131587484
         ],
         "y": [
          -3.520064921193435,
          -4.881305763601463,
          -4.068047548818572,
          -3.520064921193435
         ],
         "z": [
          -1.212990444353869,
          -0.6640541066792368,
          0.642129809571338,
          -1.212990444353869
         ]
        },
        {
         "line": {
          "color": [
           0.1753829238095701,
           0.02832620995667212,
           0.17514324560391958
          ]
         },
         "mode": "lines",
         "type": "scatter3d",
         "x": [
          9.094182131587484,
          9.090189931953068,
          9.09809298873278,
          9.094182131587484
         ],
         "y": [
          -3.520064921193435,
          -4.068047548818572,
          -2.9573405698487676,
          -3.520064921193435
         ],
         "z": [
          -1.212990444353869,
          0.642129809571338,
          -0.3010654213310995,
          -1.212990444353869
         ]
        },
        {
         "line": {
          "color": [
           0.1753829238095701,
           0.02832620995667212,
           0.17514324560391958
          ]
         },
         "mode": "lines",
         "type": "scatter3d",
         "x": [
          9.09809298873278,
          9.090189931953068,
          9.098303338126003,
          9.09809298873278
         ],
         "y": [
          -2.9573405698487676,
          -4.068047548818572,
          -2.909212511401669,
          -2.9573405698487676
         ],
         "z": [
          -0.3010654213310995,
          0.642129809571338,
          1.629634618794654,
          -0.3010654213310995
         ]
        },
        {
         "line": {
          "color": [
           0.1753829238095701,
           0.02832620995667212,
           0.17514324560391958
          ]
         },
         "mode": "lines",
         "type": "scatter3d",
         "x": [
          9.09809298873278,
          9.098303338126003,
          9.10375557226368,
          9.09809298873278
         ],
         "y": [
          -2.9573405698487676,
          -2.909212511401669,
          -2.1485308873423934,
          -2.9573405698487676
         ],
         "z": [
          -0.3010654213310995,
          1.629634618794654,
          0.39075647925464985,
          -0.3010654213310995
         ]
        },
        {
         "line": {
          "color": [
           0.1753829238095701,
           0.02832620995667212,
           0.17514324560391958
          ]
         },
         "mode": "lines",
         "type": "scatter3d",
         "x": [
          9.10375557226368,
          9.098303338126003,
          9.108042706884891,
          9.10375557226368
         ],
         "y": [
          -2.1485308873423934,
          -2.909212511401669,
          -1.5238863459094045,
          -2.1485308873423934
         ],
         "z": [
          0.39075647925464985,
          1.629634618794654,
          2.2098649520627145,
          0.39075647925464985
         ]
        },
        {
         "line": {
          "color": [
           0.1753829238095701,
           0.02832620995667212,
           0.17514324560391958
          ]
         },
         "mode": "lines",
         "type": "scatter3d",
         "x": [
          9.10375557226368,
          9.108042706884891,
          9.110570233951233,
          9.10375557226368
         ],
         "y": [
          -2.1485308873423934,
          -1.5238863459094045,
          -1.1790993917779105,
          -2.1485308873423934
         ],
         "z": [
          0.39075647925464985,
          2.2098649520627145,
          0.808877969694547,
          0.39075647925464985
         ]
        },
        {
         "line": {
          "color": [
           0.1753829238095701,
           0.02832620995667212,
           0.17514324560391958
          ]
         },
         "mode": "lines",
         "type": "scatter3d",
         "x": [
          9.110570233951233,
          9.108042706884891,
          9.118691710195412,
          9.110570233951233
         ],
         "y": [
          -1.1790993917779105,
          -1.5238863459094045,
          -0.013933756261601144,
          -1.1790993917779105
         ],
         "z": [
          0.808877969694547,
          2.2098649520627145,
          2.342849772557134,
          0.808877969694547
         ]
        },
        {
         "line": {
          "color": [
           0.1753829238095701,
           0.02832620995667212,
           0.17514324560391958
          ]
         },
         "mode": "lines",
         "type": "scatter3d",
         "x": [
          9.110570233951233,
          9.118691710195412,
          9.118048687429317,
          9.110570233951233
         ],
         "y": [
          -1.1790993917779105,
          -0.013933756261601144,
          -0.11862358774979927,
          -1.1790993917779105
         ],
         "z": [
          0.808877969694547,
          2.342849772557134,
          0.9111738933223976,
          0.808877969694547
         ]
        },
        {
         "line": {
          "color": [
           0.1753829238095701,
           0.02832620995667212,
           0.17514324560391958
          ]
         },
         "mode": "lines",
         "type": "scatter3d",
         "x": [
          9.118048687429317,
          9.118691710195412,
          9.129303911225918,
          9.118048687429317
         ],
         "y": [
          -0.11862358774979927,
          -0.013933756261601144,
          1.4864319585187653,
          -0.11862358774979927
         ],
         "z": [
          0.9111738933223976,
          2.342849772557134,
          2.015156263900198,
          0.9111738933223976
         ]
        },
        {
         "line": {
          "color": [
           0.1753829238095701,
           0.02832620995667212,
           0.17514324560391958
          ]
         },
         "mode": "lines",
         "type": "scatter3d",
         "x": [
          9.118048687429317,
          9.129303911225918,
          9.125470613719601,
          9.118048687429317
         ],
         "y": [
          -0.11862358774979927,
          1.4864319585187653,
          0.9305821217509231,
          -0.11862358774979927
         ],
         "z": [
          0.9111738933223976,
          2.015156263900198,
          0.6698635279437882,
          0.9111738933223976
         ]
        }
       ],
       "layout": {
        "scene": {
         "xaxis": {
          "range": [
           2.418314777187371,
           16.154208365687623
          ],
          "title": {
           "text": "X"
          }
         },
         "yaxis": {
          "range": [
           -7.225860788939875,
           6.510032799560375
          ],
          "title": {
           "text": "Y"
          }
         },
         "zaxis": {
          "range": [
           -9.369149157999999,
           4.36674443050025
          ],
          "title": {
           "text": "Z"
          }
         }
        },
        "template": {
         "data": {
          "bar": [
           {
            "error_x": {
             "color": "#2a3f5f"
            },
            "error_y": {
             "color": "#2a3f5f"
            },
            "marker": {
             "line": {
              "color": "#E5ECF6",
              "width": 0.5
             },
             "pattern": {
              "fillmode": "overlay",
              "size": 10,
              "solidity": 0.2
             }
            },
            "type": "bar"
           }
          ],
          "barpolar": [
           {
            "marker": {
             "line": {
              "color": "#E5ECF6",
              "width": 0.5
             },
             "pattern": {
              "fillmode": "overlay",
              "size": 10,
              "solidity": 0.2
             }
            },
            "type": "barpolar"
           }
          ],
          "carpet": [
           {
            "aaxis": {
             "endlinecolor": "#2a3f5f",
             "gridcolor": "white",
             "linecolor": "white",
             "minorgridcolor": "white",
             "startlinecolor": "#2a3f5f"
            },
            "baxis": {
             "endlinecolor": "#2a3f5f",
             "gridcolor": "white",
             "linecolor": "white",
             "minorgridcolor": "white",
             "startlinecolor": "#2a3f5f"
            },
            "type": "carpet"
           }
          ],
          "choropleth": [
           {
            "colorbar": {
             "outlinewidth": 0,
             "ticks": ""
            },
            "type": "choropleth"
           }
          ],
          "contour": [
           {
            "colorbar": {
             "outlinewidth": 0,
             "ticks": ""
            },
            "colorscale": [
             [
              0,
              "#0d0887"
             ],
             [
              0.1111111111111111,
              "#46039f"
             ],
             [
              0.2222222222222222,
              "#7201a8"
             ],
             [
              0.3333333333333333,
              "#9c179e"
             ],
             [
              0.4444444444444444,
              "#bd3786"
             ],
             [
              0.5555555555555556,
              "#d8576b"
             ],
             [
              0.6666666666666666,
              "#ed7953"
             ],
             [
              0.7777777777777778,
              "#fb9f3a"
             ],
             [
              0.8888888888888888,
              "#fdca26"
             ],
             [
              1,
              "#f0f921"
             ]
            ],
            "type": "contour"
           }
          ],
          "contourcarpet": [
           {
            "colorbar": {
             "outlinewidth": 0,
             "ticks": ""
            },
            "type": "contourcarpet"
           }
          ],
          "heatmap": [
           {
            "colorbar": {
             "outlinewidth": 0,
             "ticks": ""
            },
            "colorscale": [
             [
              0,
              "#0d0887"
             ],
             [
              0.1111111111111111,
              "#46039f"
             ],
             [
              0.2222222222222222,
              "#7201a8"
             ],
             [
              0.3333333333333333,
              "#9c179e"
             ],
             [
              0.4444444444444444,
              "#bd3786"
             ],
             [
              0.5555555555555556,
              "#d8576b"
             ],
             [
              0.6666666666666666,
              "#ed7953"
             ],
             [
              0.7777777777777778,
              "#fb9f3a"
             ],
             [
              0.8888888888888888,
              "#fdca26"
             ],
             [
              1,
              "#f0f921"
             ]
            ],
            "type": "heatmap"
           }
          ],
          "heatmapgl": [
           {
            "colorbar": {
             "outlinewidth": 0,
             "ticks": ""
            },
            "colorscale": [
             [
              0,
              "#0d0887"
             ],
             [
              0.1111111111111111,
              "#46039f"
             ],
             [
              0.2222222222222222,
              "#7201a8"
             ],
             [
              0.3333333333333333,
              "#9c179e"
             ],
             [
              0.4444444444444444,
              "#bd3786"
             ],
             [
              0.5555555555555556,
              "#d8576b"
             ],
             [
              0.6666666666666666,
              "#ed7953"
             ],
             [
              0.7777777777777778,
              "#fb9f3a"
             ],
             [
              0.8888888888888888,
              "#fdca26"
             ],
             [
              1,
              "#f0f921"
             ]
            ],
            "type": "heatmapgl"
           }
          ],
          "histogram": [
           {
            "marker": {
             "pattern": {
              "fillmode": "overlay",
              "size": 10,
              "solidity": 0.2
             }
            },
            "type": "histogram"
           }
          ],
          "histogram2d": [
           {
            "colorbar": {
             "outlinewidth": 0,
             "ticks": ""
            },
            "colorscale": [
             [
              0,
              "#0d0887"
             ],
             [
              0.1111111111111111,
              "#46039f"
             ],
             [
              0.2222222222222222,
              "#7201a8"
             ],
             [
              0.3333333333333333,
              "#9c179e"
             ],
             [
              0.4444444444444444,
              "#bd3786"
             ],
             [
              0.5555555555555556,
              "#d8576b"
             ],
             [
              0.6666666666666666,
              "#ed7953"
             ],
             [
              0.7777777777777778,
              "#fb9f3a"
             ],
             [
              0.8888888888888888,
              "#fdca26"
             ],
             [
              1,
              "#f0f921"
             ]
            ],
            "type": "histogram2d"
           }
          ],
          "histogram2dcontour": [
           {
            "colorbar": {
             "outlinewidth": 0,
             "ticks": ""
            },
            "colorscale": [
             [
              0,
              "#0d0887"
             ],
             [
              0.1111111111111111,
              "#46039f"
             ],
             [
              0.2222222222222222,
              "#7201a8"
             ],
             [
              0.3333333333333333,
              "#9c179e"
             ],
             [
              0.4444444444444444,
              "#bd3786"
             ],
             [
              0.5555555555555556,
              "#d8576b"
             ],
             [
              0.6666666666666666,
              "#ed7953"
             ],
             [
              0.7777777777777778,
              "#fb9f3a"
             ],
             [
              0.8888888888888888,
              "#fdca26"
             ],
             [
              1,
              "#f0f921"
             ]
            ],
            "type": "histogram2dcontour"
           }
          ],
          "mesh3d": [
           {
            "colorbar": {
             "outlinewidth": 0,
             "ticks": ""
            },
            "type": "mesh3d"
           }
          ],
          "parcoords": [
           {
            "line": {
             "colorbar": {
              "outlinewidth": 0,
              "ticks": ""
             }
            },
            "type": "parcoords"
           }
          ],
          "pie": [
           {
            "automargin": true,
            "type": "pie"
           }
          ],
          "scatter": [
           {
            "fillpattern": {
             "fillmode": "overlay",
             "size": 10,
             "solidity": 0.2
            },
            "type": "scatter"
           }
          ],
          "scatter3d": [
           {
            "line": {
             "colorbar": {
              "outlinewidth": 0,
              "ticks": ""
             }
            },
            "marker": {
             "colorbar": {
              "outlinewidth": 0,
              "ticks": ""
             }
            },
            "type": "scatter3d"
           }
          ],
          "scattercarpet": [
           {
            "marker": {
             "colorbar": {
              "outlinewidth": 0,
              "ticks": ""
             }
            },
            "type": "scattercarpet"
           }
          ],
          "scattergeo": [
           {
            "marker": {
             "colorbar": {
              "outlinewidth": 0,
              "ticks": ""
             }
            },
            "type": "scattergeo"
           }
          ],
          "scattergl": [
           {
            "marker": {
             "colorbar": {
              "outlinewidth": 0,
              "ticks": ""
             }
            },
            "type": "scattergl"
           }
          ],
          "scattermapbox": [
           {
            "marker": {
             "colorbar": {
              "outlinewidth": 0,
              "ticks": ""
             }
            },
            "type": "scattermapbox"
           }
          ],
          "scatterpolar": [
           {
            "marker": {
             "colorbar": {
              "outlinewidth": 0,
              "ticks": ""
             }
            },
            "type": "scatterpolar"
           }
          ],
          "scatterpolargl": [
           {
            "marker": {
             "colorbar": {
              "outlinewidth": 0,
              "ticks": ""
             }
            },
            "type": "scatterpolargl"
           }
          ],
          "scatterternary": [
           {
            "marker": {
             "colorbar": {
              "outlinewidth": 0,
              "ticks": ""
             }
            },
            "type": "scatterternary"
           }
          ],
          "surface": [
           {
            "colorbar": {
             "outlinewidth": 0,
             "ticks": ""
            },
            "colorscale": [
             [
              0,
              "#0d0887"
             ],
             [
              0.1111111111111111,
              "#46039f"
             ],
             [
              0.2222222222222222,
              "#7201a8"
             ],
             [
              0.3333333333333333,
              "#9c179e"
             ],
             [
              0.4444444444444444,
              "#bd3786"
             ],
             [
              0.5555555555555556,
              "#d8576b"
             ],
             [
              0.6666666666666666,
              "#ed7953"
             ],
             [
              0.7777777777777778,
              "#fb9f3a"
             ],
             [
              0.8888888888888888,
              "#fdca26"
             ],
             [
              1,
              "#f0f921"
             ]
            ],
            "type": "surface"
           }
          ],
          "table": [
           {
            "cells": {
             "fill": {
              "color": "#EBF0F8"
             },
             "line": {
              "color": "white"
             }
            },
            "header": {
             "fill": {
              "color": "#C8D4E3"
             },
             "line": {
              "color": "white"
             }
            },
            "type": "table"
           }
          ]
         },
         "layout": {
          "annotationdefaults": {
           "arrowcolor": "#2a3f5f",
           "arrowhead": 0,
           "arrowwidth": 1
          },
          "autotypenumbers": "strict",
          "coloraxis": {
           "colorbar": {
            "outlinewidth": 0,
            "ticks": ""
           }
          },
          "colorscale": {
           "diverging": [
            [
             0,
             "#8e0152"
            ],
            [
             0.1,
             "#c51b7d"
            ],
            [
             0.2,
             "#de77ae"
            ],
            [
             0.3,
             "#f1b6da"
            ],
            [
             0.4,
             "#fde0ef"
            ],
            [
             0.5,
             "#f7f7f7"
            ],
            [
             0.6,
             "#e6f5d0"
            ],
            [
             0.7,
             "#b8e186"
            ],
            [
             0.8,
             "#7fbc41"
            ],
            [
             0.9,
             "#4d9221"
            ],
            [
             1,
             "#276419"
            ]
           ],
           "sequential": [
            [
             0,
             "#0d0887"
            ],
            [
             0.1111111111111111,
             "#46039f"
            ],
            [
             0.2222222222222222,
             "#7201a8"
            ],
            [
             0.3333333333333333,
             "#9c179e"
            ],
            [
             0.4444444444444444,
             "#bd3786"
            ],
            [
             0.5555555555555556,
             "#d8576b"
            ],
            [
             0.6666666666666666,
             "#ed7953"
            ],
            [
             0.7777777777777778,
             "#fb9f3a"
            ],
            [
             0.8888888888888888,
             "#fdca26"
            ],
            [
             1,
             "#f0f921"
            ]
           ],
           "sequentialminus": [
            [
             0,
             "#0d0887"
            ],
            [
             0.1111111111111111,
             "#46039f"
            ],
            [
             0.2222222222222222,
             "#7201a8"
            ],
            [
             0.3333333333333333,
             "#9c179e"
            ],
            [
             0.4444444444444444,
             "#bd3786"
            ],
            [
             0.5555555555555556,
             "#d8576b"
            ],
            [
             0.6666666666666666,
             "#ed7953"
            ],
            [
             0.7777777777777778,
             "#fb9f3a"
            ],
            [
             0.8888888888888888,
             "#fdca26"
            ],
            [
             1,
             "#f0f921"
            ]
           ]
          },
          "colorway": [
           "#636efa",
           "#EF553B",
           "#00cc96",
           "#ab63fa",
           "#FFA15A",
           "#19d3f3",
           "#FF6692",
           "#B6E880",
           "#FF97FF",
           "#FECB52"
          ],
          "font": {
           "color": "#2a3f5f"
          },
          "geo": {
           "bgcolor": "white",
           "lakecolor": "white",
           "landcolor": "#E5ECF6",
           "showlakes": true,
           "showland": true,
           "subunitcolor": "white"
          },
          "hoverlabel": {
           "align": "left"
          },
          "hovermode": "closest",
          "mapbox": {
           "style": "light"
          },
          "paper_bgcolor": "white",
          "plot_bgcolor": "#E5ECF6",
          "polar": {
           "angularaxis": {
            "gridcolor": "white",
            "linecolor": "white",
            "ticks": ""
           },
           "bgcolor": "#E5ECF6",
           "radialaxis": {
            "gridcolor": "white",
            "linecolor": "white",
            "ticks": ""
           }
          },
          "scene": {
           "xaxis": {
            "backgroundcolor": "#E5ECF6",
            "gridcolor": "white",
            "gridwidth": 2,
            "linecolor": "white",
            "showbackground": true,
            "ticks": "",
            "zerolinecolor": "white"
           },
           "yaxis": {
            "backgroundcolor": "#E5ECF6",
            "gridcolor": "white",
            "gridwidth": 2,
            "linecolor": "white",
            "showbackground": true,
            "ticks": "",
            "zerolinecolor": "white"
           },
           "zaxis": {
            "backgroundcolor": "#E5ECF6",
            "gridcolor": "white",
            "gridwidth": 2,
            "linecolor": "white",
            "showbackground": true,
            "ticks": "",
            "zerolinecolor": "white"
           }
          },
          "shapedefaults": {
           "line": {
            "color": "#2a3f5f"
           }
          },
          "ternary": {
           "aaxis": {
            "gridcolor": "white",
            "linecolor": "white",
            "ticks": ""
           },
           "baxis": {
            "gridcolor": "white",
            "linecolor": "white",
            "ticks": ""
           },
           "bgcolor": "#E5ECF6",
           "caxis": {
            "gridcolor": "white",
            "linecolor": "white",
            "ticks": ""
           }
          },
          "title": {
           "x": 0.05
          },
          "xaxis": {
           "automargin": true,
           "gridcolor": "white",
           "linecolor": "white",
           "ticks": "",
           "title": {
            "standoff": 15
           },
           "zerolinecolor": "white",
           "zerolinewidth": 2
          },
          "yaxis": {
           "automargin": true,
           "gridcolor": "white",
           "linecolor": "white",
           "ticks": "",
           "title": {
            "standoff": 15
           },
           "zerolinecolor": "white",
           "zerolinewidth": 2
          }
         }
        },
        "title": {
         "text": "Tringularización en Superficie"
        }
       }
      }
     },
     "metadata": {},
     "output_type": "display_data"
    }
   ],
   "source": [
    "fig = new_plot()\n",
    "fig = build_box(fig)\n",
    "plot_surface_triangles(fig)\n",
    "fig = config_plot(fig, 'Tringularización en Superficie')\n",
    "fig.show()"
   ]
  }
 ],
 "metadata": {
  "kernelspec": {
   "display_name": "Python 3 (ipykernel)",
   "language": "python",
   "name": "python3"
  },
  "language_info": {
   "codemirror_mode": {
    "name": "ipython",
    "version": 3
   },
   "file_extension": ".py",
   "mimetype": "text/x-python",
   "name": "python",
   "nbconvert_exporter": "python",
   "pygments_lexer": "ipython3",
   "version": "3.10.12"
  }
 },
 "nbformat": 4,
 "nbformat_minor": 4
}
