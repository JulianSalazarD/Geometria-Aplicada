{
 "cells": [
  {
   "cell_type": "code",
   "execution_count": 9,
   "metadata": {},
   "outputs": [],
   "source": [
    "#%pip install -r requirements.txt"
   ]
  },
  {
   "cell_type": "code",
   "execution_count": 10,
   "metadata": {},
   "outputs": [],
   "source": [
    "import numpy as np\n",
    "import matplotlib.pyplot as plt\n",
    "\n",
    "from fracture.fracture import Fracture"
   ]
  },
  {
   "cell_type": "code",
   "execution_count": 11,
   "metadata": {},
   "outputs": [],
   "source": [
    "# Carga los datos de la fractura desde un archivo de texto.\n",
    "filename = 'FRAC0003_nrIter4.txt'\n",
    "dataset = []\n",
    "with open(filename, 'r') as file:\n",
    "    for line in file:\n",
    "        values = [float(value) for value in line.split()]\n",
    "        dataset.append(values)"
   ]
  },
  {
   "cell_type": "code",
   "execution_count": 12,
   "metadata": {},
   "outputs": [],
   "source": [
    "data = []\n",
    "for i in range(40, len(dataset), 20):\n",
    "    data.append(Fracture(dataset[:i]))\n",
    "data.append(Fracture(dataset))"
   ]
  },
  {
   "cell_type": "code",
   "execution_count": 13,
   "metadata": {},
   "outputs": [],
   "source": [
    "def print_fracture(data):\n",
    "    fig = plt.figure()\n",
    "    ax = fig.add_subplot(111, projection='3d')\n",
    "    color = ['r', 'g', 'c', 'y', 'm', 'k']\n",
    "\n",
    "    for fracture in data:\n",
    "        for square in fracture.squares:\n",
    "            s = [fracture.inter[square[0]], fracture.inter[square[1]], fracture.inter[square[3]],\n",
    "                fracture.inter[square[2]], fracture.inter[square[0]]]\n",
    "            ax.plot([v[0] for v in s], [v[1] for v in s], [v[2] for v in s], color=\"b\")\n",
    "\n",
    "    for i in range(1, len(data)):\n",
    "    # axis.scatter(data[i].inter[:, 0], data[i].inter[:, 1], data[i].inter[:, 2], color='b', s=2)\n",
    "        for p1, p2 in zip(data[i - 1].inter, data[i].inter[:len(data[i - 1].inter)]):\n",
    "            ax.plot([p1[0], p2[0]], [p1[1], p2[1]], [p1[2], p2[2]], '-', color = color[i])\n",
    "\n",
    "    \n",
    "\n",
    "    plt.show()"
   ]
  },
  {
   "cell_type": "code",
   "execution_count": 14,
   "metadata": {},
   "outputs": [],
   "source": [
    "print_fracture(data)"
   ]
  }
 ],
 "metadata": {
  "kernelspec": {
   "display_name": "base",
   "language": "python",
   "name": "python3"
  },
  "language_info": {
   "codemirror_mode": {
    "name": "ipython",
    "version": 3
   },
   "file_extension": ".py",
   "mimetype": "text/x-python",
   "name": "python",
   "nbconvert_exporter": "python",
   "pygments_lexer": "ipython3",
   "version": "3.12.3"
  }
 },
 "nbformat": 4,
 "nbformat_minor": 2
}
