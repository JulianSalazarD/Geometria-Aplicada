{
 "cells": [
  {
   "cell_type": "code",
   "execution_count": 1,
   "metadata": {},
   "outputs": [],
   "source": [
    "# import sys\n",
    "# print(sys.version)\n",
    "# %pip install numpy\n",
    "# %pip install matplotlib\n",
    "# %pip install pandas\n",
    "# %pip install scikit-spatial\n",
    "# %pip install PyQt5"
   ]
  },
  {
   "cell_type": "code",
   "execution_count": 2,
   "metadata": {},
   "outputs": [],
   "source": [
    "# Librerias\n",
    "import numpy as np\n",
    "from matplotlib import use\n",
    "import matplotlib.pyplot as plt\n",
    "import pandas as pd\n",
    "from skspatial.objects import Plane, Point, Vector, Line\n",
    "from skspatial.plotting import plot_3d\n",
    "\n",
    "\n",
    "use('Qt5Agg')"
   ]
  },
  {
   "cell_type": "code",
   "execution_count": 3,
   "metadata": {},
   "outputs": [],
   "source": [
    "inter = None\n",
    "color_t = None\n",
    "caras = None\n",
    "vertex = None\n",
    "normal = None\n",
    "M = None\n",
    "A = None\n",
    "mp = None\n",
    "eigenvalues = None\n",
    "eigenvectors = None\n",
    "traces = None\n",
    "tri = None\n",
    "color_m = None\n",
    "size = None\n",
    "max_value = 0\n",
    "x_axis = None\n",
    "y_axis = None\n",
    "squares = None\n",
    "M_size = None\n",
    "\n",
    "# FRAC0006_nrIter27.txt\n",
    "# FRAC0003_nrIter4.txt\n",
    "# FRAC0019_nrIter27.txt\n",
    "\n",
    "filename = 'FRAC0003_nrIter4.txt'\n"
   ]
  },
  {
   "cell_type": "markdown",
   "metadata": {},
   "source": [
    "#### 1. Cunstruir caja para un conjunto de puntos en 3D"
   ]
  },
  {
   "cell_type": "code",
   "execution_count": 4,
   "metadata": {},
   "outputs": [],
   "source": [
    "def new_plot():\n",
    "    fig = plt.figure()\n",
    "    return fig.add_subplot(111, projection='3d')"
   ]
  },
  {
   "cell_type": "code",
   "execution_count": 5,
   "metadata": {},
   "outputs": [],
   "source": [
    "def build_box(axis):\n",
    "        lines = [\n",
    "            [0, 1], [0, 2], [0, 4],\n",
    "            [1, 3], [1, 5], [2, 3],\n",
    "            [2, 6], [3, 7], [4, 5],\n",
    "            [4, 6], [5, 7], [6, 7]\n",
    "        ]\n",
    "        for line in lines:\n",
    "            axis.plot(\n",
    "                [vertex[line[0], 0], vertex[line[1], 0]],\n",
    "                [vertex[line[0], 1], vertex[line[1], 1]],\n",
    "                [vertex[line[0], 2], vertex[line[1], 2]],\n",
    "                color='black'\n",
    "            )"
   ]
  },
  {
   "cell_type": "code",
   "execution_count": 6,
   "metadata": {},
   "outputs": [],
   "source": [
    "def config_plot(axis, title):\n",
    "    axis.set_xlabel('X')\n",
    "    axis.set_ylabel('Y')\n",
    "    axis.set_zlabel('Z')\n",
    "    plt.title(title)\n",
    "    plt.xlim(x_axis - max_value, x_axis + max_value)\n",
    "    plt.ylim(y_axis - max_value, y_axis + max_value)\n",
    "    #plt.show()"
   ]
  },
  {
   "cell_type": "code",
   "execution_count": 7,
   "metadata": {},
   "outputs": [],
   "source": [
    "# Carga los datos de la fractura desde un archivo de texto.\n",
    "dataset = []\n",
    "with open(filename, 'r') as file:\n",
    "    for line in file:\n",
    "        values = [float(value) for value in line.split()]\n",
    "        dataset.append(values)\n",
    "M = np.array(dataset)\n",
    "M_size = M.shape"
   ]
  },
  {
   "cell_type": "code",
   "execution_count": 8,
   "metadata": {},
   "outputs": [],
   "source": [
    "def limits():\n",
    "    global x_axis, y_axis, max_value\n",
    "    min_limits = np.min(M, axis=0)\n",
    "    max_limits = np.max(M, axis=0)\n",
    "\n",
    "    for i in range(3):\n",
    "        max_value = max(max_value, abs(max_limits[i] - min_limits[i]))\n",
    "    max_value/=2\n",
    "    x_axis = np.min(M[:, 0]) + max_value/2\n",
    "    y_axis = np.min(M[:, 1]) + max_value/2\n",
    "    # print(x_axis, y_axis, max_value)\n",
    "    # print(x_axis - max_value, x_axis + max_value)\n",
    "    # print(y_axis - max_value, y_axis + max_value)\n",
    "limits()"
   ]
  },
  {
   "cell_type": "code",
   "execution_count": 9,
   "metadata": {},
   "outputs": [],
   "source": [
    "\"\"\"\n",
    "    Calcula la matriz A (matriz de covarianza) de una matriz M y\n",
    "    los autovalores y autovectores\n",
    "\"\"\"\n",
    "def load_matrix():\n",
    "    global A, mp, M\n",
    "\n",
    "    A = np.dot(M.T, M)\n",
    "\n",
    "    mp = np.mean(M, axis=0)\n",
    "\n",
    "    eigenvalues, eigenvectors = np.linalg.eig(A)\n",
    "\n",
    "load_matrix()"
   ]
  },
  {
   "cell_type": "code",
   "execution_count": 10,
   "metadata": {},
   "outputs": [],
   "source": [
    "\"\"\"\n",
    "    Calcula los vértices de la caja que encierra la fractura (matriz m)\n",
    "\"\"\"\n",
    "def get_box():\n",
    "\n",
    "    global vertex, M, mp\n",
    "    points = M - mp\n",
    "    eigenvalues, _eigenvectors = np.linalg.eig(np.cov(points, rowvar=False))\n",
    "    points = np.dot(points, _eigenvectors)\n",
    "\n",
    "    # Calcula los límites de la caja en el nuevo sistema de coordenadas\n",
    "    min_limits = np.min(points, axis=0)\n",
    "    max_limits = np.max(points, axis=0)\n",
    "\n",
    "    # Crear puntos de los límites de la caja en el sistema transformado\n",
    "    vertex = np.array(np.meshgrid([min_limits[0], max_limits[0]], [min_limits[1], max_limits[1]],\n",
    "                                        [min_limits[2], max_limits[2]])).T.reshape(-1, 3)\n",
    "\n",
    "    # Transformar los vértices de la caja de vuelta al sistema original\n",
    "    vertex = np.dot(vertex, _eigenvectors.T) + mp\n",
    "\n",
    "get_box()"
   ]
  },
  {
   "cell_type": "markdown",
   "metadata": {},
   "source": [
    "#### 2. Desplegar los puntos y desplegar los autovectores"
   ]
  },
  {
   "cell_type": "code",
   "execution_count": 11,
   "metadata": {},
   "outputs": [],
   "source": [
    "def color_points():\n",
    "    global color_m, size\n",
    "    color_m = []\n",
    "    size = int(len(M) / 20)\n",
    "    color_m = np.random.rand(size, 3)\n",
    "\n",
    "\n",
    "color_points()"
   ]
  },
  {
   "cell_type": "markdown",
   "metadata": {},
   "source": [
    "#### 3. Desplegar la caja contenedora"
   ]
  },
  {
   "cell_type": "code",
   "execution_count": 12,
   "metadata": {},
   "outputs": [],
   "source": [
    "\"\"\"\n",
    "    Representación de los datos en 3D utilizando Matplotlib\n",
    "\"\"\"\n",
    "def print_points():\n",
    "    axis = new_plot()\n",
    "    build_box(axis)\n",
    "    \n",
    "    for i in range(size):\n",
    "        m = M[i * 20:i * 20 + 20]\n",
    "        axis.scatter(m[:, 0], m[:, 1], m[:, 2], color=color_m[i], s=2)\n",
    "\n",
    "    config_plot(axis, \"Points\")"
   ]
  },
  {
   "cell_type": "markdown",
   "metadata": {},
   "source": [
    "#### 4. Calculo de los triangulos y las normales"
   ]
  },
  {
   "cell_type": "code",
   "execution_count": 13,
   "metadata": {},
   "outputs": [],
   "source": [
    "\"\"\"\n",
    "    Realizar la triangulación de los puntos, teniento en cuenta que cada 20 puntos se apueden realizar\n",
    "    triangulaiones con los siguientes 20 puntos.\n",
    "\n",
    "    la variable tri alamacena la dirección de los puntos que forman un triangulo\n",
    "\"\"\"\n",
    "def triangularization():\n",
    "\n",
    "    global color_t, tri\n",
    "    color_t = []\n",
    "    tri = []\n",
    "    for i in range(0, size - 1):\n",
    "        for j in range(20):\n",
    "            if j == 19:\n",
    "                tri.append([j + (20 * i), j + (20 * (i + 1)), 0 + (20 * (i + 1))])\n",
    "                tri.append([j + (20 * i), 0 + (20 * (i + 1)), 0 + (20 * i)])\n",
    "            else:\n",
    "                tri.append([j + (20 * i), j + (20 * (i + 1)), (j + 1) + (20 * (i + 1))])\n",
    "                tri.append([j + (20 * i), (j + 1) + (20 * (i + 1)), (j + 1) + (20 * i)])\n",
    "\n",
    "            color = (color_m[i] + 2 * color_m[i + 1]) / 3\n",
    "            color_t.append(color)\n",
    "            color = (2 * color_m[i] + color_m[i + 1]) / 3\n",
    "            color_t.append(color)\n",
    "    color_t = np.array(color_t)\n",
    "    tri = np.array(tri)\n",
    "\n",
    "triangularization()"
   ]
  },
  {
   "cell_type": "code",
   "execution_count": 14,
   "metadata": {},
   "outputs": [],
   "source": [
    "\"\"\"\n",
    "    graficar triangularizacion\n",
    "\"\"\"\n",
    "def print_triangles():\n",
    "    axis = new_plot()\n",
    "    build_box(axis)\n",
    "    \n",
    "    for s in range(len(tri)):\n",
    "        triangle = np.array([M[tri[s][0]], M[tri[s][1]], M[tri[s][2]], M[tri[s][0]]])\n",
    "        axis.plot(triangle[:, 0], triangle[:, 1], triangle[:, 2], color=color_t[s])\n",
    "\n",
    "    config_plot(axis, \"Triangles\")"
   ]
  },
  {
   "cell_type": "code",
   "execution_count": 15,
   "metadata": {},
   "outputs": [],
   "source": [
    "\"\"\"\n",
    "sacar la norma de cada triangulo\n",
    "\"\"\"\n",
    "isdegenerate = []\n",
    "def norm():\n",
    "    global normal\n",
    "    normal = np.zeros(((size - 1)*40, 3))\n",
    "    aux = 1\n",
    "    i = 0\n",
    "    for triangle in tri:\n",
    "        p1, p2, p3 = M[triangle]\n",
    "        v1 = p2 - p1\n",
    "        v2 = p3 - p1\n",
    "        n = np.cross(v1, v2)\n",
    "        normal[i] = n / np.linalg.norm(n)\n",
    "\n",
    "        if np.isnan(normal[i]).any():\n",
    "            isdegenerate.append(i)\n",
    "            \n",
    "            random_vector = np.random.rand(3)\n",
    "\n",
    "            random_vector /= np.linalg.norm(random_vector)\n",
    "\n",
    "            normal[i] = aux * normal[i - 1] / np.abs(np.dot(random_vector, normal[i - 1]))\n",
    "\n",
    "            normal[i] /= np.linalg.norm(normal[i])\n",
    "\n",
    "        if i > 0:\n",
    "            aux = np.dot(normal[i], normal[i - 1])\n",
    "        i += 1\n",
    "    normal = np.array(normal)\n",
    "\n",
    "#  editar en fracture\n",
    "norm()"
   ]
  },
  {
   "cell_type": "code",
   "execution_count": 16,
   "metadata": {},
   "outputs": [],
   "source": [
    "\"\"\"\n",
    "graficar la norma de los triangulos\n",
    "\"\"\"\n",
    "def print_norm():\n",
    "    axis = new_plot()\n",
    "    build_box(axis)\n",
    "    \n",
    "    for i in range(len(normal)):\n",
    "        mp = np.mean(M[tri[i]], axis=0)\n",
    "        v = 0.3 * normal[i]\n",
    "        axis.quiver(mp[0], mp[1], mp[2], v[0], v[1], v[2], color='b')\n",
    "\n",
    "    config_plot(axis, \"Normal of the triangles\")"
   ]
  },
  {
   "cell_type": "code",
   "execution_count": 17,
   "metadata": {},
   "outputs": [],
   "source": [
    "print_points()\n",
    "print_triangles()\n",
    "print_norm()\n",
    "plt.show()"
   ]
  },
  {
   "cell_type": "code",
   "execution_count": 18,
   "metadata": {},
   "outputs": [],
   "source": [
    "normal_vertex = None\n",
    "\n",
    "def get_normal_vertex():\n",
    "    global normal_vertex\n",
    "    normal_vertex = [[] for _ in range(M.shape[0])]\n",
    "    for i, n in enumerate(normal):\n",
    "        for j in tri[i]:\n",
    "            normal_vertex[j].append(n)\n",
    "\n",
    "    for i in range(len(normal_vertex)):\n",
    "        normal_vertex[i] = np.mean(normal_vertex[i], axis=0)\n",
    "\n",
    "    normal_vertex = np.array(normal_vertex)\n",
    "\n",
    "get_normal_vertex()\n",
    "\n"
   ]
  },
  {
   "cell_type": "markdown",
   "metadata": {},
   "source": [
    "#### 5. Interseccion normales del triangulo con las caras de la caja"
   ]
  },
  {
   "cell_type": "code",
   "execution_count": 19,
   "metadata": {},
   "outputs": [],
   "source": [
    "caras = []\n",
    "points = np.array(\n",
    "    [[0, 1, 2, 3],\n",
    "    [0, 1, 4, 5],\n",
    "    [0, 4, 2, 6],\n",
    "    [7, 5, 3, 1],\n",
    "    [7, 6, 3, 2],\n",
    "    [7, 6, 5, 4]]\n",
    "    )\n",
    "\n",
    "def plane_from_points():\n",
    "    \"\"\"\n",
    "        Calcula los planos a partir de puntos dados y los guarda en la lista.\n",
    "    \"\"\"\n",
    "    for p in points:\n",
    "        p1, p2, p3 = vertex[p[0]], vertex[p[1]], vertex[p[2]]\n",
    "        caras.append(Plane.from_points(p1,p2,p3))\n",
    "\n",
    "plane_from_points()"
   ]
  },
  {
   "cell_type": "code",
   "execution_count": 20,
   "metadata": {},
   "outputs": [],
   "source": [
    "\"\"\"\n",
    "    Crea una línea a partir de un punto y un vector.\n",
    "\n",
    "    Args:\n",
    "    - point: Punto inicial de la línea.\n",
    "    - vector: Vector director de la línea.\n",
    "\n",
    "    Returns:\n",
    "    - Líne\n",
    "\"\"\"\n",
    "def make_line(point, vector):\n",
    "    return Line(point=point, direction=vector)"
   ]
  },
  {
   "cell_type": "code",
   "execution_count": 21,
   "metadata": {},
   "outputs": [],
   "source": [
    "\"\"\"\n",
    "Verifica si un punto final está en la dirección de un vector dado desde un punto inicial.\n",
    "\"\"\"\n",
    "def is_direction(pi, pf, vd):\n",
    "    vr = pf - pi\n",
    "    return np.dot(vr, vd) > 0\n"
   ]
  },
  {
   "cell_type": "code",
   "execution_count": 22,
   "metadata": {},
   "outputs": [],
   "source": [
    "\"\"\"\n",
    "Encuentra la intersección más cercana a un punto inicial desde una lista de intersecciones.\n",
    "\"\"\"\n",
    "def close_intersection(pi, intersections):\n",
    "    intersect = None\n",
    "    min_dist = float('inf')\n",
    "    point = Point(pi)\n",
    "    for intersection in intersections:\n",
    "        dist = point.distance_point(intersection)\n",
    "        if dist < min_dist:\n",
    "            min_dist = dist\n",
    "            intersect = intersection\n",
    "            \n",
    "    return intersect"
   ]
  },
  {
   "cell_type": "code",
   "execution_count": 23,
   "metadata": {},
   "outputs": [],
   "source": [
    "\"\"\"\n",
    "Encuentra la intersección más cercana de una línea con varias caras (planos).\n",
    "\"\"\"\n",
    "def intersection_plane_line(line, pi, vd):\n",
    "    intersections = []\n",
    "    for i, plane in enumerate(caras):\n",
    "        point = plane.intersect_line(line)\n",
    "        if point is not None and is_direction(pi, point, vd):\n",
    "            intersections.append(point)\n",
    "\n",
    "    return close_intersection(pi, intersections)\n"
   ]
  },
  {
   "cell_type": "code",
   "execution_count": 24,
   "metadata": {},
   "outputs": [],
   "source": [
    "\"\"\"\n",
    "Calcula las intersecciones más cercanas de líneas definidas por puntos medios de triángulos y sus normales con las caras de la caja.\n",
    "\n",
    "Utiliza las normales de los triángulos y los puntos medios de los triángulos para definir las líneas.\n",
    "Luego, encuentra la intersección más cercana de cada línea con las caras de la caja.\n",
    "Las intersecciones se almacenan en una variable global `inter`.\n",
    "\"\"\"\n",
    "def intersection():\n",
    "    global inter  \n",
    "    inter = [] \n",
    "    \n",
    "    for i in range(normal_vertex.shape[0]):\n",
    "        mp = M[i] # np.mean(M[tri[i]], axis=0)\n",
    "        v = normal_vertex[i]\n",
    "        if np.any(np.isnan(normal_vertex[i])):\n",
    "            inter.append(normal_vertex[i])\n",
    "            continue\n",
    "        line = make_line(mp, v)\n",
    "        r = intersection_plane_line(line, mp, v)\n",
    "        inter.append(r)\n",
    "    inter = np.array(inter)\n",
    "\n",
    "\n",
    "intersection()"
   ]
  },
  {
   "cell_type": "code",
   "execution_count": 25,
   "metadata": {},
   "outputs": [],
   "source": [
    "# def refactor_inter():\n",
    "#     global inter\n",
    "#     inter_tmp = []\n",
    "#     for i in range(int(len(inter)/40)):\n",
    "#         tmp = inter[i*40:i*40+40]\n",
    "        \n",
    "#         # Separar los elementos en índices impares y pares\n",
    "#         odd_indices = [tmp[j] for j in range(len(tmp)) if j % 2 != 0]\n",
    "#         even_indices = [tmp[j] for j in range(len(tmp)) if j % 2 == 0]\n",
    "        \n",
    "#         # Agregar primero los impares y luego los pares a inter_tmp\n",
    "#         inter_tmp.extend(odd_indices)\n",
    "#         inter_tmp.extend(even_indices)\n",
    "\n",
    "#     inter = np.array(inter_tmp)\n",
    "\n",
    "# refactor_inter()"
   ]
  },
  {
   "cell_type": "code",
   "execution_count": 26,
   "metadata": {},
   "outputs": [],
   "source": [
    "\"\"\"\n",
    "    Añade los puntos de intersección al gráfico.\n",
    "\"\"\"\n",
    "def print_intersection():\n",
    "    global color_m\n",
    "    axis = new_plot()\n",
    "    build_box(axis)\n",
    "\n",
    "    for i in range(size):\n",
    "        m = inter[i * 20:i * 20 + 20]\n",
    "        axis.scatter(m[:, 0], m[:, 1], m[:, 2], color=color_m[i], s=2)\n",
    "    #axis.scatter(inter[:, 0], inter[:, 1], inter[:, 2], color=color_m, s=2)\n",
    "    \n",
    "    config_plot(axis, \"Intersection\")"
   ]
  },
  {
   "cell_type": "markdown",
   "metadata": {},
   "source": [
    "#### 6. triangulos en la superficie de la cara de la caja"
   ]
  },
  {
   "cell_type": "code",
   "execution_count": 27,
   "metadata": {},
   "outputs": [],
   "source": [
    "def plot_surface_triangles():\n",
    "    axis = new_plot()\n",
    "    build_box(axis)\n",
    "    \n",
    "    for s in range(len(tri)):\n",
    "        triangle = np.array([inter[tri[s][0]], inter[tri[s][1]], inter[tri[s][2]], inter[tri[s][0]]])\n",
    "        axis.plot(triangle[:, 0], triangle[:, 1], triangle[:, 2], color=color_t[s])\n",
    "\n",
    "    config_plot(axis, \"Triangles\")"
   ]
  },
  {
   "cell_type": "code",
   "execution_count": 38,
   "metadata": {},
   "outputs": [],
   "source": [
    "print_intersection()\n",
    "plot_surface_triangles()\n",
    "plt.show()"
   ]
  },
  {
   "cell_type": "markdown",
   "metadata": {},
   "source": [
    "#### No necesario por el momento"
   ]
  },
  {
   "cell_type": "code",
   "execution_count": 29,
   "metadata": {},
   "outputs": [],
   "source": [
    "# def print_intersection_tmp():\n",
    "#     global color_t, inter\n",
    "#     inter_ = inter[:20]\n",
    "#     axis = new_plot()\n",
    "#     build_box(axis)\n",
    "#     for i in range(len(inter_)):\n",
    "#         if i%2 == 0:\n",
    "#             axis.scatter(inter_[i][0], inter_[i][1], inter_[i][2], color='r', s=2)\n",
    "#         else:\n",
    "#             axis.scatter(inter_[i][0], inter_[i][1], inter_[i][2], color='b', s=2)\n",
    "        \n",
    "#     #axis.scatter(inter[:, 0], inter[:, 1], inter[:, 2], color=color_t, s=2)\n",
    "    \n",
    "#     config_plot(axis, \"Intersection\")\n",
    "# print_intersection_tmp()\n",
    "# plt.show()\n",
    "    "
   ]
  },
  {
   "cell_type": "code",
   "execution_count": 30,
   "metadata": {},
   "outputs": [],
   "source": [
    "# \"\"\"\n",
    "#     Calcula los cuadrados a partir de los puntos de intersección y los guarda en la lista squares.\n",
    "# \"\"\"\n",
    "# def get_square():\n",
    "#     global squares\n",
    "#     squares = []\n",
    "#     for i in range(len(inter) - 20):\n",
    "#         if (i+1) % 20 == 0:\n",
    "#             squares.append(np.array([i, i-19, i+20, i+1]))\n",
    "#         else:\n",
    "#             squares.append(np.array([i, i+1, i+20, i+21]))\n",
    "\n",
    "#     squares = np.array(squares)\n",
    "\n",
    "# get_square()"
   ]
  },
  {
   "cell_type": "code",
   "execution_count": 31,
   "metadata": {},
   "outputs": [],
   "source": [
    "# def get_square():\n",
    "#     global squares\n",
    "#     sq = []\n",
    "#     for i in range(0, len(inter), 2):\n",
    "#         if (i + 2) % 40 == 0:\n",
    "#             square = [i, i+1, i+2-40, i+3-40]\n",
    "#         else:\n",
    "#             square = [i, i+1, i+2, i+3]\n",
    "#         sq.append(square)\n",
    "#     sq = np.array(sq)\n",
    "    \n",
    "#     sq2 = []\n",
    "#     for i in range(41, len(inter), 2): \n",
    "#         if (i+1) % 40 == 0:\n",
    "#             sq2.append([i, i-41, i-38, i-79])\n",
    "#         else:\n",
    "#             sq2.append([i, i-41, i+2, i-39])\n",
    "#     sq2= np.array(sq2)\n",
    "#     squares = sq[:20]\n",
    "#     for i in range(1, int(len(sq)/20)):\n",
    "#         squares = np.concatenate((squares, sq[i*20:i*20+20], sq2[:i*20]))"
   ]
  },
  {
   "cell_type": "code",
   "execution_count": 32,
   "metadata": {},
   "outputs": [],
   "source": [
    "# \"\"\"\n",
    "#     Calcula el color de los cuadrados y los guarda en la lista color_s.\n",
    "# \"\"\"\n",
    "# color_s = []\n",
    "# def color_square():\n",
    "#     global color_s\n",
    "#     for i in squares:\n",
    "#         color = (color_t[i[0]] + color_t[i[1]] + color_t[i[2]] + color_t[i[3]]) / 4\n",
    "#         color_s.append(color)\n",
    "#     color_s = np.array(color_s)\n",
    "# color_square()"
   ]
  },
  {
   "cell_type": "code",
   "execution_count": 33,
   "metadata": {},
   "outputs": [],
   "source": [
    "# def print_squares(axis):\n",
    "#     \"\"\"\n",
    "#         Grafica los cuadrados.\n",
    "#     \"\"\"\n",
    "#     for square in squares:\n",
    "#         s = [inter[square[0]], inter[square[1]], inter[square[3]], inter[square[2]], inter[square[0]]]\n",
    "#         axis.plot([v[0] for v in s], [v[1] for v in s], [v[2] for v in s], color=\"b\")"
   ]
  },
  {
   "cell_type": "code",
   "execution_count": 34,
   "metadata": {},
   "outputs": [],
   "source": [
    "# mp_s = []\n",
    "# def square_prom():\n",
    "#     \"\"\"\n",
    "#         Calcula el punto promedio de cada cuadrado y los guarda en la lista mp_s.\n",
    "#     \"\"\"\n",
    "#     global mp_s\n",
    "#     for i in squares:\n",
    "#         mp = np.mean(inter[i], axis=0)\n",
    "#         mp_s.append(mp)\n",
    "#     mp_s = np.array(mp_s)\n",
    "\n",
    "# square_prom()"
   ]
  },
  {
   "cell_type": "code",
   "execution_count": 35,
   "metadata": {},
   "outputs": [],
   "source": [
    "# def print_p_square():\n",
    "#     \"\"\"\n",
    "#         Grafica los puntos promedio de los cuadrados.\n",
    "#     \"\"\"\n",
    "\n",
    "#     axis = new_plot()\n",
    "#     build_box(axis)\n",
    "#     print_squares(axis)\n",
    "#     axis.scatter(mp_s[:, 0], mp_s[:, 1], mp_s[:, 2],s=1, color='r')\n",
    "#     config_plot(axis, \"Squares\")"
   ]
  },
  {
   "cell_type": "code",
   "execution_count": 36,
   "metadata": {},
   "outputs": [],
   "source": [
    "# print_intersection()\n",
    "# # print_p_square()\n",
    "# plt.show()"
   ]
  }
 ],
 "metadata": {
  "kernelspec": {
   "display_name": "Python 3 (ipykernel)",
   "language": "python",
   "name": "python3"
  },
  "language_info": {
   "codemirror_mode": {
    "name": "ipython",
    "version": 3
   },
   "file_extension": ".py",
   "mimetype": "text/x-python",
   "name": "python",
   "nbconvert_exporter": "python",
   "pygments_lexer": "ipython3",
   "version": "3.12.3"
  }
 },
 "nbformat": 4,
 "nbformat_minor": 4
}
