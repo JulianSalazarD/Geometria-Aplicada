{
 "cells": [
  {
   "cell_type": "code",
   "execution_count": 1,
   "metadata": {},
   "outputs": [],
   "source": [
    "# Librerias\n",
    "import random\n",
    "import numpy as np\n",
    "from matplotlib import use\n",
    "import matplotlib.pyplot as plt\n",
    "import sympy as sp\n",
    "#from sympy import symbols, Eq, Point3D, Plane, solve, Line3D\n",
    "import pandas as pd\n",
    "from shapely.geometry import Polygon, Point\n",
    "\n",
    "use('Qt5Agg')"
   ]
  },
  {
   "cell_type": "code",
   "execution_count": 2,
   "metadata": {},
   "outputs": [],
   "source": [
    "inter = None\n",
    "color_t = None\n",
    "caras = None\n",
    "vertex = None\n",
    "normal = None\n",
    "M = None\n",
    "A = None\n",
    "mp = None\n",
    "eigenvalues = None\n",
    "eigenvectors = None\n",
    "axis = None\n",
    "traces = None\n",
    "tri = None\n",
    "color_m = None\n",
    "size = None\n",
    "max_value = 0\n",
    "x_axis = None\n",
    "y_axis = None\n",
    "squares = None"
   ]
  },
  {
   "cell_type": "code",
   "execution_count": 3,
   "metadata": {},
   "outputs": [],
   "source": [
    "def new_plot():\n",
    "    global axis\n",
    "    fig = plt.figure()\n",
    "    axis = fig.add_subplot(111, projection='3d')\n",
    "\n",
    "def build_box():\n",
    "        lines = [\n",
    "            [0, 1], [0, 2], [0, 4],\n",
    "            [1, 3], [1, 5], [2, 3],\n",
    "            [2, 6], [3, 7], [4, 5],\n",
    "            [4, 6], [5, 7], [6, 7]\n",
    "        ]\n",
    "        for line in lines:\n",
    "            axis.plot(\n",
    "                [vertex[line[0], 0], vertex[line[1], 0]],\n",
    "                [vertex[line[0], 1], vertex[line[1], 1]],\n",
    "                [vertex[line[0], 2], vertex[line[1], 2]],\n",
    "                color='black'\n",
    "            )\n",
    "\n",
    "def print_plot():\n",
    "    axis.set_xlabel('X')\n",
    "    axis.set_ylabel('Y')\n",
    "    axis.set_zlabel('Z')\n",
    "\n",
    "    axis.legend()\n",
    "    plt.xlim(x_axis - max_value, x_axis + max_value)\n",
    "    plt.ylim(y_axis - max_value, y_axis + max_value)\n",
    "    plt.show()"
   ]
  },
  {
   "cell_type": "code",
   "execution_count": 4,
   "metadata": {},
   "outputs": [],
   "source": [
    "# Carga los datos de la fractura desde un archivo de texto.\n",
    "dataset = []\n",
    "with open(\"FRAC0003_nrIter4.txt\", 'r') as file:\n",
    "    for line in file:\n",
    "        values = [float(value) for value in line.split()]\n",
    "        dataset.append(values)\n",
    "M = np.array(dataset)"
   ]
  },
  {
   "cell_type": "code",
   "execution_count": 5,
   "metadata": {},
   "outputs": [
    {
     "name": "stdout",
     "output_type": "stream",
     "text": [
      "11.54942356075 -2.79233337025 4.8636620595\n",
      "6.68576150125 16.41308562025\n",
      "-7.65599542975 2.07132868925\n"
     ]
    }
   ],
   "source": [
    "def limits():\n",
    "    global x_axis, y_axis, max_value    \n",
    "    min_limits = np.min(M, axis=0)\n",
    "    max_limits = np.max(M, axis=0)\n",
    "\n",
    "    for i in range(3):\n",
    "        max_value = max(max_value, abs(max_limits[i] - min_limits[i]))\n",
    "    max_value/=2\n",
    "    x_axis = np.min(M[:, 0]) + max_value/2\n",
    "    y_axis = np.min(M[:, 1]) + max_value/2\n",
    "    print(x_axis, y_axis, max_value)\n",
    "    print(x_axis - max_value, x_axis + max_value)\n",
    "    print(y_axis - max_value, y_axis + max_value)\n",
    "limits()"
   ]
  },
  {
   "cell_type": "code",
   "execution_count": 6,
   "metadata": {},
   "outputs": [
    {
     "name": "stdout",
     "output_type": "stream",
     "text": [
      "80\n"
     ]
    }
   ],
   "source": [
    "\"\"\"\n",
    "    Calcula la matriz A (matriz de covarianza) de una matriz M y\n",
    "    los autovalores y autovectores\n",
    "\"\"\"\n",
    "def load_matrix():\n",
    "    global A, mp\n",
    "    print(len(M))\n",
    "    #M = M[400:440]\n",
    "\n",
    "    A = np.dot(M.T, M)\n",
    "\n",
    "    mp = np.mean(M, axis=0)\n",
    "\n",
    "    eigenvalues, eigenvectors = np.linalg.eig(A)\n",
    "\n",
    "load_matrix()"
   ]
  },
  {
   "cell_type": "code",
   "execution_count": 7,
   "metadata": {},
   "outputs": [],
   "source": [
    "def get_box():\n",
    "    \"\"\"\n",
    "        Calcula los vértices de la caja que encierra la fractura (matriz m)\n",
    "    \"\"\"\n",
    "    global vertex\n",
    "    points = M - mp\n",
    "    _eigenvalues, _eigenvectors = np.linalg.eig(np.cov(points, rowvar=False))\n",
    "    points = np.dot(points, _eigenvectors)\n",
    "\n",
    "    # Calcula los límites de la caja en el nuevo sistema de coordenadas\n",
    "    min_limits = np.min(points, axis=0)\n",
    "    max_limits = np.max(points, axis=0)\n",
    "\n",
    "    # Crear puntos de los límites de la caja en el sistema transformado\n",
    "    vertex = np.array(np.meshgrid([min_limits[0], max_limits[0]], [min_limits[1], max_limits[1]],\n",
    "                                        [min_limits[2], max_limits[2]])).T.reshape(-1, 3)\n",
    "\n",
    "    # Transformar los vértices de la caja de vuelta al sistema original\n",
    "    vertex = np.dot(vertex, _eigenvectors.T) + mp\n",
    "\n",
    "get_box()"
   ]
  },
  {
   "cell_type": "code",
   "execution_count": 8,
   "metadata": {},
   "outputs": [],
   "source": [
    "def color_points():\n",
    "    global color_m, size\n",
    "    color_m = []\n",
    "    size = int(len(M) / 20)\n",
    "    for i in range(size):\n",
    "        r = [random.random(), random.random(), random.random()]\n",
    "        color_m.append(r)\n",
    "\n",
    "    color_m = np.array(color_m)\n",
    "\n",
    "color_points()"
   ]
  },
  {
   "cell_type": "code",
   "execution_count": 9,
   "metadata": {},
   "outputs": [
    {
     "name": "stderr",
     "output_type": "stream",
     "text": [
      "No artists with labels found to put in legend.  Note that artists whose label start with an underscore are ignored when legend() is called with no argument.\n"
     ]
    }
   ],
   "source": [
    "\"\"\"\n",
    "    Representación de los datos en 3D utilizando Matplotlib\n",
    "\"\"\"\n",
    "def print_points():\n",
    "    for i in range(size):\n",
    "        m = M[i * 20:i * 20 + 20]\n",
    "        axis.scatter(m[:, 0], m[:, 1], m[:, 2], color=color_m[i], s=2)\n",
    "    \n",
    "\n",
    "new_plot()\n",
    "build_box()\n",
    "print_points()\n",
    "print_plot()\n"
   ]
  },
  {
   "cell_type": "code",
   "execution_count": 10,
   "metadata": {},
   "outputs": [],
   "source": [
    "def triangularization():\n",
    "    \"\"\"\n",
    "        Realizar la triangulación de los puntos, teniento en cuenta que cada 20 puntos se apueden realizar\n",
    "        triangulaiones con los siguientes 2o puntos.\n",
    "\n",
    "        tri alamacena la dirección de los puntos que forman un triangulo\n",
    "    \"\"\"\n",
    "    global color_t, tri\n",
    "    color_t = []\n",
    "    tri = []\n",
    "    for i in range(0, size - 1):\n",
    "        for j in range(20):\n",
    "            if j == 19:\n",
    "                tri.append([j + (20 * i), j + (20 * (i + 1)), 0 + (20 * (i + 1))])\n",
    "                tri.append([j + (20 * i), 0 + (20 * (i + 1)), 0 + (20 * i)])\n",
    "            else:\n",
    "                tri.append([j + (20 * i), j + (20 * (i + 1)), (j + 1) + (20 * (i + 1))])\n",
    "                tri.append([j + (20 * i), (j + 1) + (20 * (i + 1)), (j + 1) + (20 * i)])\n",
    "\n",
    "            color = (color_m[i] + 2 * color_m[i + 1]) / 3\n",
    "            color_t.append(color)\n",
    "            color = (2 * color_m[i] + color_m[i + 1]) / 3\n",
    "            color_t.append(color)\n",
    "    color_t = np.array(color_t)\n",
    "    tri = np.array(tri)\n",
    "\n",
    "triangularization()"
   ]
  },
  {
   "cell_type": "code",
   "execution_count": 11,
   "metadata": {},
   "outputs": [
    {
     "name": "stderr",
     "output_type": "stream",
     "text": [
      "No artists with labels found to put in legend.  Note that artists whose label start with an underscore are ignored when legend() is called with no argument.\n"
     ]
    }
   ],
   "source": [
    "\"\"\"\n",
    "    graficar triangularizacion\n",
    "\"\"\"\n",
    "def print_triangles():\n",
    "    for s in range(len(tri)):\n",
    "        triangle = np.array([M[tri[s][0]], M[tri[s][1]], M[tri[s][2]], M[tri[s][0]]])\n",
    "        axis.plot(triangle[:, 0], triangle[:, 1], triangle[:, 2], color=color_t[s])\n",
    "\n",
    "new_plot()\n",
    "build_box()\n",
    "print_triangles()\n",
    "print_plot()"
   ]
  },
  {
   "cell_type": "code",
   "execution_count": 12,
   "metadata": {},
   "outputs": [],
   "source": [
    "def norm():\n",
    "    \"\"\"\n",
    "    sacar la norma de cada triangulo\n",
    "    \"\"\"\n",
    "    global normal\n",
    "    normal = []\n",
    "    aux = 0\n",
    "    for triangle in tri:\n",
    "        p1, p2, p3 = M[triangle]\n",
    "        v1 = p2 - p1\n",
    "        v2 = p3 - p1\n",
    "        n = np.cross(v1, v2)\n",
    "        normal.append(n / np.linalg.norm(n))\n",
    "\n",
    "norm()"
   ]
  },
  {
   "cell_type": "code",
   "execution_count": 13,
   "metadata": {},
   "outputs": [
    {
     "name": "stderr",
     "output_type": "stream",
     "text": [
      "No artists with labels found to put in legend.  Note that artists whose label start with an underscore are ignored when legend() is called with no argument.\n"
     ]
    }
   ],
   "source": [
    "def print_norm():\n",
    "        \"\"\"\n",
    "        graficar la norma de los triangulos\n",
    "        \"\"\"\n",
    "        for i in range(len(normal)):\n",
    "            mp = np.mean(M[tri[i]], axis=0)\n",
    "            v = 0.3 * normal[i]\n",
    "            axis.quiver(mp[0], mp[1], mp[2], v[0], v[1], v[2], color='b')\n",
    "\n",
    "new_plot()\n",
    "build_box()\n",
    "print_norm()\n",
    "print_plot()"
   ]
  },
  {
   "cell_type": "code",
   "execution_count": 14,
   "metadata": {},
   "outputs": [],
   "source": [
    "def dropnan():\n",
    "    global tri, normal, color_t    \n",
    "    df_t = pd.concat([pd.DataFrame(tri), pd.DataFrame(normal), pd.DataFrame(color_t)], axis = 1)\n",
    "    df_t.columns = [\"triangles_x\", \"triangles_y\", \"triangles_z\",\n",
    "                    \"norm_x\", \"norm_y\", \"norm_z\",\n",
    "                    \"r\", \"g\", \"b\"]\n",
    "\n",
    "    if df_t.isnull().any().any():\n",
    "        df_t = df_t.dropna()\n",
    "        tri = df_t[[\"triangles_x\", \"triangles_y\", \"triangles_z\"]].to_numpy()\n",
    "        normal = df_t[[\"norm_x\", \"norm_y\", \"norm_z\"]].to_numpy()\n",
    "        color_t = df_t[[\"r\", \"g\", \"b\"]].to_numpy()\n",
    "\n",
    "dropnan()\n"
   ]
  },
  {
   "cell_type": "code",
   "execution_count": 15,
   "metadata": {},
   "outputs": [],
   "source": [
    "caras = []\n",
    "points = [[0, 1, 2, 3], [0, 1, 4, 5], [0, 4, 2, 6], [7, 5, 3, 1], [7, 6, 3, 2], [7, 6, 5, 4]]\n",
    "def plane_from_points():\n",
    "    \"\"\"\n",
    "        Calcula los planos a partir de puntos dados y los guarda en la lista.\n",
    "    \"\"\"\n",
    "    # points = [[0, 1, 4, 5]]\n",
    "    # points = [[0, 1, 2, 3], [0, 1, 4, 5], [0, 4, 2, 6], [7, 5, 3, 1], [7, 6, 3, 2], [7, 6, 5, 4]]\n",
    "    # points = [[0, 1, 4], [7, 6, 5], [7, 6, 3], [0, 4, 2], [7, 5, 3], [0, 1, 2]]\n",
    "    for p in points:\n",
    "        p1, p2, p3 = map(sp.Point3D, (vertex[p[0]], vertex[p[1]], vertex[p[2]]))\n",
    "        caras.append(sp.Plane(p1, p2, p3))\n",
    "\n",
    "def line_from_point_and_vector(point, vector):\n",
    "    \"\"\"\n",
    "        Crea una línea a partir de un punto y un vector.\n",
    "\n",
    "        Args:\n",
    "        - point: Punto inicial de la línea.\n",
    "        - vector: Vector director de la línea.\n",
    "\n",
    "        Returns:\n",
    "        - Línea creada.\n",
    "    \"\"\"\n",
    "    point = sp.Point3D(point)\n",
    "    direction_point = point + sp.Point3D(*vector)\n",
    "    line = sp.Line3D(point, direction_point)\n",
    "    return line\n",
    "\n",
    "def direction_points(punto_inicial, vector_director, distancia):\n",
    "    \"\"\"\n",
    "        Calcula un punto final dado un punto inicial, un vector director y una distancia.\n",
    "\n",
    "        Args:\n",
    "        - punto_inicial: Punto inicial.\n",
    "        - vector_director: Vector director.\n",
    "        - distancia: Distancia desde el punto inicial al punto final.\n",
    "\n",
    "        Returns:\n",
    "        - Punto final calculado.\n",
    "        \"\"\"\n",
    "    norma_vector = np.linalg.norm(vector_director)\n",
    "    direccion = vector_director / norma_vector\n",
    "    punto_final = punto_inicial + distancia * direccion\n",
    "    return punto_final\n",
    "\n",
    "def intersection_plane_line(line):\n",
    "        \"\"\"\n",
    "            Args:\n",
    "            - line: Línea con la que se calcula la intersección.\n",
    "\n",
    "            Returns:\n",
    "            - Lista de puntos de intersección, si hay alguno, o None en caso contrario.\n",
    "        \"\"\"\n",
    "        intersections = []\n",
    "        for plane in range(len(caras)):\n",
    "            i = caras[plane].intersection(line)\n",
    "            if len(i) == 1 and point_in_square(i, points[plane]):  # Solo hay un punto de intersección\n",
    "                # intersection_point = intersection[0]\n",
    "                return i\n",
    "                # return inter\n",
    "        if len(intersections) > 0:\n",
    "            return intersections\n",
    "        else:\n",
    "            return None\n",
    "        \n",
    "def point_in_square(p, s):\n",
    "    c = [vertex[s[0]], vertex[s[1]], vertex[s[2]], vertex[s[3]]]\n",
    "    c = [arr.astype(int) for arr in c]\n",
    "    c = np.array(c)\n",
    "    point = [np.array([p[0].x]), np.array([p[0].y]), np.array([p[0].z])]\n",
    "    point = [arr.astype(int) for arr in point]\n",
    "    point = Point(point)\n",
    "    polygon = Polygon(c)\n",
    "    x = polygon.contains(point) or polygon.touches(point)\n",
    "    return x "
   ]
  },
  {
   "cell_type": "code",
   "execution_count": 16,
   "metadata": {},
   "outputs": [
    {
     "name": "stdout",
     "output_type": "stream",
     "text": [
      "0\n",
      "1\n",
      "2\n",
      "3\n",
      "4\n",
      "5\n",
      "6\n",
      "7\n",
      "8\n",
      "9\n",
      "10\n",
      "11\n",
      "12\n",
      "13\n",
      "14\n",
      "15\n",
      "16\n",
      "17\n",
      "18\n",
      "19\n",
      "20\n",
      "21\n",
      "22\n",
      "23\n",
      "24\n",
      "25\n",
      "26\n",
      "27\n",
      "28\n",
      "29\n",
      "30\n",
      "31\n",
      "32\n",
      "33\n",
      "34\n",
      "35\n",
      "36\n",
      "37\n",
      "38\n",
      "39\n",
      "40\n",
      "41\n",
      "42\n",
      "43\n",
      "44\n",
      "45\n",
      "46\n",
      "47\n",
      "48\n",
      "49\n",
      "50\n",
      "51\n",
      "52\n",
      "53\n",
      "54\n",
      "55\n",
      "56\n",
      "57\n",
      "58\n",
      "59\n",
      "60\n",
      "61\n",
      "62\n",
      "63\n",
      "64\n",
      "65\n",
      "66\n",
      "67\n",
      "68\n",
      "69\n",
      "70\n",
      "71\n",
      "72\n",
      "73\n",
      "74\n",
      "75\n",
      "76\n",
      "77\n",
      "78\n",
      "79\n",
      "80\n",
      "81\n",
      "82\n",
      "83\n",
      "84\n",
      "85\n",
      "86\n",
      "87\n",
      "88\n",
      "89\n",
      "90\n",
      "91\n",
      "92\n",
      "93\n",
      "94\n",
      "95\n",
      "96\n",
      "97\n",
      "98\n",
      "99\n",
      "100\n",
      "101\n",
      "102\n",
      "103\n",
      "104\n",
      "105\n",
      "106\n",
      "107\n",
      "108\n",
      "109\n",
      "110\n",
      "111\n",
      "112\n",
      "113\n",
      "114\n",
      "115\n",
      "116\n",
      "117\n",
      "118\n",
      "119\n"
     ]
    }
   ],
   "source": [
    "def intersection():\n",
    "    \"\"\"\n",
    "        Calcula las intersecciones entre las normales de los triángulos y la caja, y guarda los puntos en la lista\n",
    "        inter.\n",
    "    \"\"\"\n",
    "    global inter\n",
    "    inter = []\n",
    "    plane_from_points()\n",
    "    aux = 0\n",
    "    for i in range(len(normal)):\n",
    "        mp = np.mean(M[tri[i]], axis=0)\n",
    "        v = normal[i]\n",
    "        line = line_from_point_and_vector(mp, v)\n",
    "        # op = direction_points(mp, v, 1)\n",
    "        p = intersection_plane_line(line)\n",
    "        print(aux)\n",
    "        aux += 1\n",
    "        if p is None: continue\n",
    "        p = [p[0].x, p[0].y, p[0].z]\n",
    "        inter.append(p)\n",
    "    inter = np.array(inter)\n",
    "\n",
    "intersection()"
   ]
  },
  {
   "cell_type": "code",
   "execution_count": 17,
   "metadata": {},
   "outputs": [
    {
     "name": "stdout",
     "output_type": "stream",
     "text": [
      "120\n"
     ]
    }
   ],
   "source": [
    "print(len(inter))"
   ]
  },
  {
   "cell_type": "code",
   "execution_count": 18,
   "metadata": {},
   "outputs": [
    {
     "name": "stderr",
     "output_type": "stream",
     "text": [
      "No artists with labels found to put in legend.  Note that artists whose label start with an underscore are ignored when legend() is called with no argument.\n"
     ]
    }
   ],
   "source": [
    "def print_intersection():\n",
    "    # color_t = color_t[:len(inter)]\n",
    "    axis.scatter(inter[:, 0], inter[:, 1], inter[:, 2], color=color_t, s=2)\n",
    "new_plot()\n",
    "build_box()\n",
    "print_intersection()\n",
    "print_plot()"
   ]
  },
  {
   "cell_type": "code",
   "execution_count": 19,
   "metadata": {},
   "outputs": [],
   "source": [
    "def square():\n",
    "    global squares\n",
    "    squares = []\n",
    "    for i in range(0, len(inter), 2):\n",
    "        if (i + 2) % 40 == 0:\n",
    "            square = [i, i+1, i+2-40, i+3-40]\n",
    "        else:\n",
    "            square = [i, i+1, i+2, i+3]\n",
    "        squares.append(square)\n",
    "\n",
    "    squares = np.array(squares)\n",
    "\n",
    "square()"
   ]
  },
  {
   "cell_type": "code",
   "execution_count": 20,
   "metadata": {},
   "outputs": [
    {
     "name": "stderr",
     "output_type": "stream",
     "text": [
      "No artists with labels found to put in legend.  Note that artists whose label start with an underscore are ignored when legend() is called with no argument.\n"
     ]
    }
   ],
   "source": [
    "def print_squares():\n",
    "    for square in squares:\n",
    "        s = [inter[square[0]], inter[square[1]], inter[square[3]], inter[square[2]], inter[square[0]]]\n",
    "        axis.plot([v[0] for v in s], [v[1] for v in s], [v[2] for v in s], color='b')\n",
    "new_plot()\n",
    "build_box()\n",
    "print_squares()\n",
    "print_plot()"
   ]
  },
  {
   "cell_type": "code",
   "execution_count": 42,
   "metadata": {},
   "outputs": [],
   "source": [
    "def temp_pp():\n",
    "    sq = []\n",
    "    for i in range(41, 120, 2): \n",
    "        if (i+1) % 40 == 0:\n",
    "            print(\"punto:\", i)\n",
    "            sq.append([i, i-41, i-38, i-79])\n",
    "        else:\n",
    "            sq.append([i, i-41, i+2, i-39])\n",
    "    return np.array(sq)\n",
    "\n",
    "def print_temp(squares):\n",
    "    for square in squares:\n",
    "        s = [inter[square[0]], inter[square[1]], inter[square[3]], inter[square[2]], inter[square[0]]]\n",
    "        axis.plot([v[0] for v in s], [v[1] for v in s], [v[2] for v in s], color='r')"
   ]
  },
  {
   "cell_type": "code",
   "execution_count": 44,
   "metadata": {},
   "outputs": [
    {
     "name": "stderr",
     "output_type": "stream",
     "text": [
      "No artists with labels found to put in legend.  Note that artists whose label start with an underscore are ignored when legend() is called with no argument.\n"
     ]
    },
    {
     "name": "stdout",
     "output_type": "stream",
     "text": [
      "punto: 79\n",
      "punto: 119\n"
     ]
    }
   ],
   "source": [
    "new_plot()\n",
    "build_box()\n",
    "print_points()\n",
    "print_squares()\n",
    "sq = temp_pp()\n",
    "print_temp(sq)\n",
    "print_plot()"
   ]
  },
  {
   "cell_type": "code",
   "execution_count": 60,
   "metadata": {},
   "outputs": [
    {
     "name": "stdout",
     "output_type": "stream",
     "text": [
      "100\n",
      "332042209845807826273277209290493770814622189131587768005149566936175384735029941592489003385771777853215796272417753570642148270474053239377677184044623018209242405015054195671607739230041286631/36322525273339473134058195678375069220195241185224248318326562096877002720972494618433838721750109311141322928026378391291080603961919369673856530443963524150251049378467493495110400000000000000\n"
     ]
    }
   ],
   "source": [
    "mp_s = []\n",
    "def square_prom():\n",
    "    global mp_s\n",
    "    for i in squares:\n",
    "        mp = np.mean(inter[i], axis=0)\n",
    "        mp_s.append(mp)\n",
    "    for i in sq:\n",
    "        mp = np.mean(inter[i], axis=0)\n",
    "        mp_s.append(mp)\n",
    "    mp_s = np.array(mp_s)\n",
    "   \n",
    "\n",
    "square_prom()\n",
    "print(len(mp_s))\n",
    "print(mp_s[0][0])"
   ]
  },
  {
   "cell_type": "code",
   "execution_count": 65,
   "metadata": {},
   "outputs": [
    {
     "name": "stderr",
     "output_type": "stream",
     "text": [
      "No artists with labels found to put in legend.  Note that artists whose label start with an underscore are ignored when legend() is called with no argument.\n"
     ]
    },
    {
     "name": "stdout",
     "output_type": "stream",
     "text": [
      "punto: 79\n",
      "punto: 119\n"
     ]
    }
   ],
   "source": [
    "def print_p_square():\n",
    "    axis.scatter(mp_s[:, 0], mp_s[:, 1], mp_s[:, 2],s=1, color=\"brown\")\n",
    "\n",
    "new_plot()\n",
    "build_box()\n",
    "print_p_square()\n",
    "print_squares()\n",
    "sq = temp_pp()\n",
    "print_temp(sq)\n",
    "print_plot()"
   ]
  }
 ],
 "metadata": {
  "kernelspec": {
   "display_name": "venv",
   "language": "python",
   "name": "python3"
  },
  "language_info": {
   "codemirror_mode": {
    "name": "ipython",
    "version": 3
   },
   "file_extension": ".py",
   "mimetype": "text/x-python",
   "name": "python",
   "nbconvert_exporter": "python",
   "pygments_lexer": "ipython3",
   "version": "3.12.0"
  }
 },
 "nbformat": 4,
 "nbformat_minor": 2
}
